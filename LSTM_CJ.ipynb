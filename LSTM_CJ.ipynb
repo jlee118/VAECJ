{
 "cells": [
  {
   "cell_type": "code",
   "execution_count": 215,
   "metadata": {},
   "outputs": [
    {
     "name": "stderr",
     "output_type": "stream",
     "text": [
      "/Users/justinlee/Desktop/Master/Thesis/venv/lib/python3.7/site-packages/ipykernel_launcher.py:19: SettingWithCopyWarning: \n",
      "A value is trying to be set on a copy of a slice from a DataFrame.\n",
      "Try using .loc[row_indexer,col_indexer] = value instead\n",
      "\n",
      "See the caveats in the documentation: https://pandas.pydata.org/pandas-docs/stable/user_guide/indexing.html#returning-a-view-versus-a-copy\n"
     ]
    }
   ],
   "source": [
    "import pandas as pd\n",
    "import numpy as np\n",
    "import tensorflow as tf\n",
    "from tensorflow import keras\n",
    "from keras.utils import to_categorical\n",
    "from tensorflow.keras import layers\n",
    "data = pd.read_csv('data/chicago.csv')\n",
    "\n",
    "# Contextual Activity\n",
    "context_data = data[['Case ID', '(case) customer:age', '(case) customer:currently_student', '(case) customer:household_income',\n",
    "                    '(case) customer:employment_status', '(case) customer:disabled']]\n",
    "\n",
    "# Journey Data\n",
    "all_activities = pd.unique(data['Activity'])\n",
    "activity_encoder = dict(zip(all_activities,range(3,len(all_activities) + 3)))\n",
    "activity_encoder['Start'] = 1\n",
    "activity_encoder['End'] = 2\n",
    "journeys_data = data[['Case ID','Activity']]\n",
    "journeys_data['Activity Label'] = journeys_data['Activity'].apply(lambda x: activity_encoder[x])\n",
    "journeys_data = journeys_data.groupby(['Case ID'])['Activity Label'].apply(list)\n",
    "journeys_data = journeys_data.reset_index(name=\"Activity\")\n",
    "journeys_data['Activity'] = journeys_data['Activity'].apply(lambda x: [1] + x + [2])\n",
    "journey_vecs = keras.preprocessing.sequence.pad_sequences(journeys_data['Activity'], padding='post')"
   ]
  },
  {
   "cell_type": "code",
   "execution_count": 216,
   "metadata": {},
   "outputs": [],
   "source": [
    "context = data[['(case) time:DATE_day_of_week_0_is_monday', '(case) customer:employed',\n",
    "               '(case) customer:currently_student', '(case) customer:valid_license']]\n",
    "context = pd.get_dummies(context, columns=['(case) time:DATE_day_of_week_0_is_monday', '(case) customer:employed',\n",
    "                                          '(case) customer:currently_student','(case) customer:valid_license'])\n",
    "context = pd.concat([data['Case ID'], context], axis=1)\n",
    "context.drop_duplicates(subset='Case ID', inplace=True)\n",
    "context.reset_index(inplace=True)"
   ]
  },
  {
   "cell_type": "code",
   "execution_count": 217,
   "metadata": {},
   "outputs": [],
   "source": [
    "from sklearn.model_selection import train_test_split\n",
    "id_train, id_test = train_test_split(journeys_data['Case ID'], test_size=0.2)"
   ]
  },
  {
   "cell_type": "code",
   "execution_count": 218,
   "metadata": {},
   "outputs": [],
   "source": [
    "# Many to one + context\n",
    "def mto_lstm_prep(journey):\n",
    "    inp = [journey[:i] for i in range(1,len(journey))]\n",
    "    out = journey[1:]\n",
    "    return (inp,out)\n",
    "\n",
    "def make_data(id_indexes, journey_df, context_df):\n",
    "    X_j = []\n",
    "    Y = []\n",
    "    X_c = []\n",
    "\n",
    "    selected = journey_df.iloc[id_indexes]\n",
    "\n",
    "    for index, row in selected.iterrows():\n",
    "        inp, out = mto_lstm_prep(row['Activity'])\n",
    "        rep = len(inp)\n",
    "        c = context_df.iloc[index].drop(labels=['index','Case ID']).to_numpy()\n",
    "        c = np.tile(c, (rep, 1))\n",
    "        X_j.extend(inp)\n",
    "        Y.extend(out)\n",
    "        X_c.extend(c)\n",
    "    X_j = keras.preprocessing.sequence.pad_sequences(X_j, padding='pre')\n",
    "    X_c = np.asarray(X_c).astype(\"float32\")\n",
    "    Y = np.asarray(Y).astype(\"float32\")\n",
    "    return (X_j, X_c, Y)"
   ]
  },
  {
   "cell_type": "code",
   "execution_count": 219,
   "metadata": {},
   "outputs": [],
   "source": [
    "X_j_train, X_c_train, Y_train = make_data(id_train.index, journeys_data, context)\n",
    "X_j_test, X_c_test, Y_test = make_data(id_test.index, journeys_data, context)"
   ]
  },
  {
   "cell_type": "markdown",
   "metadata": {},
   "source": [
    "# Baseline"
   ]
  },
  {
   "cell_type": "code",
   "execution_count": 53,
   "metadata": {},
   "outputs": [
    {
     "name": "stdout",
     "output_type": "stream",
     "text": [
      "f1: 0.46212465260292745\n",
      "accuracy: 0.46550766314826314\n"
     ]
    }
   ],
   "source": [
    "from sklearn.metrics import f1_score, accuracy_score\n",
    "# For some given group, always take the most popular activity at each time step\n",
    "# Post padding is ok here since we are looking for plain activity indexed by time\n",
    "test_pop = journeys_data['Activity'].iloc[id_test.index]\n",
    "test_pop = keras.preprocessing.sequence.pad_sequences(test_pop, padding='post')\n",
    "\n",
    "# Finding the most popular activities\n",
    "pop_accs = []\n",
    "for i in range(test_pop.shape[1]):\n",
    "    curr_accs = test_pop[:,i]\n",
    "    pop_acc = np.argmax(np.bincount(test_pop[:,i]))\n",
    "    pop_accs.append(pop_acc)\n",
    "    \n",
    "# Finding the correct indices to make baseline Y's\n",
    "indices = np.sum(np.where(X_j_test >= 1, 1, 0), axis=1)\n",
    "Y_baseline = [pop_accs[i] for i in indices]\n",
    "\n",
    "print(\"f1:\", f1_score(Y_test, Y_baseline, average='weighted'))\n",
    "print(\"accuracy:\", accuracy_score(Y_test, Y_baseline))"
   ]
  },
  {
   "cell_type": "markdown",
   "metadata": {},
   "source": [
    "# Many to One LSTM"
   ]
  },
  {
   "cell_type": "code",
   "execution_count": 260,
   "metadata": {},
   "outputs": [
    {
     "name": "stdout",
     "output_type": "stream",
     "text": [
      "Model: \"model_38\"\n",
      "__________________________________________________________________________________________________\n",
      "Layer (type)                    Output Shape         Param #     Connected to                     \n",
      "==================================================================================================\n",
      "input_71 (InputLayer)           [(None, 18)]         0                                            \n",
      "__________________________________________________________________________________________________\n",
      "input_70 (InputLayer)           [(None, 16, 1)]      0                                            \n",
      "__________________________________________________________________________________________________\n",
      "dense_94 (Dense)                (None, 3)            57          input_71[0][0]                   \n",
      "__________________________________________________________________________________________________\n",
      "lstm_20 (LSTM)                  (None, 128)          66560       input_70[0][0]                   \n",
      "__________________________________________________________________________________________________\n",
      "concatenate_29 (Concatenate)    (None, 131)          0           dense_94[0][0]                   \n",
      "                                                                 lstm_20[0][0]                    \n",
      "__________________________________________________________________________________________________\n",
      "dense_95 (Dense)                (None, 18)           2376        concatenate_29[0][0]             \n",
      "==================================================================================================\n",
      "Total params: 68,993\n",
      "Trainable params: 68,993\n",
      "Non-trainable params: 0\n",
      "__________________________________________________________________________________________________\n"
     ]
    }
   ],
   "source": [
    "lstm_dim = 128\n",
    "timesteps = X_j_train.shape[1]\n",
    "context_dim = X_c_train.shape[1]\n",
    "output_dim = len(activity_encoder) + 1\n",
    "\n",
    "input_journey = layers.Input(shape=(timesteps, 1))\n",
    "input_context = layers.Input(shape=(context_dim,))\n",
    "\n",
    "lstm = layers.LSTM(lstm_dim, recurrent_dropout=0.5)(input_journey)\n",
    "dense = layers.Dense(3, activation=\"relu\")(input_context)\n",
    "merged = layers.Concatenate()([dense, lstm])\n",
    "softmax = layers.Dense(output_dim, activation=\"softmax\")(merged)\n",
    "model = keras.Model([input_journey, input_context], softmax)\n",
    "model.summary()"
   ]
  },
  {
   "cell_type": "code",
   "execution_count": 261,
   "metadata": {},
   "outputs": [
    {
     "name": "stdout",
     "output_type": "stream",
     "text": [
      "Epoch 1/75\n",
      "3063/3063 [==============================] - 40s 13ms/step - loss: 1.3490 - val_loss: 1.0896\n",
      "Epoch 2/75\n",
      "3063/3063 [==============================] - 40s 13ms/step - loss: 1.0833 - val_loss: 1.0595\n",
      "Epoch 3/75\n",
      "3063/3063 [==============================] - 40s 13ms/step - loss: 1.0531 - val_loss: 1.0457\n",
      "Epoch 4/75\n",
      "3063/3063 [==============================] - 41s 13ms/step - loss: 1.0392 - val_loss: 1.0391\n",
      "Epoch 5/75\n",
      "3063/3063 [==============================] - 41s 13ms/step - loss: 1.0381 - val_loss: 1.0313\n",
      "Epoch 6/75\n",
      "3063/3063 [==============================] - 42s 14ms/step - loss: 1.0346 - val_loss: 1.0284\n",
      "Epoch 7/75\n",
      "3063/3063 [==============================] - 41s 13ms/step - loss: 1.0220 - val_loss: 1.0256\n",
      "Epoch 8/75\n",
      "3063/3063 [==============================] - 42s 14ms/step - loss: 1.0158 - val_loss: 1.0236\n",
      "Epoch 9/75\n",
      "3063/3063 [==============================] - 41s 13ms/step - loss: 1.0201 - val_loss: 1.0193\n",
      "Epoch 10/75\n",
      "3063/3063 [==============================] - 42s 14ms/step - loss: 1.0138 - val_loss: 1.0189\n",
      "Epoch 11/75\n",
      "3063/3063 [==============================] - 41s 13ms/step - loss: 1.0248 - val_loss: 1.0174\n",
      "Epoch 12/75\n",
      "3063/3063 [==============================] - 42s 14ms/step - loss: 1.0201 - val_loss: 1.0173\n",
      "Epoch 13/75\n",
      "3063/3063 [==============================] - 42s 14ms/step - loss: 1.0121 - val_loss: 1.0171\n",
      "Epoch 14/75\n",
      "3063/3063 [==============================] - 42s 14ms/step - loss: 1.0123 - val_loss: 1.0192\n",
      "Epoch 15/75\n",
      "3063/3063 [==============================] - 42s 14ms/step - loss: 1.0057 - val_loss: 1.0138\n",
      "Epoch 16/75\n",
      "3063/3063 [==============================] - 42s 14ms/step - loss: 0.9956 - val_loss: 1.0147\n",
      "Epoch 17/75\n",
      "3063/3063 [==============================] - 42s 14ms/step - loss: 1.0140 - val_loss: 1.0145\n",
      "Epoch 18/75\n",
      "3063/3063 [==============================] - 42s 14ms/step - loss: 1.0124 - val_loss: 1.0112\n",
      "Epoch 19/75\n",
      "3063/3063 [==============================] - 42s 14ms/step - loss: 1.0040 - val_loss: 1.0148\n",
      "Epoch 20/75\n",
      "3063/3063 [==============================] - 42s 14ms/step - loss: 1.0000 - val_loss: 1.0135\n",
      "Epoch 21/75\n",
      "3063/3063 [==============================] - 42s 14ms/step - loss: 1.0031 - val_loss: 1.0121\n",
      "Epoch 22/75\n",
      "3063/3063 [==============================] - 42s 14ms/step - loss: 1.0084 - val_loss: 1.0115\n",
      "Epoch 23/75\n",
      "3063/3063 [==============================] - 42s 14ms/step - loss: 0.9965 - val_loss: 1.0110\n",
      "Epoch 24/75\n",
      "3063/3063 [==============================] - 42s 14ms/step - loss: 0.9944 - val_loss: 1.0132\n",
      "Epoch 25/75\n",
      "3063/3063 [==============================] - 42s 14ms/step - loss: 1.0001 - val_loss: 1.0106\n",
      "Epoch 26/75\n",
      "3063/3063 [==============================] - 42s 14ms/step - loss: 1.0036 - val_loss: 1.0095\n",
      "Epoch 27/75\n",
      "3063/3063 [==============================] - 42s 14ms/step - loss: 0.9995 - val_loss: 1.0135\n",
      "Epoch 28/75\n",
      "3063/3063 [==============================] - 41s 13ms/step - loss: 0.9996 - val_loss: 1.0110\n",
      "Epoch 29/75\n",
      "3063/3063 [==============================] - 41s 13ms/step - loss: 1.0031 - val_loss: 1.0094\n",
      "Epoch 30/75\n",
      "3063/3063 [==============================] - 41s 13ms/step - loss: 1.0023 - val_loss: 1.0106\n",
      "Epoch 31/75\n",
      "3063/3063 [==============================] - 41s 13ms/step - loss: 0.9995 - val_loss: 1.0096\n",
      "Epoch 32/75\n",
      "3063/3063 [==============================] - 41s 13ms/step - loss: 1.0020 - val_loss: 1.0093\n",
      "Epoch 33/75\n",
      "3063/3063 [==============================] - 41s 13ms/step - loss: 0.9972 - val_loss: 1.0088\n",
      "Epoch 34/75\n",
      "3063/3063 [==============================] - 41s 14ms/step - loss: 0.9989 - val_loss: 1.0098\n",
      "Epoch 35/75\n",
      "3063/3063 [==============================] - 44s 14ms/step - loss: 1.0002 - val_loss: 1.0083\n",
      "Epoch 36/75\n",
      "3063/3063 [==============================] - 44s 14ms/step - loss: 1.0041 - val_loss: 1.0125\n",
      "Epoch 37/75\n",
      "3063/3063 [==============================] - 42s 14ms/step - loss: 0.9951 - val_loss: 1.0078\n",
      "Epoch 38/75\n",
      "3063/3063 [==============================] - 41s 13ms/step - loss: 0.9928 - val_loss: 1.0068\n",
      "Epoch 39/75\n",
      "3063/3063 [==============================] - 41s 13ms/step - loss: 0.9983 - val_loss: 1.0076\n",
      "Epoch 40/75\n",
      "3063/3063 [==============================] - 41s 13ms/step - loss: 0.9989 - val_loss: 1.0070\n",
      "Epoch 41/75\n",
      "3063/3063 [==============================] - 41s 14ms/step - loss: 1.0016 - val_loss: 1.0099\n",
      "Epoch 42/75\n",
      "3063/3063 [==============================] - 42s 14ms/step - loss: 0.9982 - val_loss: 1.0087\n",
      "Epoch 43/75\n",
      "3063/3063 [==============================] - 42s 14ms/step - loss: 1.0004 - val_loss: 1.0078\n",
      "Epoch 44/75\n",
      "3063/3063 [==============================] - 41s 14ms/step - loss: 1.0089 - val_loss: 1.0079\n",
      "Epoch 45/75\n",
      "3063/3063 [==============================] - 42s 14ms/step - loss: 1.0062 - val_loss: 1.0064\n",
      "Epoch 46/75\n",
      "3063/3063 [==============================] - 41s 13ms/step - loss: 0.9958 - val_loss: 1.0071\n",
      "Epoch 47/75\n",
      "3063/3063 [==============================] - 41s 13ms/step - loss: 0.9931 - val_loss: 1.0077\n",
      "Epoch 48/75\n",
      "3063/3063 [==============================] - 42s 14ms/step - loss: 0.9919 - val_loss: 1.0076\n",
      "Epoch 49/75\n",
      "3063/3063 [==============================] - 41s 13ms/step - loss: 0.9936 - val_loss: 1.0062\n",
      "Epoch 50/75\n",
      "3063/3063 [==============================] - 41s 13ms/step - loss: 0.9877 - val_loss: 1.0072\n",
      "Epoch 51/75\n",
      "3063/3063 [==============================] - 42s 14ms/step - loss: 0.9973 - val_loss: 1.0055\n",
      "Epoch 52/75\n",
      "3063/3063 [==============================] - 41s 13ms/step - loss: 0.9957 - val_loss: 1.0077\n",
      "Epoch 53/75\n",
      "3063/3063 [==============================] - 41s 13ms/step - loss: 1.0004 - val_loss: 1.0082\n",
      "Epoch 54/75\n",
      "3063/3063 [==============================] - 41s 14ms/step - loss: 0.9858 - val_loss: 1.0059\n",
      "Epoch 55/75\n",
      "3063/3063 [==============================] - 41s 13ms/step - loss: 0.9898 - val_loss: 1.0056\n",
      "Epoch 56/75\n",
      "3063/3063 [==============================] - 41s 13ms/step - loss: 0.9919 - val_loss: 1.0066\n",
      "Epoch 57/75\n",
      "3063/3063 [==============================] - 41s 14ms/step - loss: 0.9992 - val_loss: 1.0053\n",
      "Epoch 58/75\n",
      "3063/3063 [==============================] - 40s 13ms/step - loss: 0.9978 - val_loss: 1.0047\n",
      "Epoch 59/75\n",
      "3063/3063 [==============================] - 41s 13ms/step - loss: 0.9895 - val_loss: 1.0044\n",
      "Epoch 60/75\n",
      "3063/3063 [==============================] - 41s 13ms/step - loss: 0.9940 - val_loss: 1.0048\n",
      "Epoch 61/75\n",
      "3063/3063 [==============================] - 41s 13ms/step - loss: 0.9937 - val_loss: 1.0055\n",
      "Epoch 62/75\n",
      "3063/3063 [==============================] - 41s 14ms/step - loss: 0.9935 - val_loss: 1.0055\n",
      "Epoch 63/75\n",
      "3063/3063 [==============================] - 40s 13ms/step - loss: 0.9969 - val_loss: 1.0060\n",
      "Epoch 64/75\n",
      "3063/3063 [==============================] - 41s 14ms/step - loss: 0.9954 - val_loss: 1.0050\n",
      "Epoch 65/75\n",
      "3063/3063 [==============================] - 41s 13ms/step - loss: 0.9857 - val_loss: 1.0055\n",
      "Epoch 66/75\n",
      "3063/3063 [==============================] - 42s 14ms/step - loss: 0.9913 - val_loss: 1.0060\n",
      "Epoch 67/75\n",
      "3063/3063 [==============================] - 40s 13ms/step - loss: 0.9858 - val_loss: 1.0055\n",
      "Epoch 68/75\n",
      "3063/3063 [==============================] - 41s 13ms/step - loss: 0.9993 - val_loss: 1.0061\n",
      "Epoch 69/75\n",
      "3063/3063 [==============================] - 40s 13ms/step - loss: 0.9959 - val_loss: 1.0062\n",
      "Epoch 70/75\n",
      "3063/3063 [==============================] - 41s 13ms/step - loss: 0.9929 - val_loss: 1.0047\n",
      "Epoch 71/75\n",
      "3063/3063 [==============================] - 40s 13ms/step - loss: 0.9927 - val_loss: 1.0042\n",
      "Epoch 72/75\n",
      "3063/3063 [==============================] - 40s 13ms/step - loss: 0.9827 - val_loss: 1.0044\n",
      "Epoch 73/75\n",
      "3063/3063 [==============================] - 41s 13ms/step - loss: 0.9957 - val_loss: 1.0047\n",
      "Epoch 74/75\n",
      "3063/3063 [==============================] - 40s 13ms/step - loss: 0.9920 - val_loss: 1.0034\n",
      "Epoch 75/75\n",
      "3063/3063 [==============================] - 41s 13ms/step - loss: 0.9847 - val_loss: 1.0043\n"
     ]
    }
   ],
   "source": [
    "from sklearn.model_selection import train_test_split\n",
    "opt = keras.optimizers.Adam(learning_rate=0.001)\n",
    "model.compile(optimizer=opt, loss='sparse_categorical_crossentropy')\n",
    "callback = keras.callbacks.EarlyStopping(monitor='loss', patience=5)\n",
    "history = model.fit([X_j_train, X_c_train], Y_train, validation_split=0.2, batch_size=32, epochs=75, callbacks=callback)"
   ]
  },
  {
   "cell_type": "code",
   "execution_count": 262,
   "metadata": {},
   "outputs": [
    {
     "data": {
      "text/plain": [
       "<matplotlib.legend.Legend at 0x182d15790>"
      ]
     },
     "execution_count": 262,
     "metadata": {},
     "output_type": "execute_result"
    },
    {
     "data": {
      "image/png": "[encoded data removed]",
      "text/plain": [
       "<Figure size 432x288 with 1 Axes>"
      ]
     },
     "metadata": {
      "needs_background": "light"
     },
     "output_type": "display_data"
    }
   ],
   "source": [
    "import matplotlib.pyplot as plt\n",
    "plt.plot(history.history['loss'])\n",
    "plt.plot(history.history['val_loss'])\n",
    "plt.legend(['train', 'val'], loc='upper left')"
   ]
  },
  {
   "cell_type": "code",
   "execution_count": 263,
   "metadata": {},
   "outputs": [],
   "source": [
    "preds = model.predict([X_j_test, X_c_test])"
   ]
  },
  {
   "cell_type": "code",
   "execution_count": 264,
   "metadata": {},
   "outputs": [
    {
     "data": {
      "text/plain": [
       "(30755, 18)"
      ]
     },
     "execution_count": 264,
     "metadata": {},
     "output_type": "execute_result"
    }
   ],
   "source": [
    "X_c_test.shape"
   ]
  },
  {
   "cell_type": "code",
   "execution_count": 265,
   "metadata": {},
   "outputs": [],
   "source": [
    "accs = np.argmax(preds, axis=1)"
   ]
  },
  {
   "cell_type": "code",
   "execution_count": 266,
   "metadata": {},
   "outputs": [
    {
     "name": "stdout",
     "output_type": "stream",
     "text": [
      "f1: 0.6631600991204788\n",
      "accuracy: 0.734742318322224\n"
     ]
    }
   ],
   "source": [
    "from sklearn.metrics import f1_score, accuracy_score\n",
    "print(\"f1:\", f1_score(Y_test, accs, average='weighted'))\n",
    "print(\"accuracy:\", accuracy_score(Y_test, accs))"
   ]
  },
  {
   "cell_type": "markdown",
   "metadata": {},
   "source": [
    "### Generating Conditional Journeys"
   ]
  },
  {
   "cell_type": "code",
   "execution_count": 286,
   "metadata": {},
   "outputs": [],
   "source": [
    "from sklearn.preprocessing import normalize\n",
    "activity_decoder = {j:i for i,j in activity_encoder.items()}\n",
    "def sample_activity(probs, mode=\"max\"):\n",
    "    if mode == \"max\":\n",
    "        return np.argmax(probs)\n",
    "    elif mode ==\"multi\":\n",
    "        return np.argmax(np.random.multinomial(1, probs))\n",
    "    else:\n",
    "        return\n",
    "        \n",
    "def generate(context, model, decode=\"off\"):\n",
    "    seed = [1]\n",
    "    context = context.reshape(1,context.shape[0])\n",
    "    for i in range(16):\n",
    "        seed_padded = keras.preprocessing.sequence.pad_sequences([seed], maxlen=16, padding='pre')\n",
    "        probs = model.predict([seed_padded, context])[0]\n",
    "        probs = np.asarray(probs).astype('float64')\n",
    "        probs = probs / np.sum(probs)\n",
    "        activity = sample_activity(probs, mode=\"multi\")\n",
    "        seed.append(activity)\n",
    "    if decode == \"on\":\n",
    "        seed = [activity_decoder[s] for s in seed]\n",
    "    return seed"
   ]
  },
  {
   "cell_type": "code",
   "execution_count": 312,
   "metadata": {},
   "outputs": [
    {
     "data": {
      "text/plain": [
       "['Start',\n",
       " 'All other home activities',\n",
       " 'Recreation/Entertainment',\n",
       " 'All other home activities',\n",
       " 'End',\n",
       " 'End',\n",
       " 'Picked up passenger',\n",
       " 'All other home activities',\n",
       " 'End',\n",
       " 'End',\n",
       " 'End',\n",
       " 'End',\n",
       " 'End',\n",
       " 'End',\n",
       " 'End',\n",
       " 'End',\n",
       " 'End']"
      ]
     },
     "execution_count": 312,
     "metadata": {},
     "output_type": "execute_result"
    }
   ],
   "source": [
    "X_c_test_ = context.iloc[id_test.index]\n",
    "X_j_test_ = journeys_data.iloc[id_test.index]\n",
    "sample_c = X_c_test.iloc[12].drop(labels=['index', 'Case ID']).to_numpy().astype(\"float32\")\n",
    "generate(sample_c, model, decode=\"on\")"
   ]
  },
  {
   "cell_type": "code",
   "execution_count": 313,
   "metadata": {},
   "outputs": [
    {
     "data": {
      "text/plain": [
       "['Start',\n",
       " 'All other home activities',\n",
       " 'Recreation/Entertainment',\n",
       " 'Eat meal outside of home',\n",
       " 'All other home activities',\n",
       " 'End']"
      ]
     },
     "execution_count": 313,
     "metadata": {},
     "output_type": "execute_result"
    }
   ],
   "source": [
    "[activity_decoder[i] for i in X_j_test_.iloc[12]['Activity']]"
   ]
  },
  {
   "cell_type": "markdown",
   "metadata": {},
   "source": [
    "# Conditional Temporal VAE"
   ]
  },
  {
   "cell_type": "markdown",
   "metadata": {},
   "source": [
    "### Encoder"
   ]
  },
  {
   "cell_type": "code",
   "execution_count": 224,
   "metadata": {},
   "outputs": [
    {
     "name": "stdout",
     "output_type": "stream",
     "text": [
      "Model: \"model_34\"\n",
      "__________________________________________________________________________________________________\n",
      "Layer (type)                    Output Shape         Param #     Connected to                     \n",
      "==================================================================================================\n",
      "input_64 (InputLayer)           [(None, 18)]         0                                            \n",
      "__________________________________________________________________________________________________\n",
      "input_63 (InputLayer)           [(None, 16, 1)]      0                                            \n",
      "__________________________________________________________________________________________________\n",
      "dense_84 (Dense)                (None, 3)            57          input_64[0][0]                   \n",
      "__________________________________________________________________________________________________\n",
      "lstm_18 (LSTM)                  (None, 128)          66560       input_63[0][0]                   \n",
      "__________________________________________________________________________________________________\n",
      "concatenate_26 (Concatenate)    (None, 131)          0           dense_84[0][0]                   \n",
      "                                                                 lstm_18[0][0]                    \n",
      "__________________________________________________________________________________________________\n",
      "dense_88 (Dense)                (None, 3)            396         concatenate_26[0][0]             \n",
      "__________________________________________________________________________________________________\n",
      "batch_normalization_8 (BatchNor (None, 3)            12          dense_88[0][0]                   \n",
      "__________________________________________________________________________________________________\n",
      "dense_89 (Dense)                (None, 3)            396         concatenate_26[0][0]             \n",
      "__________________________________________________________________________________________________\n",
      "dense_85 (Dense)                (None, 3)            57          input_64[0][0]                   \n",
      "__________________________________________________________________________________________________\n",
      "sample_16 (Sample)              (None, 3)            0           batch_normalization_8[0][0]      \n",
      "                                                                 dense_89[0][0]                   \n",
      "__________________________________________________________________________________________________\n",
      "dense_86 (Dense)                (None, 3)            396         concatenate_26[0][0]             \n",
      "__________________________________________________________________________________________________\n",
      "dense_87 (Dense)                (None, 3)            396         concatenate_26[0][0]             \n",
      "__________________________________________________________________________________________________\n",
      "sample_17 (Sample)              (None, 3)            0           dense_84[0][0]                   \n",
      "                                                                 dense_85[0][0]                   \n",
      "==================================================================================================\n",
      "Total params: 68,270\n",
      "Trainable params: 68,264\n",
      "Non-trainable params: 6\n",
      "__________________________________________________________________________________________________\n"
     ]
    }
   ],
   "source": [
    "lstm_dim = 128\n",
    "latent_dim = 3\n",
    "c_dim = 3\n",
    "batch_size = 16\n",
    "timesteps = X_j_train.shape[1]\n",
    "context_dim = X_c_train.shape[1]\n",
    "output_dim = len(activity_encoder) + 1\n",
    "\n",
    "\n",
    "class Sample(layers.Layer):\n",
    "    def call(self, inputs):\n",
    "        z_mean, z_log_var = inputs\n",
    "        batch = tf.shape(z_mean)[0]\n",
    "        dim = tf.shape(z_mean)[1]\n",
    "        epsilon = tf.keras.backend.random_normal(shape=(batch, dim))\n",
    "        return z_mean + tf.exp(0.5 * z_log_var) * epsilon\n",
    "\n",
    "input_j = layers.Input(shape=(timesteps, 1))\n",
    "input_c = layers.Input(shape=(context_dim))\n",
    "\n",
    "lstm = layers.LSTM(lstm_dim)(input_j)\n",
    "\n",
    "c_pos_mean = layers.Dense(latent_dim)(input_c)\n",
    "c_pos_log_var = layers.Dense(latent_dim)(input_c)\n",
    "\n",
    "c_concat = layers.Concatenate()([c_pos_mean, lstm])\n",
    "prior_mean_linear = layers.Dense(latent_dim)(c_concat)\n",
    "prior_log_var = layers.Dense(latent_dim)(c_concat)\n",
    "\n",
    "pos_mean_linear = layers.Dense(latent_dim)(c_concat)\n",
    "pos_mean = layers.BatchNormalization()(pos_mean_linear)\n",
    "pos_log_var = layers.Dense(latent_dim)(c_concat)\n",
    "\n",
    "z_pos = Sample()([pos_mean, pos_log_var])\n",
    "z_cpos = Sample()([c_pos_mean, c_pos_log_var])\n",
    "\n",
    "encoder = keras.Model([input_j, input_c],\n",
    "                      [z_pos, pos_mean, pos_log_var, \n",
    "                       prior_mean_linear, prior_log_var,\n",
    "                       z_cpos, c_pos_mean, c_pos_log_var])\n",
    "encoder.summary()"
   ]
  },
  {
   "cell_type": "markdown",
   "metadata": {},
   "source": [
    "### Time Varying Decoder"
   ]
  },
  {
   "cell_type": "code",
   "execution_count": 225,
   "metadata": {},
   "outputs": [
    {
     "name": "stdout",
     "output_type": "stream",
     "text": [
      "Model: \"model_35\"\n",
      "__________________________________________________________________________________________________\n",
      "Layer (type)                    Output Shape         Param #     Connected to                     \n",
      "==================================================================================================\n",
      "input_65 (InputLayer)           [(None, 3)]          0                                            \n",
      "__________________________________________________________________________________________________\n",
      "dense_90 (Dense)                (None, 18)           72          input_65[0][0]                   \n",
      "__________________________________________________________________________________________________\n",
      "input_66 (InputLayer)           [(None, 3)]          0                                            \n",
      "__________________________________________________________________________________________________\n",
      "dropout_19 (Dropout)            (None, 18)           0           dense_90[0][0]                   \n",
      "==================================================================================================\n",
      "Total params: 72\n",
      "Trainable params: 72\n",
      "Non-trainable params: 0\n",
      "__________________________________________________________________________________________________\n"
     ]
    }
   ],
   "source": [
    "input_z = layers.Input(shape=(latent_dim,))\n",
    "input_c_z = layers.Input(shape=(latent_dim,))\n",
    "merge = layers.Concatenate()([input_z, input_c_z])\n",
    "output = layers.Dense(output_dim, activation=\"softmax\")(input_z)\n",
    "output = layers.Dropout(0.5)(output)\n",
    "decoder = keras.Model([input_z, input_c_z], output)\n",
    "decoder.summary()"
   ]
  },
  {
   "cell_type": "markdown",
   "metadata": {},
   "source": [
    "### Context Decoder"
   ]
  },
  {
   "cell_type": "code",
   "execution_count": 226,
   "metadata": {},
   "outputs": [
    {
     "name": "stdout",
     "output_type": "stream",
     "text": [
      "Model: \"model_36\"\n",
      "_________________________________________________________________\n",
      "Layer (type)                 Output Shape              Param #   \n",
      "=================================================================\n",
      "input_67 (InputLayer)        [(None, 3)]               0         \n",
      "_________________________________________________________________\n",
      "dense_91 (Dense)             (None, 18)                72        \n",
      "_________________________________________________________________\n",
      "dropout_20 (Dropout)         (None, 18)                0         \n",
      "=================================================================\n",
      "Total params: 72\n",
      "Trainable params: 72\n",
      "Non-trainable params: 0\n",
      "_________________________________________________________________\n"
     ]
    }
   ],
   "source": [
    "input_c_z = layers.Input(shape=(latent_dim,))\n",
    "output = layers.Dense(context_dim, activation=\"softmax\")(input_c_z)\n",
    "output = layers.Dropout(0.5)(output)\n",
    "context_decoder = keras.Model(input_c_z, output)\n",
    "context_decoder.summary()"
   ]
  },
  {
   "cell_type": "code",
   "execution_count": 227,
   "metadata": {},
   "outputs": [],
   "source": [
    "import tensorflow.keras.backend as K\n",
    "from keras.callbacks import Callback\n",
    "\n",
    "def custom_KL(posterior_means, prior_means, posterior_log_var, prior_log_var):\n",
    "    # KL of p under q    \n",
    "    kl = prior_log_var - posterior_log_var + (tf.exp(posterior_log_var) + \n",
    "                                       tf.square(posterior_means - prior_means)) / tf.exp(prior_log_var) - 1\n",
    "    kl = 0.5 * tf.reduce_sum(kl, axis=1)\n",
    "    return kl\n",
    "\n",
    "# total number of epochs\n",
    "n_epochs = 75\n",
    "# The number of epochs at which KL loss should be included\n",
    "klstart = 15\n",
    "# number of epochs over which KL scaling is increased from 0 to 1\n",
    "kl_annealtime = 10\n",
    "\n",
    "class AnnealingCallback(Callback):\n",
    "    def __init__(self, weight):\n",
    "        self.weight = weight\n",
    "    def on_epoch_end (self, epoch, logs={}):\n",
    "        if epoch > klstart :\n",
    "            new_weight = min(K.get_value(self.weight) + (1./ kl_annealtime), 1.)\n",
    "            K.set_value(self.weight, new_weight)\n",
    "        print (\"Current KL Weight is \" + str(K.get_value(self.weight)))\n",
    "\n",
    "class RVAE(keras.Model):\n",
    "    def __init__(self, encoder, decoder, c_decoder,**kwargs):\n",
    "        super(RVAE, self).__init__(**kwargs)\n",
    "        self.encoder = encoder\n",
    "        self.decoder = decoder\n",
    "        self.c_decoder = c_decoder\n",
    "    def compile(self, optimizer, beta):\n",
    "        super(RVAE, self).compile()\n",
    "        self.optimizer = optimizer\n",
    "        self.beta = beta\n",
    "        \n",
    "    def train_step(self,data):\n",
    "        if isinstance(data, tuple):\n",
    "            journeys, contexts = data[0]\n",
    "            output = data[1]\n",
    "        \n",
    "        with tf.GradientTape() as tape:\n",
    "            z, pos_means, pos_log_var, prior_means, \\\n",
    "            prior_log_var, z_cpos, c_pos_means, c_pos_log_var= self.encoder([journeys, contexts])\n",
    "            pred_activity = self.decoder([z, z_cpos])\n",
    "            pred_context = self.c_decoder(z_cpos)\n",
    "            \n",
    "            journey_loss = tf.reduce_mean(\n",
    "                tf.reduce_sum(tf.keras.losses.sparse_categorical_crossentropy(output, pred_activity))\n",
    "            )\n",
    "                        \n",
    "            t_kl_divergence =   tf.reduce_mean(\n",
    "                custom_KL(pos_means, prior_means, pos_log_var, prior_log_var)\n",
    "            )\n",
    "            \n",
    "            c_kl_divergence = tf.reduce_mean(\n",
    "                custom_KL(c_pos_means, prior_means, c_pos_log_var, prior_log_var)\n",
    "            )\n",
    "            \n",
    "            context_loss = tf.reduce_mean(\n",
    "                tf.keras.losses.binary_crossentropy(contexts, pred_context)\n",
    "            )\n",
    "\n",
    "            total_loss = journey_loss + context_loss + self.beta * (t_kl_divergence + c_kl_divergence)\n",
    "\n",
    "        grads = tape.gradient(total_loss, self.trainable_weights)\n",
    "        self.optimizer.apply_gradients(zip(grads, self.trainable_weights))\n",
    "        return {\n",
    "            \"loss\": total_loss,\n",
    "            \"journey_loss\":journey_loss,\n",
    "            \"t_kl_divergence\": t_kl_divergence,\n",
    "            \"c_divergence\": c_kl_divergence,\n",
    "        }\n",
    "     \n",
    "    def test_step(self, data):\n",
    "        journeys, contexts = data[0]\n",
    "        outputs = data[1]\n",
    "        pred_activity, pred_context = self([journeys, contexts], training=False)\n",
    "        journey_loss = tf.keras.losses.sparse_categorical_crossentropy(outputs, pred_activity)\n",
    "        context_loss = tf.keras.losses.binary_crossentropy(contexts, pred_context)\n",
    "        return {\n",
    "            \"journey_loss\": journey_loss,\n",
    "            \"context_loss\": context_loss\n",
    "        }\n",
    "            \n",
    "    def call(self, data):\n",
    "        journeys, contexts = data\n",
    "        z, pos_means, pos_log_var, prior_means, \\\n",
    "        prior_log_var, z_cpos, c_pos_means, c_pos_log_var= self.encoder([journeys, contexts])\n",
    "        return(self.decoder([z, z_cpos]), self.c_decoder(z_cpos))\n",
    "    \n",
    "        \n",
    "            "
   ]
  },
  {
   "cell_type": "code",
   "execution_count": 228,
   "metadata": {},
   "outputs": [
    {
     "name": "stdout",
     "output_type": "stream",
     "text": [
      "Epoch 1/75\n",
      "3063/3063 [==============================] - 25s 8ms/step - loss: 60.3232 - journey_loss: 59.6421 - t_kl_divergence: 56.9470 - c_divergence: 3.1600 - val_journey_loss: 1.3110 - val_context_loss: 0.6203\n",
      "Current KL Weight is 0.0\n",
      "Epoch 2/75\n",
      "3063/3063 [==============================] - 24s 8ms/step - loss: 43.7477 - journey_loss: 43.1555 - t_kl_divergence: 64.2409 - c_divergence: 2.7830 - val_journey_loss: 1.0812 - val_context_loss: 0.5575\n",
      "Current KL Weight is 0.0\n",
      "Epoch 3/75\n",
      "3063/3063 [==============================] - 25s 8ms/step - loss: 40.6797 - journey_loss: 40.1439 - t_kl_divergence: 59.7025 - c_divergence: 4.0805 - val_journey_loss: 1.0322 - val_context_loss: 0.5165\n",
      "Current KL Weight is 0.0\n",
      "Epoch 4/75\n",
      "3063/3063 [==============================] - 24s 8ms/step - loss: 39.5191 - journey_loss: 39.0129 - t_kl_divergence: 62.3216 - c_divergence: 6.1994 - val_journey_loss: 1.0326 - val_context_loss: 0.4927\n",
      "Current KL Weight is 0.0\n",
      "Epoch 5/75\n",
      "3063/3063 [==============================] - 22s 7ms/step - loss: 38.6631 - journey_loss: 38.1748 - t_kl_divergence: 63.8633 - c_divergence: 8.4150 - val_journey_loss: 0.9928 - val_context_loss: 0.4810\n",
      "Current KL Weight is 0.0\n",
      "Epoch 6/75\n",
      "3063/3063 [==============================] - 22s 7ms/step - loss: 37.8412 - journey_loss: 37.3646 - t_kl_divergence: 66.0059 - c_divergence: 10.7213 - val_journey_loss: 0.9381 - val_context_loss: 0.4755\n",
      "Current KL Weight is 0.0\n",
      "Epoch 7/75\n",
      "3063/3063 [==============================] - 22s 7ms/step - loss: 37.1223 - journey_loss: 36.6526 - t_kl_divergence: 69.0466 - c_divergence: 13.1048 - val_journey_loss: 0.9142 - val_context_loss: 0.4748\n",
      "Current KL Weight is 0.0\n",
      "Epoch 8/75\n",
      "3063/3063 [==============================] - 23s 7ms/step - loss: 36.5656 - journey_loss: 36.1000 - t_kl_divergence: 69.8036 - c_divergence: 15.0792 - val_journey_loss: 0.9066 - val_context_loss: 0.4702\n",
      "Current KL Weight is 0.0\n",
      "Epoch 9/75\n",
      "3063/3063 [==============================] - 23s 7ms/step - loss: 36.1736 - journey_loss: 35.7107 - t_kl_divergence: 69.7318 - c_divergence: 16.6915 - val_journey_loss: 0.8507 - val_context_loss: 0.4681\n",
      "Current KL Weight is 0.0\n",
      "Epoch 10/75\n",
      "3063/3063 [==============================] - 22s 7ms/step - loss: 35.8861 - journey_loss: 35.4252 - t_kl_divergence: 69.5954 - c_divergence: 18.0917 - val_journey_loss: 0.8469 - val_context_loss: 0.4662\n",
      "Current KL Weight is 0.0\n",
      "Epoch 11/75\n",
      "3063/3063 [==============================] - 23s 7ms/step - loss: 35.6495 - journey_loss: 35.1902 - t_kl_divergence: 68.3588 - c_divergence: 19.2284 - val_journey_loss: 0.8275 - val_context_loss: 0.4650\n",
      "Current KL Weight is 0.0\n",
      "Epoch 12/75\n",
      "3063/3063 [==============================] - 24s 8ms/step - loss: 35.4658 - journey_loss: 35.0077 - t_kl_divergence: 67.3973 - c_divergence: 19.9804 - val_journey_loss: 0.8233 - val_context_loss: 0.4640\n",
      "Current KL Weight is 0.0\n",
      "Epoch 13/75\n",
      "3063/3063 [==============================] - 23s 7ms/step - loss: 35.3153 - journey_loss: 34.8583 - t_kl_divergence: 67.6680 - c_divergence: 20.7717 - val_journey_loss: 0.8259 - val_context_loss: 0.4629\n",
      "Current KL Weight is 0.0\n",
      "Epoch 14/75\n",
      "3063/3063 [==============================] - 23s 7ms/step - loss: 35.1967 - journey_loss: 34.7405 - t_kl_divergence: 67.3726 - c_divergence: 21.3394 - val_journey_loss: 0.8229 - val_context_loss: 0.4627\n",
      "Current KL Weight is 0.0\n",
      "Epoch 15/75\n",
      "3063/3063 [==============================] - 25s 8ms/step - loss: 35.1129 - journey_loss: 34.6574 - t_kl_divergence: 68.0531 - c_divergence: 21.9860 - val_journey_loss: 0.8147 - val_context_loss: 0.4622\n",
      "Current KL Weight is 0.0\n",
      "Epoch 16/75\n",
      "3063/3063 [==============================] - 25s 8ms/step - loss: 35.0205 - journey_loss: 34.5656 - t_kl_divergence: 68.1983 - c_divergence: 22.5992 - val_journey_loss: 0.8296 - val_context_loss: 0.4611\n",
      "Current KL Weight is 0.0\n",
      "Epoch 17/75\n",
      "3063/3063 [==============================] - 25s 8ms/step - loss: 34.9440 - journey_loss: 34.4897 - t_kl_divergence: 70.4619 - c_divergence: 23.2005 - val_journey_loss: 0.8042 - val_context_loss: 0.4604\n",
      "Current KL Weight is 0.1\n",
      "Epoch 18/75\n",
      "3063/3063 [==============================] - 27s 9ms/step - loss: 37.2193 - journey_loss: 34.5669 - t_kl_divergence: 7.6004 - c_divergence: 14.3837 - val_journey_loss: 0.8390 - val_context_loss: 0.4598\n",
      "Current KL Weight is 0.2\n",
      "Epoch 19/75\n",
      "3063/3063 [==============================] - 28s 9ms/step - loss: 38.3085 - journey_loss: 34.6497 - t_kl_divergence: 4.6907 - c_divergence: 11.3324 - val_journey_loss: 0.8463 - val_context_loss: 0.4589\n",
      "Current KL Weight is 0.3\n",
      "Epoch 20/75\n",
      "3063/3063 [==============================] - 26s 9ms/step - loss: 38.8867 - journey_loss: 34.7066 - t_kl_divergence: 3.8681 - c_divergence: 8.5435 - val_journey_loss: 0.8207 - val_context_loss: 0.4614\n",
      "Current KL Weight is 0.4\n",
      "Epoch 21/75\n",
      "3063/3063 [==============================] - 23s 7ms/step - loss: 39.0280 - journey_loss: 34.8024 - t_kl_divergence: 3.4494 - c_divergence: 5.9455 - val_journey_loss: 0.7945 - val_context_loss: 0.4658\n",
      "Current KL Weight is 0.5\n",
      "Epoch 22/75\n",
      "3063/3063 [==============================] - 23s 8ms/step - loss: 38.7987 - journey_loss: 34.8434 - t_kl_divergence: 3.0781 - c_divergence: 3.8197 - val_journey_loss: 0.8529 - val_context_loss: 0.5261\n",
      "Current KL Weight is 0.6\n",
      "Epoch 23/75\n",
      "3063/3063 [==============================] - 26s 8ms/step - loss: 38.6217 - journey_loss: 34.9449 - t_kl_divergence: 2.8191 - c_divergence: 2.3232 - val_journey_loss: 0.8911 - val_context_loss: 0.6026\n",
      "Current KL Weight is 0.70000005\n",
      "Epoch 24/75\n",
      "3063/3063 [==============================] - 26s 9ms/step - loss: 38.6013 - journey_loss: 35.0209 - t_kl_divergence: 2.6501 - c_divergence: 1.5062 - val_journey_loss: 0.8062 - val_context_loss: 0.6184\n",
      "Current KL Weight is 0.8000001\n",
      "Epoch 25/75\n",
      "3063/3063 [==============================] - 24s 8ms/step - loss: 38.7184 - journey_loss: 35.1005 - t_kl_divergence: 2.5331 - c_divergence: 1.1235 - val_journey_loss: 0.8285 - val_context_loss: 0.7087\n",
      "Current KL Weight is 0.9000001\n",
      "Epoch 26/75\n",
      "3063/3063 [==============================] - 24s 8ms/step - loss: 38.8681 - journey_loss: 35.1570 - t_kl_divergence: 2.4268 - c_divergence: 0.9435 - val_journey_loss: 0.8113 - val_context_loss: 0.6510\n",
      "Current KL Weight is 1.0\n",
      "Epoch 27/75\n",
      "3063/3063 [==============================] - 26s 8ms/step - loss: 39.0895 - journey_loss: 35.2540 - t_kl_divergence: 2.3426 - c_divergence: 0.8421 - val_journey_loss: 0.8551 - val_context_loss: 0.6053\n",
      "Current KL Weight is 1.0\n",
      "Epoch 28/75\n",
      "3063/3063 [==============================] - 24s 8ms/step - loss: 38.9498 - journey_loss: 35.2131 - t_kl_divergence: 2.3204 - c_divergence: 0.7926 - val_journey_loss: 0.8379 - val_context_loss: 0.5800\n",
      "Current KL Weight is 1.0\n",
      "Epoch 29/75\n",
      "3063/3063 [==============================] - 23s 8ms/step - loss: 38.8881 - journey_loss: 35.1972 - t_kl_divergence: 2.3247 - c_divergence: 0.7614 - val_journey_loss: 0.7913 - val_context_loss: 0.6024\n",
      "Current KL Weight is 1.0\n",
      "Epoch 30/75\n",
      "3063/3063 [==============================] - 23s 8ms/step - loss: 38.8412 - journey_loss: 35.1955 - t_kl_divergence: 2.3113 - c_divergence: 0.7423 - val_journey_loss: 0.8280 - val_context_loss: 0.5841\n",
      "Current KL Weight is 1.0\n",
      "Epoch 31/75\n",
      "3063/3063 [==============================] - 24s 8ms/step - loss: 38.7247 - journey_loss: 35.1206 - t_kl_divergence: 2.2916 - c_divergence: 0.7280 - val_journey_loss: 0.9389 - val_context_loss: 0.5441\n",
      "Current KL Weight is 1.0\n",
      "Epoch 32/75\n",
      "3063/3063 [==============================] - 24s 8ms/step - loss: 38.6938 - journey_loss: 35.1126 - t_kl_divergence: 2.2806 - c_divergence: 0.7219 - val_journey_loss: 0.8795 - val_context_loss: 0.6007\n",
      "Current KL Weight is 1.0\n",
      "Epoch 33/75\n",
      "3063/3063 [==============================] - 24s 8ms/step - loss: 38.6232 - journey_loss: 35.0729 - t_kl_divergence: 2.2604 - c_divergence: 0.7156 - val_journey_loss: 0.8238 - val_context_loss: 0.5615\n",
      "Current KL Weight is 1.0\n",
      "Epoch 34/75\n",
      "3063/3063 [==============================] - 24s 8ms/step - loss: 38.5902 - journey_loss: 35.0500 - t_kl_divergence: 2.2583 - c_divergence: 0.7101 - val_journey_loss: 0.8305 - val_context_loss: 0.5729\n",
      "Current KL Weight is 1.0\n",
      "Epoch 35/75\n",
      "3063/3063 [==============================] - 24s 8ms/step - loss: 38.5068 - journey_loss: 35.0055 - t_kl_divergence: 2.2239 - c_divergence: 0.7071 - val_journey_loss: 0.7952 - val_context_loss: 0.5417\n",
      "Current KL Weight is 1.0\n",
      "Epoch 36/75\n",
      "3063/3063 [==============================] - 25s 8ms/step - loss: 38.5022 - journey_loss: 35.0058 - t_kl_divergence: 2.2229 - c_divergence: 0.7042 - val_journey_loss: 0.8689 - val_context_loss: 0.5786\n",
      "Current KL Weight is 1.0\n",
      "Epoch 37/75\n",
      "3063/3063 [==============================] - 24s 8ms/step - loss: 38.4650 - journey_loss: 34.9798 - t_kl_divergence: 2.2129 - c_divergence: 0.7036 - val_journey_loss: 0.7946 - val_context_loss: 0.5910\n",
      "Current KL Weight is 1.0\n",
      "Epoch 38/75\n",
      "3063/3063 [==============================] - 23s 8ms/step - loss: 38.4364 - journey_loss: 34.9558 - t_kl_divergence: 2.2086 - c_divergence: 0.7035 - val_journey_loss: 0.8394 - val_context_loss: 0.5678\n",
      "Current KL Weight is 1.0\n",
      "Epoch 39/75\n",
      "3063/3063 [==============================] - 23s 7ms/step - loss: 38.4041 - journey_loss: 34.9443 - t_kl_divergence: 2.1890 - c_divergence: 0.7025 - val_journey_loss: 0.8250 - val_context_loss: 0.6233\n",
      "Current KL Weight is 1.0\n",
      "Epoch 40/75\n",
      "3063/3063 [==============================] - 23s 8ms/step - loss: 38.3714 - journey_loss: 34.9222 - t_kl_divergence: 2.1804 - c_divergence: 0.7011 - val_journey_loss: 0.8699 - val_context_loss: 0.5612\n",
      "Current KL Weight is 1.0\n",
      "Epoch 41/75\n",
      "3063/3063 [==============================] - 23s 8ms/step - loss: 38.3851 - journey_loss: 34.9351 - t_kl_divergence: 2.1796 - c_divergence: 0.7024 - val_journey_loss: 0.8539 - val_context_loss: 0.6141\n",
      "Current KL Weight is 1.0\n",
      "Epoch 42/75\n",
      "3063/3063 [==============================] - 23s 8ms/step - loss: 38.2928 - journey_loss: 34.8706 - t_kl_divergence: 2.1513 - c_divergence: 0.7037 - val_journey_loss: 0.8178 - val_context_loss: 0.5804\n",
      "Current KL Weight is 1.0\n",
      "Epoch 43/75\n",
      "3063/3063 [==============================] - 23s 7ms/step - loss: 38.3694 - journey_loss: 34.9187 - t_kl_divergence: 2.1790 - c_divergence: 0.7044 - val_journey_loss: 0.8815 - val_context_loss: 0.5566\n",
      "Current KL Weight is 1.0\n",
      "Epoch 44/75\n",
      "3063/3063 [==============================] - 23s 8ms/step - loss: 38.2730 - journey_loss: 34.8552 - t_kl_divergence: 2.1488 - c_divergence: 0.7018 - val_journey_loss: 0.8024 - val_context_loss: 0.5812\n",
      "Current KL Weight is 1.0\n",
      "Epoch 45/75\n",
      "3063/3063 [==============================] - 23s 8ms/step - loss: 38.2232 - journey_loss: 34.8317 - t_kl_divergence: 2.1236 - c_divergence: 0.7007 - val_journey_loss: 0.8007 - val_context_loss: 0.5403\n",
      "Current KL Weight is 1.0\n",
      "Epoch 46/75\n",
      "3063/3063 [==============================] - 23s 7ms/step - loss: 38.2529 - journey_loss: 34.8489 - t_kl_divergence: 2.1339 - c_divergence: 0.7030 - val_journey_loss: 0.8275 - val_context_loss: 0.5654\n",
      "Current KL Weight is 1.0\n",
      "Epoch 47/75\n",
      "3063/3063 [==============================] - 23s 8ms/step - loss: 38.2270 - journey_loss: 34.8298 - t_kl_divergence: 2.1303 - c_divergence: 0.7005 - val_journey_loss: 0.8248 - val_context_loss: 0.5449\n",
      "Current KL Weight is 1.0\n",
      "Epoch 48/75\n",
      "3063/3063 [==============================] - 23s 7ms/step - loss: 38.2089 - journey_loss: 34.8125 - t_kl_divergence: 2.1260 - c_divergence: 0.7039 - val_journey_loss: 0.8316 - val_context_loss: 0.5913\n",
      "Current KL Weight is 1.0\n",
      "Epoch 49/75\n",
      "3063/3063 [==============================] - 23s 8ms/step - loss: 38.2030 - journey_loss: 34.8146 - t_kl_divergence: 2.1174 - c_divergence: 0.7046 - val_journey_loss: 0.8477 - val_context_loss: 0.5553\n",
      "Current KL Weight is 1.0\n",
      "Epoch 50/75\n",
      "3063/3063 [==============================] - 23s 8ms/step - loss: 38.1666 - journey_loss: 34.7916 - t_kl_divergence: 2.1048 - c_divergence: 0.7040 - val_journey_loss: 0.8581 - val_context_loss: 0.5659\n",
      "Current KL Weight is 1.0\n",
      "Epoch 51/75\n",
      "3063/3063 [==============================] - 23s 8ms/step - loss: 38.1155 - journey_loss: 34.7642 - t_kl_divergence: 2.0805 - c_divergence: 0.7048 - val_journey_loss: 0.9136 - val_context_loss: 0.5753\n",
      "Current KL Weight is 1.0\n",
      "Epoch 52/75\n",
      "3063/3063 [==============================] - 23s 8ms/step - loss: 38.1341 - journey_loss: 34.7705 - t_kl_divergence: 2.0909 - c_divergence: 0.7067 - val_journey_loss: 0.8027 - val_context_loss: 0.5779\n",
      "Current KL Weight is 1.0\n",
      "Epoch 53/75\n",
      "3063/3063 [==============================] - 23s 8ms/step - loss: 38.0784 - journey_loss: 34.7373 - t_kl_divergence: 2.0714 - c_divergence: 0.7043 - val_journey_loss: 0.7926 - val_context_loss: 0.5769\n",
      "Current KL Weight is 1.0\n",
      "Epoch 54/75\n",
      "3063/3063 [==============================] - 23s 8ms/step - loss: 38.0948 - journey_loss: 34.7456 - t_kl_divergence: 2.0777 - c_divergence: 0.7064 - val_journey_loss: 0.8667 - val_context_loss: 0.5580\n",
      "Current KL Weight is 1.0\n",
      "Epoch 55/75\n",
      "3063/3063 [==============================] - 23s 8ms/step - loss: 38.0900 - journey_loss: 34.7497 - t_kl_divergence: 2.0693 - c_divergence: 0.7064 - val_journey_loss: 0.8554 - val_context_loss: 0.5389\n",
      "Current KL Weight is 1.0\n",
      "Epoch 56/75\n",
      "3063/3063 [==============================] - 23s 7ms/step - loss: 38.0348 - journey_loss: 34.7066 - t_kl_divergence: 2.0580 - c_divergence: 0.7058 - val_journey_loss: 0.8269 - val_context_loss: 0.6021\n",
      "Current KL Weight is 1.0\n",
      "Epoch 57/75\n",
      "3063/3063 [==============================] - 23s 8ms/step - loss: 38.0506 - journey_loss: 34.7177 - t_kl_divergence: 2.0613 - c_divergence: 0.7074 - val_journey_loss: 0.8288 - val_context_loss: 0.5977\n",
      "Current KL Weight is 1.0\n",
      "Epoch 58/75\n",
      "3063/3063 [==============================] - 23s 8ms/step - loss: 38.0520 - journey_loss: 34.7210 - t_kl_divergence: 2.0573 - c_divergence: 0.7098 - val_journey_loss: 0.8321 - val_context_loss: 0.5277\n",
      "Current KL Weight is 1.0\n",
      "Epoch 59/75\n",
      "3063/3063 [==============================] - 23s 8ms/step - loss: 38.0216 - journey_loss: 34.6950 - t_kl_divergence: 2.0513 - c_divergence: 0.7115 - val_journey_loss: 0.8482 - val_context_loss: 0.5939\n",
      "Current KL Weight is 1.0\n",
      "Epoch 60/75\n",
      "3063/3063 [==============================] - 23s 8ms/step - loss: 38.0219 - journey_loss: 34.6892 - t_kl_divergence: 2.0536 - c_divergence: 0.7158 - val_journey_loss: 0.8560 - val_context_loss: 0.5538\n",
      "Current KL Weight is 1.0\n",
      "Epoch 61/75\n",
      "3063/3063 [==============================] - 23s 8ms/step - loss: 37.9738 - journey_loss: 34.6651 - t_kl_divergence: 2.0312 - c_divergence: 0.7145 - val_journey_loss: 0.7735 - val_context_loss: 0.5967\n",
      "Current KL Weight is 1.0\n",
      "Epoch 62/75\n",
      "3063/3063 [==============================] - 23s 8ms/step - loss: 37.9266 - journey_loss: 34.6448 - t_kl_divergence: 2.0089 - c_divergence: 0.7102 - val_journey_loss: 0.8393 - val_context_loss: 0.5553\n",
      "Current KL Weight is 1.0\n",
      "Epoch 63/75\n",
      "3063/3063 [==============================] - 23s 8ms/step - loss: 37.9473 - journey_loss: 34.6453 - t_kl_divergence: 2.0262 - c_divergence: 0.7132 - val_journey_loss: 0.8397 - val_context_loss: 0.5617\n",
      "Current KL Weight is 1.0\n",
      "Epoch 64/75\n",
      "3063/3063 [==============================] - 23s 8ms/step - loss: 37.9582 - journey_loss: 34.6607 - t_kl_divergence: 2.0211 - c_divergence: 0.7136 - val_journey_loss: 0.8596 - val_context_loss: 0.5733\n",
      "Current KL Weight is 1.0\n",
      "Epoch 65/75\n",
      "3063/3063 [==============================] - 23s 8ms/step - loss: 37.9353 - journey_loss: 34.6463 - t_kl_divergence: 2.0124 - c_divergence: 0.7144 - val_journey_loss: 0.8830 - val_context_loss: 0.5724\n",
      "Current KL Weight is 1.0\n",
      "Epoch 66/75\n",
      "3063/3063 [==============================] - 23s 8ms/step - loss: 37.8796 - journey_loss: 34.6040 - t_kl_divergence: 1.9986 - c_divergence: 0.7154 - val_journey_loss: 0.8589 - val_context_loss: 0.5764\n",
      "Current KL Weight is 1.0\n",
      "Epoch 67/75\n",
      "3063/3063 [==============================] - 23s 8ms/step - loss: 37.9147 - journey_loss: 34.6276 - t_kl_divergence: 2.0062 - c_divergence: 0.7204 - val_journey_loss: 0.8956 - val_context_loss: 0.5470\n",
      "Current KL Weight is 1.0\n",
      "Epoch 68/75\n",
      "3063/3063 [==============================] - 23s 8ms/step - loss: 37.8761 - journey_loss: 34.6010 - t_kl_divergence: 1.9974 - c_divergence: 0.7172 - val_journey_loss: 0.8120 - val_context_loss: 0.5284\n",
      "Current KL Weight is 1.0\n",
      "Epoch 69/75\n"
     ]
    },
    {
     "name": "stdout",
     "output_type": "stream",
     "text": [
      "3063/3063 [==============================] - 23s 7ms/step - loss: 37.8842 - journey_loss: 34.6103 - t_kl_divergence: 1.9940 - c_divergence: 0.7195 - val_journey_loss: 0.8659 - val_context_loss: 0.5927\n",
      "Current KL Weight is 1.0\n",
      "Epoch 70/75\n",
      "3063/3063 [==============================] - 22s 7ms/step - loss: 37.8776 - journey_loss: 34.6092 - t_kl_divergence: 1.9905 - c_divergence: 0.7180 - val_journey_loss: 0.8598 - val_context_loss: 0.5688\n",
      "Current KL Weight is 1.0\n",
      "Epoch 71/75\n",
      "3063/3063 [==============================] - 23s 7ms/step - loss: 37.8786 - journey_loss: 34.5978 - t_kl_divergence: 2.0006 - c_divergence: 0.7205 - val_journey_loss: 0.8817 - val_context_loss: 0.5508\n",
      "Current KL Weight is 1.0\n",
      "Epoch 72/75\n",
      "3063/3063 [==============================] - 23s 7ms/step - loss: 37.8539 - journey_loss: 34.5879 - t_kl_divergence: 1.9862 - c_divergence: 0.7205 - val_journey_loss: 0.8103 - val_context_loss: 0.5638\n",
      "Current KL Weight is 1.0\n",
      "Epoch 73/75\n",
      "3063/3063 [==============================] - 23s 8ms/step - loss: 37.8714 - journey_loss: 34.6066 - t_kl_divergence: 1.9851 - c_divergence: 0.7210 - val_journey_loss: 0.8760 - val_context_loss: 0.5782\n",
      "Current KL Weight is 1.0\n",
      "Epoch 74/75\n",
      "3063/3063 [==============================] - 23s 8ms/step - loss: 37.8209 - journey_loss: 34.5591 - t_kl_divergence: 1.9807 - c_divergence: 0.7229 - val_journey_loss: 0.8046 - val_context_loss: 0.5490\n",
      "Current KL Weight is 1.0\n",
      "Epoch 75/75\n",
      "3063/3063 [==============================] - 24s 8ms/step - loss: 37.8362 - journey_loss: 34.5900 - t_kl_divergence: 1.9664 - c_divergence: 0.7217 - val_journey_loss: 0.8091 - val_context_loss: 0.5559\n",
      "Current KL Weight is 1.0\n"
     ]
    }
   ],
   "source": [
    "weight = K.variable(0.)\n",
    "weight._trainable = False\n",
    "#early_stopping = tf.keras.callbacks.EarlyStopping(monitor='loss', patience=10)\n",
    "rvae = RVAE(encoder, decoder, context_decoder)\n",
    "rvae.compile(optimizer=keras.optimizers.Adam(lr=0.0001), beta=weight)\n",
    "history = rvae.fit([X_j_train, X_c_train], Y_train, validation_split=0.2, epochs=n_epochs, \n",
    "                   batch_size=32, callbacks=[AnnealingCallback(weight)])\n"
   ]
  },
  {
   "cell_type": "code",
   "execution_count": 1,
   "metadata": {},
   "outputs": [
    {
     "ename": "NameError",
     "evalue": "name 'rvae' is not defined",
     "output_type": "error",
     "traceback": [
      "\u001b[0;31m------------------------------------------------------------------\u001b[0m",
      "\u001b[0;31mNameError\u001b[0m                        Traceback (most recent call last)",
      "\u001b[0;32m<ipython-input-1-eb36cd5a1fa8>\u001b[0m in \u001b[0;36m<module>\u001b[0;34m\u001b[0m\n\u001b[1;32m      1\u001b[0m \u001b[0;32mfrom\u001b[0m \u001b[0msklearn\u001b[0m\u001b[0;34m.\u001b[0m\u001b[0mmetrics\u001b[0m \u001b[0;32mimport\u001b[0m \u001b[0mf1_score\u001b[0m\u001b[0;34m,\u001b[0m \u001b[0maccuracy_score\u001b[0m\u001b[0;34m\u001b[0m\u001b[0;34m\u001b[0m\u001b[0m\n\u001b[1;32m      2\u001b[0m \u001b[0;34m\u001b[0m\u001b[0m\n\u001b[0;32m----> 3\u001b[0;31m \u001b[0mactivities\u001b[0m\u001b[0;34m,\u001b[0m \u001b[0mcontexts\u001b[0m  \u001b[0;34m=\u001b[0m \u001b[0mrvae\u001b[0m\u001b[0;34m.\u001b[0m\u001b[0mpredict\u001b[0m\u001b[0;34m(\u001b[0m\u001b[0;34m[\u001b[0m\u001b[0mX_j_test\u001b[0m\u001b[0;34m,\u001b[0m \u001b[0mX_c_test\u001b[0m\u001b[0;34m]\u001b[0m\u001b[0;34m)\u001b[0m\u001b[0;34m\u001b[0m\u001b[0;34m\u001b[0m\u001b[0m\n\u001b[0m\u001b[1;32m      4\u001b[0m \u001b[0mactivities\u001b[0m \u001b[0;34m=\u001b[0m \u001b[0mnp\u001b[0m\u001b[0;34m.\u001b[0m\u001b[0margmax\u001b[0m\u001b[0;34m(\u001b[0m\u001b[0mactivities\u001b[0m\u001b[0;34m,\u001b[0m \u001b[0maxis\u001b[0m\u001b[0;34m=\u001b[0m\u001b[0;36m1\u001b[0m\u001b[0;34m)\u001b[0m\u001b[0;34m\u001b[0m\u001b[0;34m\u001b[0m\u001b[0m\n\u001b[1;32m      5\u001b[0m \u001b[0mprint\u001b[0m\u001b[0;34m(\u001b[0m\u001b[0;34m\"f1:\"\u001b[0m\u001b[0;34m,\u001b[0m \u001b[0mf1_score\u001b[0m\u001b[0;34m(\u001b[0m\u001b[0mY_test\u001b[0m\u001b[0;34m,\u001b[0m \u001b[0mactivities\u001b[0m\u001b[0;34m,\u001b[0m \u001b[0maverage\u001b[0m\u001b[0;34m=\u001b[0m\u001b[0;34m'weighted'\u001b[0m\u001b[0;34m)\u001b[0m\u001b[0;34m)\u001b[0m\u001b[0;34m\u001b[0m\u001b[0;34m\u001b[0m\u001b[0m\n",
      "\u001b[0;31mNameError\u001b[0m: name 'rvae' is not defined"
     ]
    }
   ],
   "source": [
    "from sklearn.metrics import f1_score, accuracy_score\n",
    "\n",
    "activities, contexts  = rvae.predict([X_j_test, X_c_test])\n",
    "activities = np.argmax(activities, axis=1)\n",
    "print(\"f1:\", f1_score(Y_test, activities, average='weighted'))\n",
    "print(\"accuracy:\", accuracy_score(Y_test, activities))"
   ]
  },
  {
   "cell_type": "code",
   "execution_count": 230,
   "metadata": {},
   "outputs": [],
   "source": [
    "z_pos, pos_mean, pos_log_var, prior_mean_linear, prior_log_var, z_cpos, c_pos_means, c_pos_log_var = encoder([X_j_test, X_c_test])"
   ]
  },
  {
   "cell_type": "code",
   "execution_count": 231,
   "metadata": {},
   "outputs": [],
   "source": [
    "predictions = decoder.predict([prior_mean_linear, c_pos_means])"
   ]
  },
  {
   "cell_type": "code",
   "execution_count": 232,
   "metadata": {},
   "outputs": [
    {
     "name": "stdout",
     "output_type": "stream",
     "text": [
      "f1: 0.5877686756010602\n",
      "accuracy: 0.6384978052349212\n"
     ]
    }
   ],
   "source": [
    "activities = np.argmax(predictions, axis=1)\n",
    "print(\"f1:\", f1_score(Y_test, activities, average='weighted'))\n",
    "print(\"accuracy:\", accuracy_score(Y_test, activities))"
   ]
  },
  {
   "cell_type": "code",
   "execution_count": 162,
   "metadata": {},
   "outputs": [
    {
     "name": "stdout",
     "output_type": "stream",
     "text": [
      "[5 3 3 3 3 3 3 3 3 3 3 3 3 3 3 3 3 3 3 3 3 3 3 3 3 3 3 3 3 3 3 5 3 3 3 3 3\n",
      " 3 3 3 3 3 3 3 3 5 3 3 3 3 3 3 3 3 3 3 3 3 5 3 3 3 3 3 3 3 3 3 3 3 3 3 3 5\n",
      " 3 3 3 3 3 3 3 3 3 3 3 3 3 5 3 3 3 3 3 3 3 3 3 3 3 3]\n"
     ]
    }
   ],
   "source": [
    "stochastic_preds = []\n",
    "for i in range(1):\n",
    "    mu = prior_mean_linear[i].numpy()\n",
    "    mu = np.tile(mu, (100,1))\n",
    "    log_var = prior_log_var[i].numpy()\n",
    "    log_var = np.tile(log_var, (100,1))\n",
    "    mvn_mu = np.zeros(7)\n",
    "    mvn_cov = np.identity(7)\n",
    "    epsilon = np.random.multivariate_normal(mvn_mu, mvn_cov,size = 100)\n",
    "    z = np.exp(0.5 * log_var) * epsilon + mu\n",
    "    c = np.tile(c_pos_means[i].numpy(), (100,1))\n",
    "    sample = decoder.predict([z, c])\n",
    "    activities = np.argmax(sample, axis=1)\n",
    "    print(activities)"
   ]
  },
  {
   "cell_type": "code",
   "execution_count": 247,
   "metadata": {},
   "outputs": [],
   "source": [
    "from sklearn.preprocessing import normalize\n",
    "activity_decoder = {j:i for i,j in activity_encoder.items()}\n",
    "def sample_activity(probs, mode=\"max\"):\n",
    "    if mode == \"max\":\n",
    "        return np.argmax(probs)\n",
    "    elif mode ==\"multi\":\n",
    "        return np.argmax(np.random.multinomial(1, probs))\n",
    "    else:\n",
    "        return\n",
    "        \n",
    "def vrnn_generate(context, encoder, decoder, decode=\"off\"):\n",
    "    seed = [1]\n",
    "    context = context.reshape(1,context.shape[0])\n",
    "    for i in range(16):\n",
    "        seed_padded = keras.preprocessing.sequence.pad_sequences([seed], maxlen=16, padding='pre')\n",
    "        \n",
    "        z_pos, pos_mean, pos_log_var, prior_mean_linear,\\\n",
    "        prior_log_var, z_cpos, c_pos_means,c_pos_log_var = encoder([seed_padded, context])\n",
    "        \n",
    "        probs = decoder.predict([prior_mean_linear, c_pos_means])[0]\n",
    "        probs = np.asarray(probs).astype('float64')\n",
    "        probs = probs / np.sum(probs)\n",
    "        activity = sample_activity(probs, mode=\"max\")\n",
    "        seed.append(activity)\n",
    "    if decode == \"on\":\n",
    "        seed = [activity_decoder[s] for s in seed]\n",
    "    return seed"
   ]
  },
  {
   "cell_type": "code",
   "execution_count": 253,
   "metadata": {},
   "outputs": [
    {
     "data": {
      "text/plain": [
       "['Start',\n",
       " 'All other home activities',\n",
       " 'Routine Shopping',\n",
       " 'All other home activities',\n",
       " 'Routine Shopping',\n",
       " 'All other home activities',\n",
       " 'End',\n",
       " 'End',\n",
       " 'End',\n",
       " 'End',\n",
       " 'End',\n",
       " 'End',\n",
       " 'End',\n",
       " 'End',\n",
       " 'End',\n",
       " 'End',\n",
       " 'End']"
      ]
     },
     "execution_count": 253,
     "metadata": {},
     "output_type": "execute_result"
    }
   ],
   "source": [
    "vrnn_generate(X_c_test[0], encoder, decoder, decode=\"on\")"
   ]
  },
  {
   "cell_type": "code",
   "execution_count": 255,
   "metadata": {},
   "outputs": [
    {
     "data": {
      "text/plain": [
       "array([0, 0, 0, 0, 0, 0, 0, 0, 0, 0, 1, 3, 5, 3, 5, 3], dtype=int32)"
      ]
     },
     "execution_count": 255,
     "metadata": {},
     "output_type": "execute_result"
    }
   ],
   "source": [
    "X_j_test[5]"
   ]
  },
  {
   "cell_type": "code",
   "execution_count": 256,
   "metadata": {},
   "outputs": [
    {
     "data": {
      "text/plain": [
       "array([1., 0., 0., 0., 0., 0., 0., 1., 0., 0., 0., 0., 1., 0., 0., 0., 0.,\n",
       "       1.], dtype=float32)"
      ]
     },
     "execution_count": 256,
     "metadata": {},
     "output_type": "execute_result"
    }
   ],
   "source": [
    "X_c_test[0]"
   ]
  }
 ],
 "metadata": {
  "kernelspec": {
   "display_name": "research env",
   "language": "python",
   "name": "venv"
  },
  "language_info": {
   "codemirror_mode": {
    "name": "ipython",
    "version": 3
   },
   "file_extension": ".py",
   "mimetype": "text/x-python",
   "name": "python",
   "nbconvert_exporter": "python",
   "pygments_lexer": "ipython3",
   "version": "3.7.6"
  }
 },
 "nbformat": 4,
 "nbformat_minor": 4
}
