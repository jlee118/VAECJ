{
 "cells": [
  {
   "cell_type": "code",
   "execution_count": 1,
   "id": "941748b0",
   "metadata": {},
   "outputs": [],
   "source": [
    "import numpy as np\n",
    "def generate_cont_timeseries(dim=1, length=2000, num_changepoints=100):\n",
    "    \"\"\"\n",
    "    Generate continuous valued time series with changepoints\n",
    "    \"\"\"\n",
    "    changepoint_indices = np.random.choice(range(0, length-1), num_changepoints)"
   ]
  },
  {
   "cell_type": "code",
   "execution_count": 406,
   "id": "7205e4b4",
   "metadata": {},
   "outputs": [],
   "source": [
    "def generate_changepoints(dim=3, length=5000, means=[5,5,8,8,10,20,5,5,7,3,3], covs = [5,5,5,5,5,5,5,5,5,5,5], window=20, train_test_split=2):\n",
    "    cov_matrix = np.diag(np.repeat(5,dim))\n",
    "    start = 0\n",
    "    changepoint_intervals = int(np.floor(length / len(means)))\n",
    "    ts = []\n",
    "    changepoints = []\n",
    "    # Each cp value is the beginning of the next distribution\n",
    "    cp = 0\n",
    "    for i in range(len(means)):\n",
    "        changepoints.append(cp)\n",
    "        cp += changepoint_intervals\n",
    "        mean_vec = np.repeat(means[i],dim)\n",
    "        cov_matrix = np.diag(np.repeat(covs[i], dim))\n",
    "        ts.extend(np.random.multivariate_normal(mean_vec,cov_matrix, changepoint_intervals))\n",
    "    train = ts[:changepoints[2]]\n",
    "    test = ts[changepoints[2]:]\n",
    "    \n",
    "    X_train = np.asarray([train[i:i + window] for i in range(len(train) - window-1)])\n",
    "    Y_train = np.asarray([train[i:i + window] for i in range(1, len(train) - window)])\n",
    "    X_test = np.asarray([test[i:i + window] for i in range(len(test) - window-1)])\n",
    "    Y_test = np.asarray([test[i:i + window] for i in range(len(test) - window)])\n",
    "    print(len(changepoints) - train_test_split)\n",
    "    test_changepoints = changepoints[:(len(changepoints)-train_test_split)]\n",
    "    \n",
    "    return ts, changepoints, X_train, Y_train, X_test, Y_test, test_changepoints   "
   ]
  },
  {
   "cell_type": "code",
   "execution_count": 407,
   "id": "0822af8b",
   "metadata": {},
   "outputs": [
    {
     "name": "stdout",
     "output_type": "stream",
     "text": [
      "9\n"
     ]
    },
    {
     "data": {
      "text/plain": [
       "[<matplotlib.lines.Line2D at 0x7f618f85fd00>]"
      ]
     },
     "execution_count": 407,
     "metadata": {},
     "output_type": "execute_result"
    },
    {
     "data": {
      "image/png": "[encoded data removed]",
      "text/plain": [
       "<Figure size 432x288 with 1 Axes>"
      ]
     },
     "metadata": {
      "needs_background": "light"
     },
     "output_type": "display_data"
    }
   ],
   "source": [
    "import matplotlib.pyplot as plt\n",
    "\n",
    "ts, cp, X_train, Y_train, X_test, Y_test, test_cp = generate_changepoints(dim=1)\n",
    "plt.plot(ts)"
   ]
  },
  {
   "cell_type": "code",
   "execution_count": 252,
   "id": "e1e76fef",
   "metadata": {},
   "outputs": [
    {
     "data": {
      "text/plain": [
       "[array([5.10746258]),\n",
       " array([7.26852438]),\n",
       " array([2.54472536]),\n",
       " array([4.88401014]),\n",
       " array([7.34949516]),\n",
       " array([6.15669924]),\n",
       " array([2.85936121]),\n",
       " array([3.97805222]),\n",
       " array([8.71134027]),\n",
       " array([5.01746472]),\n",
       " array([8.29616782]),\n",
       " array([5.44762497]),\n",
       " array([10.04033841]),\n",
       " array([7.0238583]),\n",
       " array([6.27799484]),\n",
       " array([10.67937633]),\n",
       " array([6.9024317]),\n",
       " array([10.78977031]),\n",
       " array([9.16025037]),\n",
       " array([6.33867175])]"
      ]
     },
     "execution_count": 252,
     "metadata": {},
     "output_type": "execute_result"
    }
   ],
   "source": [
    "ts[1666:1686]"
   ]
  },
  {
   "cell_type": "code",
   "execution_count": 290,
   "id": "e37274ec",
   "metadata": {},
   "outputs": [
    {
     "data": {
      "text/plain": [
       "[0, 833, 1666, 2499]"
      ]
     },
     "execution_count": 290,
     "metadata": {},
     "output_type": "execute_result"
    }
   ],
   "source": [
    "test_cp"
   ]
  },
  {
   "cell_type": "code",
   "execution_count": 250,
   "id": "96dcc1a0",
   "metadata": {},
   "outputs": [
    {
     "data": {
      "text/plain": [
       "array([[11.6707285 ],\n",
       "       [ 6.39587359],\n",
       "       [ 4.96188384],\n",
       "       [ 4.81471562],\n",
       "       [ 5.55487391],\n",
       "       [ 8.5480964 ],\n",
       "       [ 8.77593049],\n",
       "       [ 8.1512803 ],\n",
       "       [ 9.39695433],\n",
       "       [ 9.57997396],\n",
       "       [ 6.69967024],\n",
       "       [ 5.31729953],\n",
       "       [ 9.40946613],\n",
       "       [10.16076126],\n",
       "       [12.10603472],\n",
       "       [ 8.37245937],\n",
       "       [11.61172958],\n",
       "       [ 5.14881728],\n",
       "       [ 6.81672702],\n",
       "       [ 8.24188864]])"
      ]
     },
     "execution_count": 250,
     "metadata": {},
     "output_type": "execute_result"
    }
   ],
   "source": [
    "X_train[833]"
   ]
  },
  {
   "cell_type": "code",
   "execution_count": 251,
   "id": "12f0cb97",
   "metadata": {},
   "outputs": [
    {
     "data": {
      "text/plain": [
       "array([[ 5.10746258],\n",
       "       [ 7.26852438],\n",
       "       [ 2.54472536],\n",
       "       [ 4.88401014],\n",
       "       [ 7.34949516],\n",
       "       [ 6.15669924],\n",
       "       [ 2.85936121],\n",
       "       [ 3.97805222],\n",
       "       [ 8.71134027],\n",
       "       [ 5.01746472],\n",
       "       [ 8.29616782],\n",
       "       [ 5.44762497],\n",
       "       [10.04033841],\n",
       "       [ 7.0238583 ],\n",
       "       [ 6.27799484],\n",
       "       [10.67937633],\n",
       "       [ 6.9024317 ],\n",
       "       [10.78977031],\n",
       "       [ 9.16025037],\n",
       "       [ 6.33867175]])"
      ]
     },
     "execution_count": 251,
     "metadata": {},
     "output_type": "execute_result"
    }
   ],
   "source": [
    "X_test[0]"
   ]
  },
  {
   "cell_type": "markdown",
   "id": "1532fab3",
   "metadata": {},
   "source": [
    "## VRNN Cell"
   ]
  },
  {
   "cell_type": "code",
   "execution_count": 413,
   "id": "909fa876",
   "metadata": {},
   "outputs": [],
   "source": [
    "import tensorflow as tf\n",
    "import numpy as np\n",
    "# Implementing Variational RNN's and variations by subclassing Keras RNN-type Cells\n",
    "\n",
    "class VRNNCell(tf.keras.layers.GRUCell):\n",
    "    def __init__(self, units, output_dim, **kwargs):\n",
    "        super(VRNNCell, self).__init__(units, **kwargs)\n",
    "        self.output_dim = output_dim\n",
    "    \n",
    "\n",
    "    def build(self, input_shape):\n",
    "        # Taking most of the standard weight initiaalizations from the base GRU class\n",
    "        super().build((input_shape[0], input_shape[1] + self.units))\n",
    "        \n",
    "        self.input_kernel = self.add_weight(shape=(input_shape[-1], input_shape[-1]), name=\"layer\", initializer='truncated_normal')\n",
    "        \n",
    "        self.prior_kernel = self.add_weight(shape=(self.units, self.units),name=\"layer\", initializer='truncated_normal')\n",
    "        \n",
    "        self.pos_kernel = self.add_weight(shape=(input_shape[-1] + self.units,input_shape[-1] + self.units), name=\"layer\", initializer='truncated_normal')\n",
    "        \n",
    "        self.encoder_mu_kernel = self.add_weight(shape=(input_shape[-1] + self.units, self.units), name=\"layer\", initializer='truncated_normal')\n",
    "        \n",
    "        self.encoder_logvar_kernel = self.add_weight(shape=(input_shape[-1] + self.units, self.units), name=\"layer\", initializer='truncated_normal')\n",
    "        \n",
    "        self.prior_mu_kernel = self.add_weight(shape=(self.units, self.units), name=\"layer\", initializer='truncated_normal')\n",
    "        \n",
    "        self.prior_logvar_kernel = self.add_weight(shape=(self.units, self.units), name=\"layer\", initializer='truncated_normal')  \n",
    "        \n",
    "        self.z_kernel = self.add_weight(shape=(self.units, self.units), name=\"layer\", initializer='truncated_normal')\n",
    "        \n",
    "        self.output_kernel = self.add_weight(shape=(self.units + self.units, self.output_dim), name=\"layer\", initializer='truncated_normal')\n",
    "\n",
    "\n",
    "    def sample(self, mu, log_var):\n",
    "        # Sample from unit Normal\n",
    "        dims = tf.shape(mu)\n",
    "        epsilon = tf.random.normal(dims)\n",
    "        # All element-wise computations\n",
    "        std = tf.math.exp(0.5 * log_var)\n",
    "        z = tf.math.multiply(std, epsilon) + mu\n",
    "        return z\n",
    "    \n",
    "    def call(self, inputs, states, training=False):\n",
    "        # Some formulations:\n",
    "        # Generation:\n",
    "        # z_t ~ N(mu_(0, t), sigma_(0,t)), w here [mu_(0,t), sigma(0,t)] = phi_prior(h_(t-1))\n",
    "        # Update: \n",
    "        # h_t = f_theta(h_(t-1), z_t, x_t) *recurrence equation\n",
    "        # Inference:\n",
    "        # z_t ~ N(mu_z, sigma_z), where [mu_z, sigma_z] = phi_post(x_t, h_(t-1))\n",
    "        #\n",
    "        # Let the base RNN cell handle the rest and add loss\n",
    "        \n",
    "        if training:\n",
    "            x_t = tf.nn.relu(tf.matmul(inputs, self.input_kernel))\n",
    "            h_prev = states[0]\n",
    "\n",
    "            prior = tf.matmul(h_prev, self.prior_kernel)\n",
    "            p_mu = tf.matmul(prior, self.prior_mu_kernel)\n",
    "            p_logvar = tf.matmul(prior, self.prior_logvar_kernel)\n",
    "            \n",
    "            input_state_concat = tf.concat([x_t, h_prev], axis=1)\n",
    "            \n",
    "            pos = tf.matmul(input_state_concat, self.pos_kernel)\n",
    "            q_mu = tf.matmul(pos, self.encoder_mu_kernel)\n",
    "            q_logvar = tf.matmul(pos, self.encoder_logvar_kernel)\n",
    "            z_t = self.sample(q_mu, q_logvar)\n",
    "            phi_z_t = tf.nn.relu(tf.matmul(z_t, self.z_kernel))\n",
    "            \n",
    "            inp = tf.concat([x_t, phi_z_t], axis=1)\n",
    "            _, h_next = super().call(inp, h_prev)\n",
    "            \n",
    "            output = tf.nn.relu(tf.matmul(tf.concat([h_prev, phi_z_t], axis=1), self.output_kernel))\n",
    "            \n",
    "            all_output = (output, z_t, q_mu, p_mu, q_logvar, p_logvar)\n",
    "            return all_output, h_next\n",
    "        \n",
    "        else:\n",
    "           \n",
    "            x_t = tf.nn.relu(tf.matmul(inputs, self.input_kernel))\n",
    "            h_prev = states[0]\n",
    "\n",
    "            prior = tf.matmul(h_prev, self.prior_kernel)\n",
    "            p_mu = tf.matmul(prior, self.prior_mu_kernel)\n",
    "            p_logvar = tf.matmul(prior, self.prior_logvar_kernel)\n",
    "            \n",
    "            input_state_concat = tf.concat([x_t, h_prev], axis=1)\n",
    "            \n",
    "            pos = tf.matmul(input_state_concat, self.pos_kernel)\n",
    "            q_mu = tf.matmul(pos, self.encoder_mu_kernel)\n",
    "            q_logvar = tf.matmul(pos, self.encoder_logvar_kernel)\n",
    "            z_t = self.sample(p_mu, p_logvar)\n",
    "            phi_z_t = tf.nn.relu(tf.matmul(z_t, self.z_kernel))\n",
    "            \n",
    "            inp = tf.concat([x_t, phi_z_t], axis=1)\n",
    "            _, h_next = super().call(inp, h_prev)\n",
    "            \n",
    "            output = tf.nn.relu(tf.matmul(tf.concat([h_prev, phi_z_t], axis=1), self.output_kernel))\n",
    "            \n",
    "            all_output = (output, z_t, q_mu, p_mu, q_logvar, p_logvar)\n",
    "            return all_output, h_next\n",
    "    \n",
    "   \n",
    "    def get_config(self):\n",
    "        return {\"units\":self.units}"
   ]
  },
  {
   "cell_type": "markdown",
   "id": "3e5f0a35",
   "metadata": {},
   "source": [
    "## VRNN"
   ]
  },
  {
   "cell_type": "code",
   "execution_count": 373,
   "id": "2c7581c6",
   "metadata": {},
   "outputs": [],
   "source": [
    "from tensorflow import keras\n",
    "def kl_gauss(posterior_means, prior_means, posterior_log_var, prior_log_var):   \n",
    "    kl = prior_log_var - posterior_log_var + (tf.exp(posterior_log_var) + \n",
    "                                       tf.square(posterior_means - prior_means)) / tf.exp(prior_log_var) - 1\n",
    "    kl = 0.5 * tf.reduce_sum(kl, axis=(1,2))\n",
    "    return kl\n",
    "\n",
    "class VRNNGRU(tf.keras.Model):\n",
    "    def __init__(self, feature_space, latent_dim, timesteps, **kwargs):\n",
    "        super(VRNNGRU, self).__init__(**kwargs)\n",
    "        vrnn_cell = VRNNCell(latent_dim, feature_space)\n",
    "        self.latent_dim = latent_dim\n",
    "        \n",
    "        vrnn_input = keras.layers.Input(shape=(timesteps, feature_space))\n",
    "        vrnn_output = keras.layers.RNN(vrnn_cell, return_sequences=True)(vrnn_input)\n",
    "        self.vrnn = keras.Model(vrnn_input, vrnn_output)\n",
    "        \n",
    "        decoder_input = keras.layers.Input(shape=(timesteps, latent_dim))\n",
    "        output =  keras.layers.TimeDistributed(keras.layers.Dense(feature_space, activation='softmax'))(decoder_input)\n",
    "        self.decoder =keras.Model(decoder_input, output)\n",
    "        \n",
    "        self.total_loss_tracker = keras.metrics.Mean(name=\"total_loss\")\n",
    "        self.reconstruction_loss_tracker = keras.metrics.Mean(\n",
    "            name=\"reconstruction_loss\"\n",
    "        )\n",
    "        self.kl_loss_tracker = keras.metrics.Mean(name=\"kl_loss\")\n",
    "        \n",
    "    @property\n",
    "    def metrics(self):\n",
    "        return [\n",
    "            self.total_loss_tracker,\n",
    "            self.reconstruction_loss_tracker,\n",
    "            self.kl_loss_tracker,\n",
    "        ]\n",
    "\n",
    "    def train_step(self, data):\n",
    "        if isinstance(data, tuple):\n",
    "            input_data = data[0]\n",
    "            output_data = data[1]\n",
    "            \n",
    "            timesteps = input_data.shape[1]\n",
    "            num_feats = input_data.shape[2]\n",
    "        with tf.GradientTape() as tape:\n",
    "            outputs = self.vrnn(input_data, training=True)\n",
    "            preds = outputs[0]\n",
    "#             preds = self.decoder(z)\n",
    "            \n",
    "            q_mu = outputs[2]\n",
    "            p_mu = outputs[3]\n",
    "            q_log_var = outputs[4]\n",
    "            p_log_var = outputs[5]\n",
    "            \n",
    "            kl_loss = tf.reduce_mean(kl_gauss(q_mu, p_mu, q_log_var, p_log_var))\n",
    "            reconstruction_loss = tf.reduce_mean(\n",
    "                tf.reduce_sum(tf.keras.losses.mean_squared_error(output_data, preds), axis=1)\n",
    "            )\n",
    "            total_loss = reconstruction_loss + kl_loss \n",
    "            \n",
    "        grads = tape.gradient(total_loss, self.trainable_weights)\n",
    "        self.optimizer.apply_gradients(zip(grads, self.trainable_weights))\n",
    "        self.total_loss_tracker.update_state(total_loss)\n",
    "        self.reconstruction_loss_tracker.update_state(reconstruction_loss)\n",
    "        self.kl_loss_tracker.update_state(kl_loss)       \n",
    "        return {\n",
    "            'total_loss': self.total_loss_tracker.result(),\n",
    "            'loss': self.reconstruction_loss_tracker.result(),\n",
    "            'kl': self.kl_loss_tracker.result()\n",
    "        }\n",
    "\n",
    "    def call(self, inputs):\n",
    "        outputs = self.vrnn(inputs, training=True)\n",
    "        return outputs\n",
    "    \n",
    "    def generate(self, inputs):\n",
    "        outputs = self.vrnn(inputs, training=True)\n",
    "        return outputs\n",
    "    "
   ]
  },
  {
   "cell_type": "code",
   "execution_count": 374,
   "id": "be96df32",
   "metadata": {},
   "outputs": [
    {
     "name": "stderr",
     "output_type": "stream",
     "text": [
      "/mnt/c/Users/jchle/Work/Thesis/VAECJ/bash_venv/lib/python3.8/site-packages/tensorflow/python/keras/optimizer_v2/optimizer_v2.py:374: UserWarning: The `lr` argument is deprecated, use `learning_rate` instead.\n",
      "  warnings.warn(\n"
     ]
    },
    {
     "name": "stdout",
     "output_type": "stream",
     "text": [
      "Epoch 1/50\n",
      "WARNING:tensorflow:Gradients do not exist for variables ['time_distributed/kernel:0', 'time_distributed/bias:0'] when minimizing the loss.\n",
      "WARNING:tensorflow:Gradients do not exist for variables ['time_distributed/kernel:0', 'time_distributed/bias:0'] when minimizing the loss.\n",
      "154/154 [==============================] - 4s 11ms/step - total_loss: 275.1436 - loss: 418.6650 - kl: 1.3223\n",
      "Epoch 2/50\n",
      "154/154 [==============================] - 2s 11ms/step - total_loss: 131.8072 - loss: 131.4924 - kl: 1.5817\n",
      "Epoch 3/50\n",
      "154/154 [==============================] - 2s 11ms/step - total_loss: 128.2833 - loss: 129.6864 - kl: 1.7181\n",
      "Epoch 4/50\n",
      "154/154 [==============================] - 2s 10ms/step - total_loss: 125.7977 - loss: 125.1097 - kl: 1.0159\n",
      "Epoch 5/50\n",
      "154/154 [==============================] - 2s 11ms/step - total_loss: 123.2236 - loss: 125.1842 - kl: 0.4150\n",
      "Epoch 6/50\n",
      "154/154 [==============================] - 2s 11ms/step - total_loss: 120.4928 - loss: 121.2947 - kl: 0.1765\n",
      "Epoch 7/50\n",
      "154/154 [==============================] - 2s 11ms/step - total_loss: 117.9423 - loss: 118.2911 - kl: 0.2296\n",
      "Epoch 8/50\n",
      "154/154 [==============================] - 2s 11ms/step - total_loss: 114.4605 - loss: 115.9867 - kl: 0.5507\n",
      "Epoch 9/50\n",
      "154/154 [==============================] - 2s 11ms/step - total_loss: 111.1080 - loss: 111.2844 - kl: 0.9770\n",
      "Epoch 10/50\n",
      "154/154 [==============================] - 2s 10ms/step - total_loss: 109.8679 - loss: 109.4597 - kl: 1.0287\n",
      "Epoch 11/50\n",
      "154/154 [==============================] - 2s 11ms/step - total_loss: 108.6776 - loss: 107.4814 - kl: 1.0000\n",
      "Epoch 12/50\n",
      "154/154 [==============================] - 2s 11ms/step - total_loss: 107.7482 - loss: 106.3265 - kl: 0.9132\n",
      "Epoch 13/50\n",
      "154/154 [==============================] - 2s 11ms/step - total_loss: 107.0015 - loss: 105.2171 - kl: 0.7398\n",
      "Epoch 14/50\n",
      "154/154 [==============================] - 2s 12ms/step - total_loss: 106.6922 - loss: 106.6217 - kl: 0.6832\n",
      "Epoch 15/50\n",
      "154/154 [==============================] - 2s 11ms/step - total_loss: 106.0673 - loss: 104.9415 - kl: 0.5663\n",
      "Epoch 16/50\n",
      "154/154 [==============================] - 2s 11ms/step - total_loss: 105.7590 - loss: 105.1802 - kl: 0.4917\n",
      "Epoch 17/50\n",
      "154/154 [==============================] - 2s 10ms/step - total_loss: 105.4911 - loss: 105.1824 - kl: 0.3996\n",
      "Epoch 18/50\n",
      "154/154 [==============================] - 2s 11ms/step - total_loss: 105.3223 - loss: 106.2192 - kl: 0.3033\n",
      "Epoch 19/50\n",
      "154/154 [==============================] - 2s 10ms/step - total_loss: 104.6829 - loss: 102.8194 - kl: 0.2682\n",
      "Epoch 20/50\n",
      "154/154 [==============================] - 2s 10ms/step - total_loss: 104.6640 - loss: 103.1982 - kl: 0.2134\n",
      "Epoch 21/50\n",
      "154/154 [==============================] - 2s 10ms/step - total_loss: 104.2857 - loss: 105.2349 - kl: 0.1957\n",
      "Epoch 22/50\n",
      "154/154 [==============================] - 2s 11ms/step - total_loss: 104.1980 - loss: 103.7483 - kl: 0.1363\n",
      "Epoch 23/50\n",
      "154/154 [==============================] - 2s 10ms/step - total_loss: 104.2486 - loss: 104.5240 - kl: 0.1423\n",
      "Epoch 24/50\n",
      "154/154 [==============================] - 2s 10ms/step - total_loss: 103.6270 - loss: 103.0820 - kl: 0.1202\n",
      "Epoch 25/50\n",
      "154/154 [==============================] - 2s 10ms/step - total_loss: 103.8510 - loss: 104.0561 - kl: 0.0867\n",
      "Epoch 26/50\n",
      "154/154 [==============================] - 2s 10ms/step - total_loss: 103.9524 - loss: 102.8728 - kl: 0.0917\n",
      "Epoch 27/50\n",
      "154/154 [==============================] - 2s 10ms/step - total_loss: 103.6841 - loss: 104.8284 - kl: 0.1048\n",
      "Epoch 28/50\n",
      "154/154 [==============================] - 2s 10ms/step - total_loss: 103.6455 - loss: 102.4291 - kl: 0.0609\n",
      "Epoch 29/50\n",
      "154/154 [==============================] - 2s 11ms/step - total_loss: 103.2506 - loss: 102.9046 - kl: 0.0895\n",
      "Epoch 30/50\n",
      "154/154 [==============================] - 2s 10ms/step - total_loss: 103.4984 - loss: 102.8367 - kl: 0.0501\n",
      "Epoch 31/50\n",
      "154/154 [==============================] - 2s 10ms/step - total_loss: 103.1040 - loss: 103.3337 - kl: 0.0735\n",
      "Epoch 32/50\n",
      "154/154 [==============================] - 2s 10ms/step - total_loss: 103.3467 - loss: 102.0264 - kl: 0.0414\n",
      "Epoch 33/50\n",
      "154/154 [==============================] - 2s 10ms/step - total_loss: 103.3804 - loss: 103.3677 - kl: 0.0561\n",
      "Epoch 34/50\n",
      "154/154 [==============================] - 2s 10ms/step - total_loss: 103.4570 - loss: 103.5348 - kl: 0.0489\n",
      "Epoch 35/50\n",
      "154/154 [==============================] - 2s 10ms/step - total_loss: 103.5794 - loss: 102.4699 - kl: 0.0635\n",
      "Epoch 36/50\n",
      "154/154 [==============================] - 2s 10ms/step - total_loss: 103.3520 - loss: 102.0751 - kl: 0.0562\n",
      "Epoch 37/50\n",
      "154/154 [==============================] - 2s 10ms/step - total_loss: 103.3685 - loss: 103.5512 - kl: 0.0780\n",
      "Epoch 38/50\n",
      "154/154 [==============================] - 2s 10ms/step - total_loss: 103.1467 - loss: 101.5043 - kl: 0.0825\n",
      "Epoch 39/50\n",
      "154/154 [==============================] - 2s 10ms/step - total_loss: 103.1780 - loss: 102.9636 - kl: 0.0911\n",
      "Epoch 40/50\n",
      "154/154 [==============================] - 2s 10ms/step - total_loss: 103.1418 - loss: 100.2047 - kl: 0.0700\n",
      "Epoch 41/50\n",
      "154/154 [==============================] - 2s 10ms/step - total_loss: 103.7773 - loss: 103.8590 - kl: 0.0533\n",
      "Epoch 42/50\n",
      "154/154 [==============================] - 2s 11ms/step - total_loss: 103.1652 - loss: 103.1673 - kl: 0.1043\n",
      "Epoch 43/50\n",
      "154/154 [==============================] - 2s 11ms/step - total_loss: 103.0259 - loss: 103.7033 - kl: 0.0681\n",
      "Epoch 44/50\n",
      "154/154 [==============================] - 2s 11ms/step - total_loss: 102.9250 - loss: 102.9247 - kl: 0.0908\n",
      "Epoch 45/50\n",
      "154/154 [==============================] - 2s 10ms/step - total_loss: 103.3904 - loss: 102.5539 - kl: 0.0553\n",
      "Epoch 46/50\n",
      "154/154 [==============================] - 2s 12ms/step - total_loss: 103.0164 - loss: 103.5747 - kl: 0.0825\n",
      "Epoch 47/50\n",
      "154/154 [==============================] - 2s 10ms/step - total_loss: 103.0376 - loss: 103.1477 - kl: 0.0466\n",
      "Epoch 48/50\n",
      "154/154 [==============================] - 2s 10ms/step - total_loss: 103.0763 - loss: 100.4472 - kl: 0.0510\n",
      "Epoch 49/50\n",
      "154/154 [==============================] - 2s 11ms/step - total_loss: 103.2962 - loss: 102.4258 - kl: 0.0516\n",
      "Epoch 50/50\n",
      "154/154 [==============================] - 2s 11ms/step - total_loss: 102.6042 - loss: 101.3488 - kl: 0.0760\n"
     ]
    },
    {
     "data": {
      "text/plain": [
       "<tensorflow.python.keras.callbacks.History at 0x7f61df68b6d0>"
      ]
     },
     "execution_count": 374,
     "metadata": {},
     "output_type": "execute_result"
    }
   ],
   "source": [
    "timesteps = X_train.shape[1]\n",
    "latent_dim = 16\n",
    "feature_space = X_train.shape[2]\n",
    "rvae = VRNNGRU(feature_space, latent_dim, timesteps)\n",
    "rvae.compile(optimizer=keras.optimizers.Adam(lr=0.001))\n",
    "rvae.fit(X_train, Y_train, batch_size=8, epochs=50)"
   ]
  },
  {
   "cell_type": "code",
   "execution_count": 21,
   "id": "54a0cae9",
   "metadata": {},
   "outputs": [],
   "source": [
    "def np_kl_gauss(posterior_means, prior_means, posterior_log_var, prior_log_var):\n",
    "    kl = prior_log_var - posterior_log_var + (np.exp(posterior_log_var) + \n",
    "                                       np.square(posterior_means - prior_means)) / np.exp(prior_log_var) - 1\n",
    "    kl = 0.5 * np.sum(kl)\n",
    "    return kl"
   ]
  },
  {
   "cell_type": "code",
   "execution_count": 375,
   "id": "c6d2d33e",
   "metadata": {},
   "outputs": [],
   "source": [
    "outputs, z, q_mu, p_mu, q_logvar, p_logvar = rvae.predict(X_test)"
   ]
  },
  {
   "cell_type": "code",
   "execution_count": 376,
   "id": "be12e8a6",
   "metadata": {},
   "outputs": [
    {
     "data": {
      "text/plain": [
       "(-3.0, 18.0)"
      ]
     },
     "execution_count": 376,
     "metadata": {},
     "output_type": "execute_result"
    },
    {
     "data": {
      "image/png": "[encoded data removed]",
      "text/plain": [
       "<Figure size 432x288 with 1 Axes>"
      ]
     },
     "metadata": {
      "needs_background": "light"
     },
     "output_type": "display_data"
    }
   ],
   "source": [
    "plt.plot(outputs[:,-1,:])\n",
    "plt.ylim([-3, 18])"
   ]
  },
  {
   "cell_type": "code",
   "execution_count": 104,
   "id": "884a36d6",
   "metadata": {},
   "outputs": [
    {
     "data": {
      "text/plain": [
       "0.04489034414291382"
      ]
     },
     "execution_count": 104,
     "metadata": {},
     "output_type": "execute_result"
    }
   ],
   "source": [
    "np_kl_gauss(q_mu[0], p_mu[0], q_logvar[0], p_logvar[0])"
   ]
  },
  {
   "cell_type": "code",
   "execution_count": 377,
   "id": "c4a9ffd3",
   "metadata": {},
   "outputs": [
    {
     "data": {
      "text/plain": [
       "[<matplotlib.lines.Line2D at 0x7f61d6cc2700>]"
      ]
     },
     "execution_count": 377,
     "metadata": {},
     "output_type": "execute_result"
    },
    {
     "data": {
      "image/png": "[encoded data removed]",
      "text/plain": [
       "<Figure size 432x288 with 1 Axes>"
      ]
     },
     "metadata": {
      "needs_background": "light"
     },
     "output_type": "display_data"
    }
   ],
   "source": [
    "kl_values = []\n",
    "\n",
    "for i in range(outputs.shape[0]):\n",
    "    kl_vals = []\n",
    "    for j in range(outputs.shape[1]):\n",
    "        kl_vals.append(np_kl_gauss(q_mu[i][j], p_mu[i][j], q_logvar[i][j], p_logvar[i][j]))\n",
    "    kl_values.append(kl_vals)\n",
    "\n",
    "kl_sums = [np.sum(kl) for kl in kl_values]\n",
    "plt.plot(kl_sums)"
   ]
  },
  {
   "cell_type": "code",
   "execution_count": 414,
   "id": "58e1d5fe",
   "metadata": {},
   "outputs": [],
   "source": [
    "from tensorflow.keras import backend as K\n",
    "import tensorflow_probability as tfp\n",
    "from tensorflow import keras \n",
    "def kl_gauss(posterior_means, prior_means, posterior_log_var, prior_log_var):   \n",
    "    kl = prior_log_var - posterior_log_var + (tf.exp(posterior_log_var) + \n",
    "                                       tf.square(posterior_means - prior_means)) / tf.exp(prior_log_var) - 1\n",
    "    kl = 0.5 * tf.reduce_sum(kl, axis=[1,2])\n",
    "    return kl\n",
    "\n",
    "def wasserstein_loss(y_true, y_pred):\n",
    "    return tf.reduce_mean(y_true * y_pred)\n",
    "\n",
    "\n",
    "class kCallback(tf.keras.callbacks.Callback):\n",
    "    def __init__(self, count, limit):\n",
    "        self.limit = limit\n",
    "        self.count = count\n",
    "    def on_train_batch_end(self, batch, logs={}):\n",
    "        if self.count == self.limit:\n",
    "            self.count = 0\n",
    "        else:\n",
    "            self.count += 1\n",
    "        print('k is currently {}'.format(self.count))\n",
    "\n",
    "\n",
    "class VRNNGRUGAN(tf.keras.Model):\n",
    "    def __init__(self, feature_space, latent_dim, timesteps, **kwargs):\n",
    "        super(VRNNGRUGAN, self).__init__(**kwargs)\n",
    "        vrnn_cell = VRNNCell(latent_dim, feature_space)\n",
    "        self.feature_space = feature_space\n",
    "        self.latent_dim = latent_dim\n",
    "        \n",
    "        vrnn_input = keras.layers.Input(shape=(timesteps, feature_space))\n",
    "        vrnn_output = keras.layers.RNN(vrnn_cell, return_sequences=True)(vrnn_input)\n",
    "        self.vrnn = keras.Model(vrnn_input, vrnn_output)\n",
    "                \n",
    "        disc_input = keras.layers.Input(shape=(timesteps, feature_space))\n",
    "        disc_rnn = keras.layers.GRU(2, recurrent_dropout=0.5, dropout=0.5)(disc_input)\n",
    "#         disc_rnn = keras.layers.Conv1D(filters=2, kernel_size=2, activation='relu')(disc_input)\n",
    "#         disc_rnn = keras.layers.MaxPooling1D(pool_size=2, strides=1, padding='same')(disc_rnn)\n",
    "#         disc_rnn = keras.layers.Flatten(name='feature_ext')(disc_rnn)\n",
    "        disc_output = keras.layers.Dense(1, activation='sigmoid')(disc_rnn)\n",
    "        disc_output = keras.layers.Dropout(0.4)(disc_output)\n",
    "        disc_model = keras.Model(disc_input, disc_output)\n",
    "        self.discrim = disc_model\n",
    "        \n",
    "#         self.f = keras.Model(disc_input, self.discrim.get_layer('feature_ext').output)\n",
    "        \n",
    "        self.total_loss_tracker = keras.metrics.Mean(name=\"total_loss\")\n",
    "        self.reconstruction_loss_tracker = keras.metrics.Mean(\n",
    "            name=\"reconstruction_loss\"\n",
    "        )\n",
    "        self.next_step_loss_tracker = keras.metrics.Mean(\n",
    "            name=\"next_step_loss\"\n",
    "        )\n",
    "        self.kl_loss_tracker = keras.metrics.Mean(name=\"kl_loss\")\n",
    "        self.discrim_loss_tracker = keras.metrics.Mean(name=\"discrim_loss\")\n",
    "        self.discrim_fake_loss_tracker = keras.metrics.Mean(name=\"discrim_fake_loss\")\n",
    "        self.discrim_real_loss_tracker = keras.metrics.Mean(name=\"discrim_real_loss\")\n",
    "        self.misled_loss_tracker = keras.metrics.Mean(name=\"misled_loss\")\n",
    "        \n",
    "    @property\n",
    "    def metrics(self):\n",
    "        return [\n",
    "            self.total_loss_tracker,\n",
    "            self.reconstruction_loss_tracker,\n",
    "            self.kl_loss_tracker,\n",
    "            self.discrim_loss_tracker,\n",
    "            self.discrim_fake_loss_tracker,\n",
    "            self.discrim_real_loss_tracker,\n",
    "            self.misled_loss_tracker\n",
    "        ]\n",
    "    def compile(self, vae_optimizer, discrim_optimizer):\n",
    "        super(VRNNGRUGAN, self).compile()\n",
    "        self.vae_optimizer = vae_optimizer\n",
    "        self.discrim_optimizer = discrim_optimizer\n",
    "\n",
    "    def train_step(self, data):\n",
    "        if isinstance(data, tuple):\n",
    "            input_data = data[0]\n",
    "            output_data = data[1]\n",
    "            \n",
    "        with tf.GradientTape(persistent=True) as tape:\n",
    "            outputs = self.vrnn(input_data, training=True)\n",
    "            preds = outputs[0]\n",
    "            \n",
    "#             cut_preds = tf.slice(preds, [0,19,0], [-1,-1,-1])\n",
    "#             cut_inputs = tf.slice(input_data, [0,1,0], [-1,-1,-1])\n",
    "#             fake = tf.concat([cut_inputs,cut_preds], axis=1)\n",
    "\n",
    "            discrim_fake_output = self.discrim(preds)\n",
    "            discrim_real_output = self.discrim(output_data)\n",
    "            \n",
    "            bce_logits = tf.keras.losses.BinaryCrossentropy(from_logits=True)\n",
    "\n",
    "            discrim_output_loss_fake = tf.reduce_mean(\n",
    "                tf.keras.losses.binary_crossentropy(tf.zeros_like(discrim_fake_output), discrim_fake_output)\n",
    "            )\n",
    "        \n",
    "            discrim_output_loss_real = tf.reduce_mean(\n",
    "                tf.keras.losses.binary_crossentropy(tf.ones_like(discrim_real_output), discrim_real_output)\n",
    "            )\n",
    "              \n",
    "            discrim_loss = 0.5 * (discrim_output_loss_fake + discrim_output_loss_real)\n",
    "        discrim_grads = tape.gradient(discrim_loss, self.discrim.trainable_weights)\n",
    "        self.discrim_optimizer.apply_gradients(zip(discrim_grads, self.discrim.trainable_weights))\n",
    "        self.discrim_loss_tracker.update_state(discrim_loss)\n",
    "        self.discrim_fake_loss_tracker.update_state(discrim_output_loss_fake)\n",
    "        self.discrim_real_loss_tracker.update_state(discrim_output_loss_real)\n",
    "        del tape\n",
    "        \n",
    "        with tf.GradientTape(persistent=True) as tape:\n",
    "            outputs = self.vrnn(input_data, training=True)\n",
    "            preds = outputs[0]\n",
    "            discrim_fake_output = self.discrim(preds)\n",
    "            \n",
    "#             real_embed = self.f(output_data)\n",
    "#             fake_embed = self.f(preds)\n",
    "\n",
    "            q_mu = outputs[2]\n",
    "            p_mu = outputs[3]\n",
    "            q_log_var = outputs[4]\n",
    "            p_log_var = outputs[5]\n",
    "\n",
    "\n",
    "            kl_loss = tf.reduce_mean(kl_gauss(q_mu, p_mu, q_log_var, p_log_var))\n",
    "            bce_logits = tf.keras.losses.BinaryCrossentropy(from_logits=True)\n",
    "\n",
    "            reconstruction_loss = tf.reduce_mean(\n",
    "                tf.reduce_mean(tf.keras.losses.mean_squared_error(output_data, preds), axis=1)\n",
    "            )\n",
    "            \n",
    "            mislead_output_discrim_loss = tf.reduce_mean(\n",
    "                tf.keras.losses.binary_crossentropy(tf.ones_like(discrim_fake_output), discrim_fake_output) \n",
    "            )\n",
    "            \n",
    "#             mislead_output_discrim_loss = tf.reduce_mean(\n",
    "#                 tf.keras.losses.mean_squared_error(real_embed, fake_embed)\n",
    "#             )\n",
    "            \n",
    "            \n",
    "            discrim_loss = tf.reduce_mean(\n",
    "                tf.keras.losses.binary_crossentropy(tf.zeros_like(discrim_fake_output), discrim_fake_output)\n",
    "            )\n",
    "            total_loss =  reconstruction_loss + 0.1 * kl_loss + mislead_output_discrim_loss\n",
    "\n",
    "\n",
    "        encoder_grads = tape.gradient(total_loss, self.vrnn.trainable_weights)\n",
    "        encoder_grads,_ = tf.clip_by_global_norm(encoder_grads, 3)\n",
    "        \n",
    "        self.vae_optimizer.apply_gradients(zip(encoder_grads, self.vrnn.trainable_weights))\n",
    "\n",
    "        self.total_loss_tracker.update_state(total_loss)\n",
    "        self.reconstruction_loss_tracker.update_state(reconstruction_loss)\n",
    "        self.kl_loss_tracker.update_state(kl_loss)\n",
    "        self.misled_loss_tracker.update_state(mislead_output_discrim_loss)\n",
    "        del tape\n",
    "            \n",
    "        return {\n",
    "            'total_loss': self.total_loss_tracker.result(),\n",
    "            'loss': self.reconstruction_loss_tracker.result(),\n",
    "            'kl': self.kl_loss_tracker.result(),\n",
    "            'discrim_loss':self.discrim_loss_tracker.result(),\n",
    "            'discrim_loss_fake':self.discrim_fake_loss_tracker.result(),\n",
    "            'discrim_loss_real':self.discrim_real_loss_tracker.result(),\n",
    "            'misled_loss':self.misled_loss_tracker.result(),\n",
    "        }\n",
    "\n",
    "    def call(self, inputs):\n",
    "        outputs = self.vrnn(inputs, training=True)\n",
    "        return outputs\n",
    "    \n",
    "    def generate(self, inputs):\n",
    "        outputs = self.vrnn(inputs, training=False)\n",
    "        return outputs\n",
    "    \n",
    "    def discrminator_score(self, inputs):\n",
    "        score = self.discrim(inputs)\n",
    "        return score\n",
    "    \n",
    "    def test_step(self, data):\n",
    "        inputs = data[0]\n",
    "        outputs = data[1]\n",
    "        preds = self(inputs, training=False)\n",
    "        recon_loss = tf.keras.losses.categorical_crossentropy(outputs, preds)\n",
    "        return {\n",
    "            \"loss\": recon_loss\n",
    "        }\n",
    "        "
   ]
  },
  {
   "cell_type": "code",
   "execution_count": 415,
   "id": "4f74b0b9",
   "metadata": {},
   "outputs": [
    {
     "name": "stderr",
     "output_type": "stream",
     "text": [
      "/mnt/c/Users/jchle/Work/Thesis/VAECJ/bash_venv/lib/python3.8/site-packages/tensorflow/python/keras/optimizer_v2/optimizer_v2.py:374: UserWarning: The `lr` argument is deprecated, use `learning_rate` instead.\n",
      "  warnings.warn(\n"
     ]
    },
    {
     "name": "stdout",
     "output_type": "stream",
     "text": [
      "Epoch 1/50\n",
      "111/111 [==============================] - 17s 25ms/step - total_loss: 30.9649 - loss: 30.4178 - kl: 0.0013 - discrim_loss: 0.8641 - discrim_loss_fake: 0.6894 - discrim_loss_real: 1.0472 - misled_loss: 0.6984\n",
      "Epoch 2/50\n",
      "111/111 [==============================] - 3s 26ms/step - total_loss: 30.3595 - loss: 29.1971 - kl: 0.0045 - discrim_loss: 0.8488 - discrim_loss_fake: 0.6814 - discrim_loss_real: 1.0237 - misled_loss: 0.7085\n",
      "Epoch 3/50\n",
      "111/111 [==============================] - 3s 26ms/step - total_loss: 29.0936 - loss: 28.9255 - kl: 0.0349 - discrim_loss: 0.8275 - discrim_loss_fake: 0.6641 - discrim_loss_real: 1.0018 - misled_loss: 0.7323\n",
      "Epoch 4/50\n",
      "111/111 [==============================] - 3s 27ms/step - total_loss: 24.5367 - loss: 25.3940 - kl: 0.2158 - discrim_loss: 0.7793 - discrim_loss_fake: 0.6033 - discrim_loss_real: 0.9862 - misled_loss: 0.8262\n",
      "Epoch 5/50\n",
      "111/111 [==============================] - 3s 25ms/step - total_loss: 17.1814 - loss: 18.0993 - kl: 0.3330 - discrim_loss: 0.7373 - discrim_loss_fake: 0.5192 - discrim_loss_real: 0.9686 - misled_loss: 0.9205\n",
      "Epoch 6/50\n",
      "111/111 [==============================] - 3s 24ms/step - total_loss: 10.7184 - loss: 10.8524 - kl: 0.3413 - discrim_loss: 0.7180 - discrim_loss_fake: 0.4869 - discrim_loss_real: 0.9523 - misled_loss: 0.9556\n",
      "Epoch 7/50\n",
      "111/111 [==============================] - 3s 25ms/step - total_loss: 8.5219 - loss: 7.7276 - kl: 0.0086 - discrim_loss: 0.7118 - discrim_loss_fake: 0.4854 - discrim_loss_real: 0.9379 - misled_loss: 0.9518\n",
      "Epoch 8/50\n",
      "111/111 [==============================] - 3s 24ms/step - total_loss: 8.1967 - loss: 7.2957 - kl: 0.0083 - discrim_loss: 0.7091 - discrim_loss_fake: 0.4945 - discrim_loss_real: 0.9234 - misled_loss: 0.9378\n",
      "Epoch 9/50\n",
      "111/111 [==============================] - 3s 25ms/step - total_loss: 8.0266 - loss: 7.2166 - kl: 0.0065 - discrim_loss: 0.7065 - discrim_loss_fake: 0.5034 - discrim_loss_real: 0.9103 - misled_loss: 0.9241\n",
      "Epoch 10/50\n",
      "111/111 [==============================] - 3s 24ms/step - total_loss: 7.8964 - loss: 6.9460 - kl: 0.0049 - discrim_loss: 0.7042 - discrim_loss_fake: 0.5123 - discrim_loss_real: 0.8962 - misled_loss: 0.9107\n",
      "Epoch 11/50\n",
      "111/111 [==============================] - 3s 26ms/step - total_loss: 7.7641 - loss: 6.8850 - kl: 0.0056 - discrim_loss: 0.7020 - discrim_loss_fake: 0.5211 - discrim_loss_real: 0.8842 - misled_loss: 0.8979\n",
      "Epoch 12/50\n",
      "111/111 [==============================] - 3s 27ms/step - total_loss: 7.6632 - loss: 6.8521 - kl: 0.0074 - discrim_loss: 0.7001 - discrim_loss_fake: 0.5299 - discrim_loss_real: 0.8723 - misled_loss: 0.8854\n",
      "Epoch 13/50\n",
      "111/111 [==============================] - 3s 27ms/step - total_loss: 7.5922 - loss: 6.8472 - kl: 0.0097 - discrim_loss: 0.6982 - discrim_loss_fake: 0.5381 - discrim_loss_real: 0.8576 - misled_loss: 0.8736\n",
      "Epoch 14/50\n",
      "111/111 [==============================] - 3s 26ms/step - total_loss: 7.5633 - loss: 6.5238 - kl: 0.0096 - discrim_loss: 0.6965 - discrim_loss_fake: 0.5462 - discrim_loss_real: 0.8469 - misled_loss: 0.8624\n",
      "Epoch 15/50\n",
      "111/111 [==============================] - 3s 25ms/step - total_loss: 7.5088 - loss: 6.7661 - kl: 0.0097 - discrim_loss: 0.6949 - discrim_loss_fake: 0.5545 - discrim_loss_real: 0.8367 - misled_loss: 0.8515\n",
      "Epoch 16/50\n",
      "111/111 [==============================] - 3s 28ms/step - total_loss: 7.4478 - loss: 6.5043 - kl: 0.0110 - discrim_loss: 0.6936 - discrim_loss_fake: 0.5623 - discrim_loss_real: 0.8251 - misled_loss: 0.8411\n",
      "Epoch 17/50\n",
      "111/111 [==============================] - 3s 25ms/step - total_loss: 7.4051 - loss: 6.4951 - kl: 0.0123 - discrim_loss: 0.6923 - discrim_loss_fake: 0.5699 - discrim_loss_real: 0.8184 - misled_loss: 0.8311\n",
      "Epoch 18/50\n",
      "111/111 [==============================] - 3s 26ms/step - total_loss: 7.3755 - loss: 6.7017 - kl: 0.0125 - discrim_loss: 0.6913 - discrim_loss_fake: 0.5773 - discrim_loss_real: 0.8052 - misled_loss: 0.8218\n",
      "Epoch 19/50\n",
      "111/111 [==============================] - 3s 26ms/step - total_loss: 7.3133 - loss: 6.5244 - kl: 0.0146 - discrim_loss: 0.6902 - discrim_loss_fake: 0.5843 - discrim_loss_real: 0.7960 - misled_loss: 0.8132\n",
      "Epoch 20/50\n",
      "111/111 [==============================] - 3s 24ms/step - total_loss: 7.2560 - loss: 6.3854 - kl: 0.0149 - discrim_loss: 0.6894 - discrim_loss_fake: 0.5910 - discrim_loss_real: 0.7881 - misled_loss: 0.8050\n",
      "Epoch 21/50\n",
      "111/111 [==============================] - 3s 25ms/step - total_loss: 7.2385 - loss: 6.3710 - kl: 0.0153 - discrim_loss: 0.6886 - discrim_loss_fake: 0.5975 - discrim_loss_real: 0.7812 - misled_loss: 0.7973\n",
      "Epoch 22/50\n",
      "111/111 [==============================] - 3s 28ms/step - total_loss: 7.1957 - loss: 6.3936 - kl: 0.0192 - discrim_loss: 0.6879 - discrim_loss_fake: 0.6033 - discrim_loss_real: 0.7726 - misled_loss: 0.7904\n",
      "Epoch 23/50\n",
      "111/111 [==============================] - 3s 26ms/step - total_loss: 7.1745 - loss: 6.3682 - kl: 0.0181 - discrim_loss: 0.6873 - discrim_loss_fake: 0.6089 - discrim_loss_real: 0.7667 - misled_loss: 0.7836\n",
      "Epoch 24/50\n",
      "111/111 [==============================] - 3s 25ms/step - total_loss: 7.0905 - loss: 6.3139 - kl: 0.0226 - discrim_loss: 0.6867 - discrim_loss_fake: 0.6137 - discrim_loss_real: 0.7603 - misled_loss: 0.7779\n",
      "Epoch 25/50\n",
      "111/111 [==============================] - 3s 25ms/step - total_loss: 7.0715 - loss: 6.2188 - kl: 0.0200 - discrim_loss: 0.6861 - discrim_loss_fake: 0.6184 - discrim_loss_real: 0.7532 - misled_loss: 0.7726\n",
      "Epoch 26/50\n",
      "111/111 [==============================] - 3s 25ms/step - total_loss: 7.0455 - loss: 6.3641 - kl: 0.0211 - discrim_loss: 0.6857 - discrim_loss_fake: 0.6228 - discrim_loss_real: 0.7506 - misled_loss: 0.7676\n",
      "Epoch 27/50\n",
      "111/111 [==============================] - 3s 25ms/step - total_loss: 7.0225 - loss: 6.2536 - kl: 0.0244 - discrim_loss: 0.6853 - discrim_loss_fake: 0.6268 - discrim_loss_real: 0.7449 - misled_loss: 0.7632\n",
      "Epoch 28/50\n",
      "111/111 [==============================] - 3s 25ms/step - total_loss: 6.9727 - loss: 6.1739 - kl: 0.0225 - discrim_loss: 0.6849 - discrim_loss_fake: 0.6303 - discrim_loss_real: 0.7392 - misled_loss: 0.7593\n",
      "Epoch 29/50\n",
      "111/111 [==============================] - 3s 25ms/step - total_loss: 6.9309 - loss: 6.1737 - kl: 0.0203 - discrim_loss: 0.6845 - discrim_loss_fake: 0.6333 - discrim_loss_real: 0.7347 - misled_loss: 0.7559\n",
      "Epoch 30/50\n",
      "111/111 [==============================] - 3s 25ms/step - total_loss: 6.9206 - loss: 6.1853 - kl: 0.0235 - discrim_loss: 0.6840 - discrim_loss_fake: 0.6365 - discrim_loss_real: 0.7305 - misled_loss: 0.7528\n",
      "Epoch 31/50\n",
      "111/111 [==============================] - 3s 25ms/step - total_loss: 6.9019 - loss: 6.1172 - kl: 0.0222 - discrim_loss: 0.6835 - discrim_loss_fake: 0.6387 - discrim_loss_real: 0.7304 - misled_loss: 0.7504\n",
      "Epoch 32/50\n",
      "111/111 [==============================] - 3s 25ms/step - total_loss: 6.8744 - loss: 6.1005 - kl: 0.0211 - discrim_loss: 0.6831 - discrim_loss_fake: 0.6410 - discrim_loss_real: 0.7262 - misled_loss: 0.7479\n",
      "Epoch 33/50\n",
      "111/111 [==============================] - 3s 25ms/step - total_loss: 6.8277 - loss: 6.0406 - kl: 0.0202 - discrim_loss: 0.6827 - discrim_loss_fake: 0.6429 - discrim_loss_real: 0.7246 - misled_loss: 0.7458\n",
      "Epoch 34/50\n",
      "111/111 [==============================] - 3s 26ms/step - total_loss: 6.8309 - loss: 6.0052 - kl: 0.0232 - discrim_loss: 0.6822 - discrim_loss_fake: 0.6440 - discrim_loss_real: 0.7226 - misled_loss: 0.7439\n",
      "Epoch 35/50\n",
      "111/111 [==============================] - 3s 25ms/step - total_loss: 6.7836 - loss: 6.1047 - kl: 0.0208 - discrim_loss: 0.6818 - discrim_loss_fake: 0.6458 - discrim_loss_real: 0.7194 - misled_loss: 0.7427\n",
      "Epoch 36/50\n",
      "111/111 [==============================] - 3s 24ms/step - total_loss: 6.7753 - loss: 5.9992 - kl: 0.0161 - discrim_loss: 0.6812 - discrim_loss_fake: 0.6465 - discrim_loss_real: 0.7172 - misled_loss: 0.7416\n",
      "Epoch 37/50\n",
      "111/111 [==============================] - 3s 24ms/step - total_loss: 6.7665 - loss: 5.9963 - kl: 0.0170 - discrim_loss: 0.6809 - discrim_loss_fake: 0.6480 - discrim_loss_real: 0.7175 - misled_loss: 0.7401\n",
      "Epoch 38/50\n"
     ]
    },
    {
     "name": "stdout",
     "output_type": "stream",
     "text": [
      "111/111 [==============================] - 3s 24ms/step - total_loss: 6.7210 - loss: 6.0461 - kl: 0.0205 - discrim_loss: 0.6804 - discrim_loss_fake: 0.6483 - discrim_loss_real: 0.7119 - misled_loss: 0.7404\n",
      "Epoch 39/50\n",
      "111/111 [==============================] - 3s 24ms/step - total_loss: 6.7217 - loss: 5.9634 - kl: 0.0149 - discrim_loss: 0.6798 - discrim_loss_fake: 0.6487 - discrim_loss_real: 0.7074 - misled_loss: 0.7397\n",
      "Epoch 40/50\n",
      "111/111 [==============================] - 3s 24ms/step - total_loss: 6.7033 - loss: 6.0589 - kl: 0.0150 - discrim_loss: 0.6795 - discrim_loss_fake: 0.6496 - discrim_loss_real: 0.7076 - misled_loss: 0.7387\n",
      "Epoch 41/50\n",
      "111/111 [==============================] - 3s 24ms/step - total_loss: 6.6845 - loss: 5.9656 - kl: 0.0178 - discrim_loss: 0.6789 - discrim_loss_fake: 0.6495 - discrim_loss_real: 0.7062 - misled_loss: 0.7384\n",
      "Epoch 42/50\n",
      "111/111 [==============================] - 3s 24ms/step - total_loss: 6.6712 - loss: 5.9535 - kl: 0.0150 - discrim_loss: 0.6785 - discrim_loss_fake: 0.6507 - discrim_loss_real: 0.7102 - misled_loss: 0.7377\n",
      "Epoch 43/50\n",
      "111/111 [==============================] - 3s 24ms/step - total_loss: 6.6429 - loss: 5.9285 - kl: 0.0129 - discrim_loss: 0.6778 - discrim_loss_fake: 0.6505 - discrim_loss_real: 0.7055 - misled_loss: 0.7383\n",
      "Epoch 44/50\n",
      "111/111 [==============================] - 3s 24ms/step - total_loss: 6.6374 - loss: 5.9990 - kl: 0.0145 - discrim_loss: 0.6774 - discrim_loss_fake: 0.6509 - discrim_loss_real: 0.7073 - misled_loss: 0.7377\n",
      "Epoch 45/50\n",
      "111/111 [==============================] - 3s 24ms/step - total_loss: 6.6373 - loss: 5.9315 - kl: 0.0146 - discrim_loss: 0.6769 - discrim_loss_fake: 0.6507 - discrim_loss_real: 0.7055 - misled_loss: 0.7382\n",
      "Epoch 46/50\n",
      "111/111 [==============================] - 3s 24ms/step - total_loss: 6.6198 - loss: 5.8150 - kl: 0.0135 - discrim_loss: 0.6763 - discrim_loss_fake: 0.6497 - discrim_loss_real: 0.7051 - misled_loss: 0.7383\n",
      "Epoch 47/50\n",
      "111/111 [==============================] - 3s 24ms/step - total_loss: 6.6037 - loss: 5.9134 - kl: 0.0197 - discrim_loss: 0.6758 - discrim_loss_fake: 0.6500 - discrim_loss_real: 0.7031 - misled_loss: 0.7385\n",
      "Epoch 48/50\n",
      "111/111 [==============================] - 3s 24ms/step - total_loss: 6.6079 - loss: 5.9485 - kl: 0.0140 - discrim_loss: 0.6751 - discrim_loss_fake: 0.6493 - discrim_loss_real: 0.7032 - misled_loss: 0.7390\n",
      "Epoch 49/50\n",
      "111/111 [==============================] - 3s 24ms/step - total_loss: 6.5895 - loss: 5.8993 - kl: 0.0108 - discrim_loss: 0.6748 - discrim_loss_fake: 0.6500 - discrim_loss_real: 0.7025 - misled_loss: 0.7388\n",
      "Epoch 50/50\n",
      "111/111 [==============================] - 3s 24ms/step - total_loss: 6.5782 - loss: 5.8824 - kl: 0.0107 - discrim_loss: 0.6742 - discrim_loss_fake: 0.6486 - discrim_loss_real: 0.6964 - misled_loss: 0.7404\n"
     ]
    },
    {
     "data": {
      "text/plain": [
       "<tensorflow.python.keras.callbacks.History at 0x7f61b37e64f0>"
      ]
     },
     "execution_count": 415,
     "metadata": {},
     "output_type": "execute_result"
    }
   ],
   "source": [
    "checkpoint_filepath = 'vrnn_gan_cont_checkpoints/vrnngan_cont_best.epoch{epoch:02d}-loss{loss:.2f}'\n",
    "\n",
    "model_checkpoint_callback = tf.keras.callbacks.ModelCheckpoint(\n",
    "    filepath=checkpoint_filepath,\n",
    "    save_weights_only=True,\n",
    "    monitor='loss',\n",
    "    mode='min',\n",
    "    save_best_only=True)\n",
    "\n",
    "timesteps = X_train.shape[1]\n",
    "latent_dim = 16\n",
    "feature_space = X_train.shape[2]\n",
    "rvae = VRNNGRUGAN(feature_space, latent_dim, timesteps)\n",
    "rvae.compile(keras.optimizers.Adam(lr=0.0001), keras.optimizers.Adam(lr=0.0001))\n",
    "\n",
    "rvae.fit(X_train, Y_train, batch_size= 8, epochs=50, callbacks=[model_checkpoint_callback] )"
   ]
  },
  {
   "cell_type": "code",
   "execution_count": 412,
   "id": "a766b28b",
   "metadata": {},
   "outputs": [],
   "source": [
    "tf.keras.backend.clear_session()"
   ]
  },
  {
   "cell_type": "code",
   "execution_count": 267,
   "id": "da9990f8",
   "metadata": {},
   "outputs": [
    {
     "data": {
      "text/plain": [
       "(3311, 20, 1)"
      ]
     },
     "execution_count": 267,
     "metadata": {},
     "output_type": "execute_result"
    }
   ],
   "source": [
    "X_test.shape"
   ]
  },
  {
   "cell_type": "code",
   "execution_count": 269,
   "id": "8b3d25d0",
   "metadata": {},
   "outputs": [],
   "source": [
    "selected = np.arange(0,X_test.shape[0], 20)"
   ]
  },
  {
   "cell_type": "code",
   "execution_count": 270,
   "id": "df6a623e",
   "metadata": {},
   "outputs": [],
   "source": [
    "X_test_modified = X_test[selected]"
   ]
  },
  {
   "cell_type": "code",
   "execution_count": 276,
   "id": "cce3c63f",
   "metadata": {},
   "outputs": [
    {
     "data": {
      "text/plain": [
       "array([[ 5.10746258],\n",
       "       [ 7.26852438],\n",
       "       [ 2.54472536],\n",
       "       [ 4.88401014],\n",
       "       [ 7.34949516],\n",
       "       [ 6.15669924],\n",
       "       [ 2.85936121],\n",
       "       [ 3.97805222],\n",
       "       [ 8.71134027],\n",
       "       [ 5.01746472],\n",
       "       [ 8.29616782],\n",
       "       [ 5.44762497],\n",
       "       [10.04033841],\n",
       "       [ 7.0238583 ],\n",
       "       [ 6.27799484],\n",
       "       [10.67937633],\n",
       "       [ 6.9024317 ],\n",
       "       [10.78977031],\n",
       "       [ 9.16025037],\n",
       "       [ 6.33867175]])"
      ]
     },
     "execution_count": 276,
     "metadata": {},
     "output_type": "execute_result"
    }
   ],
   "source": [
    "X_test_modified[0]"
   ]
  },
  {
   "cell_type": "code",
   "execution_count": 408,
   "id": "bc4d5808",
   "metadata": {},
   "outputs": [],
   "source": [
    "outputs, z, q_mu, p_mu, q_logvar, p_logvar = rvae.predict(X_test)"
   ]
  },
  {
   "cell_type": "code",
   "execution_count": 409,
   "id": "cb4e0b8f",
   "metadata": {},
   "outputs": [
    {
     "data": {
      "text/plain": [
       "(-3.0, 18.0)"
      ]
     },
     "execution_count": 409,
     "metadata": {},
     "output_type": "execute_result"
    },
    {
     "data": {
      "image/png": "[encoded data removed]",
      "text/plain": [
       "<Figure size 432x288 with 1 Axes>"
      ]
     },
     "metadata": {
      "needs_background": "light"
     },
     "output_type": "display_data"
    }
   ],
   "source": [
    "plt.plot(outputs[:,-1,:])\n",
    "plt.ylim([-3, 18])"
   ]
  },
  {
   "cell_type": "code",
   "execution_count": 410,
   "id": "bb1308a9",
   "metadata": {},
   "outputs": [
    {
     "data": {
      "text/plain": [
       "[<matplotlib.lines.Line2D at 0x7f61b299b7f0>]"
      ]
     },
     "execution_count": 410,
     "metadata": {},
     "output_type": "execute_result"
    },
    {
     "data": {
      "image/png": "[encoded data removed]",
      "text/plain": [
       "<Figure size 432x288 with 1 Axes>"
      ]
     },
     "metadata": {
      "needs_background": "light"
     },
     "output_type": "display_data"
    }
   ],
   "source": [
    "kl_values = []\n",
    "\n",
    "for i in range(outputs.shape[0]):\n",
    "    kl_vals = []\n",
    "    for j in range(outputs.shape[1]):\n",
    "        kl_vals.append(np_kl_gauss(q_mu[i][j], p_mu[i][j], q_logvar[i][j], p_logvar[i][j]))\n",
    "    kl_values.append(kl_vals)\n",
    "\n",
    "kl_sums = [np.sum(kl) for kl in kl_values]\n",
    "kls = [kl[-1] for kl in kl_values]\n",
    "kl_non_sum = np.ndarray.flatten(np.asarray(kl_values))\n",
    "plt.plot(kl_sums)"
   ]
  },
  {
   "cell_type": "code",
   "execution_count": 405,
   "id": "be80e14c",
   "metadata": {},
   "outputs": [
    {
     "data": {
      "text/plain": [
       "[0, 454, 908, 1362, 1816, 2270, 2724, 3178, 3632]"
      ]
     },
     "execution_count": 405,
     "metadata": {},
     "output_type": "execute_result"
    }
   ],
   "source": [
    "test_cp"
   ]
  },
  {
   "cell_type": "code",
   "execution_count": 411,
   "id": "d6458941",
   "metadata": {},
   "outputs": [
    {
     "data": {
      "text/plain": [
       "0.20290082693099976"
      ]
     },
     "execution_count": 411,
     "metadata": {},
     "output_type": "execute_result"
    }
   ],
   "source": [
    "kl_sums[3000]"
   ]
  },
  {
   "cell_type": "code",
   "execution_count": 312,
   "id": "bbeb0579",
   "metadata": {},
   "outputs": [
    {
     "data": {
      "text/plain": [
       "1.8288589119911194"
      ]
     },
     "execution_count": 312,
     "metadata": {},
     "output_type": "execute_result"
    }
   ],
   "source": [
    "kl_sums[270]"
   ]
  },
  {
   "cell_type": "code",
   "execution_count": 227,
   "id": "76d482e1",
   "metadata": {},
   "outputs": [
    {
     "data": {
      "text/plain": [
       "(-3.0, 18.0)"
      ]
     },
     "execution_count": 227,
     "metadata": {},
     "output_type": "execute_result"
    },
    {
     "data": {
      "image/png": "[encoded data removed]",
      "text/plain": [
       "<Figure size 432x288 with 1 Axes>"
      ]
     },
     "metadata": {
      "needs_background": "light"
     },
     "output_type": "display_data"
    }
   ],
   "source": [
    "plt.plot(Y_test[:,-1, :])\n",
    "\n",
    "plt.ylim([-3, 18])"
   ]
  },
  {
   "cell_type": "code",
   "execution_count": 386,
   "id": "68892a4c",
   "metadata": {},
   "outputs": [
    {
     "data": {
      "text/plain": [
       "[<matplotlib.lines.Line2D at 0x7f61c21fb0a0>]"
      ]
     },
     "execution_count": 386,
     "metadata": {},
     "output_type": "execute_result"
    },
    {
     "data": {
      "image/png": "[encoded data removed]",
      "text/plain": [
       "<Figure size 432x288 with 1 Axes>"
      ]
     },
     "metadata": {
      "needs_background": "light"
     },
     "output_type": "display_data"
    }
   ],
   "source": [
    "discrim_scores = rvae.discrminator_score(X_test)\n",
    "plt.plot(discrim_scores)"
   ]
  },
  {
   "cell_type": "code",
   "execution_count": 370,
   "id": "cc4978cb",
   "metadata": {},
   "outputs": [
    {
     "data": {
      "text/plain": [
       "<tf.Tensor: shape=(1,), dtype=float32, numpy=array([0.4838642], dtype=float32)>"
      ]
     },
     "execution_count": 370,
     "metadata": {},
     "output_type": "execute_result"
    }
   ],
   "source": [
    "discrim_scores[2603]"
   ]
  },
  {
   "cell_type": "markdown",
   "id": "d0d122b5",
   "metadata": {},
   "source": [
    "## LSTM BenchMark"
   ]
  },
  {
   "cell_type": "code",
   "execution_count": 640,
   "id": "30335af8",
   "metadata": {},
   "outputs": [
    {
     "name": "stderr",
     "output_type": "stream",
     "text": [
      "/mnt/c/Users/jchle/Work/Thesis/VAECJ/bash_venv/lib/python3.8/site-packages/tensorflow/python/keras/optimizer_v2/optimizer_v2.py:374: UserWarning: The `lr` argument is deprecated, use `learning_rate` instead.\n",
      "  warnings.warn(\n"
     ]
    },
    {
     "name": "stdout",
     "output_type": "stream",
     "text": [
      "Epoch 1/300\n",
      "123/123 [==============================] - 5s 5ms/step - loss: 14.0532\n",
      "Epoch 2/300\n",
      "123/123 [==============================] - 1s 4ms/step - loss: 9.0107\n",
      "Epoch 3/300\n",
      "123/123 [==============================] - 1s 4ms/step - loss: 8.5873\n",
      "Epoch 4/300\n",
      "123/123 [==============================] - 1s 4ms/step - loss: 8.3358\n",
      "Epoch 5/300\n",
      "123/123 [==============================] - 1s 4ms/step - loss: 8.1674\n",
      "Epoch 6/300\n",
      "123/123 [==============================] - 1s 4ms/step - loss: 8.0448\n",
      "Epoch 7/300\n",
      "123/123 [==============================] - 1s 4ms/step - loss: 7.9515\n",
      "Epoch 8/300\n",
      "123/123 [==============================] - 1s 4ms/step - loss: 7.8876\n",
      "Epoch 9/300\n",
      "123/123 [==============================] - 1s 4ms/step - loss: 7.8330\n",
      "Epoch 10/300\n",
      "123/123 [==============================] - 1s 4ms/step - loss: 7.7949\n",
      "Epoch 11/300\n",
      "123/123 [==============================] - 1s 4ms/step - loss: 7.7613\n",
      "Epoch 12/300\n",
      "123/123 [==============================] - 1s 4ms/step - loss: 7.7368\n",
      "Epoch 13/300\n",
      "123/123 [==============================] - 1s 4ms/step - loss: 7.7178\n",
      "Epoch 14/300\n",
      "123/123 [==============================] - 1s 4ms/step - loss: 7.6951\n",
      "Epoch 15/300\n",
      "123/123 [==============================] - 1s 4ms/step - loss: 7.6870\n",
      "Epoch 16/300\n",
      "123/123 [==============================] - 1s 4ms/step - loss: 7.6680\n",
      "Epoch 17/300\n",
      "123/123 [==============================] - 1s 4ms/step - loss: 7.6554\n",
      "Epoch 18/300\n",
      "123/123 [==============================] - 1s 4ms/step - loss: 7.6478\n",
      "Epoch 19/300\n",
      "123/123 [==============================] - 1s 4ms/step - loss: 7.6247\n",
      "Epoch 20/300\n",
      "123/123 [==============================] - 1s 4ms/step - loss: 7.6141\n",
      "Epoch 21/300\n",
      "123/123 [==============================] - 1s 4ms/step - loss: 7.6004\n",
      "Epoch 22/300\n",
      "123/123 [==============================] - 1s 4ms/step - loss: 7.5865\n",
      "Epoch 23/300\n",
      "123/123 [==============================] - 1s 4ms/step - loss: 7.5853\n",
      "Epoch 24/300\n",
      "123/123 [==============================] - 1s 4ms/step - loss: 7.5581\n",
      "Epoch 25/300\n",
      "123/123 [==============================] - 1s 4ms/step - loss: 7.5399\n",
      "Epoch 26/300\n",
      "123/123 [==============================] - 1s 4ms/step - loss: 7.5239\n",
      "Epoch 27/300\n",
      "123/123 [==============================] - 1s 4ms/step - loss: 7.5094\n",
      "Epoch 28/300\n",
      "123/123 [==============================] - 1s 4ms/step - loss: 7.4889\n",
      "Epoch 29/300\n",
      "123/123 [==============================] - 1s 4ms/step - loss: 7.4595\n",
      "Epoch 30/300\n",
      "123/123 [==============================] - 1s 4ms/step - loss: 7.4482\n",
      "Epoch 31/300\n",
      "123/123 [==============================] - 1s 4ms/step - loss: 7.4200\n",
      "Epoch 32/300\n",
      "123/123 [==============================] - 1s 4ms/step - loss: 7.3949\n",
      "Epoch 33/300\n",
      "123/123 [==============================] - 1s 4ms/step - loss: 7.3831\n",
      "Epoch 34/300\n",
      "123/123 [==============================] - 1s 4ms/step - loss: 7.3639\n",
      "Epoch 35/300\n",
      "123/123 [==============================] - 1s 4ms/step - loss: 7.3551\n",
      "Epoch 36/300\n",
      "123/123 [==============================] - 1s 4ms/step - loss: 7.3337\n",
      "Epoch 37/300\n",
      "123/123 [==============================] - 1s 4ms/step - loss: 7.3034\n",
      "Epoch 38/300\n",
      "123/123 [==============================] - 1s 4ms/step - loss: 7.2900\n",
      "Epoch 39/300\n",
      "123/123 [==============================] - 1s 4ms/step - loss: 7.2612\n",
      "Epoch 40/300\n",
      "123/123 [==============================] - 1s 4ms/step - loss: 7.2457\n",
      "Epoch 41/300\n",
      "123/123 [==============================] - 1s 4ms/step - loss: 7.2262\n",
      "Epoch 42/300\n",
      "123/123 [==============================] - 1s 4ms/step - loss: 7.2042\n",
      "Epoch 43/300\n",
      "123/123 [==============================] - 1s 4ms/step - loss: 7.1743\n",
      "Epoch 44/300\n",
      "123/123 [==============================] - 1s 4ms/step - loss: 7.1474\n",
      "Epoch 45/300\n",
      "123/123 [==============================] - 1s 4ms/step - loss: 7.1180\n",
      "Epoch 46/300\n",
      "123/123 [==============================] - 1s 4ms/step - loss: 7.0854\n",
      "Epoch 47/300\n",
      "123/123 [==============================] - 1s 4ms/step - loss: 7.0495\n",
      "Epoch 48/300\n",
      "123/123 [==============================] - 1s 4ms/step - loss: 7.0200\n",
      "Epoch 49/300\n",
      "123/123 [==============================] - 1s 4ms/step - loss: 6.9799\n",
      "Epoch 50/300\n",
      "123/123 [==============================] - 1s 4ms/step - loss: 6.9472\n",
      "Epoch 51/300\n",
      "123/123 [==============================] - 1s 4ms/step - loss: 6.9095\n",
      "Epoch 52/300\n",
      "123/123 [==============================] - 1s 4ms/step - loss: 6.8695\n",
      "Epoch 53/300\n",
      "123/123 [==============================] - 1s 4ms/step - loss: 6.8347\n",
      "Epoch 54/300\n",
      "123/123 [==============================] - 1s 4ms/step - loss: 6.7820\n",
      "Epoch 55/300\n",
      "123/123 [==============================] - 1s 4ms/step - loss: 6.7386\n",
      "Epoch 56/300\n",
      "123/123 [==============================] - 1s 4ms/step - loss: 6.6988\n",
      "Epoch 57/300\n",
      "123/123 [==============================] - 1s 4ms/step - loss: 6.6536\n",
      "Epoch 58/300\n",
      "123/123 [==============================] - 1s 4ms/step - loss: 6.6188\n",
      "Epoch 59/300\n",
      "123/123 [==============================] - 1s 4ms/step - loss: 6.5598\n",
      "Epoch 60/300\n",
      "123/123 [==============================] - 1s 4ms/step - loss: 6.5030\n",
      "Epoch 61/300\n",
      "123/123 [==============================] - 1s 4ms/step - loss: 6.4577\n",
      "Epoch 62/300\n",
      "123/123 [==============================] - 1s 4ms/step - loss: 6.4183\n",
      "Epoch 63/300\n",
      "123/123 [==============================] - 1s 4ms/step - loss: 6.3514\n",
      "Epoch 64/300\n",
      "123/123 [==============================] - 1s 4ms/step - loss: 6.3154\n",
      "Epoch 65/300\n",
      "123/123 [==============================] - 1s 4ms/step - loss: 6.2585\n",
      "Epoch 66/300\n",
      "123/123 [==============================] - 1s 4ms/step - loss: 6.2022\n",
      "Epoch 67/300\n",
      "123/123 [==============================] - 1s 4ms/step - loss: 6.1411\n",
      "Epoch 68/300\n",
      "123/123 [==============================] - 1s 4ms/step - loss: 6.0881\n",
      "Epoch 69/300\n",
      "123/123 [==============================] - 1s 4ms/step - loss: 6.0333\n",
      "Epoch 70/300\n",
      "123/123 [==============================] - 1s 4ms/step - loss: 5.9841\n",
      "Epoch 71/300\n",
      "123/123 [==============================] - 1s 4ms/step - loss: 5.9150\n",
      "Epoch 72/300\n",
      "123/123 [==============================] - 1s 4ms/step - loss: 5.8772\n",
      "Epoch 73/300\n",
      "123/123 [==============================] - 1s 4ms/step - loss: 5.8197\n",
      "Epoch 74/300\n",
      "123/123 [==============================] - 1s 4ms/step - loss: 5.7625\n",
      "Epoch 75/300\n",
      "123/123 [==============================] - 1s 5ms/step - loss: 5.6810\n",
      "Epoch 76/300\n",
      "123/123 [==============================] - 1s 4ms/step - loss: 5.6292\n",
      "Epoch 77/300\n",
      "123/123 [==============================] - 1s 4ms/step - loss: 5.5733\n",
      "Epoch 78/300\n",
      "123/123 [==============================] - 1s 4ms/step - loss: 5.5131\n",
      "Epoch 79/300\n",
      "123/123 [==============================] - 1s 5ms/step - loss: 5.4392\n",
      "Epoch 80/300\n",
      "123/123 [==============================] - 1s 5ms/step - loss: 5.3965\n",
      "Epoch 81/300\n",
      "123/123 [==============================] - 1s 4ms/step - loss: 5.3257\n",
      "Epoch 82/300\n",
      "123/123 [==============================] - 1s 4ms/step - loss: 5.3120\n",
      "Epoch 83/300\n",
      "123/123 [==============================] - 1s 4ms/step - loss: 5.2381\n",
      "Epoch 84/300\n",
      "123/123 [==============================] - 1s 4ms/step - loss: 5.1514\n",
      "Epoch 85/300\n",
      "123/123 [==============================] - 1s 4ms/step - loss: 5.1069\n",
      "Epoch 86/300\n",
      "123/123 [==============================] - 1s 4ms/step - loss: 5.0490\n",
      "Epoch 87/300\n",
      "123/123 [==============================] - 1s 4ms/step - loss: 5.0100\n",
      "Epoch 88/300\n",
      "123/123 [==============================] - 1s 4ms/step - loss: 4.9458\n",
      "Epoch 89/300\n",
      "123/123 [==============================] - 1s 4ms/step - loss: 4.9039\n",
      "Epoch 90/300\n",
      "123/123 [==============================] - 1s 5ms/step - loss: 4.8555\n",
      "Epoch 91/300\n",
      "123/123 [==============================] - 1s 5ms/step - loss: 4.8231\n",
      "Epoch 92/300\n",
      "123/123 [==============================] - 1s 4ms/step - loss: 4.7541\n",
      "Epoch 93/300\n",
      "123/123 [==============================] - 1s 4ms/step - loss: 4.7370\n",
      "Epoch 94/300\n",
      "123/123 [==============================] - 1s 4ms/step - loss: 4.6607\n",
      "Epoch 95/300\n",
      "123/123 [==============================] - 1s 5ms/step - loss: 4.5985\n",
      "Epoch 96/300\n",
      "123/123 [==============================] - 1s 4ms/step - loss: 4.5673\n",
      "Epoch 97/300\n",
      "123/123 [==============================] - 1s 5ms/step - loss: 4.5171\n",
      "Epoch 98/300\n",
      "123/123 [==============================] - 1s 4ms/step - loss: 4.4761\n",
      "Epoch 99/300\n",
      "123/123 [==============================] - 1s 4ms/step - loss: 4.4364\n",
      "Epoch 100/300\n",
      "123/123 [==============================] - 1s 4ms/step - loss: 4.3771\n",
      "Epoch 101/300\n",
      "123/123 [==============================] - 1s 4ms/step - loss: 4.3365\n",
      "Epoch 102/300\n",
      "123/123 [==============================] - 1s 4ms/step - loss: 4.2948\n",
      "Epoch 103/300\n",
      "123/123 [==============================] - 1s 5ms/step - loss: 4.2565\n",
      "Epoch 104/300\n",
      "123/123 [==============================] - 1s 4ms/step - loss: 4.2118\n",
      "Epoch 105/300\n",
      "123/123 [==============================] - 1s 4ms/step - loss: 4.1831\n",
      "Epoch 106/300\n",
      "123/123 [==============================] - 1s 4ms/step - loss: 4.1364\n",
      "Epoch 107/300\n",
      "123/123 [==============================] - 1s 4ms/step - loss: 4.1010\n",
      "Epoch 108/300\n",
      "123/123 [==============================] - 1s 4ms/step - loss: 4.0632\n",
      "Epoch 109/300\n",
      "123/123 [==============================] - 1s 4ms/step - loss: 4.0221\n",
      "Epoch 110/300\n",
      "123/123 [==============================] - 1s 4ms/step - loss: 3.9825\n",
      "Epoch 111/300\n",
      "123/123 [==============================] - 1s 4ms/step - loss: 3.9614\n",
      "Epoch 112/300\n",
      "123/123 [==============================] - 1s 4ms/step - loss: 3.9197\n",
      "Epoch 113/300\n",
      "123/123 [==============================] - 1s 4ms/step - loss: 3.8968\n",
      "Epoch 114/300\n",
      "123/123 [==============================] - 1s 4ms/step - loss: 3.8544\n",
      "Epoch 115/300\n",
      "123/123 [==============================] - 1s 4ms/step - loss: 3.8066\n",
      "Epoch 116/300\n",
      "123/123 [==============================] - 1s 4ms/step - loss: 3.7888\n",
      "Epoch 117/300\n",
      "123/123 [==============================] - 1s 4ms/step - loss: 3.7513\n",
      "Epoch 118/300\n",
      "123/123 [==============================] - 1s 4ms/step - loss: 3.7387\n",
      "Epoch 119/300\n",
      "123/123 [==============================] - 1s 4ms/step - loss: 3.7012\n",
      "Epoch 120/300\n",
      "123/123 [==============================] - 1s 4ms/step - loss: 3.6617\n",
      "Epoch 121/300\n",
      "123/123 [==============================] - 1s 4ms/step - loss: 3.6395\n",
      "Epoch 122/300\n",
      "123/123 [==============================] - 1s 4ms/step - loss: 3.5967\n",
      "Epoch 123/300\n",
      "123/123 [==============================] - 1s 4ms/step - loss: 3.5808\n",
      "Epoch 124/300\n",
      "123/123 [==============================] - 1s 4ms/step - loss: 3.5590\n",
      "Epoch 125/300\n",
      "123/123 [==============================] - 1s 4ms/step - loss: 3.5366\n",
      "Epoch 126/300\n",
      "123/123 [==============================] - 1s 4ms/step - loss: 3.5145\n",
      "Epoch 127/300\n",
      "123/123 [==============================] - 1s 4ms/step - loss: 3.4788\n",
      "Epoch 128/300\n",
      "123/123 [==============================] - 1s 4ms/step - loss: 3.4444\n",
      "Epoch 129/300\n",
      "123/123 [==============================] - 1s 4ms/step - loss: 3.4263\n",
      "Epoch 130/300\n",
      "123/123 [==============================] - 1s 4ms/step - loss: 3.3953\n",
      "Epoch 131/300\n",
      "123/123 [==============================] - 1s 4ms/step - loss: 3.3814\n",
      "Epoch 132/300\n",
      "123/123 [==============================] - 1s 4ms/step - loss: 3.3675\n",
      "Epoch 133/300\n",
      "123/123 [==============================] - 1s 4ms/step - loss: 3.3364\n",
      "Epoch 134/300\n",
      "123/123 [==============================] - 1s 4ms/step - loss: 3.2948\n",
      "Epoch 135/300\n",
      "123/123 [==============================] - 1s 4ms/step - loss: 3.2961\n",
      "Epoch 136/300\n",
      "123/123 [==============================] - 1s 4ms/step - loss: 3.2743\n",
      "Epoch 137/300\n",
      "123/123 [==============================] - 1s 4ms/step - loss: 3.2423\n",
      "Epoch 138/300\n",
      "123/123 [==============================] - 1s 4ms/step - loss: 3.2404\n",
      "Epoch 139/300\n",
      "123/123 [==============================] - 1s 4ms/step - loss: 3.2042\n",
      "Epoch 140/300\n",
      "123/123 [==============================] - 1s 4ms/step - loss: 3.1684\n",
      "Epoch 141/300\n",
      "123/123 [==============================] - 1s 4ms/step - loss: 3.1698\n",
      "Epoch 142/300\n",
      "123/123 [==============================] - 1s 4ms/step - loss: 3.1422\n",
      "Epoch 143/300\n",
      "123/123 [==============================] - 1s 4ms/step - loss: 3.1413\n",
      "Epoch 144/300\n",
      "123/123 [==============================] - 1s 4ms/step - loss: 3.1004\n",
      "Epoch 145/300\n",
      "123/123 [==============================] - 1s 4ms/step - loss: 3.0979\n",
      "Epoch 146/300\n",
      "123/123 [==============================] - 1s 4ms/step - loss: 3.0837\n",
      "Epoch 147/300\n",
      "123/123 [==============================] - 1s 4ms/step - loss: 3.0417\n",
      "Epoch 148/300\n",
      "123/123 [==============================] - 1s 4ms/step - loss: 3.0477\n",
      "Epoch 149/300\n",
      "123/123 [==============================] - 1s 4ms/step - loss: 3.0158\n",
      "Epoch 150/300\n",
      "123/123 [==============================] - 1s 4ms/step - loss: 3.0048\n",
      "Epoch 151/300\n",
      "123/123 [==============================] - 1s 4ms/step - loss: 2.9843\n",
      "Epoch 152/300\n",
      "123/123 [==============================] - 1s 4ms/step - loss: 2.9715\n",
      "Epoch 153/300\n",
      "123/123 [==============================] - 1s 4ms/step - loss: 2.9749\n",
      "Epoch 154/300\n",
      "123/123 [==============================] - 1s 4ms/step - loss: 2.9387\n",
      "Epoch 155/300\n",
      "123/123 [==============================] - 1s 4ms/step - loss: 2.9145\n",
      "Epoch 156/300\n",
      "123/123 [==============================] - 1s 4ms/step - loss: 2.9092\n",
      "Epoch 157/300\n",
      "123/123 [==============================] - 1s 4ms/step - loss: 2.8862\n",
      "Epoch 158/300\n",
      "123/123 [==============================] - 1s 4ms/step - loss: 2.8736\n",
      "Epoch 159/300\n",
      "123/123 [==============================] - 1s 4ms/step - loss: 2.8698\n",
      "Epoch 160/300\n",
      "123/123 [==============================] - 1s 4ms/step - loss: 2.8461\n",
      "Epoch 161/300\n",
      "123/123 [==============================] - 1s 4ms/step - loss: 2.8472\n",
      "Epoch 162/300\n",
      "123/123 [==============================] - 1s 4ms/step - loss: 2.8244\n",
      "Epoch 163/300\n",
      "123/123 [==============================] - 1s 4ms/step - loss: 2.8215\n",
      "Epoch 164/300\n",
      "123/123 [==============================] - 1s 4ms/step - loss: 2.7877\n",
      "Epoch 165/300\n",
      "123/123 [==============================] - 1s 4ms/step - loss: 2.7847\n",
      "Epoch 166/300\n",
      "123/123 [==============================] - 1s 4ms/step - loss: 2.7657\n",
      "Epoch 167/300\n",
      "123/123 [==============================] - 1s 4ms/step - loss: 2.7631\n",
      "Epoch 168/300\n",
      "123/123 [==============================] - 1s 4ms/step - loss: 2.7692\n",
      "Epoch 169/300\n",
      "123/123 [==============================] - 1s 4ms/step - loss: 2.7329\n",
      "Epoch 170/300\n",
      "123/123 [==============================] - 1s 4ms/step - loss: 2.7405\n",
      "Epoch 171/300\n",
      "123/123 [==============================] - 1s 4ms/step - loss: 2.7043\n",
      "Epoch 172/300\n",
      "123/123 [==============================] - 1s 4ms/step - loss: 2.6997\n",
      "Epoch 173/300\n",
      "123/123 [==============================] - 1s 4ms/step - loss: 2.6855\n",
      "Epoch 174/300\n",
      "123/123 [==============================] - 1s 4ms/step - loss: 2.6775\n",
      "Epoch 175/300\n",
      "123/123 [==============================] - 1s 4ms/step - loss: 2.6660\n",
      "Epoch 176/300\n",
      "123/123 [==============================] - 1s 4ms/step - loss: 2.6471\n",
      "Epoch 177/300\n",
      "123/123 [==============================] - 1s 4ms/step - loss: 2.6430\n",
      "Epoch 178/300\n",
      "123/123 [==============================] - 1s 4ms/step - loss: 2.6311\n",
      "Epoch 179/300\n",
      "123/123 [==============================] - 1s 4ms/step - loss: 2.6245\n",
      "Epoch 180/300\n",
      "123/123 [==============================] - 1s 4ms/step - loss: 2.6092\n",
      "Epoch 181/300\n",
      "123/123 [==============================] - 1s 4ms/step - loss: 2.5965\n",
      "Epoch 182/300\n",
      "123/123 [==============================] - 1s 4ms/step - loss: 2.5781\n",
      "Epoch 183/300\n",
      "123/123 [==============================] - 1s 4ms/step - loss: 2.5736\n",
      "Epoch 184/300\n",
      "123/123 [==============================] - 1s 4ms/step - loss: 2.5520\n",
      "Epoch 185/300\n",
      "123/123 [==============================] - 1s 4ms/step - loss: 2.5671\n",
      "Epoch 186/300\n",
      "123/123 [==============================] - 1s 4ms/step - loss: 2.5521\n",
      "Epoch 187/300\n",
      "123/123 [==============================] - 1s 4ms/step - loss: 2.5345\n",
      "Epoch 188/300\n",
      "123/123 [==============================] - 1s 4ms/step - loss: 2.5508\n",
      "Epoch 189/300\n",
      "123/123 [==============================] - 1s 5ms/step - loss: 2.5181\n",
      "Epoch 190/300\n",
      "123/123 [==============================] - 1s 4ms/step - loss: 2.5089\n",
      "Epoch 191/300\n",
      "123/123 [==============================] - 1s 4ms/step - loss: 2.4963\n",
      "Epoch 192/300\n",
      "123/123 [==============================] - 1s 4ms/step - loss: 2.4865\n",
      "Epoch 193/300\n",
      "123/123 [==============================] - 1s 4ms/step - loss: 2.4908\n",
      "Epoch 194/300\n",
      "123/123 [==============================] - 1s 4ms/step - loss: 2.4597\n",
      "Epoch 195/300\n",
      "123/123 [==============================] - 1s 4ms/step - loss: 2.4610\n",
      "Epoch 196/300\n"
     ]
    },
    {
     "name": "stdout",
     "output_type": "stream",
     "text": [
      "123/123 [==============================] - 1s 4ms/step - loss: 2.4633\n",
      "Epoch 197/300\n",
      "123/123 [==============================] - 1s 4ms/step - loss: 2.4294\n",
      "Epoch 198/300\n",
      "123/123 [==============================] - 1s 4ms/step - loss: 2.4327\n",
      "Epoch 199/300\n",
      "123/123 [==============================] - 1s 4ms/step - loss: 2.4259\n",
      "Epoch 200/300\n",
      "123/123 [==============================] - 1s 5ms/step - loss: 2.4106\n",
      "Epoch 201/300\n",
      "123/123 [==============================] - 1s 5ms/step - loss: 2.4099\n",
      "Epoch 202/300\n",
      "123/123 [==============================] - 1s 5ms/step - loss: 2.4169\n",
      "Epoch 203/300\n",
      "123/123 [==============================] - 1s 5ms/step - loss: 2.3935\n",
      "Epoch 204/300\n",
      "123/123 [==============================] - 1s 5ms/step - loss: 2.3909\n",
      "Epoch 205/300\n",
      "123/123 [==============================] - 1s 5ms/step - loss: 2.3880\n",
      "Epoch 206/300\n",
      "123/123 [==============================] - 1s 4ms/step - loss: 2.3690\n",
      "Epoch 207/300\n",
      "123/123 [==============================] - 1s 4ms/step - loss: 2.3517\n",
      "Epoch 208/300\n",
      "123/123 [==============================] - 1s 4ms/step - loss: 2.3509\n",
      "Epoch 209/300\n",
      "123/123 [==============================] - 1s 4ms/step - loss: 2.3452\n",
      "Epoch 210/300\n",
      "123/123 [==============================] - 1s 4ms/step - loss: 2.3409\n",
      "Epoch 211/300\n",
      "123/123 [==============================] - 1s 4ms/step - loss: 2.3337\n",
      "Epoch 212/300\n",
      "123/123 [==============================] - 1s 4ms/step - loss: 2.3403\n",
      "Epoch 213/300\n",
      "123/123 [==============================] - 1s 4ms/step - loss: 2.3235\n",
      "Epoch 214/300\n",
      "123/123 [==============================] - 1s 4ms/step - loss: 2.3206\n",
      "Epoch 215/300\n",
      "123/123 [==============================] - 1s 5ms/step - loss: 2.3044\n",
      "Epoch 216/300\n",
      "123/123 [==============================] - 1s 4ms/step - loss: 2.2904\n",
      "Epoch 217/300\n",
      "123/123 [==============================] - 1s 4ms/step - loss: 2.2876\n",
      "Epoch 218/300\n",
      "123/123 [==============================] - 1s 5ms/step - loss: 2.2934\n",
      "Epoch 219/300\n",
      "123/123 [==============================] - 1s 5ms/step - loss: 2.2827\n",
      "Epoch 220/300\n",
      "123/123 [==============================] - 1s 4ms/step - loss: 2.2729\n",
      "Epoch 221/300\n",
      "123/123 [==============================] - 1s 4ms/step - loss: 2.2573\n",
      "Epoch 222/300\n",
      "123/123 [==============================] - 1s 4ms/step - loss: 2.2742\n",
      "Epoch 223/300\n",
      "123/123 [==============================] - 1s 5ms/step - loss: 2.2679\n",
      "Epoch 224/300\n",
      "123/123 [==============================] - 1s 5ms/step - loss: 2.2572\n",
      "Epoch 225/300\n",
      "123/123 [==============================] - 1s 4ms/step - loss: 2.2522\n",
      "Epoch 226/300\n",
      "123/123 [==============================] - 1s 4ms/step - loss: 2.2292\n",
      "Epoch 227/300\n",
      "123/123 [==============================] - 1s 4ms/step - loss: 2.2261\n",
      "Epoch 228/300\n",
      "123/123 [==============================] - 1s 4ms/step - loss: 2.2288\n",
      "Epoch 229/300\n",
      "123/123 [==============================] - 1s 5ms/step - loss: 2.2263\n",
      "Epoch 230/300\n",
      "123/123 [==============================] - 1s 4ms/step - loss: 2.2191\n",
      "Epoch 231/300\n",
      "123/123 [==============================] - 1s 4ms/step - loss: 2.2124\n",
      "Epoch 232/300\n",
      "123/123 [==============================] - 1s 4ms/step - loss: 2.2001\n",
      "Epoch 233/300\n",
      "123/123 [==============================] - 1s 4ms/step - loss: 2.2010\n",
      "Epoch 234/300\n",
      "123/123 [==============================] - 1s 4ms/step - loss: 2.1920\n",
      "Epoch 235/300\n",
      "123/123 [==============================] - 1s 4ms/step - loss: 2.1844\n",
      "Epoch 236/300\n",
      "123/123 [==============================] - 1s 4ms/step - loss: 2.1830\n",
      "Epoch 237/300\n",
      "123/123 [==============================] - 1s 4ms/step - loss: 2.1797\n",
      "Epoch 238/300\n",
      "123/123 [==============================] - 1s 4ms/step - loss: 2.1739\n",
      "Epoch 239/300\n",
      "123/123 [==============================] - 1s 4ms/step - loss: 2.1703\n",
      "Epoch 240/300\n",
      "123/123 [==============================] - 1s 4ms/step - loss: 2.1619\n",
      "Epoch 241/300\n",
      "123/123 [==============================] - 1s 4ms/step - loss: 2.1546\n",
      "Epoch 242/300\n",
      "123/123 [==============================] - 1s 4ms/step - loss: 2.1578\n",
      "Epoch 243/300\n",
      "123/123 [==============================] - 1s 4ms/step - loss: 2.1483\n",
      "Epoch 244/300\n",
      "123/123 [==============================] - 1s 4ms/step - loss: 2.1529\n",
      "Epoch 245/300\n",
      "123/123 [==============================] - 1s 4ms/step - loss: 2.1301\n",
      "Epoch 246/300\n",
      "123/123 [==============================] - 1s 4ms/step - loss: 2.1356\n",
      "Epoch 247/300\n",
      "123/123 [==============================] - 1s 4ms/step - loss: 2.1309\n",
      "Epoch 248/300\n",
      "123/123 [==============================] - 1s 4ms/step - loss: 2.1342\n",
      "Epoch 249/300\n",
      "123/123 [==============================] - 1s 5ms/step - loss: 2.1257\n",
      "Epoch 250/300\n",
      "123/123 [==============================] - 1s 4ms/step - loss: 2.1201\n",
      "Epoch 251/300\n",
      "123/123 [==============================] - 1s 4ms/step - loss: 2.1189\n",
      "Epoch 252/300\n",
      "123/123 [==============================] - 1s 4ms/step - loss: 2.1062\n",
      "Epoch 253/300\n",
      "123/123 [==============================] - 1s 4ms/step - loss: 2.0990\n",
      "Epoch 254/300\n",
      "123/123 [==============================] - 1s 4ms/step - loss: 2.0961\n",
      "Epoch 255/300\n",
      "123/123 [==============================] - 1s 4ms/step - loss: 2.0986\n",
      "Epoch 256/300\n",
      "123/123 [==============================] - 1s 4ms/step - loss: 2.0955\n",
      "Epoch 257/300\n",
      "123/123 [==============================] - 1s 4ms/step - loss: 2.0827\n",
      "Epoch 258/300\n",
      "123/123 [==============================] - 1s 4ms/step - loss: 2.0826\n",
      "Epoch 259/300\n",
      "123/123 [==============================] - 1s 4ms/step - loss: 2.0827\n",
      "Epoch 260/300\n",
      "123/123 [==============================] - 1s 4ms/step - loss: 2.0792\n",
      "Epoch 261/300\n",
      "123/123 [==============================] - 1s 4ms/step - loss: 2.0899\n",
      "Epoch 262/300\n",
      "123/123 [==============================] - 1s 4ms/step - loss: 2.0645\n",
      "Epoch 263/300\n",
      "123/123 [==============================] - 1s 4ms/step - loss: 2.0664\n",
      "Epoch 264/300\n",
      "123/123 [==============================] - 1s 4ms/step - loss: 2.0665\n",
      "Epoch 265/300\n",
      "123/123 [==============================] - 1s 4ms/step - loss: 2.0644\n",
      "Epoch 266/300\n",
      "123/123 [==============================] - 1s 4ms/step - loss: 2.0650\n",
      "Epoch 267/300\n",
      "123/123 [==============================] - 1s 4ms/step - loss: 2.0441\n",
      "Epoch 268/300\n",
      "123/123 [==============================] - 1s 4ms/step - loss: 2.0453\n",
      "Epoch 269/300\n",
      "123/123 [==============================] - 1s 4ms/step - loss: 2.0373\n",
      "Epoch 270/300\n",
      "123/123 [==============================] - 1s 4ms/step - loss: 2.0451\n",
      "Epoch 271/300\n",
      "123/123 [==============================] - 1s 4ms/step - loss: 2.0413\n",
      "Epoch 272/300\n",
      "123/123 [==============================] - 1s 4ms/step - loss: 2.0220\n",
      "Epoch 273/300\n",
      "123/123 [==============================] - 1s 4ms/step - loss: 2.0260\n",
      "Epoch 274/300\n",
      "123/123 [==============================] - 1s 4ms/step - loss: 2.0260\n",
      "Epoch 275/300\n",
      "123/123 [==============================] - 1s 4ms/step - loss: 2.0270\n",
      "Epoch 276/300\n",
      "123/123 [==============================] - 1s 4ms/step - loss: 2.0142\n",
      "Epoch 277/300\n",
      "123/123 [==============================] - 1s 4ms/step - loss: 2.0126\n",
      "Epoch 278/300\n",
      "123/123 [==============================] - 1s 4ms/step - loss: 2.0112\n",
      "Epoch 279/300\n",
      "123/123 [==============================] - 1s 4ms/step - loss: 2.0070\n",
      "Epoch 280/300\n",
      "123/123 [==============================] - 1s 4ms/step - loss: 2.0062\n",
      "Epoch 281/300\n",
      "123/123 [==============================] - 1s 4ms/step - loss: 1.9971\n",
      "Epoch 282/300\n",
      "123/123 [==============================] - 1s 4ms/step - loss: 1.9895\n",
      "Epoch 283/300\n",
      "123/123 [==============================] - 1s 4ms/step - loss: 1.9932\n",
      "Epoch 284/300\n",
      "123/123 [==============================] - 1s 4ms/step - loss: 1.9908\n",
      "Epoch 285/300\n",
      "123/123 [==============================] - 1s 4ms/step - loss: 1.9821\n",
      "Epoch 286/300\n",
      "123/123 [==============================] - 1s 4ms/step - loss: 1.9821\n",
      "Epoch 287/300\n",
      "123/123 [==============================] - 1s 4ms/step - loss: 1.9851\n",
      "Epoch 288/300\n",
      "123/123 [==============================] - 1s 4ms/step - loss: 1.9857\n",
      "Epoch 289/300\n",
      "123/123 [==============================] - 1s 4ms/step - loss: 1.9707\n",
      "Epoch 290/300\n",
      "123/123 [==============================] - 1s 4ms/step - loss: 1.9678\n",
      "Epoch 291/300\n",
      "123/123 [==============================] - 1s 4ms/step - loss: 1.9668\n",
      "Epoch 292/300\n",
      "123/123 [==============================] - 1s 4ms/step - loss: 1.9562\n",
      "Epoch 293/300\n",
      "123/123 [==============================] - 1s 4ms/step - loss: 1.9584\n",
      "Epoch 294/300\n",
      "123/123 [==============================] - 1s 4ms/step - loss: 1.9590\n",
      "Epoch 295/300\n",
      "123/123 [==============================] - 1s 4ms/step - loss: 1.9652\n",
      "Epoch 296/300\n",
      "123/123 [==============================] - 1s 4ms/step - loss: 1.9622\n",
      "Epoch 297/300\n",
      "123/123 [==============================] - 1s 4ms/step - loss: 1.9469\n",
      "Epoch 298/300\n",
      "123/123 [==============================] - 1s 4ms/step - loss: 1.9546\n",
      "Epoch 299/300\n",
      "123/123 [==============================] - 1s 4ms/step - loss: 1.9435\n",
      "Epoch 300/300\n",
      "123/123 [==============================] - 1s 4ms/step - loss: 1.9430\n"
     ]
    },
    {
     "data": {
      "text/plain": [
       "<tensorflow.python.keras.callbacks.History at 0x7f80d929e0d0>"
      ]
     },
     "execution_count": 640,
     "metadata": {},
     "output_type": "execute_result"
    }
   ],
   "source": [
    "timesteps = X_train.shape[1]\n",
    "latent_dim = 50\n",
    "feature_space = X_train.shape[2]\n",
    "\n",
    "lstm_input = keras.layers.Input(shape=(timesteps, feature_space))\n",
    "lstm = keras.layers.LSTM(latent_dim, return_sequences=True)(lstm_input)\n",
    "output = keras.layers.TimeDistributed(keras.layers.Dense(feature_space))(lstm)\n",
    "\n",
    "lstm_model = keras.Model(lstm_input, output)\n",
    "lstm_model.compile(keras.optimizers.Adam(lr=0.001), loss='mean_squared_error')\n",
    "lstm_model.fit(X_train, Y_train, batch_size= 8, epochs=300)"
   ]
  },
  {
   "cell_type": "code",
   "execution_count": 452,
   "id": "0b2a1460",
   "metadata": {},
   "outputs": [],
   "source": [
    "lstm_preds = lstm_model.predict(X_test)"
   ]
  },
  {
   "cell_type": "code",
   "execution_count": 453,
   "id": "6a898841",
   "metadata": {},
   "outputs": [
    {
     "data": {
      "text/plain": [
       "(-3.0, 15.0)"
      ]
     },
     "execution_count": 453,
     "metadata": {},
     "output_type": "execute_result"
    },
    {
     "data": {
      "image/png": "[encoded data removed]",
      "text/plain": [
       "<Figure size 432x288 with 1 Axes>"
      ]
     },
     "metadata": {
      "needs_background": "light"
     },
     "output_type": "display_data"
    }
   ],
   "source": [
    "plt.plot(lstm_preds[:,-1,:])\n",
    "plt.ylim([-3, 15])"
   ]
  },
  {
   "cell_type": "code",
   "execution_count": null,
   "id": "bf0d6c78",
   "metadata": {},
   "outputs": [],
   "source": []
  }
 ],
 "metadata": {
  "kernelspec": {
   "display_name": "bash-venv",
   "language": "python",
   "name": "bash-venv"
  },
  "language_info": {
   "codemirror_mode": {
    "name": "ipython",
    "version": 3
   },
   "file_extension": ".py",
   "mimetype": "text/x-python",
   "name": "python",
   "nbconvert_exporter": "python",
   "pygments_lexer": "ipython3",
   "version": "3.8.5"
  }
 },
 "nbformat": 4,
 "nbformat_minor": 5
}
