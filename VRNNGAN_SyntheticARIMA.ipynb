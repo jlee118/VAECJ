{
 "cells": [
  {
   "cell_type": "code",
   "execution_count": 1,
   "id": "da293aa3",
   "metadata": {},
   "outputs": [],
   "source": [
    "import matplotlib.pyplot as plt\n",
    "import numpy as np"
   ]
  },
  {
   "cell_type": "code",
   "execution_count": 901,
   "id": "e80c316c",
   "metadata": {},
   "outputs": [],
   "source": [
    "import tensorflow as tf\n",
    "from tensorflow import keras\n",
    "keras.backend.clear_session()\n",
    "tf.compat.v1.reset_default_graph()\n",
    "del vrnn\n",
    "del model\n",
    "tf.random.set_seed(24)"
   ]
  },
  {
   "cell_type": "code",
   "execution_count": 4,
   "id": "2f36a237",
   "metadata": {},
   "outputs": [],
   "source": [
    "from statsmodels.tsa.arima_process import ArmaProcess\n",
    "import matplotlib.pyplot as plt\n",
    "import numpy as np\n",
    "\n",
    "arparams = np.array([1.0])\n",
    "maparams = np.array([1.0])\n",
    "ar = np.r_[1, -arparams] # add zero-lag and negate\n",
    "ma = np.r_[1, maparams]\n",
    "arma_process = ArmaProcess(ar, ma)\n",
    "sample = arma_process.generate_sample(nsample=1000)\n",
    "\n"
   ]
  },
  {
   "cell_type": "code",
   "execution_count": 295,
   "id": "9503bbfc",
   "metadata": {},
   "outputs": [],
   "source": [
    "import pickle as pkl\n",
    "\n",
    "with open('AR3_run1/training_data.pkl', 'wb') as f:\n",
    "    pkl.dump(sample,f)"
   ]
  },
  {
   "cell_type": "code",
   "execution_count": 5,
   "id": "6f48fb50",
   "metadata": {},
   "outputs": [],
   "source": [
    "from sklearn.preprocessing import MinMaxScaler\n",
    "\n",
    "mm = MinMaxScaler()\n",
    "m_sample = mm.fit_transform(np.reshape(sample, (-1,1)))\n",
    "m_sample = np.ndarray.flatten(m_sample)"
   ]
  },
  {
   "cell_type": "code",
   "execution_count": 6,
   "id": "d4c2b760",
   "metadata": {},
   "outputs": [
    {
     "data": {
      "text/plain": [
       "[<matplotlib.lines.Line2D at 0x7f2c2c8773d0>]"
      ]
     },
     "execution_count": 6,
     "metadata": {},
     "output_type": "execute_result"
    },
    {
     "data": {
      "image/png": "[encoded data removed]",
      "text/plain": [
       "<Figure size 432x288 with 1 Axes>"
      ]
     },
     "metadata": {
      "needs_background": "light"
     },
     "output_type": "display_data"
    }
   ],
   "source": [
    "plt.plot(m_sample)"
   ]
  },
  {
   "cell_type": "code",
   "execution_count": 849,
   "id": "2a3bb793",
   "metadata": {},
   "outputs": [],
   "source": [
    "window = 100\n",
    "train = np.asarray([m_sample[i:i+window] for i in range(len(sample) - window + 1)])[:,:,np.newaxis]"
   ]
  },
  {
   "cell_type": "code",
   "execution_count": 902,
   "id": "ae8e25e4",
   "metadata": {
    "scrolled": true
   },
   "outputs": [
    {
     "name": "stderr",
     "output_type": "stream",
     "text": [
      "/mnt/c/Users/jchle/Work/Thesis/VAECJ/bash_venv/lib/python3.8/site-packages/tensorflow/python/keras/optimizer_v2/optimizer_v2.py:374: UserWarning: The `lr` argument is deprecated, use `learning_rate` instead.\n",
      "  warnings.warn(\n"
     ]
    },
    {
     "name": "stdout",
     "output_type": "stream",
     "text": [
      "Epoch 1/10\n",
      "46/46 [==============================] - 9s 74ms/step - total_loss: -9.6026 - loss: -10.7225 - kl: 0.3192\n",
      "Epoch 2/10\n",
      "46/46 [==============================] - 3s 75ms/step - total_loss: -20.0328 - loss: -13.3878 - kl: 0.0216\n",
      "Epoch 3/10\n",
      "46/46 [==============================] - 3s 74ms/step - total_loss: -48.7665 - loss: -43.8939 - kl: 0.0467\n",
      "Epoch 4/10\n",
      "46/46 [==============================] - 4s 76ms/step - total_loss: -68.4455 - loss: -63.1901 - kl: 0.0046\n",
      "Epoch 5/10\n",
      "46/46 [==============================] - 3s 74ms/step - total_loss: -83.2582 - loss: -81.2421 - kl: 0.0031\n",
      "Epoch 6/10\n",
      "46/46 [==============================] - 3s 73ms/step - total_loss: -85.1908 - loss: -84.7710 - kl: 0.0069\n",
      "Epoch 7/10\n",
      "46/46 [==============================] - 4s 78ms/step - total_loss: -85.2165 - loss: -85.0002 - kl: 0.0020\n",
      "Epoch 8/10\n",
      "46/46 [==============================] - 4s 82ms/step - total_loss: -84.3707 - loss: -84.1746 - kl: 0.0044\n",
      "Epoch 9/10\n",
      "46/46 [==============================] - 4s 80ms/step - total_loss: -82.8793 - loss: -86.2908 - kl: 0.0359\n",
      "Epoch 10/10\n",
      "46/46 [==============================] - 4s 80ms/step - total_loss: -83.2992 - loss: -84.7503 - kl: 0.0011\n"
     ]
    },
    {
     "data": {
      "text/plain": [
       "<tensorflow.python.keras.callbacks.History at 0x7f2a61acdc70>"
      ]
     },
     "execution_count": 902,
     "metadata": {},
     "output_type": "execute_result"
    }
   ],
   "source": [
    "from vrnngan2 import VRNNGRU\n",
    "import os\n",
    "from tensorflow import keras\n",
    "keras.backend.clear_session()\n",
    "timesteps = train.shape[1]\n",
    "feature_space = train.shape[2]\n",
    "z_dim = 32\n",
    "hidden_dim = 64\n",
    "vrnn = VRNNGRU(feature_space, z_dim, hidden_dim, timesteps)\n",
    "vrnn.compile(keras.optimizers.Adam(lr=0.001))\n",
    "vrnn.fit(train, train, batch_size= 20, epochs=10)"
   ]
  },
  {
   "cell_type": "code",
   "execution_count": 904,
   "id": "044d9845",
   "metadata": {},
   "outputs": [],
   "source": [
    "from importlib import reload\n",
    "import vrnngan2\n",
    "vrnngan = reload(vrnngan2)"
   ]
  },
  {
   "cell_type": "code",
   "execution_count": null,
   "id": "ba876ed8",
   "metadata": {},
   "outputs": [
    {
     "name": "stdout",
     "output_type": "stream",
     "text": [
      "Epoch 1/200\n"
     ]
    }
   ],
   "source": [
    "from vrnngan2 import VRNNGRUGAN, lagCallback\n",
    "from tensorflow import keras\n",
    "import os\n",
    "\n",
    "timesteps = train.shape[1]\n",
    "feature_space = train.shape[2]\n",
    "z_dim = 32\n",
    "hidden_dim = 64\n",
    "model = VRNNGRUGAN(feature_space, z_dim, hidden_dim, timesteps, 20.0, vrnn)\n",
    "model.compile(keras.optimizers.Adam(lr=0.001), keras.optimizers.Adam(lr=0.0001))\n",
    "model.fit(train, train, batch_size= 20, epochs=200)"
   ]
  },
  {
   "cell_type": "code",
   "execution_count": 895,
   "id": "f53941c4",
   "metadata": {},
   "outputs": [
    {
     "name": "stdout",
     "output_type": "stream",
     "text": [
      "Epoch 1/200\n",
      "46/46 [==============================] - 5s 100ms/step - total_loss: -234.9000 - loss: -236.5990 - kl: 0.0026 - discrim_loss: 0.6359 - discrim_loss_fake: 0.3105 - discrim_loss_real: 0.3246\n",
      "Epoch 2/200\n",
      "46/46 [==============================] - 5s 100ms/step - total_loss: -240.5088 - loss: -242.5775 - kl: 0.0021 - discrim_loss: 0.6647 - discrim_loss_fake: 0.3356 - discrim_loss_real: 0.3270\n",
      "Epoch 3/200\n",
      "46/46 [==============================] - 5s 100ms/step - total_loss: -233.5245 - loss: -237.8491 - kl: 0.0021 - discrim_loss: 0.6359 - discrim_loss_fake: 0.3309 - discrim_loss_real: 0.3250\n",
      "Epoch 4/200\n",
      "46/46 [==============================] - 5s 101ms/step - total_loss: -234.1350 - loss: -235.0474 - kl: 0.0028 - discrim_loss: 0.6088 - discrim_loss_fake: 0.2924 - discrim_loss_real: 0.3115\n",
      "Epoch 5/200\n",
      "46/46 [==============================] - 5s 99ms/step - total_loss: -239.7569 - loss: -234.3389 - kl: 0.0021 - discrim_loss: 0.6305 - discrim_loss_fake: 0.2913 - discrim_loss_real: 0.3200\n",
      "Epoch 6/200\n",
      "46/46 [==============================] - 5s 101ms/step - total_loss: -238.2527 - loss: -236.0815 - kl: 0.0019 - discrim_loss: 0.6446 - discrim_loss_fake: 0.3291 - discrim_loss_real: 0.3322\n",
      "Epoch 7/200\n",
      "46/46 [==============================] - 5s 99ms/step - total_loss: -231.1992 - loss: -237.0969 - kl: 0.0023 - discrim_loss: 0.6455 - discrim_loss_fake: 0.3189 - discrim_loss_real: 0.3387\n",
      "Epoch 8/200\n",
      "46/46 [==============================] - 5s 101ms/step - total_loss: -227.9422 - loss: -236.9788 - kl: 0.0020 - discrim_loss: 0.6422 - discrim_loss_fake: 0.2994 - discrim_loss_real: 0.3694\n",
      "Epoch 9/200\n",
      "46/46 [==============================] - 5s 100ms/step - total_loss: -228.3118 - loss: -227.9868 - kl: 0.0024 - discrim_loss: 0.6635 - discrim_loss_fake: 0.3158 - discrim_loss_real: 0.3137\n",
      "Epoch 10/200\n",
      "46/46 [==============================] - 5s 101ms/step - total_loss: -231.7202 - loss: -230.8513 - kl: 0.0025 - discrim_loss: 0.6205 - discrim_loss_fake: 0.3164 - discrim_loss_real: 0.3005\n",
      "Epoch 11/200\n",
      "46/46 [==============================] - 5s 100ms/step - total_loss: -236.6932 - loss: -246.1095 - kl: 0.0020 - discrim_loss: 0.6109 - discrim_loss_fake: 0.2973 - discrim_loss_real: 0.3274\n",
      "Epoch 12/200\n",
      "46/46 [==============================] - 5s 102ms/step - total_loss: -231.8981 - loss: -237.6380 - kl: 0.0105 - discrim_loss: 0.6024 - discrim_loss_fake: 0.2896 - discrim_loss_real: 0.3262\n",
      "Epoch 13/200\n",
      "46/46 [==============================] - 5s 100ms/step - total_loss: -236.6320 - loss: -234.7274 - kl: 0.0048 - discrim_loss: 0.6123 - discrim_loss_fake: 0.2871 - discrim_loss_real: 0.3246\n",
      "Epoch 14/200\n",
      "46/46 [==============================] - 5s 101ms/step - total_loss: -234.2273 - loss: -239.4913 - kl: 0.0017 - discrim_loss: 0.6255 - discrim_loss_fake: 0.3152 - discrim_loss_real: 0.3263\n",
      "Epoch 15/200\n",
      "46/46 [==============================] - 5s 101ms/step - total_loss: -237.0453 - loss: -238.6731 - kl: 0.0015 - discrim_loss: 0.6504 - discrim_loss_fake: 0.3127 - discrim_loss_real: 0.3374\n",
      "Epoch 16/200\n",
      "46/46 [==============================] - 5s 102ms/step - total_loss: -183.0772 - loss: -183.4779 - kl: 0.0019 - discrim_loss: 0.6445 - discrim_loss_fake: 0.3297 - discrim_loss_real: 0.3244\n",
      "Epoch 17/200\n",
      "46/46 [==============================] - 5s 101ms/step - total_loss: -228.3600 - loss: -232.7537 - kl: 0.0022 - discrim_loss: 0.6282 - discrim_loss_fake: 0.2990 - discrim_loss_real: 0.3549\n",
      "Epoch 18/200\n",
      "46/46 [==============================] - 5s 102ms/step - total_loss: -235.1890 - loss: -235.8642 - kl: 0.0016 - discrim_loss: 0.6122 - discrim_loss_fake: 0.2995 - discrim_loss_real: 0.3114\n",
      "Epoch 19/200\n",
      "46/46 [==============================] - 5s 99ms/step - total_loss: -228.1697 - loss: -236.4632 - kl: 0.0020 - discrim_loss: 0.6236 - discrim_loss_fake: 0.3192 - discrim_loss_real: 0.3323\n",
      "Epoch 20/200\n",
      "46/46 [==============================] - 5s 100ms/step - total_loss: -227.0988 - loss: -226.8975 - kl: 0.0112 - discrim_loss: 0.5993 - discrim_loss_fake: 0.3011 - discrim_loss_real: 0.3002\n",
      "Epoch 21/200\n",
      "46/46 [==============================] - 5s 99ms/step - total_loss: -236.2962 - loss: -238.4150 - kl: 0.0089 - discrim_loss: 0.6063 - discrim_loss_fake: 0.2949 - discrim_loss_real: 0.3064\n",
      "Epoch 22/200\n",
      "46/46 [==============================] - 5s 99ms/step - total_loss: -234.6761 - loss: -242.0163 - kl: 0.0024 - discrim_loss: 0.5923 - discrim_loss_fake: 0.3086 - discrim_loss_real: 0.3118\n",
      "Epoch 23/200\n",
      "46/46 [==============================] - 4s 97ms/step - total_loss: -231.2458 - loss: -237.7491 - kl: 0.0016 - discrim_loss: 0.6136 - discrim_loss_fake: 0.2840 - discrim_loss_real: 0.3265\n",
      "Epoch 24/200\n",
      "46/46 [==============================] - 5s 100ms/step - total_loss: -230.0743 - loss: -231.4160 - kl: 0.0017 - discrim_loss: 0.6590 - discrim_loss_fake: 0.3166 - discrim_loss_real: 0.3296\n",
      "Epoch 25/200\n",
      "46/46 [==============================] - 5s 100ms/step - total_loss: -223.3962 - loss: -213.1547 - kl: 0.0026 - discrim_loss: 0.6427 - discrim_loss_fake: 0.3223 - discrim_loss_real: 0.3201\n",
      "Epoch 26/200\n",
      "46/46 [==============================] - 5s 99ms/step - total_loss: -230.0902 - loss: -236.5715 - kl: 0.0016 - discrim_loss: 0.6177 - discrim_loss_fake: 0.3112 - discrim_loss_real: 0.3216\n",
      "Epoch 27/200\n",
      "46/46 [==============================] - 5s 98ms/step - total_loss: -223.1543 - loss: -208.4292 - kl: 0.0019 - discrim_loss: 0.6167 - discrim_loss_fake: 0.2985 - discrim_loss_real: 0.3155\n",
      "Epoch 28/200\n",
      "46/46 [==============================] - 5s 100ms/step - total_loss: -236.1296 - loss: -237.9451 - kl: 0.0033 - discrim_loss: 0.6217 - discrim_loss_fake: 0.3002 - discrim_loss_real: 0.3243\n",
      "Epoch 29/200\n",
      "46/46 [==============================] - 5s 100ms/step - total_loss: -228.7234 - loss: -232.8055 - kl: 0.0196 - discrim_loss: 0.6010 - discrim_loss_fake: 0.2869 - discrim_loss_real: 0.3104\n",
      "Epoch 30/200\n",
      "46/46 [==============================] - 5s 103ms/step - total_loss: -234.6551 - loss: -223.0185 - kl: 0.0129 - discrim_loss: 0.6179 - discrim_loss_fake: 0.2978 - discrim_loss_real: 0.3044\n",
      "Epoch 31/200\n",
      "46/46 [==============================] - 5s 101ms/step - total_loss: -236.3614 - loss: -240.8817 - kl: 0.0086 - discrim_loss: 0.6117 - discrim_loss_fake: 0.3083 - discrim_loss_real: 0.3169\n",
      "Epoch 32/200\n",
      "46/46 [==============================] - 5s 99ms/step - total_loss: -239.0400 - loss: -242.5603 - kl: 0.0050 - discrim_loss: 0.6437 - discrim_loss_fake: 0.3167 - discrim_loss_real: 0.3390\n",
      "Epoch 33/200\n",
      "46/46 [==============================] - 5s 101ms/step - total_loss: -227.0494 - loss: -220.6328 - kl: 0.0126 - discrim_loss: 0.6085 - discrim_loss_fake: 0.2796 - discrim_loss_real: 0.3089\n",
      "Epoch 34/200\n",
      "46/46 [==============================] - 5s 101ms/step - total_loss: -235.7683 - loss: -234.8761 - kl: 0.0037 - discrim_loss: 0.6616 - discrim_loss_fake: 0.3038 - discrim_loss_real: 0.3494\n",
      "Epoch 35/200\n",
      "46/46 [==============================] - 5s 99ms/step - total_loss: -234.9543 - loss: -237.5447 - kl: 0.0029 - discrim_loss: 0.6546 - discrim_loss_fake: 0.3116 - discrim_loss_real: 0.3617\n",
      "Epoch 36/200\n",
      "46/46 [==============================] - 5s 100ms/step - total_loss: -235.4549 - loss: -236.2620 - kl: 0.0015 - discrim_loss: 0.6347 - discrim_loss_fake: 0.3191 - discrim_loss_real: 0.3287\n",
      "Epoch 37/200\n",
      "46/46 [==============================] - 5s 99ms/step - total_loss: -238.1859 - loss: -249.3729 - kl: 0.0013 - discrim_loss: 0.6366 - discrim_loss_fake: 0.3163 - discrim_loss_real: 0.3256\n",
      "Epoch 38/200\n",
      "46/46 [==============================] - 5s 100ms/step - total_loss: -236.5661 - loss: -236.6639 - kl: 0.0024 - discrim_loss: 0.6884 - discrim_loss_fake: 0.3036 - discrim_loss_real: 0.3570\n",
      "Epoch 39/200\n",
      "46/46 [==============================] - 5s 100ms/step - total_loss: -236.3177 - loss: -242.8017 - kl: 0.0207 - discrim_loss: 0.6384 - discrim_loss_fake: 0.3451 - discrim_loss_real: 0.2861\n",
      "Epoch 40/200\n",
      "46/46 [==============================] - 5s 99ms/step - total_loss: -236.5496 - loss: -239.6540 - kl: 0.0125 - discrim_loss: 0.6677 - discrim_loss_fake: 0.3114 - discrim_loss_real: 0.3463\n",
      "Epoch 41/200\n"
     ]
    },
    {
     "name": "stdout",
     "output_type": "stream",
     "text": [
      "46/46 [==============================] - 5s 99ms/step - total_loss: -239.6324 - loss: -238.4429 - kl: 0.0101 - discrim_loss: 0.6308 - discrim_loss_fake: 0.2942 - discrim_loss_real: 0.3327\n",
      "Epoch 42/200\n",
      "46/46 [==============================] - 5s 98ms/step - total_loss: -231.5077 - loss: -229.6277 - kl: 0.1178 - discrim_loss: 0.6151 - discrim_loss_fake: 0.3305 - discrim_loss_real: 0.2967\n",
      "Epoch 43/200\n",
      "46/46 [==============================] - 4s 97ms/step - total_loss: -234.1681 - loss: -239.3007 - kl: 0.0276 - discrim_loss: 0.6549 - discrim_loss_fake: 0.3063 - discrim_loss_real: 0.3252\n",
      "Epoch 44/200\n",
      "46/46 [==============================] - 5s 101ms/step - total_loss: -230.0576 - loss: -235.4134 - kl: 0.0021 - discrim_loss: 0.6315 - discrim_loss_fake: 0.3003 - discrim_loss_real: 0.3327\n",
      "Epoch 45/200\n",
      "46/46 [==============================] - 5s 102ms/step - total_loss: -207.3325 - loss: -226.2261 - kl: 0.0029 - discrim_loss: 0.5992 - discrim_loss_fake: 0.3175 - discrim_loss_real: 0.3057\n",
      "Epoch 46/200\n",
      "46/46 [==============================] - 5s 101ms/step - total_loss: -215.8257 - loss: -202.2582 - kl: 0.0029 - discrim_loss: 0.5908 - discrim_loss_fake: 0.3099 - discrim_loss_real: 0.2651\n",
      "Epoch 47/200\n",
      "46/46 [==============================] - 5s 101ms/step - total_loss: -228.1224 - loss: -236.7163 - kl: 0.0012 - discrim_loss: 0.6270 - discrim_loss_fake: 0.2853 - discrim_loss_real: 0.3187\n",
      "Epoch 48/200\n",
      "46/46 [==============================] - 5s 98ms/step - total_loss: -231.7752 - loss: -235.1421 - kl: 0.0044 - discrim_loss: 0.6350 - discrim_loss_fake: 0.3419 - discrim_loss_real: 0.3090\n",
      "Epoch 49/200\n",
      "46/46 [==============================] - 5s 100ms/step - total_loss: -228.1631 - loss: -236.8442 - kl: 0.2747 - discrim_loss: 0.5953 - discrim_loss_fake: 0.3226 - discrim_loss_real: 0.3089\n",
      "Epoch 50/200\n",
      "46/46 [==============================] - 5s 100ms/step - total_loss: -232.1313 - loss: -230.7950 - kl: 0.5095 - discrim_loss: 0.5996 - discrim_loss_fake: 0.3020 - discrim_loss_real: 0.2975\n",
      "Epoch 51/200\n",
      "46/46 [==============================] - 5s 98ms/step - total_loss: -223.5891 - loss: -231.3308 - kl: 1.1013 - discrim_loss: 0.6395 - discrim_loss_fake: 0.3086 - discrim_loss_real: 0.3310\n",
      "Epoch 52/200\n",
      "46/46 [==============================] - 5s 98ms/step - total_loss: -211.5995 - loss: -215.1370 - kl: 5.4106 - discrim_loss: 0.6025 - discrim_loss_fake: 0.2810 - discrim_loss_real: 0.3155\n",
      "Epoch 53/200\n",
      "46/46 [==============================] - 5s 99ms/step - total_loss: -234.5112 - loss: -238.7755 - kl: 0.3117 - discrim_loss: 0.6310 - discrim_loss_fake: 0.3191 - discrim_loss_real: 0.3200\n",
      "Epoch 54/200\n",
      "36/46 [======================>.......] - ETA: 1s - total_loss: -238.9838 - loss: -246.6650 - kl: 0.0261 - discrim_loss: 0.6316 - discrim_loss_fake: 0.3118 - discrim_loss_real: 0.3362"
     ]
    },
    {
     "ename": "KeyboardInterrupt",
     "evalue": "",
     "output_type": "error",
     "traceback": [
      "\u001b[0;31m---------------------------------------------------------------------------\u001b[0m",
      "\u001b[0;31mKeyboardInterrupt\u001b[0m                         Traceback (most recent call last)",
      "\u001b[0;32m<ipython-input-895-1462d5a2c92e>\u001b[0m in \u001b[0;36m<module>\u001b[0;34m\u001b[0m\n\u001b[0;32m----> 1\u001b[0;31m \u001b[0mmodel\u001b[0m\u001b[0;34m.\u001b[0m\u001b[0mfit\u001b[0m\u001b[0;34m(\u001b[0m\u001b[0mtrain\u001b[0m\u001b[0;34m,\u001b[0m \u001b[0mtrain\u001b[0m\u001b[0;34m,\u001b[0m \u001b[0mbatch_size\u001b[0m\u001b[0;34m=\u001b[0m \u001b[0;36m20\u001b[0m\u001b[0;34m,\u001b[0m \u001b[0mepochs\u001b[0m\u001b[0;34m=\u001b[0m\u001b[0;36m200\u001b[0m\u001b[0;34m)\u001b[0m\u001b[0;34m\u001b[0m\u001b[0;34m\u001b[0m\u001b[0m\n\u001b[0m",
      "\u001b[0;32m/mnt/c/Users/jchle/Work/Thesis/VAECJ/bash_venv/lib/python3.8/site-packages/tensorflow/python/keras/engine/training.py\u001b[0m in \u001b[0;36mfit\u001b[0;34m(self, x, y, batch_size, epochs, verbose, callbacks, validation_split, validation_data, shuffle, class_weight, sample_weight, initial_epoch, steps_per_epoch, validation_steps, validation_batch_size, validation_freq, max_queue_size, workers, use_multiprocessing)\u001b[0m\n\u001b[1;32m   1181\u001b[0m                 _r=1):\n\u001b[1;32m   1182\u001b[0m               \u001b[0mcallbacks\u001b[0m\u001b[0;34m.\u001b[0m\u001b[0mon_train_batch_begin\u001b[0m\u001b[0;34m(\u001b[0m\u001b[0mstep\u001b[0m\u001b[0;34m)\u001b[0m\u001b[0;34m\u001b[0m\u001b[0;34m\u001b[0m\u001b[0m\n\u001b[0;32m-> 1183\u001b[0;31m               \u001b[0mtmp_logs\u001b[0m \u001b[0;34m=\u001b[0m \u001b[0mself\u001b[0m\u001b[0;34m.\u001b[0m\u001b[0mtrain_function\u001b[0m\u001b[0;34m(\u001b[0m\u001b[0miterator\u001b[0m\u001b[0;34m)\u001b[0m\u001b[0;34m\u001b[0m\u001b[0;34m\u001b[0m\u001b[0m\n\u001b[0m\u001b[1;32m   1184\u001b[0m               \u001b[0;32mif\u001b[0m \u001b[0mdata_handler\u001b[0m\u001b[0;34m.\u001b[0m\u001b[0mshould_sync\u001b[0m\u001b[0;34m:\u001b[0m\u001b[0;34m\u001b[0m\u001b[0;34m\u001b[0m\u001b[0m\n\u001b[1;32m   1185\u001b[0m                 \u001b[0mcontext\u001b[0m\u001b[0;34m.\u001b[0m\u001b[0masync_wait\u001b[0m\u001b[0;34m(\u001b[0m\u001b[0;34m)\u001b[0m\u001b[0;34m\u001b[0m\u001b[0;34m\u001b[0m\u001b[0m\n",
      "\u001b[0;32m/mnt/c/Users/jchle/Work/Thesis/VAECJ/bash_venv/lib/python3.8/site-packages/tensorflow/python/eager/def_function.py\u001b[0m in \u001b[0;36m__call__\u001b[0;34m(self, *args, **kwds)\u001b[0m\n\u001b[1;32m    887\u001b[0m \u001b[0;34m\u001b[0m\u001b[0m\n\u001b[1;32m    888\u001b[0m       \u001b[0;32mwith\u001b[0m \u001b[0mOptionalXlaContext\u001b[0m\u001b[0;34m(\u001b[0m\u001b[0mself\u001b[0m\u001b[0;34m.\u001b[0m\u001b[0m_jit_compile\u001b[0m\u001b[0;34m)\u001b[0m\u001b[0;34m:\u001b[0m\u001b[0;34m\u001b[0m\u001b[0;34m\u001b[0m\u001b[0m\n\u001b[0;32m--> 889\u001b[0;31m         \u001b[0mresult\u001b[0m \u001b[0;34m=\u001b[0m \u001b[0mself\u001b[0m\u001b[0;34m.\u001b[0m\u001b[0m_call\u001b[0m\u001b[0;34m(\u001b[0m\u001b[0;34m*\u001b[0m\u001b[0margs\u001b[0m\u001b[0;34m,\u001b[0m \u001b[0;34m**\u001b[0m\u001b[0mkwds\u001b[0m\u001b[0;34m)\u001b[0m\u001b[0;34m\u001b[0m\u001b[0;34m\u001b[0m\u001b[0m\n\u001b[0m\u001b[1;32m    890\u001b[0m \u001b[0;34m\u001b[0m\u001b[0m\n\u001b[1;32m    891\u001b[0m       \u001b[0mnew_tracing_count\u001b[0m \u001b[0;34m=\u001b[0m \u001b[0mself\u001b[0m\u001b[0;34m.\u001b[0m\u001b[0mexperimental_get_tracing_count\u001b[0m\u001b[0;34m(\u001b[0m\u001b[0;34m)\u001b[0m\u001b[0;34m\u001b[0m\u001b[0;34m\u001b[0m\u001b[0m\n",
      "\u001b[0;32m/mnt/c/Users/jchle/Work/Thesis/VAECJ/bash_venv/lib/python3.8/site-packages/tensorflow/python/eager/def_function.py\u001b[0m in \u001b[0;36m_call\u001b[0;34m(self, *args, **kwds)\u001b[0m\n\u001b[1;32m    915\u001b[0m       \u001b[0;31m# In this case we have created variables on the first call, so we run the\u001b[0m\u001b[0;34m\u001b[0m\u001b[0;34m\u001b[0m\u001b[0;34m\u001b[0m\u001b[0m\n\u001b[1;32m    916\u001b[0m       \u001b[0;31m# defunned version which is guaranteed to never create variables.\u001b[0m\u001b[0;34m\u001b[0m\u001b[0;34m\u001b[0m\u001b[0;34m\u001b[0m\u001b[0m\n\u001b[0;32m--> 917\u001b[0;31m       \u001b[0;32mreturn\u001b[0m \u001b[0mself\u001b[0m\u001b[0;34m.\u001b[0m\u001b[0m_stateless_fn\u001b[0m\u001b[0;34m(\u001b[0m\u001b[0;34m*\u001b[0m\u001b[0margs\u001b[0m\u001b[0;34m,\u001b[0m \u001b[0;34m**\u001b[0m\u001b[0mkwds\u001b[0m\u001b[0;34m)\u001b[0m  \u001b[0;31m# pylint: disable=not-callable\u001b[0m\u001b[0;34m\u001b[0m\u001b[0;34m\u001b[0m\u001b[0m\n\u001b[0m\u001b[1;32m    918\u001b[0m     \u001b[0;32melif\u001b[0m \u001b[0mself\u001b[0m\u001b[0;34m.\u001b[0m\u001b[0m_stateful_fn\u001b[0m \u001b[0;32mis\u001b[0m \u001b[0;32mnot\u001b[0m \u001b[0;32mNone\u001b[0m\u001b[0;34m:\u001b[0m\u001b[0;34m\u001b[0m\u001b[0;34m\u001b[0m\u001b[0m\n\u001b[1;32m    919\u001b[0m       \u001b[0;31m# Release the lock early so that multiple threads can perform the call\u001b[0m\u001b[0;34m\u001b[0m\u001b[0;34m\u001b[0m\u001b[0;34m\u001b[0m\u001b[0m\n",
      "\u001b[0;32m/mnt/c/Users/jchle/Work/Thesis/VAECJ/bash_venv/lib/python3.8/site-packages/tensorflow/python/eager/function.py\u001b[0m in \u001b[0;36m__call__\u001b[0;34m(self, *args, **kwargs)\u001b[0m\n\u001b[1;32m   3021\u001b[0m       (graph_function,\n\u001b[1;32m   3022\u001b[0m        filtered_flat_args) = self._maybe_define_function(args, kwargs)\n\u001b[0;32m-> 3023\u001b[0;31m     return graph_function._call_flat(\n\u001b[0m\u001b[1;32m   3024\u001b[0m         filtered_flat_args, captured_inputs=graph_function.captured_inputs)  # pylint: disable=protected-access\n\u001b[1;32m   3025\u001b[0m \u001b[0;34m\u001b[0m\u001b[0m\n",
      "\u001b[0;32m/mnt/c/Users/jchle/Work/Thesis/VAECJ/bash_venv/lib/python3.8/site-packages/tensorflow/python/eager/function.py\u001b[0m in \u001b[0;36m_call_flat\u001b[0;34m(self, args, captured_inputs, cancellation_manager)\u001b[0m\n\u001b[1;32m   1958\u001b[0m         and executing_eagerly):\n\u001b[1;32m   1959\u001b[0m       \u001b[0;31m# No tape is watching; skip to running the function.\u001b[0m\u001b[0;34m\u001b[0m\u001b[0;34m\u001b[0m\u001b[0;34m\u001b[0m\u001b[0m\n\u001b[0;32m-> 1960\u001b[0;31m       return self._build_call_outputs(self._inference_function.call(\n\u001b[0m\u001b[1;32m   1961\u001b[0m           ctx, args, cancellation_manager=cancellation_manager))\n\u001b[1;32m   1962\u001b[0m     forward_backward = self._select_forward_and_backward_functions(\n",
      "\u001b[0;32m/mnt/c/Users/jchle/Work/Thesis/VAECJ/bash_venv/lib/python3.8/site-packages/tensorflow/python/eager/function.py\u001b[0m in \u001b[0;36mcall\u001b[0;34m(self, ctx, args, cancellation_manager)\u001b[0m\n\u001b[1;32m    589\u001b[0m       \u001b[0;32mwith\u001b[0m \u001b[0m_InterpolateFunctionError\u001b[0m\u001b[0;34m(\u001b[0m\u001b[0mself\u001b[0m\u001b[0;34m)\u001b[0m\u001b[0;34m:\u001b[0m\u001b[0;34m\u001b[0m\u001b[0;34m\u001b[0m\u001b[0m\n\u001b[1;32m    590\u001b[0m         \u001b[0;32mif\u001b[0m \u001b[0mcancellation_manager\u001b[0m \u001b[0;32mis\u001b[0m \u001b[0;32mNone\u001b[0m\u001b[0;34m:\u001b[0m\u001b[0;34m\u001b[0m\u001b[0;34m\u001b[0m\u001b[0m\n\u001b[0;32m--> 591\u001b[0;31m           outputs = execute.execute(\n\u001b[0m\u001b[1;32m    592\u001b[0m               \u001b[0mstr\u001b[0m\u001b[0;34m(\u001b[0m\u001b[0mself\u001b[0m\u001b[0;34m.\u001b[0m\u001b[0msignature\u001b[0m\u001b[0;34m.\u001b[0m\u001b[0mname\u001b[0m\u001b[0;34m)\u001b[0m\u001b[0;34m,\u001b[0m\u001b[0;34m\u001b[0m\u001b[0;34m\u001b[0m\u001b[0m\n\u001b[1;32m    593\u001b[0m               \u001b[0mnum_outputs\u001b[0m\u001b[0;34m=\u001b[0m\u001b[0mself\u001b[0m\u001b[0;34m.\u001b[0m\u001b[0m_num_outputs\u001b[0m\u001b[0;34m,\u001b[0m\u001b[0;34m\u001b[0m\u001b[0;34m\u001b[0m\u001b[0m\n",
      "\u001b[0;32m/mnt/c/Users/jchle/Work/Thesis/VAECJ/bash_venv/lib/python3.8/site-packages/tensorflow/python/eager/execute.py\u001b[0m in \u001b[0;36mquick_execute\u001b[0;34m(op_name, num_outputs, inputs, attrs, ctx, name)\u001b[0m\n\u001b[1;32m     57\u001b[0m   \u001b[0;32mtry\u001b[0m\u001b[0;34m:\u001b[0m\u001b[0;34m\u001b[0m\u001b[0;34m\u001b[0m\u001b[0m\n\u001b[1;32m     58\u001b[0m     \u001b[0mctx\u001b[0m\u001b[0;34m.\u001b[0m\u001b[0mensure_initialized\u001b[0m\u001b[0;34m(\u001b[0m\u001b[0;34m)\u001b[0m\u001b[0;34m\u001b[0m\u001b[0;34m\u001b[0m\u001b[0m\n\u001b[0;32m---> 59\u001b[0;31m     tensors = pywrap_tfe.TFE_Py_Execute(ctx._handle, device_name, op_name,\n\u001b[0m\u001b[1;32m     60\u001b[0m                                         inputs, attrs, num_outputs)\n\u001b[1;32m     61\u001b[0m   \u001b[0;32mexcept\u001b[0m \u001b[0mcore\u001b[0m\u001b[0;34m.\u001b[0m\u001b[0m_NotOkStatusException\u001b[0m \u001b[0;32mas\u001b[0m \u001b[0me\u001b[0m\u001b[0;34m:\u001b[0m\u001b[0;34m\u001b[0m\u001b[0;34m\u001b[0m\u001b[0m\n",
      "\u001b[0;31mKeyboardInterrupt\u001b[0m: "
     ]
    }
   ],
   "source": [
    "model.fit(train, train, batch_size= 20, epochs=200)"
   ]
  },
  {
   "cell_type": "code",
   "execution_count": 263,
   "id": "1e620b48",
   "metadata": {},
   "outputs": [],
   "source": [
    "vrnn.save_weights('AR3_run1/generator')"
   ]
  },
  {
   "cell_type": "code",
   "execution_count": 69,
   "id": "fdad6f25",
   "metadata": {},
   "outputs": [],
   "source": [
    "model.save_weights('AR3_run1/gan')"
   ]
  },
  {
   "cell_type": "code",
   "execution_count": 764,
   "id": "8b5cc021",
   "metadata": {},
   "outputs": [],
   "source": [
    "outputs, z, q_mu, p_mu, q_logvar, p_logvar, output_mean, output_logvar,_ = model.predict(train)"
   ]
  },
  {
   "cell_type": "code",
   "execution_count": 765,
   "id": "783c26f4",
   "metadata": {
    "scrolled": true
   },
   "outputs": [
    {
     "data": {
      "text/plain": [
       "[<matplotlib.lines.Line2D at 0x7f2a5b86bdf0>]"
      ]
     },
     "execution_count": 765,
     "metadata": {},
     "output_type": "execute_result"
    },
    {
     "data": {
      "image/png": "[encoded data removed]",
      "text/plain": [
       "<Figure size 432x288 with 1 Axes>"
      ]
     },
     "metadata": {
      "needs_background": "light"
     },
     "output_type": "display_data"
    }
   ],
   "source": [
    "plt.plot(outputs[:,-1,:])"
   ]
  },
  {
   "cell_type": "code",
   "execution_count": 766,
   "id": "4d86f1c2",
   "metadata": {},
   "outputs": [
    {
     "data": {
      "text/plain": [
       "[<matplotlib.lines.Line2D at 0x7f2a5b8376a0>]"
      ]
     },
     "execution_count": 766,
     "metadata": {},
     "output_type": "execute_result"
    },
    {
     "data": {
      "image/png": "[encoded data removed]",
      "text/plain": [
       "<Figure size 432x288 with 1 Axes>"
      ]
     },
     "metadata": {
      "needs_background": "light"
     },
     "output_type": "display_data"
    }
   ],
   "source": [
    "plt.plot(m_sample)"
   ]
  },
  {
   "cell_type": "code",
   "execution_count": 898,
   "id": "3a971941",
   "metadata": {},
   "outputs": [],
   "source": [
    "state = None\n",
    "results = []\n",
    "inp = np.reshape(m_sample[0], (1,1))\n",
    "\n",
    "for i in range(1000):\n",
    "    outputs, state = vrnn.vrnn_cell(inp, state, inference=False)\n",
    "    state=[state]\n",
    "    results.append(outputs[0].numpy())\n",
    "results = [x[0][0] for x in results]"
   ]
  },
  {
   "cell_type": "code",
   "execution_count": 899,
   "id": "32daf740",
   "metadata": {},
   "outputs": [
    {
     "data": {
      "text/plain": [
       "(-0.1, 1.0)"
      ]
     },
     "execution_count": 899,
     "metadata": {},
     "output_type": "execute_result"
    },
    {
     "data": {
      "image/png": "[encoded data removed]",
      "text/plain": [
       "<Figure size 432x288 with 1 Axes>"
      ]
     },
     "metadata": {
      "needs_background": "light"
     },
     "output_type": "display_data"
    }
   ],
   "source": [
    "plt.plot(results)\n",
    "plt.ylim([-0.1,1])"
   ]
  },
  {
   "cell_type": "code",
   "execution_count": 900,
   "id": "e557297d",
   "metadata": {},
   "outputs": [],
   "source": [
    "import statsmodels.api as sm\n",
    "from statsmodels.tsa.ar_model import AutoReg\n",
    "\n",
    "arma_est = sm.tsa.ARIMA(results, order=(1,0,1), trend='n').fit()"
   ]
  },
  {
   "cell_type": "code",
   "execution_count": 888,
   "id": "3dda8e22",
   "metadata": {},
   "outputs": [
    {
     "data": {
      "text/plain": [
       "array([ 0.99976887, -0.54457328,  0.00126307])"
      ]
     },
     "execution_count": 888,
     "metadata": {},
     "output_type": "execute_result"
    }
   ],
   "source": [
    "arma_est.params"
   ]
  },
  {
   "cell_type": "code",
   "execution_count": null,
   "id": "ab8d9b1d",
   "metadata": {},
   "outputs": [],
   "source": []
  }
 ],
 "metadata": {
  "kernelspec": {
   "display_name": "bash-venv",
   "language": "python",
   "name": "bash-venv"
  },
  "language_info": {
   "codemirror_mode": {
    "name": "ipython",
    "version": 3
   },
   "file_extension": ".py",
   "mimetype": "text/x-python",
   "name": "python",
   "nbconvert_exporter": "python",
   "pygments_lexer": "ipython3",
   "version": "3.8.5"
  }
 },
 "nbformat": 4,
 "nbformat_minor": 5
}
