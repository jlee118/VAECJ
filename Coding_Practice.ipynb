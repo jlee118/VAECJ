{
 "cells": [
  {
   "cell_type": "code",
   "execution_count": 15,
   "metadata": {},
   "outputs": [],
   "source": [
    "def counting_sort(array):\n",
    "    m = max(array)\n",
    "    count = [0] * (m+1)\n",
    "    for i in array:\n",
    "        count[i] += 1\n",
    "    output = []\n",
    "    for i in range(len(count)):\n",
    "        output.extend([i] * count[i])\n",
    "    return output"
   ]
  },
  {
   "cell_type": "code",
   "execution_count": 25,
   "metadata": {},
   "outputs": [],
   "source": [
    "def median_counting_sort(array):\n",
    "    m = max(array)\n",
    "    count_arr = [0] * (m+1)\n",
    "    for i in array:\n",
    "        count_arr[i] += 1\n",
    "    \n",
    "    if len(array) % 2 == 0:\n",
    "        median_ind = len(array) / 2 - 1\n",
    "    else:\n",
    "        median_ind = len(array) // 2 \n",
    "    \n",
    "    i = 0\n",
    "    count_sum = 0\n",
    "    while count_sum < median_ind:\n",
    "        count_sum += count_arr[i]\n",
    "        i += 1\n",
    "    \n",
    "        \n",
    "    return i\n",
    "        "
   ]
  },
  {
   "cell_type": "code",
   "execution_count": 30,
   "metadata": {},
   "outputs": [],
   "source": [
    "a = [10,2,1,0]"
   ]
  },
  {
   "cell_type": "code",
   "execution_count": 31,
   "metadata": {},
   "outputs": [
    {
     "data": {
      "text/plain": [
       "1"
      ]
     },
     "execution_count": 31,
     "metadata": {},
     "output_type": "execute_result"
    }
   ],
   "source": [
    "median_counting_sort(a)"
   ]
  },
  {
   "cell_type": "code",
   "execution_count": null,
   "metadata": {},
   "outputs": [],
   "source": [
    "# Hackerrank Fraudulent Activity Notifications\n",
    "\n",
    "def activityNotifications(expenditure, d):\n",
    "    for i in range(d, len(expenditure)):\n",
    "        "
   ]
  },
  {
   "cell_type": "code",
   "execution_count": 13,
   "metadata": {},
   "outputs": [],
   "source": [
    "# Check for unique characters in string\n",
    "# Don't use advanced data structures\n",
    "# O(n) time\n",
    "\n",
    "def check_unique(string):\n",
    "    counts = {}\n",
    "    for s in string:\n",
    "        count = counts.get(s,0)\n",
    "        count = count + 1\n",
    "        counts[s] = count\n",
    "        if count > 1:\n",
    "            print(\"not unique\")\n",
    "            return\n",
    "    print ('unique')\n",
    "    return counts"
   ]
  },
  {
   "cell_type": "code",
   "execution_count": 27,
   "metadata": {},
   "outputs": [],
   "source": [
    "# Check for permutations in string\n",
    "# O(n) , where n  = max(len(string1), len(string2))\n",
    "def check_permutation(string1, string2):\n",
    "    if len(string1) != len(string2):\n",
    "        print('not permutations')\n",
    "        return\n",
    "    string1_counts = {}\n",
    "    string2_counts = {}\n",
    "    \n",
    "    for i in range(len(string1)):\n",
    "        s1_char = string1[i]\n",
    "        s2_char = string2[i]\n",
    "        \n",
    "        string1_counts[s1_char] = string1_counts.get(s1_char, 0) + 1\n",
    "        string2_counts[s2_char] = string2_counts.get(s2_char, 0) + 1\n",
    "    \n",
    "    for k in string1_counts.keys():\n",
    "        count1 = string1_counts.get(k, 0)\n",
    "        count2 = string2_counts.get(k, 0)\n",
    "        if count1 != count2:\n",
    "            print(\"not permutation\")\n",
    "            return\n",
    "    print(\"is permutation\")\n",
    "    return "
   ]
  },
  {
   "cell_type": "code",
   "execution_count": 30,
   "metadata": {},
   "outputs": [
    {
     "name": "stdout",
     "output_type": "stream",
     "text": [
      "is permutation\n"
     ]
    }
   ],
   "source": [
    "check_permutation(\"trss\", \"srts\")"
   ]
  },
  {
   "cell_type": "code",
   "execution_count": null,
   "metadata": {},
   "outputs": [],
   "source": [
    "def check_single_change(s1, s2):\n",
    "    lens1 = len(s1)\n",
    "    lens2 = len(s2)\n",
    "    if lens1 == lens2:\n",
    "        replace = False\n",
    "        for i in range(len(s1)):\n",
    "            if s1[i] != s2[i]:\n",
    "                if replace:\n",
    "                    replace = False\n",
    "                else:\n",
    "                    replace = True\n",
    "        return replace\n",
    "    if lens1 < lens2:\n",
    "        \n",
    "                \n",
    "            \n",
    "    "
   ]
  },
  {
   "cell_type": "code",
   "execution_count": 5,
   "metadata": {},
   "outputs": [
    {
     "data": {
      "text/plain": [
       "True"
      ]
     },
     "execution_count": 5,
     "metadata": {},
     "output_type": "execute_result"
    }
   ],
   "source": [
    "(True or False)"
   ]
  },
  {
   "cell_type": "code",
   "execution_count": 58,
   "metadata": {},
   "outputs": [],
   "source": [
    "# Implementing BST\n",
    "\n",
    "class Node():\n",
    "    def __init__(self, value):\n",
    "        self.value = value\n",
    "        self.right = None\n",
    "        self.left = None        \n",
    "    \n",
    "class BST():\n",
    "    def __init__(self):\n",
    "        self.root = None\n",
    "        self.tree_size = 0\n",
    "        return\n",
    "    \n",
    "    def insert_list(self, values):\n",
    "        for v in values:\n",
    "            self.insert(v)\n",
    "        return\n",
    "        \n",
    "    def insert(self, value):\n",
    "        if self.root == None:\n",
    "            self.root = Node(value)\n",
    "        else:\n",
    "            self._insert(value, self.root)\n",
    "        return\n",
    "    \n",
    "    def _insert(self, value, node):\n",
    "        if value < node.value:\n",
    "            if node.left == None:\n",
    "                node.left = Node(value)\n",
    "            else:\n",
    "                self._insert(value, node.left)\n",
    "        else:\n",
    "            if node.right==None:\n",
    "                node.right = Node(value)\n",
    "                return\n",
    "            else:\n",
    "                self._insert(value, node.right)\n",
    "        return\n",
    "    \n",
    "    def print_tree(self):\n",
    "        self._print_tree(self.root)\n",
    "        return\n",
    "   \n",
    "    def _print_tree(self, node):\n",
    "        if node.left:\n",
    "            self._print_tree(node.left)\n",
    "        print(node.value)\n",
    "        if node.right:\n",
    "            self._print_tree(node.right)\n",
    "        return\n",
    "    \n",
    "    def search(self, value):\n",
    "        self._search(value, self.root)\n",
    "        return\n",
    "\n",
    "    def _search(self, value, node):\n",
    "        if value == node.value:\n",
    "            print(\"found\")\n",
    "            return\n",
    "        if value < node.value:\n",
    "            self._search(value, node.left)\n",
    "        else:\n",
    "            self._search(value, node.right)\n",
    "        return\n",
    "    \n",
    "    def sort(self):\n",
    "        array = self._sort(self.root)\n",
    "        return array\n",
    "    \n",
    "    def _sort(self, node):\n",
    "        array = []\n",
    "        if node.left:\n",
    "            array.extend(self._sort(node.left))\n",
    "        array.extend([node.value])\n",
    "        if node.right:\n",
    "            array.extend(self._sort(node.right))\n",
    "        return array\n",
    "            \n",
    "        \n",
    "                             "
   ]
  },
  {
   "cell_type": "code",
   "execution_count": 61,
   "metadata": {},
   "outputs": [],
   "source": [
    "bst = BST()\n",
    "bst.insert_list([5,1,1, 3,7])"
   ]
  },
  {
   "cell_type": "code",
   "execution_count": 62,
   "metadata": {},
   "outputs": [
    {
     "data": {
      "text/plain": [
       "[1, 1, 3, 5, 7]"
      ]
     },
     "execution_count": 62,
     "metadata": {},
     "output_type": "execute_result"
    }
   ],
   "source": [
    "bst.sort()"
   ]
  },
  {
   "cell_type": "code",
   "execution_count": 51,
   "metadata": {},
   "outputs": [
    {
     "name": "stdout",
     "output_type": "stream",
     "text": [
      "found\n"
     ]
    }
   ],
   "source": [
    "bst.search(7)"
   ]
  },
  {
   "cell_type": "code",
   "execution_count": null,
   "metadata": {},
   "outputs": [],
   "source": []
  }
 ],
 "metadata": {
  "kernelspec": {
   "display_name": "Python 3",
   "language": "python",
   "name": "python3"
  },
  "language_info": {
   "codemirror_mode": {
    "name": "ipython",
    "version": 3
   },
   "file_extension": ".py",
   "mimetype": "text/x-python",
   "name": "python",
   "nbconvert_exporter": "python",
   "pygments_lexer": "ipython3",
   "version": "3.8.5"
  }
 },
 "nbformat": 4,
 "nbformat_minor": 4
}
