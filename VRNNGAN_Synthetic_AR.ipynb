{
 "cells": [
  {
   "cell_type": "code",
   "execution_count": 1,
   "id": "61f775e9",
   "metadata": {},
   "outputs": [],
   "source": [
    "from statsmodels.tsa.arima_process import ArmaProcess\n",
    "import matplotlib.pyplot as plt\n",
    "import numpy as np"
   ]
  },
  {
   "cell_type": "code",
   "execution_count": 202,
   "id": "3a5e6e6f",
   "metadata": {},
   "outputs": [],
   "source": [
    "# Generate parameters for AR(1) with phi = 0.5\n",
    "ar_params = np.asarray([1, -0.8])\n",
    "ma_params = np.asarray([1])\n",
    "AR1 = ArmaProcess(ar_params, ma_params)\n",
    "ar1_sample = AR1.generate_sample(nsample=1000)\n",
    "\n",
    "# Generate parameters for AR{1} with phi = 1.0\n",
    "ar_params2 = np.asarray([1, -1.0])\n",
    "ma_params2 = np.asarray([1])\n",
    "AR1_2 = ArmaProcess(ar_params2, ma_params2)\n",
    "ar1_sample2 = AR1_2.generate_sample(nsample=1000)"
   ]
  },
  {
   "cell_type": "code",
   "execution_count": 203,
   "id": "ce111c20",
   "metadata": {},
   "outputs": [],
   "source": [
    "all_sample = np.concatenate([ar1_sample2, ar1_sample])"
   ]
  },
  {
   "cell_type": "code",
   "execution_count": 204,
   "id": "2add86ac",
   "metadata": {},
   "outputs": [
    {
     "data": {
      "text/plain": [
       "[<matplotlib.lines.Line2D at 0x7f910901bf40>]"
      ]
     },
     "execution_count": 204,
     "metadata": {},
     "output_type": "execute_result"
    },
    {
     "data": {
      "image/png": "[encoded data removed]",
      "text/plain": [
       "<Figure size 432x288 with 1 Axes>"
      ]
     },
     "metadata": {
      "needs_background": "light"
     },
     "output_type": "display_data"
    }
   ],
   "source": [
    "plt.plot(all_sample)"
   ]
  },
  {
   "cell_type": "code",
   "execution_count": 205,
   "id": "991dc208",
   "metadata": {},
   "outputs": [],
   "source": [
    "window = 20\n",
    "train = np.asarray([ar1_sample[i:i+window] for i in range(len(ar1_sample) - window + 1)])[:,:,np.newaxis]\n",
    "test = np.asarray([ar1_sample2[i:i+window] for i in range (len(ar1_sample2) - window + 1)])[:,:,np.newaxis]"
   ]
  },
  {
   "cell_type": "code",
   "execution_count": 206,
   "id": "bf91d644",
   "metadata": {},
   "outputs": [],
   "source": [
    "from importlib import reload\n",
    "import vrnngan2\n",
    "vrnngan = reload(vrnngan)"
   ]
  },
  {
   "cell_type": "code",
   "execution_count": 212,
   "id": "0999c22e",
   "metadata": {},
   "outputs": [
    {
     "name": "stdout",
     "output_type": "stream",
     "text": [
      "Epoch 1/100\n",
      "123/123 [==============================] - 32s 33ms/step - total_loss: -54.5952 - loss: 52.2880 - kl: 9.1302e-07 - discrim_loss: -216.6433 - discrim_loss_fake: 53.2143 - discrim_loss_real: -53.2143 - misled_loss: 108.3216\n",
      "Epoch 2/100\n",
      "123/123 [==============================] - 4s 32ms/step - total_loss: -286.1115 - loss: 51.2729 - kl: 1.0019e-04 - discrim_loss: -659.0609 - discrim_loss_fake: 276.4826 - discrim_loss_real: -276.4826 - misled_loss: 329.5304\n",
      "Epoch 3/100\n",
      "123/123 [==============================] - 4s 32ms/step - total_loss: -519.2587 - loss: 26.3396 - kl: 0.0104 - discrim_loss: -1086.1989 - discrim_loss_fake: 490.8592 - discrim_loss_real: -490.8592 - misled_loss: 543.0994\n",
      "Epoch 4/100\n",
      "123/123 [==============================] - 4s 32ms/step - total_loss: -732.4222 - loss: 22.7038 - kl: 0.0823 - discrim_loss: -1509.5486 - discrim_loss_fake: 702.8231 - discrim_loss_real: -702.8231 - misled_loss: 754.7743\n",
      "Epoch 5/100\n",
      "123/123 [==============================] - 4s 31ms/step - total_loss: -943.4932 - loss: 21.9290 - kl: 0.2001 - discrim_loss: -1931.2549 - discrim_loss_fake: 913.8254 - discrim_loss_real: -913.8254 - misled_loss: 965.6274\n",
      "Epoch 6/100\n",
      "123/123 [==============================] - 4s 32ms/step - total_loss: -1154.0564 - loss: 21.7225 - kl: 0.2428 - discrim_loss: -2352.0364 - discrim_loss_fake: 1124.3066 - discrim_loss_real: -1124.3066 - misled_loss: 1176.0182\n",
      "Epoch 7/100\n",
      "123/123 [==============================] - 4s 32ms/step - total_loss: -1364.2758 - loss: 21.8108 - kl: 0.2602 - discrim_loss: -2772.2246 - discrim_loss_fake: 1334.4615 - discrim_loss_real: -1334.4615 - misled_loss: 1386.1123\n",
      "Epoch 8/100\n",
      "123/123 [==============================] - 4s 32ms/step - total_loss: -1574.2258 - loss: 22.0795 - kl: 0.3070 - discrim_loss: -3192.0046 - discrim_loss_fake: 1544.3945 - discrim_loss_real: -1544.3945 - misled_loss: 1596.0023\n",
      "Epoch 9/100\n",
      "123/123 [==============================] - 4s 31ms/step - total_loss: -1784.1031 - loss: 21.4751 - kl: 0.3667 - discrim_loss: -3611.4858 - discrim_loss_fake: 1754.1672 - discrim_loss_real: -1754.1672 - misled_loss: 1805.7429\n",
      "Epoch 10/100\n",
      "123/123 [==============================] - 4s 32ms/step - total_loss: -1993.9462 - loss: 20.8911 - kl: 0.3765 - discrim_loss: -4030.7417 - discrim_loss_fake: 1963.8198 - discrim_loss_real: -1963.8198 - misled_loss: 2015.3708\n",
      "Epoch 11/100\n",
      "123/123 [==============================] - 4s 32ms/step - total_loss: -2203.6489 - loss: 21.0139 - kl: 0.4441 - discrim_loss: -4449.8281 - discrim_loss_fake: 2173.3806 - discrim_loss_real: -2173.3806 - misled_loss: 2224.9141\n",
      "Epoch 12/100\n",
      "123/123 [==============================] - 4s 32ms/step - total_loss: -2413.2380 - loss: 20.4712 - kl: 0.4996 - discrim_loss: -4868.7695 - discrim_loss_fake: 2382.8680 - discrim_loss_real: -2382.8680 - misled_loss: 2434.3848\n",
      "Epoch 13/100\n",
      "123/123 [==============================] - 4s 32ms/step - total_loss: -2622.8586 - loss: 21.3802 - kl: 0.5506 - discrim_loss: -5287.6011 - discrim_loss_fake: 2592.2956 - discrim_loss_real: -2592.2956 - misled_loss: 2643.8005\n",
      "Epoch 14/100\n",
      "123/123 [==============================] - 4s 32ms/step - total_loss: -2832.4429 - loss: 20.0336 - kl: 0.6290 - discrim_loss: -5706.3379 - discrim_loss_fake: 2801.6761 - discrim_loss_real: -2801.6761 - misled_loss: 2853.1689\n",
      "Epoch 15/100\n",
      "123/123 [==============================] - 4s 32ms/step - total_loss: -3042.0110 - loss: 20.0842 - kl: 0.6266 - discrim_loss: -6125.0000 - discrim_loss_fake: 3011.0146 - discrim_loss_real: -3011.0146 - misled_loss: 3062.5000\n",
      "Epoch 16/100\n",
      "123/123 [==============================] - 4s 32ms/step - total_loss: -3251.5110 - loss: 19.5547 - kl: 0.5874 - discrim_loss: -6543.6030 - discrim_loss_fake: 3220.3235 - discrim_loss_real: -3220.3235 - misled_loss: 3271.8015\n",
      "Epoch 17/100\n",
      "123/123 [==============================] - 4s 34ms/step - total_loss: -3461.0139 - loss: 19.9929 - kl: 0.5519 - discrim_loss: -6962.1450 - discrim_loss_fake: 3429.6021 - discrim_loss_real: -3429.6021 - misled_loss: 3481.0725\n",
      "Epoch 18/100\n",
      "123/123 [==============================] - 4s 32ms/step - total_loss: -3670.5146 - loss: 19.4964 - kl: 0.5449 - discrim_loss: -7380.6387 - discrim_loss_fake: 3638.8532 - discrim_loss_real: -3638.8532 - misled_loss: 3690.3193\n",
      "Epoch 19/100\n",
      "123/123 [==============================] - 4s 32ms/step - total_loss: -3879.8950 - loss: 19.2596 - kl: 0.5653 - discrim_loss: -7799.1011 - discrim_loss_fake: 3848.0877 - discrim_loss_real: -3848.0877 - misled_loss: 3899.5505\n",
      "Epoch 20/100\n",
      "123/123 [==============================] - 4s 34ms/step - total_loss: -4089.3909 - loss: 19.2321 - kl: 0.4707 - discrim_loss: -8217.5352 - discrim_loss_fake: 4057.3087 - discrim_loss_real: -4057.3087 - misled_loss: 4108.7676\n",
      "Epoch 21/100\n",
      "123/123 [==============================] - 4s 32ms/step - total_loss: -4298.6299 - loss: 18.6160 - kl: 0.4623 - discrim_loss: -8635.9463 - discrim_loss_fake: 4266.5178 - discrim_loss_real: -4266.5178 - misled_loss: 4317.9731\n",
      "Epoch 22/100\n",
      "123/123 [==============================] - 4s 32ms/step - total_loss: -4508.0479 - loss: 18.2887 - kl: 0.4272 - discrim_loss: -9054.3105 - discrim_loss_fake: 4475.7063 - discrim_loss_real: -4475.7063 - misled_loss: 4527.1553\n",
      "Epoch 23/100\n",
      "123/123 [==============================] - 4s 32ms/step - total_loss: -4717.1235 - loss: 18.7500 - kl: 0.4106 - discrim_loss: -9472.6445 - discrim_loss_fake: 4684.8748 - discrim_loss_real: -4684.8748 - misled_loss: 4736.3223\n",
      "Epoch 24/100\n",
      "123/123 [==============================] - 4s 31ms/step - total_loss: -4926.6836 - loss: 18.1923 - kl: 0.3875 - discrim_loss: -9890.9600 - discrim_loss_fake: 4894.0343 - discrim_loss_real: -4894.0343 - misled_loss: 4945.4800\n",
      "Epoch 25/100\n",
      "123/123 [==============================] - 4s 32ms/step - total_loss: -5135.8862 - loss: 18.0669 - kl: 0.3932 - discrim_loss: -10309.2695 - discrim_loss_fake: 5103.1900 - discrim_loss_real: -5103.1900 - misled_loss: 5154.6348\n",
      "Epoch 26/100\n",
      "123/123 [==============================] - 4s 32ms/step - total_loss: -5345.5020 - loss: 18.3108 - kl: 0.3860 - discrim_loss: -10727.5684 - discrim_loss_fake: 5312.3401 - discrim_loss_real: -5312.3401 - misled_loss: 5363.7842\n",
      "Epoch 27/100\n",
      "123/123 [==============================] - 4s 32ms/step - total_loss: -5555.3105 - loss: 16.8805 - kl: 0.3942 - discrim_loss: -11145.8574 - discrim_loss_fake: 5521.4867 - discrim_loss_real: -5521.4867 - misled_loss: 5572.9287\n",
      "Epoch 28/100\n",
      "123/123 [==============================] - 4s 32ms/step - total_loss: -5764.7212 - loss: 17.0192 - kl: 0.3934 - discrim_loss: -11564.1445 - discrim_loss_fake: 5730.6298 - discrim_loss_real: -5730.6298 - misled_loss: 5782.0723\n",
      "Epoch 29/100\n",
      "123/123 [==============================] - 4s 33ms/step - total_loss: -5974.0674 - loss: 17.0358 - kl: 0.4148 - discrim_loss: -11982.4248 - discrim_loss_fake: 5939.7717 - discrim_loss_real: -5939.7717 - misled_loss: 5991.2124\n",
      "Epoch 30/100\n",
      "123/123 [==============================] - 4s 32ms/step - total_loss: -6183.2251 - loss: 17.0676 - kl: 0.3736 - discrim_loss: -12400.6807 - discrim_loss_fake: 6148.9017 - discrim_loss_real: -6148.9017 - misled_loss: 6200.3403\n",
      "Epoch 31/100\n",
      "123/123 [==============================] - 4s 33ms/step - total_loss: -6392.5171 - loss: 16.1463 - kl: 0.3678 - discrim_loss: -12818.9355 - discrim_loss_fake: 6358.0292 - discrim_loss_real: -6358.0292 - misled_loss: 6409.4678\n",
      "Epoch 32/100\n",
      "123/123 [==============================] - 4s 33ms/step - total_loss: -6601.7441 - loss: 16.9816 - kl: 0.3541 - discrim_loss: -13237.1924 - discrim_loss_fake: 6567.1570 - discrim_loss_real: -6567.1570 - misled_loss: 6618.5962\n",
      "Epoch 33/100\n",
      "123/123 [==============================] - 4s 32ms/step - total_loss: -6810.8901 - loss: 16.7830 - kl: 0.3345 - discrim_loss: -13655.4385 - discrim_loss_fake: 6776.2824 - discrim_loss_real: -6776.2824 - misled_loss: 6827.7192\n",
      "Epoch 34/100\n",
      "123/123 [==============================] - 4s 33ms/step - total_loss: -7019.9722 - loss: 16.9776 - kl: 0.3190 - discrim_loss: -14073.6787 - discrim_loss_fake: 6985.4023 - discrim_loss_real: -6985.4023 - misled_loss: 7036.8394\n",
      "Epoch 35/100\n"
     ]
    },
    {
     "name": "stdout",
     "output_type": "stream",
     "text": [
      "123/123 [==============================] - 4s 31ms/step - total_loss: -7229.1035 - loss: 16.2973 - kl: 0.3191 - discrim_loss: -14491.9180 - discrim_loss_fake: 7194.5226 - discrim_loss_real: -7194.5226 - misled_loss: 7245.9590\n",
      "Epoch 36/100\n",
      "123/123 [==============================] - 4s 31ms/step - total_loss: -7438.1406 - loss: 16.6708 - kl: 0.3019 - discrim_loss: -14910.1611 - discrim_loss_fake: 7403.6435 - discrim_loss_real: -7403.6435 - misled_loss: 7455.0806\n",
      "Epoch 37/100\n",
      "123/123 [==============================] - 4s 31ms/step - total_loss: -7639.5571 - loss: 16.7373 - kl: 0.3014 - discrim_loss: -15312.6650 - discrim_loss_fake: 7609.3928 - discrim_loss_real: -7609.3928 - misled_loss: 7656.3325\n",
      "Epoch 38/100\n",
      "123/123 [==============================] - 4s 32ms/step - total_loss: -7852.6099 - loss: 16.5731 - kl: 0.3186 - discrim_loss: -15738.6367 - discrim_loss_fake: 7818.8486 - discrim_loss_real: -7818.8486 - misled_loss: 7869.3184\n",
      "Epoch 39/100\n",
      "123/123 [==============================] - 4s 31ms/step - total_loss: -8063.4277 - loss: 16.4212 - kl: 0.2853 - discrim_loss: -16160.4561 - discrim_loss_fake: 8029.3863 - discrim_loss_real: -8029.3863 - misled_loss: 8080.2280\n",
      "Epoch 40/100\n",
      "123/123 [==============================] - 4s 31ms/step - total_loss: -8270.5508 - loss: 16.0635 - kl: 0.2695 - discrim_loss: -16574.5527 - discrim_loss_fake: 8236.1305 - discrim_loss_real: -8236.1305 - misled_loss: 8287.2764\n",
      "Epoch 41/100\n",
      "123/123 [==============================] - 4s 31ms/step - total_loss: -8481.7314 - loss: 16.2308 - kl: 0.2500 - discrim_loss: -16996.5488 - discrim_loss_fake: 8448.5702 - discrim_loss_real: -8448.5702 - misled_loss: 8498.2744\n",
      "Epoch 42/100\n",
      "123/123 [==============================] - 4s 31ms/step - total_loss: -8692.9600 - loss: 17.0884 - kl: 0.2587 - discrim_loss: -17418.8535 - discrim_loss_fake: 8657.9881 - discrim_loss_real: -8657.9881 - misled_loss: 8709.4268\n",
      "Epoch 43/100\n",
      "123/123 [==============================] - 4s 31ms/step - total_loss: -8900.2949 - loss: 16.2076 - kl: 0.2399 - discrim_loss: -17833.6914 - discrim_loss_fake: 8865.0327 - discrim_loss_real: -8865.0327 - misled_loss: 8916.8457\n",
      "Epoch 44/100\n",
      "123/123 [==============================] - 4s 31ms/step - total_loss: -9110.9854 - loss: 16.4612 - kl: 0.2526 - discrim_loss: -18255.2285 - discrim_loss_fake: 9076.1800 - discrim_loss_real: -9076.1800 - misled_loss: 9127.6143\n",
      "Epoch 45/100\n",
      "123/123 [==============================] - 4s 31ms/step - total_loss: -9320.1572 - loss: 15.9143 - kl: 0.2577 - discrim_loss: -18673.4473 - discrim_loss_fake: 9285.2898 - discrim_loss_real: -9285.2898 - misled_loss: 9336.7236\n",
      "Epoch 46/100\n",
      "123/123 [==============================] - 4s 33ms/step - total_loss: -9529.3740 - loss: 16.2322 - kl: 0.2467 - discrim_loss: -19091.6602 - discrim_loss_fake: 9494.3982 - discrim_loss_real: -9494.3982 - misled_loss: 9545.8301\n",
      "Epoch 47/100\n",
      "123/123 [==============================] - 4s 32ms/step - total_loss: -9738.4033 - loss: 16.3523 - kl: 0.2427 - discrim_loss: -19509.8516 - discrim_loss_fake: 9703.4960 - discrim_loss_real: -9703.4960 - misled_loss: 9754.9258\n",
      "Epoch 48/100\n",
      "123/123 [==============================] - 4s 31ms/step - total_loss: -9947.5742 - loss: 16.3750 - kl: 0.2231 - discrim_loss: -19928.0488 - discrim_loss_fake: 9912.5919 - discrim_loss_real: -9912.5919 - misled_loss: 9964.0244\n",
      "Epoch 49/100\n",
      "123/123 [==============================] - 4s 32ms/step - total_loss: -10156.6396 - loss: 15.9439 - kl: 0.2253 - discrim_loss: -20346.2285 - discrim_loss_fake: 10121.6844 - discrim_loss_real: -10121.6844 - misled_loss: 10173.1143\n",
      "Epoch 50/100\n",
      "123/123 [==============================] - 4s 32ms/step - total_loss: -10365.7754 - loss: 16.5413 - kl: 0.2233 - discrim_loss: -20764.4062 - discrim_loss_fake: 10330.7754 - discrim_loss_real: -10330.7754 - misled_loss: 10382.2031\n",
      "Epoch 51/100\n",
      "123/123 [==============================] - 4s 32ms/step - total_loss: -10574.8887 - loss: 15.9443 - kl: 0.2085 - discrim_loss: -21182.5664 - discrim_loss_fake: 10539.8562 - discrim_loss_real: -10539.8562 - misled_loss: 10591.2832\n",
      "Epoch 52/100\n",
      "123/123 [==============================] - 4s 31ms/step - total_loss: -10784.0547 - loss: 15.9895 - kl: 0.2176 - discrim_loss: -21600.7207 - discrim_loss_fake: 10748.9343 - discrim_loss_real: -10748.9343 - misled_loss: 10800.3604\n",
      "Epoch 53/100\n",
      "123/123 [==============================] - 4s 32ms/step - total_loss: -10993.0957 - loss: 15.4084 - kl: 0.2001 - discrim_loss: -22018.8730 - discrim_loss_fake: 10958.0121 - discrim_loss_real: -10958.0121 - misled_loss: 11009.4365\n",
      "Epoch 54/100\n",
      "123/123 [==============================] - 4s 31ms/step - total_loss: -11202.1426 - loss: 16.0965 - kl: 0.2147 - discrim_loss: -22437.0371 - discrim_loss_fake: 11167.0927 - discrim_loss_real: -11167.0927 - misled_loss: 11218.5186\n",
      "Epoch 55/100\n",
      "123/123 [==============================] - 4s 32ms/step - total_loss: -11411.2686 - loss: 16.2815 - kl: 0.1998 - discrim_loss: -22855.1992 - discrim_loss_fake: 11376.1718 - discrim_loss_real: -11376.1718 - misled_loss: 11427.5996\n",
      "Epoch 56/100\n",
      "123/123 [==============================] - 4s 31ms/step - total_loss: -11620.3525 - loss: 15.8706 - kl: 0.1992 - discrim_loss: -23273.3555 - discrim_loss_fake: 11585.2503 - discrim_loss_real: -11585.2503 - misled_loss: 11636.6777\n",
      "Epoch 57/100\n",
      "123/123 [==============================] - 4s 32ms/step - total_loss: -11829.4990 - loss: 15.9156 - kl: 0.1971 - discrim_loss: -23691.5117 - discrim_loss_fake: 11794.3294 - discrim_loss_real: -11794.3294 - misled_loss: 11845.7559\n",
      "Epoch 58/100\n",
      "123/123 [==============================] - 4s 31ms/step - total_loss: -12038.6201 - loss: 16.2156 - kl: 0.1923 - discrim_loss: -24109.6680 - discrim_loss_fake: 12003.4079 - discrim_loss_real: -12003.4079 - misled_loss: 12054.8340\n",
      "Epoch 59/100\n",
      "123/123 [==============================] - 4s 31ms/step - total_loss: -12247.8105 - loss: 15.7931 - kl: 0.1959 - discrim_loss: -24527.8223 - discrim_loss_fake: 12212.4861 - discrim_loss_real: -12212.4861 - misled_loss: 12263.9111\n",
      "Epoch 60/100\n",
      "123/123 [==============================] - 4s 31ms/step - total_loss: -12456.7910 - loss: 15.4009 - kl: 0.1827 - discrim_loss: -24945.9844 - discrim_loss_fake: 12421.5665 - discrim_loss_real: -12421.5665 - misled_loss: 12472.9922\n",
      "Epoch 61/100\n",
      "123/123 [==============================] - 4s 31ms/step - total_loss: -12665.8799 - loss: 16.1480 - kl: 0.1790 - discrim_loss: -25364.1465 - discrim_loss_fake: 12630.6455 - discrim_loss_real: -12630.6455 - misled_loss: 12682.0732\n",
      "Epoch 62/100\n",
      "123/123 [==============================] - 4s 31ms/step - total_loss: -12874.9863 - loss: 16.0399 - kl: 0.1901 - discrim_loss: -25782.3047 - discrim_loss_fake: 12839.7238 - discrim_loss_real: -12839.7238 - misled_loss: 12891.1523\n",
      "Epoch 63/100\n",
      "123/123 [==============================] - 4s 31ms/step - total_loss: -13084.0518 - loss: 16.0361 - kl: 0.1899 - discrim_loss: -26200.4375 - discrim_loss_fake: 13048.7971 - discrim_loss_real: -13048.7971 - misled_loss: 13100.2188\n",
      "Epoch 64/100\n",
      "123/123 [==============================] - 4s 31ms/step - total_loss: -13293.2920 - loss: 15.8652 - kl: 0.1871 - discrim_loss: -26618.5723 - discrim_loss_fake: 13257.8619 - discrim_loss_real: -13257.8619 - misled_loss: 13309.2861\n",
      "Epoch 65/100\n",
      "123/123 [==============================] - 4s 32ms/step - total_loss: -13502.0586 - loss: 15.7584 - kl: 0.1835 - discrim_loss: -27036.6953 - discrim_loss_fake: 13466.9255 - discrim_loss_real: -13466.9255 - misled_loss: 13518.3477\n",
      "Epoch 66/100\n",
      "123/123 [==============================] - 4s 32ms/step - total_loss: -13711.3574 - loss: 16.0558 - kl: 0.1769 - discrim_loss: -27454.8086 - discrim_loss_fake: 13675.9852 - discrim_loss_real: -13675.9852 - misled_loss: 13727.4043\n",
      "Epoch 67/100\n",
      "123/123 [==============================] - 4s 32ms/step - total_loss: -13920.2578 - loss: 16.0573 - kl: 0.1774 - discrim_loss: -27872.9043 - discrim_loss_fake: 13885.0336 - discrim_loss_real: -13885.0336 - misled_loss: 13936.4521\n",
      "Epoch 68/100\n",
      "123/123 [==============================] - 4s 31ms/step - total_loss: -14129.3701 - loss: 16.0095 - kl: 0.1870 - discrim_loss: -28291.0020 - discrim_loss_fake: 14094.0828 - discrim_loss_real: -14094.0828 - misled_loss: 14145.5010\n"
     ]
    },
    {
     "name": "stdout",
     "output_type": "stream",
     "text": [
      "Epoch 69/100\n",
      "123/123 [==============================] - 4s 31ms/step - total_loss: -14338.5439 - loss: 16.2904 - kl: 0.1824 - discrim_loss: -28709.0996 - discrim_loss_fake: 14303.1309 - discrim_loss_real: -14303.1309 - misled_loss: 14354.5498\n",
      "Epoch 70/100\n",
      "123/123 [==============================] - 4s 31ms/step - total_loss: -14547.5547 - loss: 15.6710 - kl: 0.1726 - discrim_loss: -29127.1992 - discrim_loss_fake: 14512.1808 - discrim_loss_real: -14512.1808 - misled_loss: 14563.5996\n",
      "Epoch 71/100\n",
      "123/123 [==============================] - 4s 31ms/step - total_loss: -14756.7217 - loss: 15.8821 - kl: 0.1777 - discrim_loss: -29545.2969 - discrim_loss_fake: 14721.2291 - discrim_loss_real: -14721.2291 - misled_loss: 14772.6484\n",
      "Epoch 72/100\n",
      "123/123 [==============================] - 4s 31ms/step - total_loss: -14965.7051 - loss: 16.0949 - kl: 0.1739 - discrim_loss: -29963.3945 - discrim_loss_fake: 14930.2784 - discrim_loss_real: -14930.2784 - misled_loss: 14981.6973\n",
      "Epoch 73/100\n",
      "123/123 [==============================] - 4s 32ms/step - total_loss: -15174.8193 - loss: 16.0907 - kl: 0.1751 - discrim_loss: -30381.4922 - discrim_loss_fake: 15139.3267 - discrim_loss_real: -15139.3267 - misled_loss: 15190.7461\n",
      "Epoch 74/100\n",
      "123/123 [==============================] - 4s 31ms/step - total_loss: -15383.7549 - loss: 16.0328 - kl: 0.1840 - discrim_loss: -30799.5918 - discrim_loss_fake: 15348.3764 - discrim_loss_real: -15348.3764 - misled_loss: 15399.7959\n",
      "Epoch 75/100\n",
      "123/123 [==============================] - 4s 31ms/step - total_loss: -15592.8975 - loss: 15.6014 - kl: 0.1788 - discrim_loss: -31217.6875 - discrim_loss_fake: 15557.4246 - discrim_loss_real: -15557.4246 - misled_loss: 15608.8438\n",
      "Epoch 76/100\n",
      "123/123 [==============================] - 4s 31ms/step - total_loss: -15802.0742 - loss: 15.7090 - kl: 0.1767 - discrim_loss: -31635.7871 - discrim_loss_fake: 15766.4743 - discrim_loss_real: -15766.4743 - misled_loss: 15817.8936\n",
      "Epoch 77/100\n",
      "123/123 [==============================] - 4s 31ms/step - total_loss: -16011.0342 - loss: 15.7323 - kl: 0.1810 - discrim_loss: -32053.8848 - discrim_loss_fake: 15975.5228 - discrim_loss_real: -15975.5228 - misled_loss: 16026.9424\n",
      "Epoch 78/100\n",
      "123/123 [==============================] - 4s 31ms/step - total_loss: -16220.0742 - loss: 15.6134 - kl: 0.1753 - discrim_loss: -32471.9805 - discrim_loss_fake: 16184.5708 - discrim_loss_real: -16184.5708 - misled_loss: 16235.9902\n",
      "Epoch 79/100\n",
      "123/123 [==============================] - 4s 31ms/step - total_loss: -16429.0605 - loss: 16.1385 - kl: 0.1694 - discrim_loss: -32890.0820 - discrim_loss_fake: 16393.6205 - discrim_loss_real: -16393.6205 - misled_loss: 16445.0410\n",
      "Epoch 80/100\n",
      "123/123 [==============================] - 4s 31ms/step - total_loss: -16638.2051 - loss: 15.9454 - kl: 0.1771 - discrim_loss: -33308.1758 - discrim_loss_fake: 16602.6690 - discrim_loss_real: -16602.6690 - misled_loss: 16654.0879\n",
      "Epoch 81/100\n",
      "123/123 [==============================] - 4s 31ms/step - total_loss: -16847.1895 - loss: 16.0266 - kl: 0.1844 - discrim_loss: -33726.2773 - discrim_loss_fake: 16811.7182 - discrim_loss_real: -16811.7182 - misled_loss: 16863.1387\n",
      "Epoch 82/100\n",
      "123/123 [==============================] - 4s 31ms/step - total_loss: -17056.3652 - loss: 15.5483 - kl: 0.1804 - discrim_loss: -34144.3750 - discrim_loss_fake: 17020.7678 - discrim_loss_real: -17020.7678 - misled_loss: 17072.1875\n",
      "Epoch 83/100\n",
      "123/123 [==============================] - 4s 31ms/step - total_loss: -17265.2910 - loss: 15.5657 - kl: 0.1851 - discrim_loss: -34562.4766 - discrim_loss_fake: 17229.8166 - discrim_loss_real: -17229.8166 - misled_loss: 17281.2383\n",
      "Epoch 84/100\n",
      "123/123 [==============================] - 4s 31ms/step - total_loss: -17474.3516 - loss: 15.8172 - kl: 0.1787 - discrim_loss: -34980.5703 - discrim_loss_fake: 17438.8657 - discrim_loss_real: -17438.8657 - misled_loss: 17490.2852\n",
      "Epoch 85/100\n",
      "123/123 [==============================] - 4s 31ms/step - total_loss: -17683.3594 - loss: 15.5427 - kl: 0.1776 - discrim_loss: -35398.6641 - discrim_loss_fake: 17647.9131 - discrim_loss_real: -17647.9131 - misled_loss: 17699.3320\n",
      "Epoch 86/100\n",
      "123/123 [==============================] - 4s 32ms/step - total_loss: -17892.4707 - loss: 15.8207 - kl: 0.1814 - discrim_loss: -35816.7656 - discrim_loss_fake: 17856.9631 - discrim_loss_real: -17856.9631 - misled_loss: 17908.3828\n",
      "Epoch 87/100\n",
      "123/123 [==============================] - 4s 32ms/step - total_loss: -18101.5312 - loss: 15.8359 - kl: 0.1791 - discrim_loss: -36234.8633 - discrim_loss_fake: 18066.0114 - discrim_loss_real: -18066.0114 - misled_loss: 18117.4316\n",
      "Epoch 88/100\n",
      "123/123 [==============================] - 4s 32ms/step - total_loss: -18310.5996 - loss: 15.6077 - kl: 0.1862 - discrim_loss: -36652.9609 - discrim_loss_fake: 18275.0599 - discrim_loss_real: -18275.0599 - misled_loss: 18326.4805\n",
      "Epoch 89/100\n",
      "123/123 [==============================] - 4s 31ms/step - total_loss: -18519.6406 - loss: 15.9358 - kl: 0.1751 - discrim_loss: -37071.0586 - discrim_loss_fake: 18484.1101 - discrim_loss_real: -18484.1101 - misled_loss: 18535.5293\n",
      "Epoch 90/100\n",
      "123/123 [==============================] - 4s 31ms/step - total_loss: -18728.5645 - loss: 15.7442 - kl: 0.1993 - discrim_loss: -37489.1562 - discrim_loss_fake: 18693.1582 - discrim_loss_real: -18693.1582 - misled_loss: 18744.5781\n",
      "Epoch 91/100\n",
      "123/123 [==============================] - 4s 32ms/step - total_loss: -18937.7871 - loss: 15.9890 - kl: 0.1760 - discrim_loss: -37907.2539 - discrim_loss_fake: 18902.2073 - discrim_loss_real: -18902.2073 - misled_loss: 18953.6270\n",
      "Epoch 92/100\n",
      "123/123 [==============================] - 4s 32ms/step - total_loss: -19146.8945 - loss: 15.6372 - kl: 0.1858 - discrim_loss: -38325.3555 - discrim_loss_fake: 19111.2575 - discrim_loss_real: -19111.2575 - misled_loss: 19162.6777\n",
      "Epoch 93/100\n",
      "123/123 [==============================] - 4s 32ms/step - total_loss: -19355.8867 - loss: 15.8499 - kl: 0.1797 - discrim_loss: -38743.4531 - discrim_loss_fake: 19320.3051 - discrim_loss_real: -19320.3051 - misled_loss: 19371.7266\n",
      "Epoch 94/100\n",
      "123/123 [==============================] - 4s 32ms/step - total_loss: -19564.8594 - loss: 15.8336 - kl: 0.1820 - discrim_loss: -39161.5430 - discrim_loss_fake: 19529.3542 - discrim_loss_real: -19529.3542 - misled_loss: 19580.7715\n",
      "Epoch 95/100\n",
      "123/123 [==============================] - 4s 31ms/step - total_loss: -19774.0059 - loss: 15.4896 - kl: 0.1837 - discrim_loss: -39579.6445 - discrim_loss_fake: 19738.4041 - discrim_loss_real: -19738.4041 - misled_loss: 19789.8223\n",
      "Epoch 96/100\n",
      "123/123 [==============================] - 4s 33ms/step - total_loss: -19982.9473 - loss: 15.3982 - kl: 0.1840 - discrim_loss: -39997.7383 - discrim_loss_fake: 19947.4518 - discrim_loss_real: -19947.4518 - misled_loss: 19998.8691\n",
      "Epoch 97/100\n",
      "123/123 [==============================] - 4s 32ms/step - total_loss: -20192.0508 - loss: 15.5987 - kl: 0.1834 - discrim_loss: -40415.8398 - discrim_loss_fake: 20156.5012 - discrim_loss_real: -20156.5012 - misled_loss: 20207.9199\n",
      "Epoch 98/100\n",
      "123/123 [==============================] - 4s 33ms/step - total_loss: -20401.1836 - loss: 15.1896 - kl: 0.1752 - discrim_loss: -40833.9375 - discrim_loss_fake: 20365.5493 - discrim_loss_real: -20365.5493 - misled_loss: 20416.9688\n",
      "Epoch 99/100\n",
      "123/123 [==============================] - 4s 32ms/step - total_loss: -20610.1211 - loss: 15.7347 - kl: 0.1768 - discrim_loss: -41252.0352 - discrim_loss_fake: 20574.5993 - discrim_loss_real: -20574.5993 - misled_loss: 20626.0176\n",
      "Epoch 100/100\n",
      "123/123 [==============================] - 4s 32ms/step - total_loss: -20819.3633 - loss: 15.6328 - kl: 0.1805 - discrim_loss: -41670.1328 - discrim_loss_fake: 20783.6474 - discrim_loss_real: -20783.6474 - misled_loss: 20835.0664\n"
     ]
    },
    {
     "data": {
      "text/plain": [
       "<tensorflow.python.keras.callbacks.History at 0x7f90ad960d60>"
      ]
     },
     "execution_count": 212,
     "metadata": {},
     "output_type": "execute_result"
    }
   ],
   "source": [
    "from vrnngan2 import VRNNGRUGAN\n",
    "from tensorflow import keras\n",
    "import os\n",
    "keras.backend.clear_session()\n",
    "\n",
    "timesteps = train.shape[1]\n",
    "feature_space = train.shape[2]\n",
    "z_dim = 4\n",
    "hidden_dim = 8\n",
    "model = VRNNGRUGAN(feature_space, z_dim, latent_dim, timesteps, 1.0)\n",
    "model.compile(keras.optimizers.Adam(lr=0.001), keras.optimizers.Adam(lr=0.1))\n",
    "model.fit(train, train, batch_size= 8, epochs=100)"
   ]
  },
  {
   "cell_type": "code",
   "execution_count": 190,
   "id": "fb0de310",
   "metadata": {},
   "outputs": [
    {
     "name": "stdout",
     "output_type": "stream",
     "text": [
      "Epoch 1/100\n",
      "123/123 [==============================] - 4s 33ms/step - total_loss: -2098.4033 - loss: 15.5026 - kl: 0.1841 - discrim_loss: -4227.8789 - discrim_loss_fake: 2108.7952 - discrim_loss_real: -2108.7952 - misled_loss: 2113.9395\n",
      "Epoch 2/100\n",
      "123/123 [==============================] - 4s 33ms/step - total_loss: -2119.3145 - loss: 15.0893 - kl: 0.1894 - discrim_loss: -4269.7080 - discrim_loss_fake: 2129.7096 - discrim_loss_real: -2129.7096 - misled_loss: 2134.8540\n",
      "Epoch 3/100\n",
      "123/123 [==============================] - 4s 33ms/step - total_loss: -2140.1025 - loss: 15.7376 - kl: 0.2083 - discrim_loss: -4311.5366 - discrim_loss_fake: 2150.6240 - discrim_loss_real: -2150.6240 - misled_loss: 2155.7683\n",
      "Epoch 4/100\n",
      "123/123 [==============================] - 4s 32ms/step - total_loss: -2161.1245 - loss: 15.4339 - kl: 0.2051 - discrim_loss: -4353.3594 - discrim_loss_fake: 2171.5375 - discrim_loss_real: -2171.5375 - misled_loss: 2176.6797\n",
      "Epoch 5/100\n",
      "123/123 [==============================] - 4s 33ms/step - total_loss: -2182.1184 - loss: 15.1196 - kl: 0.1831 - discrim_loss: -4395.1616 - discrim_loss_fake: 2192.4404 - discrim_loss_real: -2192.4404 - misled_loss: 2197.5808\n",
      "Epoch 6/100\n",
      "123/123 [==============================] - 4s 33ms/step - total_loss: -2202.9827 - loss: 15.2136 - kl: 0.1885 - discrim_loss: -4436.9595 - discrim_loss_fake: 2213.3389 - discrim_loss_real: -2213.3389 - misled_loss: 2218.4797\n",
      "Epoch 7/100\n",
      "123/123 [==============================] - 4s 33ms/step - total_loss: -2223.9285 - loss: 15.1432 - kl: 0.1838 - discrim_loss: -4478.7554 - discrim_loss_fake: 2234.2374 - discrim_loss_real: -2234.2374 - misled_loss: 2239.3777\n",
      "Epoch 8/100\n",
      "123/123 [==============================] - 4s 33ms/step - total_loss: -2244.7603 - loss: 15.5557 - kl: 0.1897 - discrim_loss: -4520.5522 - discrim_loss_fake: 2255.1360 - discrim_loss_real: -2255.1360 - misled_loss: 2260.2761\n",
      "Epoch 9/100\n",
      "123/123 [==============================] - 4s 33ms/step - total_loss: -2265.6135 - loss: 15.0716 - kl: 0.1893 - discrim_loss: -4562.3501 - discrim_loss_fake: 2276.0344 - discrim_loss_real: -2276.0344 - misled_loss: 2281.1750\n",
      "Epoch 10/100\n",
      "123/123 [==============================] - 4s 33ms/step - total_loss: -2286.6331 - loss: 15.2797 - kl: 0.1871 - discrim_loss: -4604.1475 - discrim_loss_fake: 2296.9329 - discrim_loss_real: -2296.9329 - misled_loss: 2302.0737\n",
      "Epoch 11/100\n",
      "123/123 [==============================] - 4s 33ms/step - total_loss: -2307.5652 - loss: 15.1915 - kl: 0.1800 - discrim_loss: -4645.9434 - discrim_loss_fake: 2317.8315 - discrim_loss_real: -2317.8315 - misled_loss: 2322.9717\n",
      "Epoch 12/100\n",
      "123/123 [==============================] - 4s 33ms/step - total_loss: -2328.3101 - loss: 15.2035 - kl: 0.1930 - discrim_loss: -4687.7407 - discrim_loss_fake: 2338.7297 - discrim_loss_real: -2338.7297 - misled_loss: 2343.8704\n",
      "Epoch 13/100\n",
      "123/123 [==============================] - 4s 33ms/step - total_loss: -2349.3264 - loss: 15.4261 - kl: 0.1964 - discrim_loss: -4729.5376 - discrim_loss_fake: 2359.6285 - discrim_loss_real: -2359.6285 - misled_loss: 2364.7688\n",
      "Epoch 14/100\n",
      "123/123 [==============================] - 4s 33ms/step - total_loss: -2370.0696 - loss: 15.2899 - kl: 0.1934 - discrim_loss: -4771.3350 - discrim_loss_fake: 2380.5270 - discrim_loss_real: -2380.5270 - misled_loss: 2385.6675\n",
      "Epoch 15/100\n",
      "123/123 [==============================] - 4s 33ms/step - total_loss: -2391.1270 - loss: 15.9028 - kl: 0.1934 - discrim_loss: -4813.1318 - discrim_loss_fake: 2401.4255 - discrim_loss_real: -2401.4255 - misled_loss: 2406.5659\n",
      "Epoch 16/100\n",
      "123/123 [==============================] - 4s 33ms/step - total_loss: -2412.0564 - loss: 15.0837 - kl: 0.1941 - discrim_loss: -4854.9287 - discrim_loss_fake: 2422.3241 - discrim_loss_real: -2422.3241 - misled_loss: 2427.4644\n",
      "Epoch 17/100\n",
      "123/123 [==============================] - 4s 33ms/step - total_loss: -2433.0205 - loss: 14.8361 - kl: 0.1697 - discrim_loss: -4896.7256 - discrim_loss_fake: 2443.2226 - discrim_loss_real: -2443.2226 - misled_loss: 2448.3628\n",
      "Epoch 18/100\n",
      "123/123 [==============================] - 4s 33ms/step - total_loss: -2453.8308 - loss: 15.3010 - kl: 0.1830 - discrim_loss: -4938.5234 - discrim_loss_fake: 2464.1213 - discrim_loss_real: -2464.1213 - misled_loss: 2469.2617\n",
      "Epoch 19/100\n",
      "123/123 [==============================] - 4s 33ms/step - total_loss: -2474.8159 - loss: 15.2021 - kl: 0.1837 - discrim_loss: -4980.3198 - discrim_loss_fake: 2485.0196 - discrim_loss_real: -2485.0196 - misled_loss: 2490.1599\n",
      "Epoch 20/100\n",
      "123/123 [==============================] - 4s 33ms/step - total_loss: -2495.7021 - loss: 14.9270 - kl: 0.1819 - discrim_loss: -5022.1172 - discrim_loss_fake: 2505.9183 - discrim_loss_real: -2505.9183 - misled_loss: 2511.0586\n",
      "Epoch 21/100\n",
      "123/123 [==============================] - 4s 32ms/step - total_loss: -2516.5984 - loss: 15.3001 - kl: 0.1788 - discrim_loss: -5063.9131 - discrim_loss_fake: 2526.8165 - discrim_loss_real: -2526.8165 - misled_loss: 2531.9565\n",
      "Epoch 22/100\n",
      "123/123 [==============================] - 4s 32ms/step - total_loss: -2537.5049 - loss: 15.0486 - kl: 0.1832 - discrim_loss: -5105.7114 - discrim_loss_fake: 2547.7154 - discrim_loss_real: -2547.7154 - misled_loss: 2552.8557\n",
      "Epoch 23/100\n",
      "123/123 [==============================] - 4s 33ms/step - total_loss: -2558.4490 - loss: 15.1960 - kl: 0.1879 - discrim_loss: -5147.5078 - discrim_loss_fake: 2568.6137 - discrim_loss_real: -2568.6137 - misled_loss: 2573.7539\n",
      "Epoch 24/100\n",
      "123/123 [==============================] - 4s 33ms/step - total_loss: -2579.2908 - loss: 15.3048 - kl: 0.2051 - discrim_loss: -5189.3057 - discrim_loss_fake: 2589.5124 - discrim_loss_real: -2589.5124 - misled_loss: 2594.6528\n",
      "Epoch 25/100\n",
      "123/123 [==============================] - 4s 33ms/step - total_loss: -2600.2571 - loss: 15.2564 - kl: 0.1858 - discrim_loss: -5231.1021 - discrim_loss_fake: 2610.4108 - discrim_loss_real: -2610.4108 - misled_loss: 2615.5510\n",
      "Epoch 26/100\n",
      "123/123 [==============================] - 4s 33ms/step - total_loss: -2621.0994 - loss: 14.9764 - kl: 0.1845 - discrim_loss: -5272.8994 - discrim_loss_fake: 2631.3093 - discrim_loss_real: -2631.3093 - misled_loss: 2636.4497\n",
      "Epoch 27/100\n",
      "123/123 [==============================] - 4s 34ms/step - total_loss: -2642.0791 - loss: 15.1340 - kl: 0.1835 - discrim_loss: -5314.6963 - discrim_loss_fake: 2652.2078 - discrim_loss_real: -2652.2078 - misled_loss: 2657.3481\n",
      "Epoch 28/100\n",
      "123/123 [==============================] - 4s 34ms/step - total_loss: -2662.9712 - loss: 14.7705 - kl: 0.2042 - discrim_loss: -5356.4941 - discrim_loss_fake: 2673.1064 - discrim_loss_real: -2673.1064 - misled_loss: 2678.2471\n",
      "Epoch 29/100\n",
      "123/123 [==============================] - 4s 34ms/step - total_loss: -2683.7148 - loss: 15.2362 - kl: 0.1881 - discrim_loss: -5398.2900 - discrim_loss_fake: 2694.0048 - discrim_loss_real: -2694.0048 - misled_loss: 2699.1450\n",
      "Epoch 30/100\n",
      "123/123 [==============================] - 4s 33ms/step - total_loss: -2704.6770 - loss: 15.2428 - kl: 0.2022 - discrim_loss: -5440.0879 - discrim_loss_fake: 2714.9033 - discrim_loss_real: -2714.9033 - misled_loss: 2720.0439\n",
      "Epoch 31/100\n",
      "123/123 [==============================] - 4s 33ms/step - total_loss: -2725.3489 - loss: 15.5795 - kl: 0.1953 - discrim_loss: -5481.8843 - discrim_loss_fake: 2735.8018 - discrim_loss_real: -2735.8018 - misled_loss: 2740.9421\n",
      "Epoch 32/100\n",
      "123/123 [==============================] - 4s 33ms/step - total_loss: -2746.6665 - loss: 14.9042 - kl: 0.1909 - discrim_loss: -5523.6821 - discrim_loss_fake: 2756.7002 - discrim_loss_real: -2756.7002 - misled_loss: 2761.8411\n",
      "Epoch 33/100\n",
      "123/123 [==============================] - 4s 33ms/step - total_loss: -2767.5190 - loss: 15.1609 - kl: 0.2019 - discrim_loss: -5565.4780 - discrim_loss_fake: 2777.5988 - discrim_loss_real: -2777.5988 - misled_loss: 2782.7390\n",
      "Epoch 34/100\n",
      "123/123 [==============================] - 4s 33ms/step - total_loss: -2788.4866 - loss: 15.1965 - kl: 0.1874 - discrim_loss: -5607.2754 - discrim_loss_fake: 2798.4973 - discrim_loss_real: -2798.4973 - misled_loss: 2803.6377\n",
      "Epoch 35/100\n"
     ]
    },
    {
     "name": "stdout",
     "output_type": "stream",
     "text": [
      "123/123 [==============================] - 4s 33ms/step - total_loss: -2809.2910 - loss: 15.0922 - kl: 0.1740 - discrim_loss: -5649.0723 - discrim_loss_fake: 2819.3957 - discrim_loss_real: -2819.3957 - misled_loss: 2824.5361\n",
      "Epoch 36/100\n",
      "123/123 [==============================] - 4s 33ms/step - total_loss: -2830.3760 - loss: 15.1430 - kl: 0.1821 - discrim_loss: -5690.8696 - discrim_loss_fake: 2840.2942 - discrim_loss_real: -2840.2942 - misled_loss: 2845.4348\n",
      "Epoch 37/100\n",
      "123/123 [==============================] - 4s 33ms/step - total_loss: -2851.0977 - loss: 14.4950 - kl: 0.1822 - discrim_loss: -5732.6660 - discrim_loss_fake: 2861.1926 - discrim_loss_real: -2861.1926 - misled_loss: 2866.3330\n",
      "Epoch 38/100\n",
      "123/123 [==============================] - 4s 33ms/step - total_loss: -2872.0635 - loss: 14.9849 - kl: 0.1927 - discrim_loss: -5774.4634 - discrim_loss_fake: 2882.0911 - discrim_loss_real: -2882.0911 - misled_loss: 2887.2317\n",
      "Epoch 39/100\n",
      "123/123 [==============================] - 4s 33ms/step - total_loss: -2892.7705 - loss: 15.2427 - kl: 0.1777 - discrim_loss: -5816.2607 - discrim_loss_fake: 2902.9900 - discrim_loss_real: -2902.9900 - misled_loss: 2908.1304\n",
      "Epoch 40/100\n",
      "123/123 [==============================] - 4s 33ms/step - total_loss: -2913.9663 - loss: 15.3498 - kl: 0.1846 - discrim_loss: -5858.0576 - discrim_loss_fake: 2923.8883 - discrim_loss_real: -2923.8883 - misled_loss: 2929.0288\n",
      "Epoch 41/100\n",
      "123/123 [==============================] - 4s 33ms/step - total_loss: -2934.8108 - loss: 15.0212 - kl: 0.1842 - discrim_loss: -5899.8540 - discrim_loss_fake: 2944.7870 - discrim_loss_real: -2944.7870 - misled_loss: 2949.9270\n",
      "Epoch 42/100\n",
      "123/123 [==============================] - 4s 33ms/step - total_loss: -2955.6235 - loss: 14.7558 - kl: 0.1920 - discrim_loss: -5941.6519 - discrim_loss_fake: 2965.6856 - discrim_loss_real: -2965.6856 - misled_loss: 2970.8259\n",
      "Epoch 43/100\n",
      "123/123 [==============================] - 4s 33ms/step - total_loss: -2976.5376 - loss: 14.9944 - kl: 0.1840 - discrim_loss: -5983.4487 - discrim_loss_fake: 2986.5842 - discrim_loss_real: -2986.5842 - misled_loss: 2991.7244\n",
      "Epoch 44/100\n",
      "123/123 [==============================] - 4s 33ms/step - total_loss: -2997.5486 - loss: 14.7035 - kl: 0.1886 - discrim_loss: -6025.2461 - discrim_loss_fake: 3007.4826 - discrim_loss_real: -3007.4826 - misled_loss: 3012.6230\n",
      "Epoch 45/100\n",
      "123/123 [==============================] - 4s 33ms/step - total_loss: -3018.3801 - loss: 15.2567 - kl: 0.1995 - discrim_loss: -6067.0420 - discrim_loss_fake: 3028.3810 - discrim_loss_real: -3028.3810 - misled_loss: 3033.5210\n",
      "Epoch 46/100\n",
      "123/123 [==============================] - 4s 33ms/step - total_loss: -3039.3599 - loss: 15.1416 - kl: 0.1952 - discrim_loss: -6108.8394 - discrim_loss_fake: 3049.2795 - discrim_loss_real: -3049.2795 - misled_loss: 3054.4197\n",
      "Epoch 47/100\n",
      "123/123 [==============================] - 4s 33ms/step - total_loss: -3060.3091 - loss: 15.2733 - kl: 0.1741 - discrim_loss: -6150.6372 - discrim_loss_fake: 3070.1783 - discrim_loss_real: -3070.1783 - misled_loss: 3075.3186\n",
      "Epoch 48/100\n",
      "123/123 [==============================] - 4s 33ms/step - total_loss: -3081.1914 - loss: 14.7322 - kl: 0.1674 - discrim_loss: -6192.4336 - discrim_loss_fake: 3091.0765 - discrim_loss_real: -3091.0765 - misled_loss: 3096.2168\n",
      "Epoch 49/100\n",
      "123/123 [==============================] - 4s 33ms/step - total_loss: -3102.0378 - loss: 14.9883 - kl: 0.1876 - discrim_loss: -6234.2310 - discrim_loss_fake: 3111.9753 - discrim_loss_real: -3111.9753 - misled_loss: 3117.1155\n",
      "Epoch 50/100\n",
      "123/123 [==============================] - 4s 33ms/step - total_loss: -3122.9917 - loss: 14.5120 - kl: 0.1823 - discrim_loss: -6276.0273 - discrim_loss_fake: 3132.8736 - discrim_loss_real: -3132.8736 - misled_loss: 3138.0137\n",
      "Epoch 51/100\n",
      "123/123 [==============================] - 4s 33ms/step - total_loss: -3143.9302 - loss: 15.1511 - kl: 0.1787 - discrim_loss: -6317.8252 - discrim_loss_fake: 3153.7722 - discrim_loss_real: -3153.7722 - misled_loss: 3158.9126\n",
      "Epoch 52/100\n",
      "123/123 [==============================] - 4s 33ms/step - total_loss: -3164.8687 - loss: 14.6465 - kl: 0.1821 - discrim_loss: -6359.6221 - discrim_loss_fake: 3174.6706 - discrim_loss_real: -3174.6706 - misled_loss: 3179.8110\n",
      "Epoch 53/100\n",
      "123/123 [==============================] - 4s 32ms/step - total_loss: -3185.8037 - loss: 14.4840 - kl: 0.1640 - discrim_loss: -6401.4185 - discrim_loss_fake: 3195.5692 - discrim_loss_real: -3195.5692 - misled_loss: 3200.7092\n",
      "Epoch 54/100\n",
      "123/123 [==============================] - 4s 33ms/step - total_loss: -3206.6499 - loss: 15.0705 - kl: 0.1737 - discrim_loss: -6443.2158 - discrim_loss_fake: 3216.4676 - discrim_loss_real: -3216.4676 - misled_loss: 3221.6079\n",
      "Epoch 55/100\n",
      "123/123 [==============================] - 4s 32ms/step - total_loss: -3227.5496 - loss: 14.8634 - kl: 0.1708 - discrim_loss: -6485.0132 - discrim_loss_fake: 3237.3663 - discrim_loss_real: -3237.3663 - misled_loss: 3242.5066\n",
      "Epoch 56/100\n",
      "123/123 [==============================] - 4s 33ms/step - total_loss: -3248.4434 - loss: 14.7294 - kl: 0.1825 - discrim_loss: -6526.8096 - discrim_loss_fake: 3258.2645 - discrim_loss_real: -3258.2645 - misled_loss: 3263.4048\n",
      "Epoch 57/100\n",
      "123/123 [==============================] - 4s 33ms/step - total_loss: -3269.1694 - loss: 14.5875 - kl: 0.1688 - discrim_loss: -6568.6074 - discrim_loss_fake: 3279.1632 - discrim_loss_real: -3279.1632 - misled_loss: 3284.3037\n",
      "Epoch 58/100\n",
      "123/123 [==============================] - 4s 33ms/step - total_loss: -3290.3118 - loss: 14.9345 - kl: 0.1707 - discrim_loss: -6610.4033 - discrim_loss_fake: 3300.0615 - discrim_loss_real: -3300.0615 - misled_loss: 3305.2017\n",
      "Epoch 59/100\n",
      "123/123 [==============================] - 4s 33ms/step - total_loss: -3311.2192 - loss: 14.8780 - kl: 0.1745 - discrim_loss: -6652.2017 - discrim_loss_fake: 3320.9602 - discrim_loss_real: -3320.9602 - misled_loss: 3326.1008\n",
      "Epoch 60/100\n",
      "123/123 [==============================] - 4s 33ms/step - total_loss: -3332.1243 - loss: 14.9879 - kl: 0.1705 - discrim_loss: -6693.9980 - discrim_loss_fake: 3341.8584 - discrim_loss_real: -3341.8584 - misled_loss: 3346.9990\n",
      "Epoch 61/100\n",
      "123/123 [==============================] - 4s 33ms/step - total_loss: -3352.9309 - loss: 14.7042 - kl: 0.1784 - discrim_loss: -6735.7959 - discrim_loss_fake: 3362.7573 - discrim_loss_real: -3362.7573 - misled_loss: 3367.8979\n",
      "Epoch 62/100\n",
      "123/123 [==============================] - 4s 33ms/step - total_loss: -3373.9817 - loss: 14.4380 - kl: 0.1690 - discrim_loss: -6777.5918 - discrim_loss_fake: 3383.6553 - discrim_loss_real: -3383.6553 - misled_loss: 3388.7959\n",
      "Epoch 63/100\n",
      "123/123 [==============================] - 4s 33ms/step - total_loss: -3394.7854 - loss: 14.8635 - kl: 0.1642 - discrim_loss: -6819.3892 - discrim_loss_fake: 3404.5541 - discrim_loss_real: -3404.5541 - misled_loss: 3409.6946\n",
      "Epoch 64/100\n",
      "123/123 [==============================] - 4s 33ms/step - total_loss: -3415.8232 - loss: 14.5782 - kl: 0.1649 - discrim_loss: -6861.1860 - discrim_loss_fake: 3425.4527 - discrim_loss_real: -3425.4527 - misled_loss: 3430.5930\n",
      "Epoch 65/100\n",
      "123/123 [==============================] - 4s 33ms/step - total_loss: -3436.5938 - loss: 14.6396 - kl: 0.1654 - discrim_loss: -6902.9834 - discrim_loss_fake: 3446.3512 - discrim_loss_real: -3446.3512 - misled_loss: 3451.4917\n",
      "Epoch 66/100\n",
      "123/123 [==============================] - 4s 33ms/step - total_loss: -3457.5454 - loss: 14.7052 - kl: 0.1679 - discrim_loss: -6944.7803 - discrim_loss_fake: 3467.2499 - discrim_loss_real: -3467.2499 - misled_loss: 3472.3901\n",
      "Epoch 67/100\n",
      "123/123 [==============================] - 4s 33ms/step - total_loss: -3478.4163 - loss: 14.3373 - kl: 0.1660 - discrim_loss: -6986.5767 - discrim_loss_fake: 3488.1480 - discrim_loss_real: -3488.1480 - misled_loss: 3493.2883\n",
      "Epoch 68/100\n",
      "123/123 [==============================] - 4s 33ms/step - total_loss: -3499.3513 - loss: 14.4860 - kl: 0.1616 - discrim_loss: -7028.3745 - discrim_loss_fake: 3509.0471 - discrim_loss_real: -3509.0471 - misled_loss: 3514.1873\n",
      "Epoch 69/100\n"
     ]
    },
    {
     "name": "stdout",
     "output_type": "stream",
     "text": [
      "123/123 [==============================] - 4s 33ms/step - total_loss: -3520.2104 - loss: 14.7865 - kl: 0.1643 - discrim_loss: -7070.1709 - discrim_loss_fake: 3529.9451 - discrim_loss_real: -3529.9451 - misled_loss: 3535.0854\n",
      "Epoch 70/100\n",
      "123/123 [==============================] - 4s 32ms/step - total_loss: -3541.1033 - loss: 14.3686 - kl: 0.1728 - discrim_loss: -7111.9683 - discrim_loss_fake: 3550.8441 - discrim_loss_real: -3550.8441 - misled_loss: 3555.9841\n",
      "Epoch 71/100\n",
      "123/123 [==============================] - 4s 33ms/step - total_loss: -3562.0486 - loss: 14.5145 - kl: 0.1606 - discrim_loss: -7153.7646 - discrim_loss_fake: 3571.7423 - discrim_loss_real: -3571.7423 - misled_loss: 3576.8823\n",
      "Epoch 72/100\n",
      "123/123 [==============================] - 4s 33ms/step - total_loss: -3582.9709 - loss: 14.3907 - kl: 0.1612 - discrim_loss: -7195.5625 - discrim_loss_fake: 3592.6411 - discrim_loss_real: -3592.6411 - misled_loss: 3597.7812\n",
      "Epoch 73/100\n",
      "123/123 [==============================] - 4s 34ms/step - total_loss: -3603.8560 - loss: 14.6719 - kl: 0.1603 - discrim_loss: -7237.3594 - discrim_loss_fake: 3613.5395 - discrim_loss_real: -3613.5395 - misled_loss: 3618.6797\n",
      "Epoch 74/100\n",
      "123/123 [==============================] - 4s 34ms/step - total_loss: -3624.7307 - loss: 14.6631 - kl: 0.1723 - discrim_loss: -7279.1567 - discrim_loss_fake: 3634.4381 - discrim_loss_real: -3634.4381 - misled_loss: 3639.5784\n",
      "Epoch 75/100\n",
      "123/123 [==============================] - 4s 34ms/step - total_loss: -3645.5957 - loss: 14.4573 - kl: 0.1647 - discrim_loss: -7320.9531 - discrim_loss_fake: 3655.3365 - discrim_loss_real: -3655.3365 - misled_loss: 3660.4766\n",
      "Epoch 76/100\n",
      "123/123 [==============================] - 4s 33ms/step - total_loss: -3666.5720 - loss: 14.6511 - kl: 0.1774 - discrim_loss: -7362.7510 - discrim_loss_fake: 3676.2352 - discrim_loss_real: -3676.2352 - misled_loss: 3681.3755\n",
      "Epoch 77/100\n",
      "123/123 [==============================] - 4s 32ms/step - total_loss: -3687.4604 - loss: 14.3664 - kl: 0.1612 - discrim_loss: -7404.5479 - discrim_loss_fake: 3697.1336 - discrim_loss_real: -3697.1336 - misled_loss: 3702.2739\n",
      "Epoch 78/100\n",
      "123/123 [==============================] - 4s 32ms/step - total_loss: -3708.2976 - loss: 14.8471 - kl: 0.1723 - discrim_loss: -7446.3447 - discrim_loss_fake: 3718.0320 - discrim_loss_real: -3718.0320 - misled_loss: 3723.1724\n",
      "Epoch 79/100\n",
      "123/123 [==============================] - 4s 33ms/step - total_loss: -3729.2639 - loss: 14.7193 - kl: 0.1744 - discrim_loss: -7488.1421 - discrim_loss_fake: 3738.9307 - discrim_loss_real: -3738.9307 - misled_loss: 3744.0710\n",
      "Epoch 80/100\n",
      "123/123 [==============================] - 4s 32ms/step - total_loss: -3750.2283 - loss: 14.6379 - kl: 0.1690 - discrim_loss: -7529.9390 - discrim_loss_fake: 3759.8290 - discrim_loss_real: -3759.8290 - misled_loss: 3764.9695\n",
      "Epoch 81/100\n",
      "123/123 [==============================] - 4s 33ms/step - total_loss: -3771.0522 - loss: 14.4149 - kl: 0.1642 - discrim_loss: -7571.7358 - discrim_loss_fake: 3780.7274 - discrim_loss_real: -3780.7274 - misled_loss: 3785.8679\n",
      "Epoch 82/100\n",
      "123/123 [==============================] - 4s 33ms/step - total_loss: -3792.0178 - loss: 14.2393 - kl: 0.1606 - discrim_loss: -7613.5327 - discrim_loss_fake: 3801.6259 - discrim_loss_real: -3801.6259 - misled_loss: 3806.7664\n",
      "Epoch 83/100\n",
      "123/123 [==============================] - 4s 32ms/step - total_loss: -3812.9504 - loss: 14.4267 - kl: 0.1622 - discrim_loss: -7655.3291 - discrim_loss_fake: 3822.5243 - discrim_loss_real: -3822.5243 - misled_loss: 3827.6646\n",
      "Epoch 84/100\n",
      "123/123 [==============================] - 4s 32ms/step - total_loss: -3833.8459 - loss: 14.7330 - kl: 0.1577 - discrim_loss: -7697.1270 - discrim_loss_fake: 3843.4229 - discrim_loss_real: -3843.4229 - misled_loss: 3848.5635\n",
      "Epoch 85/100\n",
      "123/123 [==============================] - 4s 32ms/step - total_loss: -3854.6938 - loss: 14.8611 - kl: 0.1542 - discrim_loss: -7738.9238 - discrim_loss_fake: 3864.3213 - discrim_loss_real: -3864.3213 - misled_loss: 3869.4619\n",
      "Epoch 86/100\n",
      "123/123 [==============================] - 4s 32ms/step - total_loss: -3875.5356 - loss: 14.5167 - kl: 0.1682 - discrim_loss: -7780.7212 - discrim_loss_fake: 3885.2200 - discrim_loss_real: -3885.2200 - misled_loss: 3890.3606\n",
      "Epoch 87/100\n",
      "123/123 [==============================] - 4s 32ms/step - total_loss: -3896.4849 - loss: 14.3125 - kl: 0.1598 - discrim_loss: -7822.5171 - discrim_loss_fake: 3906.1182 - discrim_loss_real: -3906.1182 - misled_loss: 3911.2585\n",
      "Epoch 88/100\n",
      "123/123 [==============================] - 4s 33ms/step - total_loss: -3917.4651 - loss: 14.3627 - kl: 0.1549 - discrim_loss: -7864.3149 - discrim_loss_fake: 3927.0169 - discrim_loss_real: -3927.0169 - misled_loss: 3932.1575\n",
      "Epoch 89/100\n",
      "123/123 [==============================] - 4s 33ms/step - total_loss: -3938.2263 - loss: 14.8957 - kl: 0.1552 - discrim_loss: -7906.1118 - discrim_loss_fake: 3947.9156 - discrim_loss_real: -3947.9156 - misled_loss: 3953.0559\n",
      "Epoch 90/100\n",
      "123/123 [==============================] - 4s 32ms/step - total_loss: -3959.3169 - loss: 14.3980 - kl: 0.1506 - discrim_loss: -7947.9087 - discrim_loss_fake: 3968.8138 - discrim_loss_real: -3968.8138 - misled_loss: 3973.9543\n",
      "Epoch 91/100\n",
      "123/123 [==============================] - 4s 32ms/step - total_loss: -3980.1306 - loss: 14.3986 - kl: 0.1536 - discrim_loss: -7989.7065 - discrim_loss_fake: 3989.7129 - discrim_loss_real: -3989.7129 - misled_loss: 3994.8533\n",
      "Epoch 92/100\n",
      "123/123 [==============================] - 4s 33ms/step - total_loss: -4000.9866 - loss: 15.0244 - kl: 0.1527 - discrim_loss: -8031.5029 - discrim_loss_fake: 4010.6111 - discrim_loss_real: -4010.6111 - misled_loss: 4015.7515\n",
      "Epoch 93/100\n",
      "123/123 [==============================] - 4s 32ms/step - total_loss: -4021.8835 - loss: 14.4242 - kl: 0.1548 - discrim_loss: -8073.2998 - discrim_loss_fake: 4031.5097 - discrim_loss_real: -4031.5097 - misled_loss: 4036.6499\n",
      "Epoch 94/100\n",
      "123/123 [==============================] - 4s 32ms/step - total_loss: -4042.8584 - loss: 14.7133 - kl: 0.1563 - discrim_loss: -8115.0967 - discrim_loss_fake: 4052.4081 - discrim_loss_real: -4052.4081 - misled_loss: 4057.5483\n",
      "Epoch 95/100\n",
      "123/123 [==============================] - 4s 32ms/step - total_loss: -4063.7395 - loss: 14.5779 - kl: 0.1484 - discrim_loss: -8156.8945 - discrim_loss_fake: 4073.3069 - discrim_loss_real: -4073.3069 - misled_loss: 4078.4473\n",
      "Epoch 96/100\n",
      "123/123 [==============================] - 4s 32ms/step - total_loss: -4084.5916 - loss: 14.4559 - kl: 0.1502 - discrim_loss: -8198.6914 - discrim_loss_fake: 4094.2052 - discrim_loss_real: -4094.2052 - misled_loss: 4099.3457\n",
      "Epoch 97/100\n",
      "123/123 [==============================] - 4s 32ms/step - total_loss: -4105.5381 - loss: 14.2762 - kl: 0.1504 - discrim_loss: -8240.4883 - discrim_loss_fake: 4115.1040 - discrim_loss_real: -4115.1040 - misled_loss: 4120.2441\n",
      "Epoch 98/100\n",
      "123/123 [==============================] - 4s 32ms/step - total_loss: -4126.4644 - loss: 14.3819 - kl: 0.1455 - discrim_loss: -8282.2842 - discrim_loss_fake: 4136.0022 - discrim_loss_real: -4136.0022 - misled_loss: 4141.1421\n",
      "Epoch 99/100\n",
      "123/123 [==============================] - 4s 32ms/step - total_loss: -4147.3213 - loss: 14.4340 - kl: 0.1565 - discrim_loss: -8324.0830 - discrim_loss_fake: 4156.9012 - discrim_loss_real: -4156.9012 - misled_loss: 4162.0415\n",
      "Epoch 100/100\n",
      "123/123 [==============================] - 4s 32ms/step - total_loss: -4168.3496 - loss: 14.2901 - kl: 0.1440 - discrim_loss: -8365.8789 - discrim_loss_fake: 4177.7993 - discrim_loss_real: -4177.7993 - misled_loss: 4182.9395\n"
     ]
    },
    {
     "data": {
      "text/plain": [
       "<tensorflow.python.keras.callbacks.History at 0x7f90cea4c670>"
      ]
     },
     "execution_count": 190,
     "metadata": {},
     "output_type": "execute_result"
    }
   ],
   "source": [
    "model.fit(train, train, batch_size= 8, epochs=100)"
   ]
  },
  {
   "cell_type": "code",
   "execution_count": null,
   "id": "d6badcad",
   "metadata": {},
   "outputs": [],
   "source": []
  },
  {
   "cell_type": "code",
   "execution_count": 45,
   "id": "82a47643",
   "metadata": {},
   "outputs": [],
   "source": [
    "outputs, z, q_mu, p_mu, q_logvar, p_logvar, output_mean, output_logvar,_ = model.predict(test)"
   ]
  },
  {
   "cell_type": "code",
   "execution_count": 48,
   "id": "0b2fc077",
   "metadata": {},
   "outputs": [],
   "source": [
    "outputs, z, q_mu, p_mu, q_logvar, p_logvar, output_mean, output_logvar,_ = model.predict(train)"
   ]
  },
  {
   "cell_type": "code",
   "execution_count": 61,
   "id": "cb13c796",
   "metadata": {},
   "outputs": [
    {
     "name": "stdout",
     "output_type": "stream",
     "text": [
      "tf.Tensor([[1.3469805]], shape=(1, 1), dtype=float32)\n",
      "tf.Tensor([[1.3121101]], shape=(1, 1), dtype=float32)\n",
      "tf.Tensor([[1.2649901]], shape=(1, 1), dtype=float32)\n",
      "tf.Tensor([[1.4576722]], shape=(1, 1), dtype=float32)\n",
      "tf.Tensor([[1.8385289]], shape=(1, 1), dtype=float32)\n",
      "tf.Tensor([[1.3525442]], shape=(1, 1), dtype=float32)\n",
      "tf.Tensor([[1.5154812]], shape=(1, 1), dtype=float32)\n",
      "tf.Tensor([[1.9273438]], shape=(1, 1), dtype=float32)\n",
      "tf.Tensor([[1.5767231]], shape=(1, 1), dtype=float32)\n",
      "tf.Tensor([[2.022925]], shape=(1, 1), dtype=float32)\n",
      "tf.Tensor([[1.9305615]], shape=(1, 1), dtype=float32)\n",
      "tf.Tensor([[1.3264167]], shape=(1, 1), dtype=float32)\n",
      "tf.Tensor([[1.4679875]], shape=(1, 1), dtype=float32)\n",
      "tf.Tensor([[1.1657073]], shape=(1, 1), dtype=float32)\n",
      "tf.Tensor([[1.2779429]], shape=(1, 1), dtype=float32)\n",
      "tf.Tensor([[1.2787718]], shape=(1, 1), dtype=float32)\n",
      "tf.Tensor([[1.3114206]], shape=(1, 1), dtype=float32)\n",
      "tf.Tensor([[1.3087257]], shape=(1, 1), dtype=float32)\n",
      "tf.Tensor([[1.2610774]], shape=(1, 1), dtype=float32)\n",
      "tf.Tensor([[2.127611]], shape=(1, 1), dtype=float32)\n",
      "tf.Tensor([[1.2595721]], shape=(1, 1), dtype=float32)\n",
      "tf.Tensor([[1.3695064]], shape=(1, 1), dtype=float32)\n",
      "tf.Tensor([[1.3345333]], shape=(1, 1), dtype=float32)\n",
      "tf.Tensor([[1.2905749]], shape=(1, 1), dtype=float32)\n",
      "tf.Tensor([[1.3539582]], shape=(1, 1), dtype=float32)\n",
      "tf.Tensor([[1.4123302]], shape=(1, 1), dtype=float32)\n",
      "tf.Tensor([[1.4251828]], shape=(1, 1), dtype=float32)\n",
      "tf.Tensor([[1.5364724]], shape=(1, 1), dtype=float32)\n",
      "tf.Tensor([[1.2104335]], shape=(1, 1), dtype=float32)\n",
      "tf.Tensor([[1.1631889]], shape=(1, 1), dtype=float32)\n",
      "tf.Tensor([[1.1485134]], shape=(1, 1), dtype=float32)\n",
      "tf.Tensor([[1.3034061]], shape=(1, 1), dtype=float32)\n",
      "tf.Tensor([[2.0380213]], shape=(1, 1), dtype=float32)\n",
      "tf.Tensor([[1.3742694]], shape=(1, 1), dtype=float32)\n",
      "tf.Tensor([[1.7555494]], shape=(1, 1), dtype=float32)\n",
      "tf.Tensor([[2.9155414]], shape=(1, 1), dtype=float32)\n",
      "tf.Tensor([[2.7827811]], shape=(1, 1), dtype=float32)\n",
      "tf.Tensor([[1.4124197]], shape=(1, 1), dtype=float32)\n",
      "tf.Tensor([[1.8902106]], shape=(1, 1), dtype=float32)\n",
      "tf.Tensor([[1.1064937]], shape=(1, 1), dtype=float32)\n",
      "tf.Tensor([[1.2027484]], shape=(1, 1), dtype=float32)\n",
      "tf.Tensor([[1.3631446]], shape=(1, 1), dtype=float32)\n",
      "tf.Tensor([[1.3310363]], shape=(1, 1), dtype=float32)\n",
      "tf.Tensor([[2.0207691]], shape=(1, 1), dtype=float32)\n",
      "tf.Tensor([[2.0559409]], shape=(1, 1), dtype=float32)\n",
      "tf.Tensor([[1.1313332]], shape=(1, 1), dtype=float32)\n",
      "tf.Tensor([[1.2848241]], shape=(1, 1), dtype=float32)\n",
      "tf.Tensor([[1.3907881]], shape=(1, 1), dtype=float32)\n",
      "tf.Tensor([[1.5162646]], shape=(1, 1), dtype=float32)\n",
      "tf.Tensor([[1.0547434]], shape=(1, 1), dtype=float32)\n",
      "tf.Tensor([[1.1659034]], shape=(1, 1), dtype=float32)\n",
      "tf.Tensor([[1.291788]], shape=(1, 1), dtype=float32)\n",
      "tf.Tensor([[1.6052207]], shape=(1, 1), dtype=float32)\n",
      "tf.Tensor([[1.3778493]], shape=(1, 1), dtype=float32)\n",
      "tf.Tensor([[1.253769]], shape=(1, 1), dtype=float32)\n",
      "tf.Tensor([[1.2336367]], shape=(1, 1), dtype=float32)\n",
      "tf.Tensor([[1.2514812]], shape=(1, 1), dtype=float32)\n",
      "tf.Tensor([[1.2919856]], shape=(1, 1), dtype=float32)\n",
      "tf.Tensor([[1.3090833]], shape=(1, 1), dtype=float32)\n",
      "tf.Tensor([[1.4978251]], shape=(1, 1), dtype=float32)\n",
      "tf.Tensor([[1.6345592]], shape=(1, 1), dtype=float32)\n",
      "tf.Tensor([[2.701326]], shape=(1, 1), dtype=float32)\n",
      "tf.Tensor([[1.2836056]], shape=(1, 1), dtype=float32)\n",
      "tf.Tensor([[1.3523703]], shape=(1, 1), dtype=float32)\n",
      "tf.Tensor([[1.4188029]], shape=(1, 1), dtype=float32)\n",
      "tf.Tensor([[1.6067233]], shape=(1, 1), dtype=float32)\n",
      "tf.Tensor([[1.2496227]], shape=(1, 1), dtype=float32)\n",
      "tf.Tensor([[1.3135135]], shape=(1, 1), dtype=float32)\n",
      "tf.Tensor([[1.4593984]], shape=(1, 1), dtype=float32)\n",
      "tf.Tensor([[1.1395761]], shape=(1, 1), dtype=float32)\n",
      "tf.Tensor([[1.4967543]], shape=(1, 1), dtype=float32)\n",
      "tf.Tensor([[1.6918094]], shape=(1, 1), dtype=float32)\n",
      "tf.Tensor([[1.2527006]], shape=(1, 1), dtype=float32)\n",
      "tf.Tensor([[1.835672]], shape=(1, 1), dtype=float32)\n",
      "tf.Tensor([[1.0994217]], shape=(1, 1), dtype=float32)\n",
      "tf.Tensor([[1.505071]], shape=(1, 1), dtype=float32)\n",
      "tf.Tensor([[1.6175427]], shape=(1, 1), dtype=float32)\n",
      "tf.Tensor([[1.4069735]], shape=(1, 1), dtype=float32)\n",
      "tf.Tensor([[1.8193005]], shape=(1, 1), dtype=float32)\n",
      "tf.Tensor([[1.5138131]], shape=(1, 1), dtype=float32)\n",
      "tf.Tensor([[1.0615427]], shape=(1, 1), dtype=float32)\n",
      "tf.Tensor([[1.511661]], shape=(1, 1), dtype=float32)\n",
      "tf.Tensor([[1.7653065]], shape=(1, 1), dtype=float32)\n",
      "tf.Tensor([[1.1928715]], shape=(1, 1), dtype=float32)\n",
      "tf.Tensor([[1.2750282]], shape=(1, 1), dtype=float32)\n",
      "tf.Tensor([[1.5339997]], shape=(1, 1), dtype=float32)\n",
      "tf.Tensor([[1.4640622]], shape=(1, 1), dtype=float32)\n",
      "tf.Tensor([[1.2876781]], shape=(1, 1), dtype=float32)\n",
      "tf.Tensor([[1.5050957]], shape=(1, 1), dtype=float32)\n",
      "tf.Tensor([[1.4355212]], shape=(1, 1), dtype=float32)\n",
      "tf.Tensor([[1.714917]], shape=(1, 1), dtype=float32)\n",
      "tf.Tensor([[1.2754464]], shape=(1, 1), dtype=float32)\n",
      "tf.Tensor([[1.410299]], shape=(1, 1), dtype=float32)\n",
      "tf.Tensor([[1.3119044]], shape=(1, 1), dtype=float32)\n",
      "tf.Tensor([[1.2736024]], shape=(1, 1), dtype=float32)\n",
      "tf.Tensor([[2.0096993]], shape=(1, 1), dtype=float32)\n",
      "tf.Tensor([[1.9502852]], shape=(1, 1), dtype=float32)\n",
      "tf.Tensor([[1.218359]], shape=(1, 1), dtype=float32)\n",
      "tf.Tensor([[1.0768843]], shape=(1, 1), dtype=float32)\n",
      "tf.Tensor([[1.4121155]], shape=(1, 1), dtype=float32)\n"
     ]
    }
   ],
   "source": [
    "history = all_sample[1000:1010]\n",
    "history = np.reshape(history, (history.shape[0], 1))\n",
    "results = model.rec_gen(history, 100)\n"
   ]
  },
  {
   "cell_type": "code",
   "execution_count": 62,
   "id": "14fa47ca",
   "metadata": {},
   "outputs": [
    {
     "data": {
      "text/plain": [
       "(-10.0, 10.0)"
      ]
     },
     "execution_count": 62,
     "metadata": {},
     "output_type": "execute_result"
    },
    {
     "data": {
      "image/png": "[encoded data removed]",
      "text/plain": [
       "<Figure size 432x288 with 1 Axes>"
      ]
     },
     "metadata": {
      "needs_background": "light"
     },
     "output_type": "display_data"
    }
   ],
   "source": [
    "import matplotlib.pyplot as plt\n",
    "import numpy as np\n",
    "plt.plot(np.squeeze(results))\n",
    "plt.ylim([-10,10])"
   ]
  },
  {
   "cell_type": "code",
   "execution_count": 71,
   "id": "f82efab9",
   "metadata": {},
   "outputs": [],
   "source": [
    "sample = all_sample[:2]"
   ]
  },
  {
   "cell_type": "code",
   "execution_count": 73,
   "id": "34ffa034",
   "metadata": {},
   "outputs": [
    {
     "data": {
      "text/plain": [
       "2.4709196947528036"
      ]
     },
     "execution_count": 73,
     "metadata": {},
     "output_type": "execute_result"
    }
   ],
   "source": [
    "np.reshape(sample[1]"
   ]
  },
  {
   "cell_type": "code",
   "execution_count": 195,
   "id": "79d2d2a5",
   "metadata": {},
   "outputs": [],
   "source": [
    "sample = all_sample[1000:1010]\n",
    "results = []\n",
    "state = None\n",
    "\n",
    "for i in range(sample.shape[0]):\n",
    "    inp = np.reshape(np.asarray(sample[i]), (1,1))\n",
    "    outputs, state = model.vrnn_cell(inp, states=state, inference=True)\n",
    "    results.append(outputs[0].numpy())\n",
    "    state = [state]\n"
   ]
  },
  {
   "cell_type": "code",
   "execution_count": 196,
   "id": "943a74ab",
   "metadata": {},
   "outputs": [
    {
     "data": {
      "text/plain": [
       "[array([[-0.61025935]], dtype=float32),\n",
       " array([[-0.31097606]], dtype=float32),\n",
       " array([[1.2257732]], dtype=float32),\n",
       " array([[-1.867199]], dtype=float32),\n",
       " array([[0.14607309]], dtype=float32),\n",
       " array([[0.3674968]], dtype=float32),\n",
       " array([[-0.09521774]], dtype=float32),\n",
       " array([[0.57539934]], dtype=float32),\n",
       " array([[-0.16620894]], dtype=float32),\n",
       " array([[-0.10800996]], dtype=float32)]"
      ]
     },
     "execution_count": 196,
     "metadata": {},
     "output_type": "execute_result"
    }
   ],
   "source": [
    "results"
   ]
  },
  {
   "cell_type": "code",
   "execution_count": 82,
   "id": "8ed65059",
   "metadata": {},
   "outputs": [
    {
     "data": {
      "text/plain": [
       "array([ 1.59094473,  2.47091969,  2.06751922,  1.31741995, -1.3532609 ,\n",
       "       -1.55548896, -0.52395437, -0.48088576, -0.05061439, -0.79037532])"
      ]
     },
     "execution_count": 82,
     "metadata": {},
     "output_type": "execute_result"
    }
   ],
   "source": [
    "all_sample[:10]"
   ]
  },
  {
   "cell_type": "code",
   "execution_count": 46,
   "id": "834fc4da",
   "metadata": {},
   "outputs": [
    {
     "data": {
      "text/plain": [
       "(-10.0, 10.0)"
      ]
     },
     "execution_count": 46,
     "metadata": {},
     "output_type": "execute_result"
    },
    {
     "data": {
      "image/png": "[encoded data removed]",
      "text/plain": [
       "<Figure size 432x288 with 1 Axes>"
      ]
     },
     "metadata": {
      "needs_background": "light"
     },
     "output_type": "display_data"
    }
   ],
   "source": [
    "import matplotlib.pyplot as plt\n",
    "plt.plot(outputs[:,-1,:], label='predicted', color='green')\n",
    "plt.ylim([-10,10])"
   ]
  },
  {
   "cell_type": "code",
   "execution_count": 85,
   "id": "0a9af152",
   "metadata": {},
   "outputs": [],
   "source": [
    "model.save_weights('vrnngan_ar_mix/vrnngan_ar_mix')"
   ]
  },
  {
   "cell_type": "code",
   "execution_count": 47,
   "id": "4cad892e",
   "metadata": {},
   "outputs": [
    {
     "data": {
      "text/plain": [
       "array([[[0.76979536],\n",
       "        [1.2070837 ],\n",
       "        [1.5219525 ],\n",
       "        ...,\n",
       "        [1.6985432 ],\n",
       "        [1.4106805 ],\n",
       "        [1.7461207 ]],\n",
       "\n",
       "       [[1.3074989 ],\n",
       "        [2.5404918 ],\n",
       "        [1.6182864 ],\n",
       "        ...,\n",
       "        [1.3737599 ],\n",
       "        [1.7780994 ],\n",
       "        [1.3186988 ]],\n",
       "\n",
       "       [[1.2207961 ],\n",
       "        [1.8572481 ],\n",
       "        [1.8351923 ],\n",
       "        ...,\n",
       "        [1.2346956 ],\n",
       "        [1.3927209 ],\n",
       "        [1.4447644 ]],\n",
       "\n",
       "       ...,\n",
       "\n",
       "       [[1.6199411 ],\n",
       "        [3.03318   ],\n",
       "        [2.0880752 ],\n",
       "        ...,\n",
       "        [1.428917  ],\n",
       "        [1.479166  ],\n",
       "        [1.3134329 ]],\n",
       "\n",
       "       [[2.1106937 ],\n",
       "        [1.8034691 ],\n",
       "        [1.3852271 ],\n",
       "        ...,\n",
       "        [1.5439577 ],\n",
       "        [1.5243273 ],\n",
       "        [1.4399766 ]],\n",
       "\n",
       "       [[1.706568  ],\n",
       "        [1.8644767 ],\n",
       "        [1.3391348 ],\n",
       "        ...,\n",
       "        [1.221934  ],\n",
       "        [1.2962865 ],\n",
       "        [1.5701077 ]]], dtype=float32)"
      ]
     },
     "execution_count": 47,
     "metadata": {},
     "output_type": "execute_result"
    }
   ],
   "source": [
    "output_logvar"
   ]
  },
  {
   "cell_type": "code",
   "execution_count": 49,
   "id": "7f2311a5",
   "metadata": {},
   "outputs": [
    {
     "data": {
      "text/plain": [
       "array([[[0.9749361],\n",
       "        [1.490797 ],\n",
       "        [1.7939472],\n",
       "        ...,\n",
       "        [1.4997733],\n",
       "        [2.1554503],\n",
       "        [1.9564192]],\n",
       "\n",
       "       [[0.8762836],\n",
       "        [1.1673932],\n",
       "        [1.4296398],\n",
       "        ...,\n",
       "        [1.1593375],\n",
       "        [1.4785458],\n",
       "        [1.4607835]],\n",
       "\n",
       "       [[1.1352748],\n",
       "        [1.5505363],\n",
       "        [1.8061168],\n",
       "        ...,\n",
       "        [1.5137576],\n",
       "        [1.3158495],\n",
       "        [1.743006 ]],\n",
       "\n",
       "       ...,\n",
       "\n",
       "       [[1.389211 ],\n",
       "        [1.3945657],\n",
       "        [1.6860974],\n",
       "        ...,\n",
       "        [1.7522663],\n",
       "        [1.4585972],\n",
       "        [1.40649  ]],\n",
       "\n",
       "       [[0.8032018],\n",
       "        [1.3608419],\n",
       "        [1.7522684],\n",
       "        ...,\n",
       "        [1.4761373],\n",
       "        [1.4398439],\n",
       "        [1.6503702]],\n",
       "\n",
       "       [[0.9139242],\n",
       "        [1.3364618],\n",
       "        [1.3355739],\n",
       "        ...,\n",
       "        [1.5432785],\n",
       "        [1.3446728],\n",
       "        [1.5788549]]], dtype=float32)"
      ]
     },
     "execution_count": 49,
     "metadata": {},
     "output_type": "execute_result"
    }
   ],
   "source": [
    "output_logvar"
   ]
  },
  {
   "cell_type": "code",
   "execution_count": null,
   "id": "fbdd71f9",
   "metadata": {},
   "outputs": [],
   "source": []
  }
 ],
 "metadata": {
  "kernelspec": {
   "display_name": "bash-venv",
   "language": "python",
   "name": "bash-venv"
  },
  "language_info": {
   "codemirror_mode": {
    "name": "ipython",
    "version": 3
   },
   "file_extension": ".py",
   "mimetype": "text/x-python",
   "name": "python",
   "nbconvert_exporter": "python",
   "pygments_lexer": "ipython3",
   "version": "3.8.5"
  }
 },
 "nbformat": 4,
 "nbformat_minor": 5
}
