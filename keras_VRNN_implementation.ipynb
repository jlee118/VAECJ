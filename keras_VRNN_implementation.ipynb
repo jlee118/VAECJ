{
 "cells": [
  {
   "cell_type": "code",
   "execution_count": 1,
   "metadata": {},
   "outputs": [
    {
     "data": {
      "application/vnd.jupyter.widget-view+json": {
       "model_id": "8c8a1f817e404faeb10bf4e0f8e172b3",
       "version_major": 2,
       "version_minor": 0
      },
      "text/plain": [
       "parsing log, completed traces ::   0%|          | 0/13087 [00:00<?, ?it/s]"
      ]
     },
     "metadata": {},
     "output_type": "display_data"
    }
   ],
   "source": [
    "import os \n",
    "import pm4py\n",
    "from pm4py.objects.conversion.log import converter as log_converter\n",
    "import pandas as pd\n",
    "\n",
    "curr_path = os.path.abspath('')\n",
    "folder_path = os.path.join(curr_path, 'data')\n",
    "filepath = os.path.join(folder_path, 'BPI_Challenge_2012.xes')\n",
    "log = pm4py.read_xes(filepath)\n",
    "df = log_converter.apply(log, variant=log_converter.Variants.TO_DATA_FRAME)"
   ]
  },
  {
   "cell_type": "code",
   "execution_count": 2,
   "metadata": {},
   "outputs": [],
   "source": [
    "unique_activities = pd.unique(df['concept:name'])\n",
    "activity_encoder = dict(zip(unique_activities,range(3,len(unique_activities) + 3)))\n",
    "activity_encoder['Start'] = 1\n",
    "activity_encoder['End'] = 2\n",
    "df['concept:encoded'] = df['concept:name'].apply(lambda x: activity_encoder[x])"
   ]
  },
  {
   "cell_type": "code",
   "execution_count": 3,
   "metadata": {},
   "outputs": [],
   "source": [
    "import pandas as pd\n",
    "\n",
    "def process_arrays(df, complete=False, W=False):\n",
    "    proc_df = df\n",
    "    if complete:\n",
    "        proc_df = proc_df[proc_df['lifecycle:transition'] == 'COMPLETE']\n",
    "    if W:\n",
    "        proc_df = proc_df[proc_df['concept:name'].str.startswith('W_')]\n",
    "    \n",
    "    arrays = proc_df.groupby(['case:concept:name']).agg(list)\n",
    "    arrays.reset_index(inplace=True)\n",
    "    arrays['time:interarrival_min'] = arrays['time:timestamp'].apply(lambda x: [0] + [0] + [((x[i+1] - x[i]).total_seconds() / 60) for i in range(len(x)-1)] + [0])\n",
    "    arrays['concept:encoded'] = arrays['concept:encoded'].apply(lambda x: [1] + x + [2])\n",
    "    return arrays"
   ]
  },
  {
   "cell_type": "code",
   "execution_count": 4,
   "metadata": {},
   "outputs": [],
   "source": [
    "arrays = process_arrays(df, complete=True, W=True)"
   ]
  },
  {
   "cell_type": "code",
   "execution_count": 5,
   "metadata": {},
   "outputs": [],
   "source": [
    "from sklearn.model_selection import train_test_split, KFold\n",
    "import numpy as np\n",
    "sampled_arrays = arrays.sample(n=5000)\n",
    "\n",
    "kf = KFold(n_splits=3)\n",
    "splits = []\n",
    "for train_index, test_index in kf.split(sampled_arrays['case:concept:name']):\n",
    "    id_tr = arrays['case:concept:name'].iloc[train_index]\n",
    "    id_te = arrays['case:concept:name'].iloc[test_index]\n",
    "    splits.append((id_tr, id_te))"
   ]
  },
  {
   "cell_type": "code",
   "execution_count": 6,
   "metadata": {},
   "outputs": [],
   "source": [
    "i = 1\n",
    "id_train, id_test = splits[i]"
   ]
  },
  {
   "cell_type": "code",
   "execution_count": 7,
   "metadata": {},
   "outputs": [],
   "source": [
    "from tensorflow import keras\n",
    "from tensorflow.keras.utils import to_categorical\n",
    "from tensorflow.keras import layers\n",
    "import numpy as np\n",
    "# Many to one + context\n",
    "\n",
    "\n",
    "activity_decoder = {v:k for k,v in activity_encoder.items()}\n",
    "\n",
    "def many_to_one_prep(journey):\n",
    "    \"\"\"\n",
    "    Setting up a many-to-one scheme.\n",
    "    Function Input is a complete journey.\n",
    "    Returns an RNN input of a history of activities, output is the following activity\n",
    "    \"\"\"\n",
    "    inp = [journey[:i] for i in range(1,len(journey))]\n",
    "    out = journey[1:]\n",
    "    return (inp,out)\n",
    "\n",
    "def many_to_many_hybrid_prep(journey):\n",
    "    \"\"\"\n",
    "    Setting up a many-to-many scheme.\n",
    "    Function Input is a complete journey.\n",
    "    Returns an RNN input of a history of activities, output is the following activity\n",
    "    \"\"\"\n",
    "    inp = [journey[:i] for i in range(1,len(journey))]\n",
    "    out = [journey[1:i+1] for i in range(1, len(journey))]\n",
    "    match = [journey[:i+1] for i in range(1, len(journey))]\n",
    "    return (inp,out, match)\n",
    "\n",
    "def many_to_many_prep(journey):\n",
    "    \"\"\"\n",
    "    Setting up a many-to-many scheme shifted by 1.  \n",
    "    Function input is a complete journey.\n",
    "    Returns an RNN input of a history of activities omitting the final activity, output is the same history shifted by 1 timeslot (omitting the first activity)\n",
    "    \"\"\"\n",
    "    inp = journey[:-1]\n",
    "    out = journey[1:]\n",
    "    return(inp, out)\n",
    "\n",
    "def many_to_many_make_data(id_indexes, arrays_df):\n",
    "    \"\"\"\n",
    "    Creates training and testing sets for an RNN model.  \n",
    "    Function input are indices of a selected subset of data, a DataFrame consisting of aggregated list-like journey data, and a data preparation method.\n",
    "    Returns a tuple of training and testing data for journeys and inter-arrival times.\n",
    "    \"\"\"\n",
    "    X_j = []\n",
    "    Y_j = []\n",
    "    X_t = []\n",
    "    Y_t = []\n",
    "\n",
    "    selected = arrays_df[arrays_df[\"case:concept:name\"].isin(id_indexes)]\n",
    "\n",
    "    for index, row in selected.iterrows():\n",
    "        j_inp, j_out = many_to_many_prep(row['concept:encoded'])\n",
    "        t_inp, t_out = many_to_many_prep(row['time:interarrival_min'])\n",
    "        X_j.append(j_inp)\n",
    "        X_t.append(t_inp)\n",
    "        Y_j.append(j_out)\n",
    "        Y_t.append(t_out)\n",
    "    X_j = keras.preprocessing.sequence.pad_sequences(X_j, padding='pre', maxlen=60)\n",
    "    X_j = to_categorical(X_j)\n",
    "    X_t = keras.preprocessing.sequence.pad_sequences(X_t, padding='pre', maxlen=60)\n",
    "    Y_j = keras.preprocessing.sequence.pad_sequences(Y_j, padding='pre', maxlen=60)\n",
    "    Y_j = to_categorical(Y_j)\n",
    "    Y_t = keras.preprocessing.sequence.pad_sequences(Y_t, padding='pre', maxlen=60)\n",
    "    return (X_j, X_t, Y_j, Y_t)\n",
    "\n",
    "def many_to_one_make_data(id_indexes, arrays_df):\n",
    "    \"\"\"\n",
    "    Creates training and testing sets for an RNN model.  \n",
    "    Function input are indices of a selected subset of data, a DataFrame consisting of aggregated list-like journey data, and a data preparation method.\n",
    "    Returns a tuple of training and testing data for journeys and inter-arrival times.\n",
    "    \"\"\"\n",
    "    X_j = []\n",
    "    Y_j = []\n",
    "    \n",
    "    X_t = []\n",
    "    Y_t = []\n",
    "    \n",
    "\n",
    "    selected = arrays_df[arrays_df[\"case:concept:name\"].isin(id_indexes)]\n",
    "\n",
    "    for index, row in selected.iterrows():\n",
    "        j_inp, j_out = many_to_one_prep(row['concept:encoded'])\n",
    "        t_inp, t_out = many_to_one_prep(row['time:interarrival_min'])\n",
    "        X_j.extend(j_inp)\n",
    "        X_t.extend(t_inp)\n",
    "        Y_j.extend(j_out)\n",
    "        Y_t.extend(t_out)\n",
    "    X_j = keras.preprocessing.sequence.pad_sequences(X_j, padding='pre', maxlen=60)\n",
    "    X_j = to_categorical(X_j)\n",
    "    X_t = keras.preprocessing.sequence.pad_sequences(X_t, padding='pre', maxlen=60)\n",
    "    Y_j = np.asarray(Y_j).astype(\"float32\")\n",
    "    Y_j = to_categorical(Y_j)\n",
    "    Y_t = np.asarray(Y_t).astype(\"float32\")\n",
    "    return (X_j, X_t, Y_j, Y_t)\n",
    "\n",
    "def inject_noise(array, d):\n",
    "    replaced = np.where(array==1, 0.9, array)\n",
    "    replaced = np.where(replaced == 0, 0.1/(d-1), array)\n",
    "    return replaced\n",
    "    \n",
    "\n",
    "def many_to_many_hybrid_make_data(id_indexes, arrays_df):\n",
    "    \"\"\"\n",
    "    Creates training and testing sets for an RNN model.  \n",
    "    Function input are indices of a selected subset of data, a DataFrame consisting of aggregated list-like journey data, and a data preparation method.\n",
    "    Returns a tuple of training and testing data for journeys and inter-arrival times.\n",
    "    \"\"\"\n",
    "    X_j = []\n",
    "    Y_j = []\n",
    "    match_j = []\n",
    "    X_t = []\n",
    "    Y_t = []\n",
    "    match_t = []\n",
    "\n",
    "    selected = arrays_df[arrays_df[\"case:concept:name\"].isin(id_indexes)]\n",
    "\n",
    "    for index, row in selected.iterrows():\n",
    "        j_inp, j_out, j_match = many_to_many_hybrid_prep(row['concept:encoded'])\n",
    "        t_inp, t_out, t_match = many_to_many_hybrid_prep(row['time:interarrival_min'])\n",
    "        X_j.extend(j_inp)\n",
    "        X_t.extend(t_inp)\n",
    "        match_j.extend(j_match)\n",
    "        match_t.extend(t_match)\n",
    "        Y_j.extend(j_out)\n",
    "        Y_t.extend(t_out)\n",
    "    X_j = keras.preprocessing.sequence.pad_sequences(X_j, padding='pre', maxlen=60)\n",
    "    X_j = to_categorical(X_j)\n",
    "    X_t = keras.preprocessing.sequence.pad_sequences(X_t, padding='pre', maxlen=60)\n",
    "    Y_j = keras.preprocessing.sequence.pad_sequences(Y_j, padding='pre', maxlen=60)\n",
    "    Y_j = to_categorical(Y_j)\n",
    "    Y_t = keras.preprocessing.sequence.pad_sequences(Y_t, padding='pre', maxlen=60)\n",
    "    match_j = keras.preprocessing.sequence.pad_sequences(match_j, padding='pre', maxlen=60)\n",
    "    match_j = to_categorical(match_j)\n",
    "    match_t = keras.preprocessing.sequence.pad_sequences(match_t, padding='pre', maxlen=60)\n",
    "    return (X_j, X_t, Y_j, Y_t, match_j, match_t)"
   ]
  },
  {
   "cell_type": "code",
   "execution_count": 8,
   "metadata": {},
   "outputs": [],
   "source": [
    "X_j_train, X_t_train, Y_j_train, Y_t_train, match_j, match_t = many_to_many_hybrid_make_data(id_train.values, arrays)"
   ]
  },
  {
   "cell_type": "code",
   "execution_count": 1083,
   "metadata": {},
   "outputs": [],
   "source": [
    "X_j_test, X_t_test, Y_j_test, Y_t_test, _, _ = many_to_many_hybrid_make_data(id_test.values, arrays)"
   ]
  },
  {
   "cell_type": "code",
   "execution_count": 30,
   "metadata": {},
   "outputs": [],
   "source": [
    "X_j_test, X_t_test, Y_j_test, Y_t_test = many_to_one_make_data(id_test.values, arrays)"
   ]
  },
  {
   "cell_type": "markdown",
   "metadata": {},
   "source": [
    "# VRNN Model (Runs properly)"
   ]
  },
  {
   "cell_type": "code",
   "execution_count": 35,
   "metadata": {},
   "outputs": [],
   "source": [
    "import tensorflow as tf\n",
    "import numpy as np\n",
    "# Implementing Variational RNN's and variations by subclassing Keras RNN-type Cells\n",
    "\n",
    "class VRNNCell(tf.keras.layers.GRUCell):\n",
    "    def __init__(self, units, **kwargs):\n",
    "        super(VRNNCell, self).__init__(units, **kwargs)\n",
    "    \n",
    "\n",
    "    def build(self, input_shape):\n",
    "        # Taking most of the standard weight initiaalizations from the base GRU class\n",
    "        super().build((input_shape[0], input_shape[1] + self.units))\n",
    "        \n",
    "        self.input_kernel = self.add_weight(shape=(input_shape[-1], input_shape[-1]), name=\"layer\", initializer='truncated_normal')\n",
    "        \n",
    "        self.prior_kernel = self.add_weight(shape=(self.units, self.units),name=\"layer\", initializer='truncated_normal')\n",
    "        \n",
    "        self.pos_kernel = self.add_weight(shape=(input_shape[-1] + self.units,input_shape[-1] + self.units), name=\"layer\", initializer='truncated_normal')\n",
    "        \n",
    "        self.encoder_mu_kernel = self.add_weight(shape=(input_shape[-1] + self.units, self.units), name=\"layer\", initializer='truncated_normal')\n",
    "        \n",
    "        self.encoder_logvar_kernel = self.add_weight(shape=(input_shape[-1] + self.units, self.units), name=\"layer\", initializer='truncated_normal')\n",
    "        \n",
    "        self.prior_mu_kernel = self.add_weight(shape=(self.units, self.units), name=\"layer\", initializer='truncated_normal')\n",
    "        \n",
    "        self.prior_logvar_kernel = self.add_weight(shape=(self.units, self.units), name=\"layer\", initializer='truncated_normal')  \n",
    "        \n",
    "        self.z_kernel = self.add_weight(shape=(self.units, self.units), name=\"layer\", initializer='truncated_normal')\n",
    "        \n",
    "        self.output_kernel = self.add_weight(shape=(self.units + self.units, self.units + self.units), name=\"layer\", initializer='truncated_normal')\n",
    "\n",
    "\n",
    "    def sample(self, mu, log_var):\n",
    "        # Sample from unit Normal\n",
    "        dims = tf.shape(mu)\n",
    "        epsilon = tf.random.normal(dims)\n",
    "        # All element-wise computations\n",
    "        std = tf.math.exp(0.5 * log_var)\n",
    "        z = tf.math.multiply(std, epsilon) + mu\n",
    "        return z\n",
    "    \n",
    "    def call(self, inputs, states, training=False):\n",
    "        # Some formulations:\n",
    "        # Generation:\n",
    "        # z_t ~ N(mu_(0, t), sigma_(0,t)), w here [mu_(0,t), sigma(0,t)] = phi_prior(h_(t-1))\n",
    "        # Update: \n",
    "        # h_t = f_theta(h_(t-1), z_t, x_t) *recurrence equation\n",
    "        # Inference:\n",
    "        # z_t ~ N(mu_z, sigma_z), where [mu_z, sigma_z] = phi_post(x_t, h_(t-1))\n",
    "        #\n",
    "        # Let the base RNN cell handle the rest and add loss\n",
    "        \n",
    "        if training:\n",
    "            x_t = tf.matmul(inputs, self.input_kernel)\n",
    "            h_prev = states[0]\n",
    "\n",
    "            prior = tf.matmul(h_prev, self.prior_kernel)\n",
    "            p_mu = tf.matmul(prior, self.prior_mu_kernel)\n",
    "            p_logvar = tf.matmul(prior, self.prior_logvar_kernel)\n",
    "            \n",
    "            input_state_concat = tf.concat([x_t, h_prev], axis=1)\n",
    "            \n",
    "            pos = tf.matmul(input_state_concat, self.pos_kernel)\n",
    "            q_mu = tf.matmul(pos, self.encoder_mu_kernel)\n",
    "            q_logvar = tf.matmul(pos, self.encoder_logvar_kernel)\n",
    "            z_t = self.sample(q_mu, q_logvar)\n",
    "            phi_z_t = tf.matmul(z_t, self.z_kernel)\n",
    "            \n",
    "            inp = tf.concat([x_t, phi_z_t], axis=1)\n",
    "            \n",
    "            \n",
    "            output = tf.matmul(tf.concat([h_prev, phi_z_t], axis=1), self.output_kernel)\n",
    "            \n",
    "            _, h_next = super().call(inp, h_prev)\n",
    "            \n",
    "            all_output = (output, z_t, q_mu, p_mu, q_logvar, p_logvar)\n",
    "            return all_output, h_next\n",
    "        \n",
    "        else:\n",
    "            x_t = tf.matmul(inputs, self.input_kernel)\n",
    "            h_prev = states[0]\n",
    "\n",
    "            prior = tf.matmul(h_prev, self.prior_kernel)\n",
    "            p_mu = tf.matmul(prior, self.prior_mu_kernel)\n",
    "            p_logvar = tf.matmul(prior, self.prior_logvar_kernel)\n",
    "            \n",
    "            input_state_concat = tf.concat([x_t, h_prev], axis=1)\n",
    "            \n",
    "            pos = tf.matmul(input_state_concat, self.pos_kernel)\n",
    "            q_mu = tf.matmul(pos, self.encoder_mu_kernel)\n",
    "            q_logvar = tf.matmul(pos, self.encoder_logvar_kernel)\n",
    "            z_t = self.sample(p_mu, p_logvar)\n",
    "            phi_z_t = tf.matmul(z_t, self.z_kernel)\n",
    "            \n",
    "            inp = tf.concat([x_t, phi_z_t], axis=1)\n",
    "            \n",
    "            \n",
    "            output = tf.matmul(tf.concat([h_prev, phi_z_t], axis=1), self.output_kernel)\n",
    "            \n",
    "            _, h_next = super().call(inp, h_prev)\n",
    "            \n",
    "            all_output = (output, z_t, q_mu, p_mu, q_logvar, p_logvar)\n",
    "            return all_output, h_next\n",
    "    \n",
    "   \n",
    "    def get_config(self):\n",
    "        return {\"units\":self.units}"
   ]
  },
  {
   "cell_type": "code",
   "execution_count": 26,
   "metadata": {},
   "outputs": [],
   "source": [
    "def kl_gauss(posterior_means, prior_means, posterior_log_var, prior_log_var):   \n",
    "    kl = prior_log_var - posterior_log_var + (tf.exp(posterior_log_var) + \n",
    "                                       tf.square(posterior_means - prior_means)) / tf.exp(prior_log_var) - 1\n",
    "    kl = 0.5 * tf.reduce_sum(kl, axis=(1,2))\n",
    "    return kl\n",
    "\n",
    "class VRNNGRU(tf.keras.Model):\n",
    "    def __init__(self, feature_space, latent_dim, timesteps,**kwargs):\n",
    "        super(VRNNGRU, self).__init__(**kwargs)\n",
    "        vrnn_cell = VRNNCell(latent_dim)\n",
    "        self.latent_dim = latent_dim\n",
    "        \n",
    "        vrnn_input = keras.layers.Input(shape=(timesteps, feature_space))\n",
    "        vrnn_output = keras.layers.RNN(vrnn_cell, return_sequences=True)(vrnn_input)\n",
    "        self.vrnn = keras.Model(vrnn_input, vrnn_output)\n",
    "        \n",
    "        decoder_input = keras.layers.Input(shape=(timesteps, latent_dim))\n",
    "        output =  keras.layers.TimeDistributed(keras.layers.Dense(feature_space, activation='softmax'))(decoder_input)\n",
    "        self.decoder =keras.Model(decoder_input, output)\n",
    "        \n",
    "        self.total_loss_tracker = keras.metrics.Mean(name=\"total_loss\")\n",
    "        self.reconstruction_loss_tracker = keras.metrics.Mean(\n",
    "            name=\"reconstruction_loss\"\n",
    "        )\n",
    "        self.kl_loss_tracker = keras.metrics.Mean(name=\"kl_loss\")\n",
    "        \n",
    "    @property\n",
    "    def metrics(self):\n",
    "        return [\n",
    "            self.total_loss_tracker,\n",
    "            self.reconstruction_loss_tracker,\n",
    "            self.kl_loss_tracker,\n",
    "        ]\n",
    "\n",
    "    def train_step(self, data):\n",
    "        if isinstance(data, tuple):\n",
    "            input_data = data[0]\n",
    "            output_data = data[1]\n",
    "            \n",
    "            timesteps = input_data.shape[1]\n",
    "            num_feats = input_data.shape[2]\n",
    "        with tf.GradientTape() as tape:\n",
    "            outputs = self.vrnn(input_data, training=True)\n",
    "            z = outputs[0]\n",
    "            preds = self.decoder(z)\n",
    "            \n",
    "            q_mu = tf.squeeze(tf.squeeze(outputs[1]))\n",
    "            p_mu = tf.squeeze(tf.squeeze(outputs[2]))\n",
    "            q_log_var = tf.squeeze(tf.squeeze(outputs[3]))\n",
    "            p_log_var = tf.squeeze(tf.squeeze(outputs[4]))\n",
    "            \n",
    "            kl_loss = tf.reduce_mean(kl_gauss(q_mu, p_mu, q_log_var, p_log_var))\n",
    "            reconstruction_loss = tf.reduce_mean(\n",
    "                tf.reduce_sum(tf.keras.losses.categorical_crossentropy(output_data, preds), axis=1)\n",
    "            )\n",
    "            total_loss = reconstruction_loss + kl_loss \n",
    "            \n",
    "        grads = tape.gradient(total_loss, self.trainable_weights)\n",
    "        self.optimizer.apply_gradients(zip(grads, self.trainable_weights))\n",
    "        self.total_loss_tracker.update_state(total_loss)\n",
    "        self.reconstruction_loss_tracker.update_state(reconstruction_loss)\n",
    "        self.kl_loss_tracker.update_state(kl_loss)       \n",
    "        return {\n",
    "            'total_loss': self.total_loss_tracker.result(),\n",
    "            'loss': self.reconstruction_loss_tracker.result(),\n",
    "            'kl': self.kl_loss_tracker.result()\n",
    "        }\n",
    "\n",
    "    def call(self, inputs):\n",
    "        outputs = self.vrnn(inputs, training=True)\n",
    "        z = outputs[0]\n",
    "        preds = self.decoder(z)\n",
    "        return preds\n",
    "    \n",
    "    def generate(self, inputs):\n",
    "        outputs = self.vrnn(inputs, training=False)\n",
    "        z = outputs[0]\n",
    "        preds = self.decoder(z)\n",
    "        return (outputs[0], outputs[1])\n",
    "    "
   ]
  },
  {
   "cell_type": "code",
   "execution_count": 31,
   "metadata": {},
   "outputs": [
    {
     "name": "stdout",
     "output_type": "stream",
     "text": [
      "Epoch 1/10\n",
      "913/913 [==============================] - 32s 33ms/step - total_loss: 18.7368 - loss: 28.8956 - kl: 7.9221\n",
      "\n",
      "Epoch 00001: loss improved from inf to 14.76518, saving model to vrnn_checkpoints/vrnn_gan\n",
      "Epoch 2/10\n",
      "913/913 [==============================] - 30s 32ms/step - total_loss: 11.8299 - loss: 9.9999 - kl: 2.0490\n",
      "\n",
      "Epoch 00002: loss improved from 14.76518 to 9.97605, saving model to vrnn_checkpoints/vrnn_gan\n",
      "Epoch 3/10\n",
      "913/913 [==============================] - 30s 33ms/step - total_loss: 11.3009 - loss: 9.7983 - kl: 1.3973\n",
      "\n",
      "Epoch 00003: loss improved from 9.97605 to 9.78835, saving model to vrnn_checkpoints/vrnn_gan\n",
      "Epoch 4/10\n",
      "913/913 [==============================] - 30s 33ms/step - total_loss: 10.1839 - loss: 9.4676 - kl: 0.8916\n",
      "\n",
      "Epoch 00004: loss improved from 9.78835 to 9.32669, saving model to vrnn_checkpoints/vrnn_gan\n",
      "Epoch 5/10\n",
      "913/913 [==============================] - 30s 33ms/step - total_loss: 9.9654 - loss: 9.1343 - kl: 0.8130\n",
      "\n",
      "Epoch 00005: loss improved from 9.32669 to 9.14287, saving model to vrnn_checkpoints/vrnn_gan\n",
      "Epoch 6/10\n",
      "913/913 [==============================] - 30s 33ms/step - total_loss: 9.8624 - loss: 9.0873 - kl: 0.8108\n",
      "\n",
      "Epoch 00006: loss improved from 9.14287 to 9.05269, saving model to vrnn_checkpoints/vrnn_gan\n",
      "Epoch 7/10\n",
      "913/913 [==============================] - 30s 33ms/step - total_loss: 9.8097 - loss: 9.0570 - kl: 0.8041\n",
      "\n",
      "Epoch 00007: loss improved from 9.05269 to 9.01745, saving model to vrnn_checkpoints/vrnn_gan\n",
      "Epoch 8/10\n",
      "913/913 [==============================] - 30s 33ms/step - total_loss: 33.1775 - loss: 13.0128 - kl: 14.3434\n",
      "\n",
      "Epoch 00008: loss did not improve from 9.01745\n",
      "Epoch 9/10\n",
      "913/913 [==============================] - 30s 33ms/step - total_loss: 12.3538 - loss: 10.9455 - kl: 2.0653\n",
      "\n",
      "Epoch 00009: loss did not improve from 9.01745\n",
      "Epoch 10/10\n",
      "913/913 [==============================] - 30s 33ms/step - total_loss: nan - loss: nan - kl: nan\n",
      "\n",
      "Epoch 00010: loss did not improve from 9.01745\n"
     ]
    },
    {
     "data": {
      "text/plain": [
       "<tensorflow.python.keras.callbacks.History at 0x1c5832b10>"
      ]
     },
     "execution_count": 31,
     "metadata": {},
     "output_type": "execute_result"
    }
   ],
   "source": [
    "from tensorflow import keras\n",
    "\n",
    "checkpoint_filepath = 'vrnn_checkpoints/vrnn_gan'\n",
    "\n",
    "model_checkpoint_callback = tf.keras.callbacks.ModelCheckpoint(\n",
    "    filepath=checkpoint_filepath,\n",
    "    save_weights_only=True,\n",
    "    monitor='loss',\n",
    "    mode='min',\n",
    "    save_best_only=True,\n",
    "    verbose=1)\n",
    "\n",
    "timesteps = X_j_train.shape[1]\n",
    "latent_dim = 64\n",
    "feature_space = X_j_train.shape[2]\n",
    "rvae = VRNNGRU(feature_space, latent_dim, timesteps)\n",
    "rvae.compile(optimizer=keras.optimizers.Adam(lr=0.01))\n",
    "rvae.fit(X_j_train, Y_j_train, batch_size=32, epochs=10, callbacks=[model_checkpoint_callback])"
   ]
  },
  {
   "cell_type": "code",
   "execution_count": 14,
   "metadata": {},
   "outputs": [
    {
     "name": "stdout",
     "output_type": "stream",
     "text": [
      "Tensor(\"vrnngru/model/rnn/vrnn_cell/Shape:0\", shape=(2,), dtype=int32)\n",
      "Tensor(\"vrnngru/model/rnn/while/vrnn_cell/Shape:0\", shape=(2,), dtype=int32)\n"
     ]
    }
   ],
   "source": [
    "\n",
    "preds = rvae.predict(np.reshape(X_j_train[0], (1, 60 , 27)))"
   ]
  },
  {
   "cell_type": "code",
   "execution_count": 15,
   "metadata": {},
   "outputs": [
    {
     "data": {
      "text/plain": [
       "array([[[ 4.5525627e-03, -3.8317323e-03, -6.7129307e-03, ...,\n",
       "         -9.1836817e-04, -4.6270853e-03,  1.1899514e-02],\n",
       "        [ 3.0801143e-02, -5.5193239e-01, -2.7746875e-02, ...,\n",
       "          1.9628802e-02, -8.0291688e-02,  4.2358845e-02],\n",
       "        [ 2.9639471e-02, -5.7826042e-01, -2.6618993e-02, ...,\n",
       "          1.8270109e-02, -8.2649373e-02,  4.1432567e-02],\n",
       "        ...,\n",
       "        [-7.1097133e-03, -9.4274098e-01, -2.8431911e-03, ...,\n",
       "         -5.1156536e-02, -1.5139106e-01, -3.5635401e-02],\n",
       "        [-6.7217015e-03, -9.6359527e-01, -3.2768643e-03, ...,\n",
       "         -5.7400770e-02, -1.6003168e-01, -3.7894253e-02],\n",
       "        [-7.7903368e-02, -9.3034852e-01,  1.7862072e-02, ...,\n",
       "         -7.1719006e-02, -1.0803863e-01, -1.0212935e-01]]], dtype=float32)"
      ]
     },
     "execution_count": 15,
     "metadata": {},
     "output_type": "execute_result"
    }
   ],
   "source": [
    "preds[1]"
   ]
  },
  {
   "cell_type": "code",
   "execution_count": 17,
   "metadata": {},
   "outputs": [
    {
     "data": {
      "text/plain": [
       "array([[[ 0.        ,  0.        ,  0.        , ...,  0.        ,\n",
       "          0.        ,  0.        ],\n",
       "        [ 0.03121545, -0.5662317 , -0.02852057, ...,  0.02034646,\n",
       "         -0.08453187,  0.0457094 ],\n",
       "        [ 0.03064846, -0.59325385, -0.02824234, ...,  0.01876517,\n",
       "         -0.08759888,  0.04468801],\n",
       "        ...,\n",
       "        [-0.0273687 , -0.94033605, -0.00321051, ..., -0.0533398 ,\n",
       "         -0.13607945, -0.05029236],\n",
       "        [-0.02858901, -0.9597806 , -0.00367656, ..., -0.06085788,\n",
       "         -0.14209709, -0.05448633],\n",
       "        [-0.02927848, -0.9454255 , -0.00635662, ..., -0.07087296,\n",
       "         -0.14637978, -0.05943596]]], dtype=float32)"
      ]
     },
     "execution_count": 17,
     "metadata": {},
     "output_type": "execute_result"
    }
   ],
   "source": [
    "preds[2]"
   ]
  },
  {
   "cell_type": "code",
   "execution_count": 46,
   "metadata": {},
   "outputs": [
    {
     "data": {
      "text/plain": [
       "array([[[ 1.9071437e-04, -6.5758126e-05, -5.0967932e-04, ...,\n",
       "          6.9155241e-04, -6.4638630e-04, -4.7218148e-04],\n",
       "        [ 2.6102108e-01,  5.4398924e-01,  5.1196986e-01, ...,\n",
       "          2.6153010e-01,  1.1261359e-01,  1.2793159e-01],\n",
       "        [ 3.2691172e-01,  6.4562327e-01,  6.7707944e-01, ...,\n",
       "          2.9886463e-01,  1.3468513e-01,  2.3776209e-01],\n",
       "        ...,\n",
       "        [-1.3218226e-01, -8.6901650e-02, -5.5364227e-01, ...,\n",
       "          6.1484829e-02,  1.7979853e-03, -7.9711515e-01],\n",
       "        [-1.5152630e-01, -1.1752264e-01, -6.1181307e-01, ...,\n",
       "          4.3006521e-02, -3.0866228e-03, -8.4307444e-01],\n",
       "        [-1.7699826e-01, -1.5612464e-01, -6.7000443e-01, ...,\n",
       "          2.7960364e-02, -1.5543126e-02, -8.9365137e-01]]], dtype=float32)"
      ]
     },
     "execution_count": 46,
     "metadata": {},
     "output_type": "execute_result"
    }
   ],
   "source": [
    "preds[3]"
   ]
  },
  {
   "cell_type": "code",
   "execution_count": 1294,
   "metadata": {},
   "outputs": [],
   "source": [
    "rvae2 =  VRNNGRU(feature_space, latent_dim, timesteps)"
   ]
  },
  {
   "cell_type": "code",
   "execution_count": 1295,
   "metadata": {},
   "outputs": [
    {
     "data": {
      "text/plain": [
       "<tensorflow.python.training.tracking.util.CheckpointLoadStatus at 0x7f77d21455e0>"
      ]
     },
     "execution_count": 1295,
     "metadata": {},
     "output_type": "execute_result"
    }
   ],
   "source": [
    "rvae2.load_weights(checkpoint_filepath)"
   ]
  },
  {
   "cell_type": "markdown",
   "metadata": {},
   "source": [
    "## VRNN-GAN"
   ]
  },
  {
   "cell_type": "markdown",
   "metadata": {},
   "source": [
    "WHAT WORKS: \n",
    "Batch_size = 64\n",
    "Gen LR: 0.001\n",
    "Disc LR: 0.0001\n",
    "Disc Dim: 16\n",
    "VRNN Dim: 64\n",
    "Epochs: 50\n",
    "\n",
    "HIGHLIGHTS:\n",
    "- discrim fake loss is about 0.5, gen reconstruction accuracy is around 0.14, misled loss about 1.5\n",
    "- larger batchsize seems to be more helpful in fooling the discriminator\n",
    "- slowing the LR for the discriminator helps for stabilty\n",
    "- using BCE with logits over sigmoid output layer\n",
    "- large enough dimension for VRNN but not too large"
   ]
  },
  {
   "cell_type": "code",
   "execution_count": 38,
   "metadata": {},
   "outputs": [],
   "source": [
    "from tensorflow.keras import backend as K\n",
    "import tensorflow_probability as tfp\n",
    "def kl_gauss(posterior_means, prior_means, posterior_log_var, prior_log_var):   \n",
    "    kl = prior_log_var - posterior_log_var + (tf.exp(posterior_log_var) + \n",
    "                                       tf.square(posterior_means - prior_means)) / tf.exp(prior_log_var) - 1\n",
    "    kl = 0.5 * tf.reduce_sum(kl, axis=[1,2])\n",
    "    return kl\n",
    "\n",
    "def wasserstein_loss(y_true, y_pred):\n",
    "    return tf.reduce_mean(y_true * y_pred)\n",
    "\n",
    "\n",
    "class kCallback(tf.keras.callbacks.Callback):\n",
    "    def __init__(self, count, limit):\n",
    "        self.limit = limit\n",
    "        self.count = count\n",
    "    def on_train_batch_end(self, batch, logs={}):\n",
    "        if self.count == self.limit:\n",
    "            self.count = 0\n",
    "        else:\n",
    "            self.count += 1\n",
    "        print('k is currently {}'.format(self.count))\n",
    "\n",
    "\n",
    "class VRNNGRUGAN(tf.keras.Model):\n",
    "    def __init__(self, feature_space, latent_dim, timesteps, **kwargs):\n",
    "        super(VRNNGRUGAN, self).__init__(**kwargs)\n",
    "        vrnn_cell = VRNNCell(latent_dim)\n",
    "        self.feature_space = feature_space\n",
    "        self.latent_dim = latent_dim\n",
    "        \n",
    "        vrnn_input = keras.layers.Input(shape=(timesteps, feature_space))\n",
    "        vrnn_output = keras.layers.RNN(vrnn_cell, return_sequences=True)(vrnn_input)\n",
    "        self.vrnn = keras.Model(vrnn_input, vrnn_output)\n",
    "        \n",
    "        decoder_input = keras.layers.Input(shape=(timesteps, latent_dim*2))\n",
    "        decoder_output = keras.layers.TimeDistributed(keras.layers.Dense(self.feature_space, activation='softmax'))(decoder_input)\n",
    "        decoder_output = keras.layers.Dropout(0.5)(decoder_output)\n",
    "        decoder_model = keras.Model(decoder_input, decoder_output)\n",
    "        self.decoder = decoder_model\n",
    "        \n",
    "        \n",
    "        disc_input = keras.layers.Input(shape=(timesteps, feature_space))\n",
    "        disc_rnn = keras.layers.LSTM(8, recurrent_dropout=0.5, dropout=0.5)(disc_input)\n",
    "        disc_output = keras.layers.Dense(1, activation='sigmoid')(disc_rnn)\n",
    "        disc_output = keras.layers.Dropout(0.4)(disc_output)\n",
    "        disc_model = keras.Model(disc_input, disc_output)\n",
    "        self.discrim = disc_model\n",
    "        \n",
    "        self.total_loss_tracker = keras.metrics.Mean(name=\"total_loss\")\n",
    "        self.reconstruction_loss_tracker = keras.metrics.Mean(\n",
    "            name=\"reconstruction_loss\"\n",
    "        )\n",
    "        self.next_step_loss_tracker = keras.metrics.Mean(\n",
    "            name=\"next_step_loss\"\n",
    "        )\n",
    "        self.kl_loss_tracker = keras.metrics.Mean(name=\"kl_loss\")\n",
    "        self.discrim_loss_tracker = keras.metrics.Mean(name=\"discrim_loss\")\n",
    "        self.discrim_fake_loss_tracker = keras.metrics.Mean(name=\"discrim_fake_loss\")\n",
    "        self.discrim_real_loss_tracker = keras.metrics.Mean(name=\"discrim_real_loss\")\n",
    "        self.misled_loss_tracker = keras.metrics.Mean(name=\"misled_loss\")\n",
    "        \n",
    "    @property\n",
    "    def metrics(self):\n",
    "        return [\n",
    "            self.total_loss_tracker,\n",
    "            self.reconstruction_loss_tracker,\n",
    "            self.kl_loss_tracker,\n",
    "            self.discrim_loss_tracker,\n",
    "            self.discrim_fake_loss_tracker,\n",
    "            self.discrim_real_loss_tracker,\n",
    "            self.misled_loss_tracker,\n",
    "#             self.next_step_loss_tracker\n",
    "        ]\n",
    "    def compile(self, vae_optimizer, discrim_optimizer):\n",
    "        super(VRNNGRUGAN, self).compile()\n",
    "        self.vae_optimizer = vae_optimizer\n",
    "        self.discrim_optimizer = discrim_optimizer\n",
    "\n",
    "    def train_step(self, data):\n",
    "        if isinstance(data, tuple):\n",
    "            input_data, match_data = data[0]\n",
    "            output_data = data[1]\n",
    "            \n",
    "        with tf.GradientTape(persistent=True) as tape:\n",
    "            outputs = self.vrnn(input_data, training=True)\n",
    "            vrnn_out = outputs[0]            \n",
    "            preds = self.decoder(vrnn_out)\n",
    "            o_preds = tfp.distributions.RelaxedOneHotCategorical(0.01, probs=preds).sample()\n",
    "            o_preds = tf.squeeze(o_preds)\n",
    "\n",
    "            \n",
    "            discrim_fake_output = self.discrim(o_preds)\n",
    "            discrim_real_output = self.discrim(output_data)\n",
    "            \n",
    "            bce_logits = tf.keras.losses.BinaryCrossentropy(from_logits=True)\n",
    "\n",
    "            discrim_output_loss_fake = tf.reduce_mean(\n",
    "                tf.keras.losses.binary_crossentropy(tf.zeros_like(discrim_fake_output), discrim_fake_output)\n",
    "            )\n",
    "        \n",
    "            discrim_output_loss_real = tf.reduce_mean(\n",
    "                tf.keras.losses.binary_crossentropy(tf.ones_like(discrim_real_output), discrim_real_output)\n",
    "            )\n",
    "              \n",
    "            discrim_loss = 0.5 * (discrim_output_loss_fake + discrim_output_loss_real)\n",
    "        discrim_grads = tape.gradient(discrim_loss, self.discrim.trainable_weights)\n",
    "        self.discrim_optimizer.apply_gradients(zip(discrim_grads, self.discrim.trainable_weights))\n",
    "        self.discrim_loss_tracker.update_state(discrim_loss)\n",
    "        self.discrim_fake_loss_tracker.update_state(discrim_output_loss_fake)\n",
    "        self.discrim_real_loss_tracker.update_state(discrim_output_loss_real)\n",
    "        del tape\n",
    "        \n",
    "        with tf.GradientTape(persistent=True) as tape:\n",
    "            outputs = self.vrnn(input_data, training=True)\n",
    "            vrnn_out = outputs[0]\n",
    "            preds = self.decoder(vrnn_out)\n",
    "            o_preds = tfp.distributions.RelaxedOneHotCategorical(0.01, probs=preds).sample()\n",
    "            o_preds = tf.squeeze(o_preds)\n",
    "            discrim_fake_output = self.discrim(o_preds)\n",
    "\n",
    "            z = outputs[1]\n",
    "            q_mu = outputs[2]\n",
    "            p_mu = outputs[3]\n",
    "            q_log_var = outputs[4]\n",
    "            p_log_var = outputs[5]\n",
    "\n",
    "\n",
    "            kl_loss = tf.reduce_mean(kl_gauss(q_mu, p_mu, q_log_var, p_log_var))\n",
    "            bce_logits = tf.keras.losses.BinaryCrossentropy(from_logits=True)\n",
    "\n",
    "            reconstruction_loss = tf.reduce_mean(\n",
    "                tf.reduce_mean(tf.keras.losses.categorical_crossentropy(output_data, preds), axis=1)\n",
    "            )\n",
    "            \n",
    "            mislead_output_discrim_loss = tf.reduce_mean(\n",
    "                tf.keras.losses.binary_crossentropy(tf.ones_like(discrim_fake_output), discrim_fake_output) \n",
    "            )\n",
    "            \n",
    "            discrim_loss = tf.reduce_mean(\n",
    "                tf.keras.losses.binary_crossentropy(tf.zeros_like(discrim_fake_output), discrim_fake_output)\n",
    "            )\n",
    "            total_loss =  reconstruction_loss + 0.1 * kl_loss + mislead_output_discrim_loss\n",
    "\n",
    "\n",
    "        encoder_grads = tape.gradient(total_loss, self.vrnn.trainable_weights)\n",
    "        decoder_grads = tape.gradient(total_loss, self.decoder.trainable_weights)\n",
    "        encoder_grads = [(tf.clip_by_value(grad, clip_value_min=-5.0, clip_value_max=5.0))\n",
    "                                  for grad in encoder_grads]\n",
    "        decoder_grads = [(tf.clip_by_value(grad, clip_value_min=-5.0, clip_value_max=5.0))\n",
    "                                  for grad in decoder_grads]\n",
    "\n",
    "        self.vae_optimizer.apply_gradients(zip(encoder_grads, self.vrnn.trainable_weights))\n",
    "        self.vae_optimizer.apply_gradients(zip(decoder_grads, self.decoder.trainable_weights))\n",
    "\n",
    "        self.total_loss_tracker.update_state(total_loss)\n",
    "        self.reconstruction_loss_tracker.update_state(reconstruction_loss)\n",
    "        self.kl_loss_tracker.update_state(kl_loss)\n",
    "        self.misled_loss_tracker.update_state(mislead_output_discrim_loss)\n",
    "        del tape\n",
    "            \n",
    "        return {\n",
    "            'total_loss': self.total_loss_tracker.result(),\n",
    "            'loss': self.reconstruction_loss_tracker.result(),\n",
    "            'kl': self.kl_loss_tracker.result(),\n",
    "            'discrim_loss':self.discrim_loss_tracker.result(),\n",
    "            'discrim_loss_fake':self.discrim_fake_loss_tracker.result(),\n",
    "            'discrim_loss_real':self.discrim_real_loss_tracker.result(),\n",
    "            'misled_loss':self.misled_loss_tracker.result(),\n",
    "        }\n",
    "\n",
    "    def call(self, inputs):\n",
    "        outputs = self.vrnn(inputs, training=True)\n",
    "        z = outputs[0]\n",
    "        preds = self.decoder(z)\n",
    "        return preds\n",
    "    \n",
    "    def generate(self, inputs):\n",
    "        outputs = self.vrnn(inputs, training=False)\n",
    "        z = outputs[0]\n",
    "        preds = self.decoder(z)\n",
    "        return (outputs[0], outputs[1])\n",
    "    \n",
    "    def test_step(self, data):\n",
    "        inputs, match = data[0]\n",
    "        outputs = data[1]\n",
    "        preds = self(inputs, training=False)\n",
    "        recon_loss = tf.keras.losses.categorical_crossentropy(outputs, preds)\n",
    "        return {\n",
    "            \"loss\": recon_loss\n",
    "        }\n",
    "        \n",
    "    "
   ]
  },
  {
   "cell_type": "code",
   "execution_count": 39,
   "metadata": {},
   "outputs": [
    {
     "name": "stdout",
     "output_type": "stream",
     "text": [
      "Epoch 1/20\n",
      "457/457 [==============================] - 64s 107ms/step - total_loss: 1.2558 - loss: 1.0305 - kl: 0.0613 - discrim_loss: 0.6720 - discrim_loss_fake: 0.6831 - discrim_loss_real: 0.6852 - misled_loss: 0.7383\n",
      "Epoch 2/20\n",
      "457/457 [==============================] - 49s 107ms/step - total_loss: 1.1007 - loss: 0.2802 - kl: 0.0109 - discrim_loss: 0.6349 - discrim_loss_fake: 0.6723 - discrim_loss_real: 0.6161 - misled_loss: 0.8112\n",
      "Epoch 3/20\n",
      "457/457 [==============================] - 49s 106ms/step - total_loss: 1.2199 - loss: 0.3250 - kl: 0.0124 - discrim_loss: 0.6125 - discrim_loss_fake: 0.6294 - discrim_loss_real: 0.6040 - misled_loss: 0.8978\n",
      "Epoch 4/20\n",
      "457/457 [==============================] - 49s 107ms/step - total_loss: 1.2432 - loss: 0.2833 - kl: 0.0176 - discrim_loss: 0.5956 - discrim_loss_fake: 0.5908 - discrim_loss_real: 0.5994 - misled_loss: 0.9402\n",
      "Epoch 5/20\n",
      "457/457 [==============================] - 49s 107ms/step - total_loss: 1.3017 - loss: 0.3094 - kl: 0.0106 - discrim_loss: 0.5856 - discrim_loss_fake: 0.5749 - discrim_loss_real: 0.5918 - misled_loss: 0.9748\n",
      "Epoch 6/20\n",
      "457/457 [==============================] - 49s 107ms/step - total_loss: 1.3358 - loss: 0.3207 - kl: 0.0077 - discrim_loss: 0.5728 - discrim_loss_fake: 0.5582 - discrim_loss_real: 0.5901 - misled_loss: 1.0114\n",
      "Epoch 7/20\n",
      "457/457 [==============================] - 49s 107ms/step - total_loss: 1.3888 - loss: 0.3410 - kl: 0.0133 - discrim_loss: 0.5635 - discrim_loss_fake: 0.5543 - discrim_loss_real: 0.5818 - misled_loss: 1.0487\n",
      "Epoch 8/20\n",
      "457/457 [==============================] - 49s 107ms/step - total_loss: 1.4467 - loss: 0.3414 - kl: 0.0168 - discrim_loss: 0.5567 - discrim_loss_fake: 0.5390 - discrim_loss_real: 0.5682 - misled_loss: 1.0979\n",
      "Epoch 9/20\n",
      "407/457 [=========================>....] - ETA: 5s - total_loss: 1.4635 - loss: 0.3282 - kl: 0.0377 - discrim_loss: 0.5502 - discrim_loss_fake: 0.5298 - discrim_loss_real: 0.5835 - misled_loss: 1.1283"
     ]
    },
    {
     "ename": "KeyboardInterrupt",
     "evalue": "",
     "output_type": "error",
     "traceback": [
      "\u001b[0;31m---------------------------------------------------------------------------\u001b[0m",
      "\u001b[0;31mKeyboardInterrupt\u001b[0m                         Traceback (most recent call last)",
      "\u001b[0;32m<ipython-input-39-1842e6d162fc>\u001b[0m in \u001b[0;36m<module>\u001b[0;34m\u001b[0m\n\u001b[1;32m     14\u001b[0m \u001b[0mrvae\u001b[0m\u001b[0;34m.\u001b[0m\u001b[0mcompile\u001b[0m\u001b[0;34m(\u001b[0m\u001b[0mkeras\u001b[0m\u001b[0;34m.\u001b[0m\u001b[0moptimizers\u001b[0m\u001b[0;34m.\u001b[0m\u001b[0mAdam\u001b[0m\u001b[0;34m(\u001b[0m\u001b[0mlr\u001b[0m\u001b[0;34m=\u001b[0m\u001b[0;36m0.001\u001b[0m\u001b[0;34m)\u001b[0m\u001b[0;34m,\u001b[0m \u001b[0mkeras\u001b[0m\u001b[0;34m.\u001b[0m\u001b[0moptimizers\u001b[0m\u001b[0;34m.\u001b[0m\u001b[0mAdam\u001b[0m\u001b[0;34m(\u001b[0m\u001b[0mlr\u001b[0m\u001b[0;34m=\u001b[0m\u001b[0;36m0.001\u001b[0m\u001b[0;34m)\u001b[0m\u001b[0;34m)\u001b[0m\u001b[0;34m\u001b[0m\u001b[0;34m\u001b[0m\u001b[0m\n\u001b[1;32m     15\u001b[0m \u001b[0;34m\u001b[0m\u001b[0m\n\u001b[0;32m---> 16\u001b[0;31m \u001b[0mrvae\u001b[0m\u001b[0;34m.\u001b[0m\u001b[0mfit\u001b[0m\u001b[0;34m(\u001b[0m\u001b[0;34m[\u001b[0m\u001b[0mX_j_train\u001b[0m\u001b[0;34m,\u001b[0m \u001b[0mmatch_j\u001b[0m\u001b[0;34m]\u001b[0m\u001b[0;34m,\u001b[0m \u001b[0mY_j_train\u001b[0m\u001b[0;34m,\u001b[0m \u001b[0mbatch_size\u001b[0m\u001b[0;34m=\u001b[0m \u001b[0;36m64\u001b[0m\u001b[0;34m,\u001b[0m \u001b[0mepochs\u001b[0m\u001b[0;34m=\u001b[0m\u001b[0;36m20\u001b[0m\u001b[0;34m,\u001b[0m \u001b[0mcallbacks\u001b[0m\u001b[0;34m=\u001b[0m\u001b[0;34m[\u001b[0m\u001b[0mmodel_checkpoint_callback\u001b[0m\u001b[0;34m]\u001b[0m\u001b[0;34m)\u001b[0m\u001b[0;34m\u001b[0m\u001b[0;34m\u001b[0m\u001b[0m\n\u001b[0m",
      "\u001b[0;32m/mnt/c/Users/jchle/Work/Thesis/VAECJ/bash_venv/lib/python3.8/site-packages/tensorflow/python/keras/engine/training.py\u001b[0m in \u001b[0;36mfit\u001b[0;34m(self, x, y, batch_size, epochs, verbose, callbacks, validation_split, validation_data, shuffle, class_weight, sample_weight, initial_epoch, steps_per_epoch, validation_steps, validation_batch_size, validation_freq, max_queue_size, workers, use_multiprocessing)\u001b[0m\n\u001b[1;32m   1181\u001b[0m                 _r=1):\n\u001b[1;32m   1182\u001b[0m               \u001b[0mcallbacks\u001b[0m\u001b[0;34m.\u001b[0m\u001b[0mon_train_batch_begin\u001b[0m\u001b[0;34m(\u001b[0m\u001b[0mstep\u001b[0m\u001b[0;34m)\u001b[0m\u001b[0;34m\u001b[0m\u001b[0;34m\u001b[0m\u001b[0m\n\u001b[0;32m-> 1183\u001b[0;31m               \u001b[0mtmp_logs\u001b[0m \u001b[0;34m=\u001b[0m \u001b[0mself\u001b[0m\u001b[0;34m.\u001b[0m\u001b[0mtrain_function\u001b[0m\u001b[0;34m(\u001b[0m\u001b[0miterator\u001b[0m\u001b[0;34m)\u001b[0m\u001b[0;34m\u001b[0m\u001b[0;34m\u001b[0m\u001b[0m\n\u001b[0m\u001b[1;32m   1184\u001b[0m               \u001b[0;32mif\u001b[0m \u001b[0mdata_handler\u001b[0m\u001b[0;34m.\u001b[0m\u001b[0mshould_sync\u001b[0m\u001b[0;34m:\u001b[0m\u001b[0;34m\u001b[0m\u001b[0;34m\u001b[0m\u001b[0m\n\u001b[1;32m   1185\u001b[0m                 \u001b[0mcontext\u001b[0m\u001b[0;34m.\u001b[0m\u001b[0masync_wait\u001b[0m\u001b[0;34m(\u001b[0m\u001b[0;34m)\u001b[0m\u001b[0;34m\u001b[0m\u001b[0;34m\u001b[0m\u001b[0m\n",
      "\u001b[0;32m/mnt/c/Users/jchle/Work/Thesis/VAECJ/bash_venv/lib/python3.8/site-packages/tensorflow/python/eager/def_function.py\u001b[0m in \u001b[0;36m__call__\u001b[0;34m(self, *args, **kwds)\u001b[0m\n\u001b[1;32m    887\u001b[0m \u001b[0;34m\u001b[0m\u001b[0m\n\u001b[1;32m    888\u001b[0m       \u001b[0;32mwith\u001b[0m \u001b[0mOptionalXlaContext\u001b[0m\u001b[0;34m(\u001b[0m\u001b[0mself\u001b[0m\u001b[0;34m.\u001b[0m\u001b[0m_jit_compile\u001b[0m\u001b[0;34m)\u001b[0m\u001b[0;34m:\u001b[0m\u001b[0;34m\u001b[0m\u001b[0;34m\u001b[0m\u001b[0m\n\u001b[0;32m--> 889\u001b[0;31m         \u001b[0mresult\u001b[0m \u001b[0;34m=\u001b[0m \u001b[0mself\u001b[0m\u001b[0;34m.\u001b[0m\u001b[0m_call\u001b[0m\u001b[0;34m(\u001b[0m\u001b[0;34m*\u001b[0m\u001b[0margs\u001b[0m\u001b[0;34m,\u001b[0m \u001b[0;34m**\u001b[0m\u001b[0mkwds\u001b[0m\u001b[0;34m)\u001b[0m\u001b[0;34m\u001b[0m\u001b[0;34m\u001b[0m\u001b[0m\n\u001b[0m\u001b[1;32m    890\u001b[0m \u001b[0;34m\u001b[0m\u001b[0m\n\u001b[1;32m    891\u001b[0m       \u001b[0mnew_tracing_count\u001b[0m \u001b[0;34m=\u001b[0m \u001b[0mself\u001b[0m\u001b[0;34m.\u001b[0m\u001b[0mexperimental_get_tracing_count\u001b[0m\u001b[0;34m(\u001b[0m\u001b[0;34m)\u001b[0m\u001b[0;34m\u001b[0m\u001b[0;34m\u001b[0m\u001b[0m\n",
      "\u001b[0;32m/mnt/c/Users/jchle/Work/Thesis/VAECJ/bash_venv/lib/python3.8/site-packages/tensorflow/python/eager/def_function.py\u001b[0m in \u001b[0;36m_call\u001b[0;34m(self, *args, **kwds)\u001b[0m\n\u001b[1;32m    915\u001b[0m       \u001b[0;31m# In this case we have created variables on the first call, so we run the\u001b[0m\u001b[0;34m\u001b[0m\u001b[0;34m\u001b[0m\u001b[0;34m\u001b[0m\u001b[0m\n\u001b[1;32m    916\u001b[0m       \u001b[0;31m# defunned version which is guaranteed to never create variables.\u001b[0m\u001b[0;34m\u001b[0m\u001b[0;34m\u001b[0m\u001b[0;34m\u001b[0m\u001b[0m\n\u001b[0;32m--> 917\u001b[0;31m       \u001b[0;32mreturn\u001b[0m \u001b[0mself\u001b[0m\u001b[0;34m.\u001b[0m\u001b[0m_stateless_fn\u001b[0m\u001b[0;34m(\u001b[0m\u001b[0;34m*\u001b[0m\u001b[0margs\u001b[0m\u001b[0;34m,\u001b[0m \u001b[0;34m**\u001b[0m\u001b[0mkwds\u001b[0m\u001b[0;34m)\u001b[0m  \u001b[0;31m# pylint: disable=not-callable\u001b[0m\u001b[0;34m\u001b[0m\u001b[0;34m\u001b[0m\u001b[0m\n\u001b[0m\u001b[1;32m    918\u001b[0m     \u001b[0;32melif\u001b[0m \u001b[0mself\u001b[0m\u001b[0;34m.\u001b[0m\u001b[0m_stateful_fn\u001b[0m \u001b[0;32mis\u001b[0m \u001b[0;32mnot\u001b[0m \u001b[0;32mNone\u001b[0m\u001b[0;34m:\u001b[0m\u001b[0;34m\u001b[0m\u001b[0;34m\u001b[0m\u001b[0m\n\u001b[1;32m    919\u001b[0m       \u001b[0;31m# Release the lock early so that multiple threads can perform the call\u001b[0m\u001b[0;34m\u001b[0m\u001b[0;34m\u001b[0m\u001b[0;34m\u001b[0m\u001b[0m\n",
      "\u001b[0;32m/mnt/c/Users/jchle/Work/Thesis/VAECJ/bash_venv/lib/python3.8/site-packages/tensorflow/python/eager/function.py\u001b[0m in \u001b[0;36m__call__\u001b[0;34m(self, *args, **kwargs)\u001b[0m\n\u001b[1;32m   3021\u001b[0m       (graph_function,\n\u001b[1;32m   3022\u001b[0m        filtered_flat_args) = self._maybe_define_function(args, kwargs)\n\u001b[0;32m-> 3023\u001b[0;31m     return graph_function._call_flat(\n\u001b[0m\u001b[1;32m   3024\u001b[0m         filtered_flat_args, captured_inputs=graph_function.captured_inputs)  # pylint: disable=protected-access\n\u001b[1;32m   3025\u001b[0m \u001b[0;34m\u001b[0m\u001b[0m\n",
      "\u001b[0;32m/mnt/c/Users/jchle/Work/Thesis/VAECJ/bash_venv/lib/python3.8/site-packages/tensorflow/python/eager/function.py\u001b[0m in \u001b[0;36m_call_flat\u001b[0;34m(self, args, captured_inputs, cancellation_manager)\u001b[0m\n\u001b[1;32m   1958\u001b[0m         and executing_eagerly):\n\u001b[1;32m   1959\u001b[0m       \u001b[0;31m# No tape is watching; skip to running the function.\u001b[0m\u001b[0;34m\u001b[0m\u001b[0;34m\u001b[0m\u001b[0;34m\u001b[0m\u001b[0m\n\u001b[0;32m-> 1960\u001b[0;31m       return self._build_call_outputs(self._inference_function.call(\n\u001b[0m\u001b[1;32m   1961\u001b[0m           ctx, args, cancellation_manager=cancellation_manager))\n\u001b[1;32m   1962\u001b[0m     forward_backward = self._select_forward_and_backward_functions(\n",
      "\u001b[0;32m/mnt/c/Users/jchle/Work/Thesis/VAECJ/bash_venv/lib/python3.8/site-packages/tensorflow/python/eager/function.py\u001b[0m in \u001b[0;36mcall\u001b[0;34m(self, ctx, args, cancellation_manager)\u001b[0m\n\u001b[1;32m    589\u001b[0m       \u001b[0;32mwith\u001b[0m \u001b[0m_InterpolateFunctionError\u001b[0m\u001b[0;34m(\u001b[0m\u001b[0mself\u001b[0m\u001b[0;34m)\u001b[0m\u001b[0;34m:\u001b[0m\u001b[0;34m\u001b[0m\u001b[0;34m\u001b[0m\u001b[0m\n\u001b[1;32m    590\u001b[0m         \u001b[0;32mif\u001b[0m \u001b[0mcancellation_manager\u001b[0m \u001b[0;32mis\u001b[0m \u001b[0;32mNone\u001b[0m\u001b[0;34m:\u001b[0m\u001b[0;34m\u001b[0m\u001b[0;34m\u001b[0m\u001b[0m\n\u001b[0;32m--> 591\u001b[0;31m           outputs = execute.execute(\n\u001b[0m\u001b[1;32m    592\u001b[0m               \u001b[0mstr\u001b[0m\u001b[0;34m(\u001b[0m\u001b[0mself\u001b[0m\u001b[0;34m.\u001b[0m\u001b[0msignature\u001b[0m\u001b[0;34m.\u001b[0m\u001b[0mname\u001b[0m\u001b[0;34m)\u001b[0m\u001b[0;34m,\u001b[0m\u001b[0;34m\u001b[0m\u001b[0;34m\u001b[0m\u001b[0m\n\u001b[1;32m    593\u001b[0m               \u001b[0mnum_outputs\u001b[0m\u001b[0;34m=\u001b[0m\u001b[0mself\u001b[0m\u001b[0;34m.\u001b[0m\u001b[0m_num_outputs\u001b[0m\u001b[0;34m,\u001b[0m\u001b[0;34m\u001b[0m\u001b[0;34m\u001b[0m\u001b[0m\n",
      "\u001b[0;32m/mnt/c/Users/jchle/Work/Thesis/VAECJ/bash_venv/lib/python3.8/site-packages/tensorflow/python/eager/execute.py\u001b[0m in \u001b[0;36mquick_execute\u001b[0;34m(op_name, num_outputs, inputs, attrs, ctx, name)\u001b[0m\n\u001b[1;32m     57\u001b[0m   \u001b[0;32mtry\u001b[0m\u001b[0;34m:\u001b[0m\u001b[0;34m\u001b[0m\u001b[0;34m\u001b[0m\u001b[0m\n\u001b[1;32m     58\u001b[0m     \u001b[0mctx\u001b[0m\u001b[0;34m.\u001b[0m\u001b[0mensure_initialized\u001b[0m\u001b[0;34m(\u001b[0m\u001b[0;34m)\u001b[0m\u001b[0;34m\u001b[0m\u001b[0;34m\u001b[0m\u001b[0m\n\u001b[0;32m---> 59\u001b[0;31m     tensors = pywrap_tfe.TFE_Py_Execute(ctx._handle, device_name, op_name,\n\u001b[0m\u001b[1;32m     60\u001b[0m                                         inputs, attrs, num_outputs)\n\u001b[1;32m     61\u001b[0m   \u001b[0;32mexcept\u001b[0m \u001b[0mcore\u001b[0m\u001b[0;34m.\u001b[0m\u001b[0m_NotOkStatusException\u001b[0m \u001b[0;32mas\u001b[0m \u001b[0me\u001b[0m\u001b[0;34m:\u001b[0m\u001b[0;34m\u001b[0m\u001b[0;34m\u001b[0m\u001b[0m\n",
      "\u001b[0;31mKeyboardInterrupt\u001b[0m: "
     ]
    }
   ],
   "source": [
    "checkpoint_filepath = 'vrnn_gan_checkpoints/vrnngan_best.epoch{epoch:02d}-loss{loss:.2f}'\n",
    "\n",
    "model_checkpoint_callback = tf.keras.callbacks.ModelCheckpoint(\n",
    "    filepath=checkpoint_filepath,\n",
    "    save_weights_only=True,\n",
    "    monitor='loss',\n",
    "    mode='min',\n",
    "    save_best_only=True)\n",
    "\n",
    "timesteps = X_j_train.shape[1]\n",
    "latent_dim = 32\n",
    "feature_space = X_j_train.shape[2]\n",
    "rvae = VRNNGRUGAN(feature_space, latent_dim, timesteps)\n",
    "rvae.compile(keras.optimizers.Adam(lr=0.001), keras.optimizers.Adam(lr=0.001))\n",
    "\n",
    "rvae.fit([X_j_train, match_j], Y_j_train, batch_size= 64, epochs=20, callbacks=[model_checkpoint_callback])"
   ]
  },
  {
   "cell_type": "code",
   "execution_count": 25,
   "metadata": {},
   "outputs": [],
   "source": [
    "tf.keras.backend.clear_session()"
   ]
  },
  {
   "cell_type": "code",
   "execution_count": 224,
   "metadata": {},
   "outputs": [],
   "source": [
    "preds = rvae.generate(X_j_train)\n",
    "# preds = tf.squeeze(tf.slice(preds, [0,59,0], [-1, -1, -1])).numpy()\n",
    "# preds = np.argmax(preds, axis=1)\n",
    "truth = np.argmax(Y_j_train, axis=2)\n"
   ]
  },
  {
   "cell_type": "code",
   "execution_count": 227,
   "metadata": {},
   "outputs": [
    {
     "data": {
      "text/plain": [
       "<tf.Tensor: shape=(29198, 60, 2), dtype=float32, numpy=\n",
       "array([[[0.77190506, 0.6786984 ],\n",
       "        [1.3107011 , 1.2384986 ],\n",
       "        [1.3951796 , 1.3275213 ],\n",
       "        ...,\n",
       "        [1.3959258 , 1.3283398 ],\n",
       "        [1.3959258 , 1.3283398 ],\n",
       "        [1.3693651 , 1.3517888 ]],\n",
       "\n",
       "       [[0.77190506, 0.6786984 ],\n",
       "        [1.3107011 , 1.2384986 ],\n",
       "        [1.3951796 , 1.3275213 ],\n",
       "        ...,\n",
       "        [1.3959258 , 1.3283398 ],\n",
       "        [1.3693651 , 1.3517888 ],\n",
       "        [1.3657767 , 1.3594463 ]],\n",
       "\n",
       "       [[0.77190506, 0.6786984 ],\n",
       "        [1.3107011 , 1.2384986 ],\n",
       "        [1.3951796 , 1.3275213 ],\n",
       "        ...,\n",
       "        [1.3693651 , 1.3517888 ],\n",
       "        [1.3657767 , 1.3594463 ],\n",
       "        [1.3807567 , 1.3310295 ]],\n",
       "\n",
       "       ...,\n",
       "\n",
       "       [[0.77190506, 0.6786984 ],\n",
       "        [1.3107011 , 1.2384986 ],\n",
       "        [1.3951796 , 1.3275213 ],\n",
       "        ...,\n",
       "        [1.3807567 , 1.3310295 ],\n",
       "        [1.3807532 , 1.3310257 ],\n",
       "        [1.3807533 , 1.3310257 ]],\n",
       "\n",
       "       [[0.77190506, 0.6786984 ],\n",
       "        [1.3107011 , 1.2384986 ],\n",
       "        [1.3951796 , 1.3275213 ],\n",
       "        ...,\n",
       "        [1.3807532 , 1.3310257 ],\n",
       "        [1.3807533 , 1.3310257 ],\n",
       "        [1.3807533 , 1.3310257 ]],\n",
       "\n",
       "       [[0.77190506, 0.6786984 ],\n",
       "        [1.3107011 , 1.2384986 ],\n",
       "        [1.3951796 , 1.3275212 ],\n",
       "        ...,\n",
       "        [1.3807533 , 1.3310257 ],\n",
       "        [1.3807533 , 1.3310257 ],\n",
       "        [1.3885016 , 1.3689705 ]]], dtype=float32)>"
      ]
     },
     "execution_count": 227,
     "metadata": {},
     "output_type": "execute_result"
    }
   ],
   "source": [
    "preds[1]"
   ]
  },
  {
   "cell_type": "code",
   "execution_count": 228,
   "metadata": {},
   "outputs": [
    {
     "data": {
      "text/plain": [
       "<tf.Tensor: shape=(29198, 60, 2), dtype=float32, numpy=\n",
       "array([[[0.5      , 0.5      ],\n",
       "        [3.209653 , 3.0168333],\n",
       "        [3.8856559, 3.621873 ],\n",
       "        ...,\n",
       "        [3.8920481, 3.6275563],\n",
       "        [3.8920481, 3.6275563],\n",
       "        [3.8920481, 3.6275563]],\n",
       "\n",
       "       [[0.5      , 0.5      ],\n",
       "        [3.209653 , 3.0168333],\n",
       "        [3.8856559, 3.621873 ],\n",
       "        ...,\n",
       "        [3.8920481, 3.6275563],\n",
       "        [3.8920481, 3.6275563],\n",
       "        [3.8919394, 3.6274598]],\n",
       "\n",
       "       [[0.5      , 0.5      ],\n",
       "        [3.209653 , 3.0168333],\n",
       "        [3.8856559, 3.621873 ],\n",
       "        ...,\n",
       "        [3.8920481, 3.6275563],\n",
       "        [3.8919394, 3.6274598],\n",
       "        [3.8919187, 3.6274414]],\n",
       "\n",
       "       ...,\n",
       "\n",
       "       [[0.5      , 0.5      ],\n",
       "        [3.209653 , 3.0168333],\n",
       "        [3.8856559, 3.621873 ],\n",
       "        ...,\n",
       "        [3.8919187, 3.6274414],\n",
       "        [3.8918884, 3.6274145],\n",
       "        [3.8918889, 3.6274147]],\n",
       "\n",
       "       [[0.5      , 0.5      ],\n",
       "        [3.209653 , 3.0168333],\n",
       "        [3.8856559, 3.621873 ],\n",
       "        ...,\n",
       "        [3.8918884, 3.6274145],\n",
       "        [3.8918889, 3.6274147],\n",
       "        [3.8918889, 3.6274147]],\n",
       "\n",
       "       [[0.5      , 0.5      ],\n",
       "        [3.209653 , 3.0168333],\n",
       "        [3.8856559, 3.621873 ],\n",
       "        ...,\n",
       "        [3.8918881, 3.627414 ],\n",
       "        [3.8918889, 3.627415 ],\n",
       "        [3.891888 , 3.627414 ]]], dtype=float32)>"
      ]
     },
     "execution_count": 228,
     "metadata": {},
     "output_type": "execute_result"
    }
   ],
   "source": [
    "preds[0]"
   ]
  },
  {
   "cell_type": "code",
   "execution_count": 179,
   "metadata": {},
   "outputs": [],
   "source": [
    "preds = np.argmax(preds, axis=2)"
   ]
  },
  {
   "cell_type": "code",
   "execution_count": 181,
   "metadata": {},
   "outputs": [
    {
     "data": {
      "text/plain": [
       "(array([ 0,  6, 12, 14, 23, 25]),\n",
       " array([1514348,   85507,   69943,   17069,   29138,   35875]))"
      ]
     },
     "execution_count": 181,
     "metadata": {},
     "output_type": "execute_result"
    }
   ],
   "source": [
    "np.unique(preds, return_counts=True)"
   ]
  },
  {
   "cell_type": "code",
   "execution_count": 176,
   "metadata": {},
   "outputs": [
    {
     "data": {
      "text/plain": [
       "(array([ 0,  2,  6, 12, 14, 23, 25, 26]),\n",
       " array([1514257,    3333,   81951,   78593,   16648,   13142,   43179,\n",
       "            777]))"
      ]
     },
     "execution_count": 176,
     "metadata": {},
     "output_type": "execute_result"
    }
   ],
   "source": [
    "np.unique(truth, return_counts=True)\n"
   ]
  },
  {
   "cell_type": "code",
   "execution_count": 167,
   "metadata": {},
   "outputs": [
    {
     "data": {
      "text/plain": [
       "{'A_SUBMITTED': 3,\n",
       " 'A_PARTLYSUBMITTED': 4,\n",
       " 'A_PREACCEPTED': 5,\n",
       " 'W_Completeren aanvraag': 6,\n",
       " 'A_ACCEPTED': 7,\n",
       " 'O_SELECTED': 8,\n",
       " 'A_FINALIZED': 9,\n",
       " 'O_CREATED': 10,\n",
       " 'O_SENT': 11,\n",
       " 'W_Nabellen offertes': 12,\n",
       " 'O_SENT_BACK': 13,\n",
       " 'W_Valideren aanvraag': 14,\n",
       " 'A_REGISTERED': 15,\n",
       " 'A_APPROVED': 16,\n",
       " 'O_ACCEPTED': 17,\n",
       " 'A_ACTIVATED': 18,\n",
       " 'O_CANCELLED': 19,\n",
       " 'W_Wijzigen contractgegevens': 20,\n",
       " 'A_DECLINED': 21,\n",
       " 'A_CANCELLED': 22,\n",
       " 'W_Afhandelen leads': 23,\n",
       " 'O_DECLINED': 24,\n",
       " 'W_Nabellen incomplete dossiers': 25,\n",
       " 'W_Beoordelen fraude': 26,\n",
       " 'Start': 1,\n",
       " 'End': 2}"
      ]
     },
     "execution_count": 167,
     "metadata": {},
     "output_type": "execute_result"
    }
   ],
   "source": [
    "activity_encoder"
   ]
  },
  {
   "cell_type": "code",
   "execution_count": 164,
   "metadata": {},
   "outputs": [
    {
     "data": {
      "text/plain": [
       "array([ 0,  0,  0,  0,  0,  0,  0,  0,  0,  0,  0,  0,  0,  0,  0,  0,  0,\n",
       "        0,  0,  0,  0,  0,  0,  0,  0,  0,  0,  0,  0,  0,  0,  0,  0,  0,\n",
       "        0,  0,  0,  0,  0,  0,  0,  0,  0,  0,  0,  0,  0,  0,  0,  0,  0,\n",
       "        0,  0,  0,  0,  0,  0,  0,  0, 23])"
      ]
     },
     "execution_count": 164,
     "metadata": {},
     "output_type": "execute_result"
    }
   ],
   "source": [
    "np.argmax(preds[16], axis=1)"
   ]
  },
  {
   "cell_type": "code",
   "execution_count": 95,
   "metadata": {},
   "outputs": [
    {
     "data": {
      "text/plain": [
       "array([ 0,  0,  0,  0,  0,  0,  0,  0,  0,  0,  0,  0,  0,  0,  0,  0,  0,\n",
       "        0,  0,  0,  0,  0,  0,  0,  0,  0,  0,  0,  0,  0,  0,  0,  0,  0,\n",
       "        0,  0,  0,  0,  0,  0,  0,  0,  0,  0,  0,  0,  0,  0,  0,  0,  0,\n",
       "        0,  0,  0,  0,  1,  6, 12, 12, 12])"
      ]
     },
     "execution_count": 95,
     "metadata": {},
     "output_type": "execute_result"
    }
   ],
   "source": [
    "np.argmax(match_j[3], axis=1)"
   ]
  },
  {
   "cell_type": "code",
   "execution_count": 168,
   "metadata": {},
   "outputs": [
    {
     "data": {
      "text/plain": [
       "array([0, 0, 0, 0, 0, 0, 0, 0, 0, 0, 0, 0, 0, 0, 0, 0, 0, 0, 0, 0, 0, 0,\n",
       "       0, 0, 0, 0, 0, 0, 0, 0, 0, 0, 0, 0, 0, 0, 0, 0, 0, 0, 0, 0, 0, 0,\n",
       "       0, 0, 0, 0, 0, 0, 0, 0, 0, 0, 0, 0, 0, 0, 0, 1])"
      ]
     },
     "execution_count": 168,
     "metadata": {},
     "output_type": "execute_result"
    }
   ],
   "source": [
    "np.argmax(X_j_test[0], axis=1)"
   ]
  },
  {
   "cell_type": "code",
   "execution_count": 165,
   "metadata": {},
   "outputs": [
    {
     "data": {
      "text/plain": [
       "array([0, 0, 0, 0, 0, 0, 0, 0, 0, 0, 0, 0, 0, 0, 0, 0, 0, 0, 0, 0, 0, 0,\n",
       "       0, 0, 0, 0, 0, 0, 0, 0, 0, 0, 0, 0, 0, 0, 0, 0, 0, 0, 0, 0, 0, 0,\n",
       "       0, 0, 0, 0, 0, 0, 0, 0, 0, 0, 0, 0, 0, 0, 0, 6])"
      ]
     },
     "execution_count": 165,
     "metadata": {},
     "output_type": "execute_result"
    }
   ],
   "source": [
    "np.argmax(Y_j_train[16], axis=1)"
   ]
  },
  {
   "cell_type": "code",
   "execution_count": null,
   "metadata": {},
   "outputs": [],
   "source": []
  },
  {
   "cell_type": "code",
   "execution_count": 733,
   "metadata": {
    "scrolled": true
   },
   "outputs": [
    {
     "data": {
      "text/plain": [
       "{'A_SUBMITTED': 3,\n",
       " 'A_PARTLYSUBMITTED': 4,\n",
       " 'A_PREACCEPTED': 5,\n",
       " 'W_Completeren aanvraag': 6,\n",
       " 'A_ACCEPTED': 7,\n",
       " 'O_SELECTED': 8,\n",
       " 'A_FINALIZED': 9,\n",
       " 'O_CREATED': 10,\n",
       " 'O_SENT': 11,\n",
       " 'W_Nabellen offertes': 12,\n",
       " 'O_SENT_BACK': 13,\n",
       " 'W_Valideren aanvraag': 14,\n",
       " 'A_REGISTERED': 15,\n",
       " 'A_APPROVED': 16,\n",
       " 'O_ACCEPTED': 17,\n",
       " 'A_ACTIVATED': 18,\n",
       " 'O_CANCELLED': 19,\n",
       " 'W_Wijzigen contractgegevens': 20,\n",
       " 'A_DECLINED': 21,\n",
       " 'A_CANCELLED': 22,\n",
       " 'W_Afhandelen leads': 23,\n",
       " 'O_DECLINED': 24,\n",
       " 'W_Nabellen incomplete dossiers': 25,\n",
       " 'W_Beoordelen fraude': 26,\n",
       " 'Start': 1,\n",
       " 'End': 2}"
      ]
     },
     "execution_count": 733,
     "metadata": {},
     "output_type": "execute_result"
    }
   ],
   "source": [
    "activity_encoder"
   ]
  },
  {
   "cell_type": "code",
   "execution_count": 925,
   "metadata": {},
   "outputs": [
    {
     "data": {
      "text/plain": [
       "14"
      ]
     },
     "execution_count": 925,
     "metadata": {},
     "output_type": "execute_result"
    }
   ],
   "source": [
    "np.argmax(Y_j_test[16])"
   ]
  },
  {
   "cell_type": "code",
   "execution_count": 933,
   "metadata": {},
   "outputs": [
    {
     "data": {
      "text/plain": [
       "array([ 0,  0,  0,  0,  0,  0,  0,  0,  0,  0,  0,  0,  0,  0,  0,  0,  0,\n",
       "        0,  0,  0,  0,  0,  0,  0,  0,  0,  0,  0,  0,  0,  0,  0,  0,  0,\n",
       "        0,  0,  0,  0,  0,  0,  0,  0,  0,  0,  0,  0,  0,  0,  0,  0,  0,\n",
       "        0,  0,  0, 23,  6,  6, 12, 12, 14])"
      ]
     },
     "execution_count": 933,
     "metadata": {},
     "output_type": "execute_result"
    }
   ],
   "source": [
    "np.argmax(preds[16], axis=1)"
   ]
  },
  {
   "cell_type": "code",
   "execution_count": 936,
   "metadata": {},
   "outputs": [
    {
     "data": {
      "text/plain": [
       "0"
      ]
     },
     "execution_count": 936,
     "metadata": {},
     "output_type": "execute_result"
    }
   ],
   "source": [
    "np.argmax(X_j_test[16])"
   ]
  },
  {
   "cell_type": "code",
   "execution_count": 937,
   "metadata": {},
   "outputs": [
    {
     "data": {
      "text/plain": [
       "array([ 0,  0,  0,  0,  0,  0,  0,  0,  0,  0,  0,  0,  0,  0,  0,  0,  0,\n",
       "        0,  0,  0,  0,  0,  0,  0,  0,  0,  0,  0,  0,  0,  0,  0,  0,  0,\n",
       "        0,  0,  0,  0,  0,  0,  0,  0,  0,  0,  0,  0,  0,  0,  0,  0,  0,\n",
       "        0,  0,  0,  1,  6, 12, 12, 14, 25])"
      ]
     },
     "execution_count": 937,
     "metadata": {},
     "output_type": "execute_result"
    }
   ],
   "source": [
    "np.argmax(X_j_test[16], axis=1)"
   ]
  },
  {
   "cell_type": "code",
   "execution_count": 72,
   "metadata": {},
   "outputs": [
    {
     "name": "stdout",
     "output_type": "stream",
     "text": [
      "Accuracy:0.5695623293231973\n"
     ]
    }
   ],
   "source": [
    "from sklearn.metrics import f1_score, accuracy_score, balanced_accuracy_score\n",
    "print(\"Accuracy:{}\".format(accuracy_score(truth, preds)))\n"
   ]
  },
  {
   "cell_type": "code",
   "execution_count": 140,
   "metadata": {},
   "outputs": [
    {
     "data": {
      "text/plain": [
       "array([ 0,  2, 12, 23, 25])"
      ]
     },
     "execution_count": 140,
     "metadata": {},
     "output_type": "execute_result"
    }
   ],
   "source": [
    "np.unique(preds)"
   ]
  },
  {
   "cell_type": "code",
   "execution_count": 141,
   "metadata": {},
   "outputs": [
    {
     "data": {
      "text/plain": [
       "array([ 2,  0, 23, ..., 12,  2,  2])"
      ]
     },
     "execution_count": 141,
     "metadata": {},
     "output_type": "execute_result"
    }
   ],
   "source": [
    "preds"
   ]
  },
  {
   "cell_type": "code",
   "execution_count": 116,
   "metadata": {},
   "outputs": [
    {
     "data": {
      "text/plain": [
       "array([[[1., 0., 0., ..., 0., 0., 0.],\n",
       "        [1., 0., 0., ..., 0., 0., 0.],\n",
       "        [1., 0., 0., ..., 0., 0., 0.],\n",
       "        ...,\n",
       "        [1., 0., 0., ..., 0., 0., 0.],\n",
       "        [1., 0., 0., ..., 0., 0., 0.],\n",
       "        [0., 1., 0., ..., 0., 0., 0.]],\n",
       "\n",
       "       [[1., 0., 0., ..., 0., 0., 0.],\n",
       "        [1., 0., 0., ..., 0., 0., 0.],\n",
       "        [1., 0., 0., ..., 0., 0., 0.],\n",
       "        ...,\n",
       "        [1., 0., 0., ..., 0., 0., 0.],\n",
       "        [0., 1., 0., ..., 0., 0., 0.],\n",
       "        [0., 0., 0., ..., 0., 0., 0.]],\n",
       "\n",
       "       [[1., 0., 0., ..., 0., 0., 0.],\n",
       "        [1., 0., 0., ..., 0., 0., 0.],\n",
       "        [1., 0., 0., ..., 0., 0., 0.],\n",
       "        ...,\n",
       "        [0., 1., 0., ..., 0., 0., 0.],\n",
       "        [0., 0., 0., ..., 0., 0., 0.],\n",
       "        [0., 0., 0., ..., 0., 0., 0.]],\n",
       "\n",
       "       ...,\n",
       "\n",
       "       [[1., 0., 0., ..., 0., 0., 0.],\n",
       "        [1., 0., 0., ..., 0., 0., 0.],\n",
       "        [1., 0., 0., ..., 0., 0., 0.],\n",
       "        ...,\n",
       "        [0., 0., 0., ..., 0., 0., 0.],\n",
       "        [0., 0., 0., ..., 0., 0., 0.],\n",
       "        [0., 0., 0., ..., 0., 0., 0.]],\n",
       "\n",
       "       [[1., 0., 0., ..., 0., 0., 0.],\n",
       "        [1., 0., 0., ..., 0., 0., 0.],\n",
       "        [1., 0., 0., ..., 0., 0., 0.],\n",
       "        ...,\n",
       "        [1., 0., 0., ..., 0., 0., 0.],\n",
       "        [1., 0., 0., ..., 0., 0., 0.],\n",
       "        [0., 1., 0., ..., 0., 0., 0.]],\n",
       "\n",
       "       [[1., 0., 0., ..., 0., 0., 0.],\n",
       "        [1., 0., 0., ..., 0., 0., 0.],\n",
       "        [1., 0., 0., ..., 0., 0., 0.],\n",
       "        ...,\n",
       "        [1., 0., 0., ..., 0., 0., 0.],\n",
       "        [0., 1., 0., ..., 0., 0., 0.],\n",
       "        [0., 0., 0., ..., 0., 0., 0.]]], dtype=float32)"
      ]
     },
     "execution_count": 116,
     "metadata": {},
     "output_type": "execute_result"
    }
   ],
   "source": [
    "X_j_test"
   ]
  },
  {
   "cell_type": "code",
   "execution_count": 17,
   "metadata": {},
   "outputs": [],
   "source": [
    "a = tf.convert_to_tensor([0,1,2])"
   ]
  },
  {
   "cell_type": "code",
   "execution_count": 45,
   "metadata": {},
   "outputs": [
    {
     "data": {
      "text/plain": [
       "<tf.Tensor: shape=(1, 1, 3), dtype=int32, numpy=array([[[0, 1, 2]]], dtype=int32)>"
      ]
     },
     "execution_count": 45,
     "metadata": {},
     "output_type": "execute_result"
    }
   ],
   "source": [
    "tf.reshape(a, [1,1,3])"
   ]
  },
  {
   "cell_type": "code",
   "execution_count": 50,
   "metadata": {},
   "outputs": [],
   "source": [
    "a = tf.convert_to_tensor([[[1,2,3]]])"
   ]
  },
  {
   "cell_type": "code",
   "execution_count": 51,
   "metadata": {},
   "outputs": [
    {
     "data": {
      "text/plain": [
       "<tf.Tensor: shape=(1, 1, 3), dtype=int32, numpy=array([[[1, 2, 3]]], dtype=int32)>"
      ]
     },
     "execution_count": 51,
     "metadata": {},
     "output_type": "execute_result"
    }
   ],
   "source": [
    "a"
   ]
  },
  {
   "cell_type": "code",
   "execution_count": 54,
   "metadata": {},
   "outputs": [],
   "source": [
    "b = tf.reshape(tf.convert_to_tensor([4,5,6]),[1,3])"
   ]
  },
  {
   "cell_type": "code",
   "execution_count": 55,
   "metadata": {},
   "outputs": [
    {
     "ename": "InvalidArgumentError",
     "evalue": "ConcatOp : Ranks of all input tensors should match: shape[0] = [1,1,3] vs. shape[1] = [1,3] [Op:ConcatV2] name: concat",
     "output_type": "error",
     "traceback": [
      "\u001b[0;31m---------------------------------------------------------------------------\u001b[0m",
      "\u001b[0;31mInvalidArgumentError\u001b[0m                      Traceback (most recent call last)",
      "\u001b[0;32m<ipython-input-55-35a485ca1dbf>\u001b[0m in \u001b[0;36m<module>\u001b[0;34m\u001b[0m\n\u001b[0;32m----> 1\u001b[0;31m \u001b[0mtf\u001b[0m\u001b[0;34m.\u001b[0m\u001b[0mconcat\u001b[0m\u001b[0;34m(\u001b[0m\u001b[0;34m[\u001b[0m\u001b[0ma\u001b[0m\u001b[0;34m,\u001b[0m\u001b[0mb\u001b[0m\u001b[0;34m]\u001b[0m\u001b[0;34m,\u001b[0m \u001b[0maxis\u001b[0m\u001b[0;34m=\u001b[0m\u001b[0;36m1\u001b[0m\u001b[0;34m)\u001b[0m\u001b[0;34m\u001b[0m\u001b[0;34m\u001b[0m\u001b[0m\n\u001b[0m",
      "\u001b[0;32m~/Desktop/Master/Thesis/venv/lib/python3.7/site-packages/tensorflow/python/util/dispatch.py\u001b[0m in \u001b[0;36mwrapper\u001b[0;34m(*args, **kwargs)\u001b[0m\n\u001b[1;32m    199\u001b[0m     \u001b[0;34m\"\"\"Call target, and fall back on dispatchers if there is a TypeError.\"\"\"\u001b[0m\u001b[0;34m\u001b[0m\u001b[0;34m\u001b[0m\u001b[0m\n\u001b[1;32m    200\u001b[0m     \u001b[0;32mtry\u001b[0m\u001b[0;34m:\u001b[0m\u001b[0;34m\u001b[0m\u001b[0;34m\u001b[0m\u001b[0m\n\u001b[0;32m--> 201\u001b[0;31m       \u001b[0;32mreturn\u001b[0m \u001b[0mtarget\u001b[0m\u001b[0;34m(\u001b[0m\u001b[0;34m*\u001b[0m\u001b[0margs\u001b[0m\u001b[0;34m,\u001b[0m \u001b[0;34m**\u001b[0m\u001b[0mkwargs\u001b[0m\u001b[0;34m)\u001b[0m\u001b[0;34m\u001b[0m\u001b[0;34m\u001b[0m\u001b[0m\n\u001b[0m\u001b[1;32m    202\u001b[0m     \u001b[0;32mexcept\u001b[0m \u001b[0;34m(\u001b[0m\u001b[0mTypeError\u001b[0m\u001b[0;34m,\u001b[0m \u001b[0mValueError\u001b[0m\u001b[0;34m)\u001b[0m\u001b[0;34m:\u001b[0m\u001b[0;34m\u001b[0m\u001b[0;34m\u001b[0m\u001b[0m\n\u001b[1;32m    203\u001b[0m       \u001b[0;31m# Note: convert_to_eager_tensor currently raises a ValueError, not a\u001b[0m\u001b[0;34m\u001b[0m\u001b[0;34m\u001b[0m\u001b[0;34m\u001b[0m\u001b[0m\n",
      "\u001b[0;32m~/Desktop/Master/Thesis/venv/lib/python3.7/site-packages/tensorflow/python/ops/array_ops.py\u001b[0m in \u001b[0;36mconcat\u001b[0;34m(values, axis, name)\u001b[0m\n\u001b[1;32m   1675\u001b[0m           dtype=dtypes.int32).get_shape().assert_has_rank(0)\n\u001b[1;32m   1676\u001b[0m       \u001b[0;32mreturn\u001b[0m \u001b[0midentity\u001b[0m\u001b[0;34m(\u001b[0m\u001b[0mvalues\u001b[0m\u001b[0;34m[\u001b[0m\u001b[0;36m0\u001b[0m\u001b[0;34m]\u001b[0m\u001b[0;34m,\u001b[0m \u001b[0mname\u001b[0m\u001b[0;34m=\u001b[0m\u001b[0mname\u001b[0m\u001b[0;34m)\u001b[0m\u001b[0;34m\u001b[0m\u001b[0;34m\u001b[0m\u001b[0m\n\u001b[0;32m-> 1677\u001b[0;31m   \u001b[0;32mreturn\u001b[0m \u001b[0mgen_array_ops\u001b[0m\u001b[0;34m.\u001b[0m\u001b[0mconcat_v2\u001b[0m\u001b[0;34m(\u001b[0m\u001b[0mvalues\u001b[0m\u001b[0;34m=\u001b[0m\u001b[0mvalues\u001b[0m\u001b[0;34m,\u001b[0m \u001b[0maxis\u001b[0m\u001b[0;34m=\u001b[0m\u001b[0maxis\u001b[0m\u001b[0;34m,\u001b[0m \u001b[0mname\u001b[0m\u001b[0;34m=\u001b[0m\u001b[0mname\u001b[0m\u001b[0;34m)\u001b[0m\u001b[0;34m\u001b[0m\u001b[0;34m\u001b[0m\u001b[0m\n\u001b[0m\u001b[1;32m   1678\u001b[0m \u001b[0;34m\u001b[0m\u001b[0m\n\u001b[1;32m   1679\u001b[0m \u001b[0;34m\u001b[0m\u001b[0m\n",
      "\u001b[0;32m~/Desktop/Master/Thesis/venv/lib/python3.7/site-packages/tensorflow/python/ops/gen_array_ops.py\u001b[0m in \u001b[0;36mconcat_v2\u001b[0;34m(values, axis, name)\u001b[0m\n\u001b[1;32m   1191\u001b[0m       \u001b[0;32mreturn\u001b[0m \u001b[0m_result\u001b[0m\u001b[0;34m\u001b[0m\u001b[0;34m\u001b[0m\u001b[0m\n\u001b[1;32m   1192\u001b[0m     \u001b[0;32mexcept\u001b[0m \u001b[0m_core\u001b[0m\u001b[0;34m.\u001b[0m\u001b[0m_NotOkStatusException\u001b[0m \u001b[0;32mas\u001b[0m \u001b[0me\u001b[0m\u001b[0;34m:\u001b[0m\u001b[0;34m\u001b[0m\u001b[0;34m\u001b[0m\u001b[0m\n\u001b[0;32m-> 1193\u001b[0;31m       \u001b[0m_ops\u001b[0m\u001b[0;34m.\u001b[0m\u001b[0mraise_from_not_ok_status\u001b[0m\u001b[0;34m(\u001b[0m\u001b[0me\u001b[0m\u001b[0;34m,\u001b[0m \u001b[0mname\u001b[0m\u001b[0;34m)\u001b[0m\u001b[0;34m\u001b[0m\u001b[0;34m\u001b[0m\u001b[0m\n\u001b[0m\u001b[1;32m   1194\u001b[0m     \u001b[0;32mexcept\u001b[0m \u001b[0m_core\u001b[0m\u001b[0;34m.\u001b[0m\u001b[0m_FallbackException\u001b[0m\u001b[0;34m:\u001b[0m\u001b[0;34m\u001b[0m\u001b[0;34m\u001b[0m\u001b[0m\n\u001b[1;32m   1195\u001b[0m       \u001b[0;32mpass\u001b[0m\u001b[0;34m\u001b[0m\u001b[0;34m\u001b[0m\u001b[0m\n",
      "\u001b[0;32m~/Desktop/Master/Thesis/venv/lib/python3.7/site-packages/tensorflow/python/framework/ops.py\u001b[0m in \u001b[0;36mraise_from_not_ok_status\u001b[0;34m(e, name)\u001b[0m\n\u001b[1;32m   6860\u001b[0m   \u001b[0mmessage\u001b[0m \u001b[0;34m=\u001b[0m \u001b[0me\u001b[0m\u001b[0;34m.\u001b[0m\u001b[0mmessage\u001b[0m \u001b[0;34m+\u001b[0m \u001b[0;34m(\u001b[0m\u001b[0;34m\" name: \"\u001b[0m \u001b[0;34m+\u001b[0m \u001b[0mname\u001b[0m \u001b[0;32mif\u001b[0m \u001b[0mname\u001b[0m \u001b[0;32mis\u001b[0m \u001b[0;32mnot\u001b[0m \u001b[0;32mNone\u001b[0m \u001b[0;32melse\u001b[0m \u001b[0;34m\"\"\u001b[0m\u001b[0;34m)\u001b[0m\u001b[0;34m\u001b[0m\u001b[0;34m\u001b[0m\u001b[0m\n\u001b[1;32m   6861\u001b[0m   \u001b[0;31m# pylint: disable=protected-access\u001b[0m\u001b[0;34m\u001b[0m\u001b[0;34m\u001b[0m\u001b[0;34m\u001b[0m\u001b[0m\n\u001b[0;32m-> 6862\u001b[0;31m   \u001b[0msix\u001b[0m\u001b[0;34m.\u001b[0m\u001b[0mraise_from\u001b[0m\u001b[0;34m(\u001b[0m\u001b[0mcore\u001b[0m\u001b[0;34m.\u001b[0m\u001b[0m_status_to_exception\u001b[0m\u001b[0;34m(\u001b[0m\u001b[0me\u001b[0m\u001b[0;34m.\u001b[0m\u001b[0mcode\u001b[0m\u001b[0;34m,\u001b[0m \u001b[0mmessage\u001b[0m\u001b[0;34m)\u001b[0m\u001b[0;34m,\u001b[0m \u001b[0;32mNone\u001b[0m\u001b[0;34m)\u001b[0m\u001b[0;34m\u001b[0m\u001b[0;34m\u001b[0m\u001b[0m\n\u001b[0m\u001b[1;32m   6863\u001b[0m   \u001b[0;31m# pylint: enable=protected-access\u001b[0m\u001b[0;34m\u001b[0m\u001b[0;34m\u001b[0m\u001b[0;34m\u001b[0m\u001b[0m\n\u001b[1;32m   6864\u001b[0m \u001b[0;34m\u001b[0m\u001b[0m\n",
      "\u001b[0;32m~/Desktop/Master/Thesis/venv/lib/python3.7/site-packages/six.py\u001b[0m in \u001b[0;36mraise_from\u001b[0;34m(value, from_value)\u001b[0m\n",
      "\u001b[0;31mInvalidArgumentError\u001b[0m: ConcatOp : Ranks of all input tensors should match: shape[0] = [1,1,3] vs. shape[1] = [1,3] [Op:ConcatV2] name: concat"
     ]
    }
   ],
   "source": [
    "tf.concat([a,b], axis=1)"
   ]
  },
  {
   "cell_type": "code",
   "execution_count": 45,
   "metadata": {},
   "outputs": [
    {
     "ename": "ModuleNotFoundError",
     "evalue": "No module named 'tfp'",
     "output_type": "error",
     "traceback": [
      "\u001b[0;31m----------------------------------------------------------\u001b[0m",
      "\u001b[0;31mModuleNotFoundError\u001b[0m      Traceback (most recent call last)",
      "\u001b[0;32m<ipython-input-45-39f709761230>\u001b[0m in \u001b[0;36m<module>\u001b[0;34m\u001b[0m\n\u001b[0;32m----> 1\u001b[0;31m \u001b[0;32mfrom\u001b[0m \u001b[0mtfp\u001b[0m\u001b[0;34m.\u001b[0m\u001b[0mdistributions\u001b[0m \u001b[0;32mimport\u001b[0m \u001b[0mRelaxedOneHotCategorical\u001b[0m\u001b[0;34m\u001b[0m\u001b[0;34m\u001b[0m\u001b[0m\n\u001b[0m",
      "\u001b[0;31mModuleNotFoundError\u001b[0m: No module named 'tfp'"
     ]
    }
   ],
   "source": [
    "from tfp.distributions import RelaxedOneHotCategorical"
   ]
  },
  {
   "cell_type": "code",
   "execution_count": 48,
   "metadata": {},
   "outputs": [],
   "source": [
    "import tensorflow_probability as tfp"
   ]
  },
  {
   "cell_type": "code",
   "execution_count": 150,
   "metadata": {},
   "outputs": [],
   "source": [
    "temperature = 0.01\n",
    "p = [0.1, 0.5, 0.4]\n",
    "dist = tfp.distributions.RelaxedOneHotCategorical(temperature, logits=p)"
   ]
  },
  {
   "cell_type": "code",
   "execution_count": 55,
   "metadata": {},
   "outputs": [
    {
     "data": {
      "text/plain": [
       "<tf.Tensor: shape=(3,), dtype=float32, numpy=array([0.26030254, 0.38832578, 0.3513717 ], dtype=float32)>"
      ]
     },
     "execution_count": 55,
     "metadata": {},
     "output_type": "execute_result"
    }
   ],
   "source": [
    "tf.nn.softmax(p)"
   ]
  },
  {
   "cell_type": "code",
   "execution_count": 63,
   "metadata": {},
   "outputs": [
    {
     "data": {
      "text/plain": [
       "<tf.Tensor: shape=(1, 3), dtype=float32, numpy=array([[0.000000e+00, 5.633773e-29, 1.000000e+00]], dtype=float32)>"
      ]
     },
     "execution_count": 63,
     "metadata": {},
     "output_type": "execute_result"
    }
   ],
   "source": [
    "dist.sample(1)"
   ]
  },
  {
   "cell_type": "code",
   "execution_count": 140,
   "metadata": {},
   "outputs": [],
   "source": [
    "p = [[0.99, 0.01], [0.01, 0.99]]\n",
    "dist = tfp.distributions.RelaxedOneHotCategorical(0.5, probs=p)"
   ]
  },
  {
   "cell_type": "code",
   "execution_count": 151,
   "metadata": {},
   "outputs": [
    {
     "data": {
      "text/plain": [
       "<tf.Tensor: shape=(3,), dtype=float32, numpy=array([0., 1., 0.], dtype=float32)>"
      ]
     },
     "execution_count": 151,
     "metadata": {},
     "output_type": "execute_result"
    }
   ],
   "source": [
    "dist.sample()"
   ]
  },
  {
   "cell_type": "code",
   "execution_count": 183,
   "metadata": {},
   "outputs": [],
   "source": [
    "a = [[[0.5,0.5,], [0.5,0.5]],[[0.2,0.8,], [0.8,0.3]]]"
   ]
  },
  {
   "cell_type": "code",
   "execution_count": 185,
   "metadata": {},
   "outputs": [
    {
     "data": {
      "text/plain": [
       "<tf.Tensor: shape=(2, 2, 2), dtype=float32, numpy=\n",
       "array([[[0., 1.],\n",
       "        [1., 0.]],\n",
       "\n",
       "       [[0., 1.],\n",
       "        [1., 0.]]], dtype=float32)>"
      ]
     },
     "execution_count": 185,
     "metadata": {},
     "output_type": "execute_result"
    }
   ],
   "source": [
    "tfp.distributions.RelaxedOneHotCategorical(0.001, probs=a).sample()"
   ]
  },
  {
   "cell_type": "code",
   "execution_count": null,
   "metadata": {},
   "outputs": [],
   "source": []
  }
 ],
 "metadata": {
  "kernelspec": {
   "display_name": "Python 3",
   "language": "python",
   "name": "python3"
  },
  "language_info": {
   "codemirror_mode": {
    "name": "ipython",
    "version": 3
   },
   "file_extension": ".py",
   "mimetype": "text/x-python",
   "name": "python",
   "nbconvert_exporter": "python",
   "pygments_lexer": "ipython3",
   "version": "3.8.5"
  }
 },
 "nbformat": 4,
 "nbformat_minor": 4
}
