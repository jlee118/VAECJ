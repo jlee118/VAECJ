{
 "cells": [
  {
   "cell_type": "code",
   "execution_count": 1,
   "metadata": {},
   "outputs": [
    {
     "data": {
      "application/vnd.jupyter.widget-view+json": {
       "model_id": "98cdbcc8032b4c20b036d82a60697a99",
       "version_major": 2,
       "version_minor": 0
      },
      "text/plain": [
       "parsing log, completed traces ::   0%|          | 0/13087 [00:00<?, ?it/s]"
      ]
     },
     "metadata": {},
     "output_type": "display_data"
    }
   ],
   "source": [
    "import os \n",
    "import pm4py\n",
    "from pm4py.objects.conversion.log import converter as log_converter\n",
    "import pandas as pd\n",
    "\n",
    "curr_path = os.path.abspath('')\n",
    "folder_path = os.path.join(curr_path, 'data')\n",
    "filepath = os.path.join(folder_path, 'BPI_Challenge_2012.xes')\n",
    "log = pm4py.read_xes(filepath)\n",
    "df = log_converter.apply(log, variant=log_converter.Variants.TO_DATA_FRAME)"
   ]
  },
  {
   "cell_type": "code",
   "execution_count": 2,
   "metadata": {},
   "outputs": [],
   "source": [
    "unique_activities = pd.unique(df['concept:name'])\n",
    "activity_encoder = dict(zip(unique_activities,range(3,len(unique_activities) + 3)))\n",
    "activity_encoder['Start'] = 1\n",
    "activity_encoder['End'] = 2\n",
    "df['concept:encoded'] = df['concept:name'].apply(lambda x: activity_encoder[x])"
   ]
  },
  {
   "cell_type": "code",
   "execution_count": 3,
   "metadata": {},
   "outputs": [],
   "source": [
    "import pandas as pd\n",
    "\n",
    "def process_arrays(df, complete=False, W=False):\n",
    "    proc_df = df\n",
    "    if complete:\n",
    "        proc_df = proc_df[proc_df['lifecycle:transition'] == 'COMPLETE']\n",
    "    if W:\n",
    "        proc_df = proc_df[proc_df['concept:name'].str.startswith('W_')]\n",
    "    \n",
    "    arrays = proc_df.groupby(['case:concept:name']).agg(list)\n",
    "    arrays.reset_index(inplace=True)\n",
    "    arrays['time:interarrival_min'] = arrays['time:timestamp'].apply(lambda x: [0] + [0] + [((x[i+1] - x[i]).total_seconds() / 60) for i in range(len(x)-1)] + [0])\n",
    "    arrays['concept:encoded'] = arrays['concept:encoded'].apply(lambda x: [1] + x + [2])\n",
    "    return arrays"
   ]
  },
  {
   "cell_type": "code",
   "execution_count": 4,
   "metadata": {},
   "outputs": [],
   "source": [
    "arrays = process_arrays(df, complete=True, W=True)"
   ]
  },
  {
   "cell_type": "code",
   "execution_count": 5,
   "metadata": {},
   "outputs": [],
   "source": [
    "from sklearn.model_selection import train_test_split, KFold\n",
    "import numpy as np\n",
    "# sampled_arrays = arrays['case:concept:name'].sample(n= 100000)\n",
    "\n",
    "kf = KFold(n_splits=3)\n",
    "splits = []\n",
    "for train_index, test_index in kf.split(arrays['case:concept:name']):\n",
    "    id_tr = arrays['case:concept:name'].iloc[train_index]\n",
    "    id_te = arrays['case:concept:name'].iloc[test_index]\n",
    "    splits.append((id_tr, id_te))"
   ]
  },
  {
   "cell_type": "code",
   "execution_count": 6,
   "metadata": {},
   "outputs": [],
   "source": [
    "i = 0\n",
    "id_train, id_test = splits[i]"
   ]
  },
  {
   "cell_type": "code",
   "execution_count": 7,
   "metadata": {},
   "outputs": [],
   "source": [
    "from tensorflow import keras\n",
    "from tensorflow.keras.utils import to_categorical\n",
    "from tensorflow.keras import layers\n",
    "import numpy as np\n",
    "# Many to one + context\n",
    "\n",
    "\n",
    "activity_decoder = {v:k for k,v in activity_encoder.items()}\n",
    "\n",
    "def many_to_one_prep(journey):\n",
    "    \"\"\"\n",
    "    Setting up a many-to-one scheme.\n",
    "    Function Input is a complete journey.\n",
    "    Returns an RNN input of a history of activities, output is the following activity\n",
    "    \"\"\"\n",
    "    inp = [journey[:i] for i in range(1,len(journey))]\n",
    "    out = journey[1:]\n",
    "    return (inp,out)\n",
    "\n",
    "def many_to_many_prep(journey):\n",
    "    \"\"\"\n",
    "    Setting up a many-to-many scheme shifted by 1.  \n",
    "    Function input is a complete journey.\n",
    "    Returns an RNN input of a history of activities omitting the final activity, output is the same history shifted by 1 timeslot (omitting the first activity)\n",
    "    \"\"\"\n",
    "    inp = journey[:-1]\n",
    "    out = journey[1:]\n",
    "    return(inp, out)\n",
    "\n",
    "def many_to_many_make_data(id_indexes, arrays_df):\n",
    "    \"\"\"\n",
    "    Creates training and testing sets for an RNN model.  \n",
    "    Function input are indices of a selected subset of data, a DataFrame consisting of aggregated list-like journey data, and a data preparation method.\n",
    "    Returns a tuple of training and testing data for journeys and inter-arrival times.\n",
    "    \"\"\"\n",
    "    X_j = []\n",
    "    Y_j = []\n",
    "    X_t = []\n",
    "    Y_t = []\n",
    "\n",
    "    selected = arrays_df[arrays_df[\"case:concept:name\"].isin(id_indexes)]\n",
    "\n",
    "    for index, row in selected.iterrows():\n",
    "        j_inp, j_out = many_to_many_prep(row['concept:encoded'])\n",
    "        t_inp, t_out = many_to_many_prep(row['time:interarrival_min'])\n",
    "        X_j.append(j_inp)\n",
    "        X_t.append(t_inp)\n",
    "        Y_j.append(j_out)\n",
    "        Y_t.append(t_out)\n",
    "    X_j = keras.preprocessing.sequence.pad_sequences(X_j, padding='pre', maxlen=60)\n",
    "    X_j = to_categorical(X_j)\n",
    "    X_t = keras.preprocessing.sequence.pad_sequences(X_t, padding='pre', maxlen=60)\n",
    "    Y_j = keras.preprocessing.sequence.pad_sequences(Y_j, padding='pre', maxlen=60)\n",
    "    Y_j = to_categorical(Y_j)\n",
    "    Y_t = keras.preprocessing.sequence.pad_sequences(Y_t, padding='pre', maxlen=60)\n",
    "    return (X_j, X_t, Y_j, Y_t)\n",
    "\n",
    "def many_to_one_make_data(id_indexes, arrays_df):\n",
    "    \"\"\"\n",
    "    Creates training and testing sets for an RNN model.  \n",
    "    Function input are indices of a selected subset of data, a DataFrame consisting of aggregated list-like journey data, and a data preparation method.\n",
    "    Returns a tuple of training and testing data for journeys and inter-arrival times.\n",
    "    \"\"\"\n",
    "    X_j = []\n",
    "    Y_j = []\n",
    "    X_t = []\n",
    "    Y_t = []\n",
    "\n",
    "    selected = arrays_df[arrays_df[\"case:concept:name\"].isin(id_indexes)]\n",
    "\n",
    "    for index, row in selected.iterrows():\n",
    "        j_inp, j_out = many_to_one_prep(row['concept:encoded'])\n",
    "        t_inp, t_out = many_to_one_prep(row['time:interarrival_min'])\n",
    "        X_j.extend(j_inp)\n",
    "        X_t.extend(t_inp)\n",
    "        Y_j.extend(j_out)\n",
    "        Y_t.extend(t_out)\n",
    "    X_j = keras.preprocessing.sequence.pad_sequences(X_j, padding='pre', maxlen=60)\n",
    "    X_j = to_categorical(X_j)\n",
    "    X_t = keras.preprocessing.sequence.pad_sequences(X_t, padding='pre', maxlen=60)\n",
    "    Y_j = np.asarray(Y_j).astype(\"float32\")\n",
    "    Y_j = to_categorical(Y_j)\n",
    "    Y_t = np.asarray(Y_t).astype(\"float32\")\n",
    "    return (X_j, X_t, Y_j, Y_t)"
   ]
  },
  {
   "cell_type": "code",
   "execution_count": 8,
   "metadata": {},
   "outputs": [],
   "source": [
    "X_j_train, X_t_train, Y_j_train, Y_t_train = many_to_one_make_data(id_train.values, arrays)"
   ]
  },
  {
   "cell_type": "code",
   "execution_count": 9,
   "metadata": {},
   "outputs": [],
   "source": [
    "X_j_test, X_t_test, Y_j_test, Y_t_test = many_to_one_make_data(id_test.values, arrays)"
   ]
  },
  {
   "cell_type": "markdown",
   "metadata": {},
   "source": [
    "# VRNN Model (Runs properly)"
   ]
  },
  {
   "cell_type": "code",
   "execution_count": 10,
   "metadata": {},
   "outputs": [],
   "source": [
    "import tensorflow as tf\n",
    "import numpy as np\n",
    "# Implementing Variational RNN's and variations by subclassing Keras RNN-type Cells\n",
    "\n",
    "class VRNNCell(tf.keras.layers.GRUCell):\n",
    "    def __init__(self, units, **kwargs):\n",
    "        super(VRNNCell, self).__init__(units, **kwargs)\n",
    "    \n",
    "\n",
    "    def build(self, input_shape):\n",
    "        # Taking most of the standard weight initiaalizations from the base GRU class\n",
    "        super().build((input_shape[0], input_shape[1] + self.units))\n",
    "        \n",
    "        self.input_kernel = self.add_weight(shape=(input_shape[-1], input_shape[-1]), initializer='uniform')\n",
    "        \n",
    "        self.state_kernel = self.add_weight(shape=(self.units, self.units), initializer='uniform')\n",
    "        \n",
    "        self.encoder_mu_kernel = self.add_weight(shape=(input_shape[-1] + self.units, self.units), initializer='uniform')\n",
    "        \n",
    "        self.encoder_logvar_kernel = self.add_weight(shape=(input_shape[-1] + self.units, self.units), initializer='uniform')\n",
    "        \n",
    "        self.prior_mu_kernel = self.add_weight(shape=(self.units, self.units), initializer='uniform')\n",
    "        \n",
    "        self.prior_logvar_kernel = self.add_weight(shape=(self.units, self.units), initializer='uniform')  \n",
    "        \n",
    "        self.batch_size = input_shape[0]\n",
    "\n",
    "\n",
    "    def sample(self, mu, log_var):\n",
    "        # Sample from unit Normal\n",
    "        epsilon = tf.random.normal([1, self.units])\n",
    "        half_constant = tf.convert_to_tensor(np.full((1, self.units), 0.5).astype('float32'))\n",
    "        # All element-wise computations\n",
    "        z = tf.math.multiply(half_constant, tf.math.exp(log_var)) + mu\n",
    "        return z\n",
    "    \n",
    "    def call(self, inputs, states, training=False):\n",
    "        # Some formulations:\n",
    "        # Generation:\n",
    "        # z_t ~ N(mu_(0, t), sigma_(0,t)), w here [mu_(0,t), sigma(0,t)] = phi_prior(h_(t-1))\n",
    "        # Update: \n",
    "        # h_t = f_theta(h_(t-1), z_t, x_t) *recurrence equation\n",
    "        # Inference:\n",
    "        # z_t ~ N(mu_z, sigma_z), where [mu_z, sigma_z] = phi_post(x_t, h_(t-1))\n",
    "        #\n",
    "        # Let the base RNN cell handle the rest and add loss\n",
    "        \n",
    "        if training:\n",
    "            x_t = tf.matmul(inputs, self.input_kernel)\n",
    "            h_prev = tf.matmul(states[0], self.state_kernel)\n",
    "\n",
    "            p_mu = tf.matmul(h_prev, self.prior_mu_kernel)\n",
    "            p_logvar = tf.matmul(h_prev, self.prior_logvar_kernel)\n",
    "            \n",
    "            input_state_concat = tf.concat([x_t, h_prev], axis=1)\n",
    "            \n",
    "            q_mu = tf.matmul(input_state_concat, self.encoder_mu_kernel)\n",
    "            q_logvar = tf.matmul(input_state_concat, self.encoder_logvar_kernel)\n",
    "            z_t = self.sample(q_mu, q_logvar)\n",
    "            \n",
    "            inp = tf.concat([x_t, z_t], axis=1)\n",
    "            _, h_next = super().call(inp, h_prev)\n",
    "            \n",
    "            output = (z_t, q_mu, p_mu, q_logvar, p_logvar)\n",
    "            return output, h_next\n",
    "        \n",
    "        else:\n",
    "            # Return prior and posterior parameters\n",
    "            x_t = tf.matmul(inputs, self.input_kernel)\n",
    "            h_prev = tf.matmul(states[0], self.state_kernel)\n",
    "\n",
    "            p_mu = tf.matmul(h_prev, self.prior_mu_kernel)\n",
    "            p_logvar = tf.matmul(h_prev, self.prior_logvar_kernel)\n",
    "            \n",
    "            input_state_concat = tf.concat([x_t, h_prev], axis=1)\n",
    "            \n",
    "            q_mu = tf.matmul(input_state_concat, self.encoder_mu_kernel)\n",
    "            q_logvar = tf.matmul(input_state_concat, self.encoder_logvar_kernel)\n",
    "            z_t = self.sample(p_mu, p_logvar)\n",
    "            \n",
    "            inp = tf.concat([x_t, z_t], axis=1)\n",
    "            _, h_next = super().call(inp, h_prev)\n",
    "            \n",
    "            output = (z_t, q_mu, p_mu, q_logvar, p_logvar)\n",
    "            return output, h_next\n",
    "    \n",
    "   \n",
    "    def get_config(self):\n",
    "        return {\"units\":self.units}"
   ]
  },
  {
   "cell_type": "code",
   "execution_count": 117,
   "metadata": {},
   "outputs": [],
   "source": [
    "def kl_gauss(posterior_means, prior_means, posterior_log_var, prior_log_var):   \n",
    "    kl = prior_log_var - posterior_log_var + (tf.exp(posterior_log_var) + \n",
    "                                       tf.square(posterior_means - prior_means)) / tf.exp(prior_log_var) - 1\n",
    "    kl = 0.5 * tf.reduce_sum(kl)\n",
    "    return kl\n",
    "\n",
    "class VRNNGRU(tf.keras.Model):\n",
    "    def __init__(self, feature_space, latent_dim, **kwargs):\n",
    "        super(VRNNGRU, self).__init__(**kwargs)\n",
    "        vrnn_cell = VRNNCell(3)\n",
    "        self.latent_dim = latent_dim\n",
    "        self.vrnn = keras.layers.RNN(vrnn_cell, return_sequences=True)\n",
    "        self.decoder = keras.layers.TimeDistributed(keras.layers.Dense(feature_space, activation='softmax'))\n",
    "        \n",
    "        self.total_loss_tracker = keras.metrics.Mean(name=\"total_loss\")\n",
    "        self.reconstruction_loss_tracker = keras.metrics.Mean(\n",
    "            name=\"reconstruction_loss\"\n",
    "        )\n",
    "        self.kl_loss_tracker = keras.metrics.Mean(name=\"kl_loss\")\n",
    "        \n",
    "    @property\n",
    "    def metrics(self):\n",
    "        return [\n",
    "            self.total_loss_tracker,\n",
    "            self.reconstruction_loss_tracker,\n",
    "            self.kl_loss_tracker,\n",
    "        ]\n",
    "\n",
    "    def train_step(self, data):\n",
    "        if isinstance(data, tuple):\n",
    "            input_data = data[0]\n",
    "            output_data = data[1]\n",
    "            \n",
    "            timesteps = input_data.shape[1]\n",
    "            num_feats = input_data.shape[2]\n",
    "        with tf.GradientTape() as tape:\n",
    "            outputs = self.vrnn(input_data, training=True)\n",
    "            z = outputs[0]\n",
    "            preds = self.decoder(z)\n",
    "            print(preds)\n",
    "            \n",
    "            q_mu = tf.squeeze(tf.squeeze(outputs[1]))\n",
    "            p_mu = tf.squeeze(tf.squeeze(outputs[2]))\n",
    "            q_log_var = tf.squeeze(tf.squeeze(outputs[3]))\n",
    "            p_log_var = tf.squeeze(tf.squeeze(outputs[4]))\n",
    "            \n",
    "            kl_loss = tf.reduce_mean(kl_gauss(q_mu, p_mu, q_log_var, p_log_var))\n",
    "            reconstruction_loss = tf.reduce_mean(\n",
    "                tf.reduce_sum(tf.keras.losses.categorical_crossentropy(output_data, preds), axis=1)\n",
    "            )\n",
    "            total_loss = reconstruction_loss + kl_loss \n",
    "            \n",
    "        grads = tape.gradient(total_loss, self.trainable_weights)\n",
    "        self.optimizer.apply_gradients(zip(grads, self.trainable_weights))\n",
    "        self.total_loss_tracker.update_state(total_loss)\n",
    "        self.reconstruction_loss_tracker.update_state(reconstruction_loss)\n",
    "        self.kl_loss_tracker.update_state(kl_loss)       \n",
    "        return {\n",
    "            'total_loss': self.total_loss_tracker.result(),\n",
    "            'loss': self.reconstruction_loss_tracker.result(),\n",
    "            'kl': self.kl_loss_tracker.result()\n",
    "        }\n",
    "\n",
    "    def call(self, inputs, training=False):\n",
    "        outputs = self.vrnn(inputs, training)\n",
    "        return outputs\n",
    "    \n",
    "    def generate(self, inputs):\n",
    "        outputs = self.vrnn(inputs, training=True)\n",
    "        return outputs\n",
    "    "
   ]
  },
  {
   "cell_type": "code",
   "execution_count": 51,
   "metadata": {},
   "outputs": [
    {
     "name": "stdout",
     "output_type": "stream",
     "text": [
      "Epoch 1/50\n",
      "Tensor(\"time_distributed_6/Reshape_1:0\", shape=(None, 60, 27), dtype=float32)\n",
      "Tensor(\"time_distributed_6/Reshape_1:0\", shape=(None, 60, 27), dtype=float32)\n",
      "202/202 [==============================] - 6s 23ms/step - total_loss: 195.5312 - loss: 196.7295 - kl: 0.0657\n",
      "Epoch 2/50\n",
      "202/202 [==============================] - 5s 22ms/step - total_loss: 190.4115 - loss: 191.5874 - kl: 0.1185\n",
      "Epoch 3/50\n",
      "202/202 [==============================] - 4s 22ms/step - total_loss: 184.4632 - loss: 185.9992 - kl: 0.1426\n",
      "Epoch 4/50\n",
      "202/202 [==============================] - 5s 22ms/step - total_loss: 176.1850 - loss: 178.3943 - kl: 0.2350\n",
      "Epoch 5/50\n",
      "202/202 [==============================] - 5s 23ms/step - total_loss: 164.2888 - loss: 167.1920 - kl: 0.4311\n",
      "Epoch 6/50\n",
      "202/202 [==============================] - 5s 24ms/step - total_loss: 148.5098 - loss: 152.1635 - kl: 0.7030\n",
      "Epoch 7/50\n",
      "202/202 [==============================] - 5s 24ms/step - total_loss: 128.7184 - loss: 133.0248 - kl: 1.0473\n",
      "Epoch 8/50\n",
      "202/202 [==============================] - 5s 24ms/step - total_loss: 105.4832 - loss: 110.2330 - kl: 1.4455\n",
      "Epoch 9/50\n",
      "202/202 [==============================] - 5s 24ms/step - total_loss: 81.8448 - loss: 85.6537 - kl: 1.7226\n",
      "Epoch 10/50\n",
      "202/202 [==============================] - 5s 24ms/step - total_loss: 63.2447 - loss: 65.4244 - kl: 1.6674\n",
      "Epoch 11/50\n",
      "202/202 [==============================] - 5s 25ms/step - total_loss: 52.2106 - loss: 53.0818 - kl: 1.3740\n",
      "Epoch 12/50\n",
      "202/202 [==============================] - 5s 25ms/step - total_loss: 45.3564 - loss: 45.1933 - kl: 1.0842\n",
      "Epoch 13/50\n",
      "202/202 [==============================] - 5s 27ms/step - total_loss: 38.8391 - loss: 39.4350 - kl: 0.7221\n",
      "Epoch 14/50\n",
      "202/202 [==============================] - 5s 25ms/step - total_loss: 35.7099 - loss: 35.4830 - kl: 0.4863\n",
      "Epoch 15/50\n",
      "202/202 [==============================] - 5s 25ms/step - total_loss: 34.0903 - loss: 34.1660 - kl: 0.3775\n",
      "Epoch 16/50\n",
      "202/202 [==============================] - 5s 25ms/step - total_loss: 33.0583 - loss: 32.7618 - kl: 0.3058\n",
      "Epoch 17/50\n",
      "202/202 [==============================] - 5s 25ms/step - total_loss: 32.2045 - loss: 32.1629 - kl: 0.2589\n",
      "Epoch 18/50\n",
      "202/202 [==============================] - 5s 25ms/step - total_loss: 31.5126 - loss: 31.2541 - kl: 0.2276\n",
      "Epoch 19/50\n",
      "202/202 [==============================] - 5s 25ms/step - total_loss: 30.8816 - loss: 30.7230 - kl: 0.2092\n",
      "Epoch 20/50\n",
      "202/202 [==============================] - 5s 25ms/step - total_loss: 30.3960 - loss: 29.9931 - kl: 0.1991\n",
      "Epoch 21/50\n",
      "202/202 [==============================] - 5s 25ms/step - total_loss: 29.8539 - loss: 29.6907 - kl: 0.1949\n",
      "Epoch 22/50\n",
      "202/202 [==============================] - 5s 25ms/step - total_loss: 29.2813 - loss: 29.1149 - kl: 0.1932\n",
      "Epoch 23/50\n",
      "202/202 [==============================] - 5s 26ms/step - total_loss: 28.7959 - loss: 28.6941 - kl: 0.1935\n",
      "Epoch 24/50\n",
      "202/202 [==============================] - 5s 25ms/step - total_loss: 28.2194 - loss: 28.3000 - kl: 0.1947\n",
      "Epoch 25/50\n",
      "202/202 [==============================] - 5s 25ms/step - total_loss: 27.5797 - loss: 27.8545 - kl: 0.1983\n",
      "Epoch 26/50\n",
      "202/202 [==============================] - 5s 25ms/step - total_loss: 26.9838 - loss: 27.0928 - kl: 0.2005\n",
      "Epoch 27/50\n",
      "202/202 [==============================] - 5s 26ms/step - total_loss: 26.3043 - loss: 26.5429 - kl: 0.2006\n",
      "Epoch 28/50\n",
      "202/202 [==============================] - 5s 25ms/step - total_loss: 25.7962 - loss: 25.7401 - kl: 0.2003\n",
      "Epoch 29/50\n",
      "202/202 [==============================] - 5s 25ms/step - total_loss: 25.3276 - loss: 25.2768 - kl: 0.1995\n",
      "Epoch 30/50\n",
      "202/202 [==============================] - 5s 25ms/step - total_loss: 24.9194 - loss: 25.0010 - kl: 0.1999\n",
      "Epoch 31/50\n",
      "202/202 [==============================] - 5s 25ms/step - total_loss: 24.5437 - loss: 24.4447 - kl: 0.2009\n",
      "Epoch 32/50\n",
      "202/202 [==============================] - 5s 25ms/step - total_loss: 24.2256 - loss: 24.0307 - kl: 0.2072\n",
      "Epoch 33/50\n",
      "202/202 [==============================] - 5s 25ms/step - total_loss: 23.8413 - loss: 23.7566 - kl: 0.2106\n",
      "Epoch 34/50\n",
      "202/202 [==============================] - 5s 25ms/step - total_loss: 23.5373 - loss: 23.4346 - kl: 0.2159\n",
      "Epoch 35/50\n",
      "202/202 [==============================] - 5s 25ms/step - total_loss: 23.1791 - loss: 23.0554 - kl: 0.2219\n",
      "Epoch 36/50\n",
      "202/202 [==============================] - 5s 25ms/step - total_loss: 22.8827 - loss: 22.5049 - kl: 0.2302\n",
      "Epoch 37/50\n",
      "202/202 [==============================] - 5s 26ms/step - total_loss: 22.5568 - loss: 22.5241 - kl: 0.2400\n",
      "Epoch 38/50\n",
      "202/202 [==============================] - 5s 25ms/step - total_loss: 22.2639 - loss: 22.0340 - kl: 0.2516\n",
      "Epoch 39/50\n",
      "202/202 [==============================] - 5s 25ms/step - total_loss: 21.9753 - loss: 21.8096 - kl: 0.2687\n",
      "Epoch 40/50\n",
      "202/202 [==============================] - 5s 25ms/step - total_loss: 21.6832 - loss: 21.5275 - kl: 0.2890\n",
      "Epoch 41/50\n",
      "202/202 [==============================] - 5s 25ms/step - total_loss: 21.4012 - loss: 21.1651 - kl: 0.3142\n",
      "Epoch 42/50\n",
      "202/202 [==============================] - 5s 25ms/step - total_loss: 21.1080 - loss: 21.0073 - kl: 0.3526\n",
      "Epoch 43/50\n",
      "202/202 [==============================] - 5s 25ms/step - total_loss: 20.7490 - loss: 20.4432 - kl: 0.3920\n",
      "Epoch 44/50\n",
      "202/202 [==============================] - 5s 25ms/step - total_loss: 20.3731 - loss: 20.1194 - kl: 0.4579\n",
      "Epoch 45/50\n",
      "202/202 [==============================] - 5s 25ms/step - total_loss: 19.9227 - loss: 19.4741 - kl: 0.5597: 0s - total_loss: 19.9540 - loss: 19.492\n",
      "Epoch 46/50\n",
      "202/202 [==============================] - 5s 25ms/step - total_loss: 19.4133 - loss: 18.7474 - kl: 0.6919\n",
      "Epoch 47/50\n",
      "202/202 [==============================] - 5s 25ms/step - total_loss: 18.7915 - loss: 18.0151 - kl: 0.8946\n",
      "Epoch 48/50\n",
      "202/202 [==============================] - 5s 26ms/step - total_loss: 17.8309 - loss: 16.8371 - kl: 1.0908\n",
      "Epoch 49/50\n",
      "202/202 [==============================] - 5s 25ms/step - total_loss: 16.8128 - loss: 16.0162 - kl: 1.0636\n",
      "Epoch 50/50\n",
      "202/202 [==============================] - 5s 26ms/step - total_loss: 15.9915 - loss: 15.2404 - kl: 0.8859\n"
     ]
    },
    {
     "data": {
      "text/plain": [
       "<tensorflow.python.keras.callbacks.History at 0x1884a8290>"
      ]
     },
     "execution_count": 51,
     "metadata": {},
     "output_type": "execute_result"
    }
   ],
   "source": [
    "from tensorflow import keras\n",
    "\n",
    "timesteps = X_j_train.shape[1]\n",
    "latent_dim = 3\n",
    "feature_space = X_j_train.shape[2]\n",
    "rvae = VRNNGRU(feature_space, latent_dim)\n",
    "rvae.compile(optimizer=keras.optimizers.Adam(lr=0.001))\n",
    "rvae.fit(X_j_train, Y_j_train, batch_size=32, epochs=50)"
   ]
  },
  {
   "cell_type": "markdown",
   "metadata": {},
   "source": [
    "## VRNN-GAN"
   ]
  },
  {
   "cell_type": "code",
   "execution_count": 24,
   "metadata": {},
   "outputs": [],
   "source": [
    "def kl_gauss(posterior_means, prior_means, posterior_log_var, prior_log_var):   \n",
    "    kl = prior_log_var - posterior_log_var + (tf.exp(posterior_log_var) + \n",
    "                                       tf.square(posterior_means - prior_means)) / tf.exp(prior_log_var) - 1\n",
    "    kl = 0.5 * tf.reduce_sum(kl)\n",
    "    return kl\n",
    "\n",
    "\n",
    "\n",
    "class VRNNGRUGAN(tf.keras.Model):\n",
    "    def __init__(self, feature_space, latent_dim, timesteps, **kwargs):\n",
    "        super(VRNNGRUGAN, self).__init__(**kwargs)\n",
    "        vrnn_cell = VRNNCell(5)\n",
    "        self.feature_space = feature_space\n",
    "        self.latent_dim = latent_dim\n",
    "        self.vrnn = keras.layers.RNN(vrnn_cell)\n",
    "        self.decoder = keras.layers.Dense(feature_space, activation='softmax')\n",
    "        \n",
    "        disc_input_series = keras.layers.Input(shape=(timesteps, feature_space))\n",
    "        disc_input_step = keras.layers.Input(shape=(feature_space,))\n",
    "        # disc_input_reshape = keras.layers.Reshape((1, feature_space))(disc_input_step)\n",
    "        concat = keras.layers.Concatenate(axis=1)([disc_input_series, disc_input_step])\n",
    "        disc_rnn = keras.layers.GRU(2)(concat)\n",
    "        disc_output = keras.layers.Dense(1, activation='sigmoid')(disc_rnn)\n",
    "        disc_model = keras.Model([disc_input_series, disc_input_step], disc_output)\n",
    "        \n",
    "        self.discrim = disc_model\n",
    "        \n",
    "        self.total_loss_tracker = keras.metrics.Mean(name=\"total_loss\")\n",
    "        self.reconstruction_loss_tracker = keras.metrics.Mean(\n",
    "            name=\"reconstruction_loss\"\n",
    "        )\n",
    "        self.kl_loss_tracker = keras.metrics.Mean(name=\"kl_loss\")\n",
    "        self.discrim_loss_tracker = keras.metrics.Mean(name=\"discrim_loss\")\n",
    "        \n",
    "    @property\n",
    "    def metrics(self):\n",
    "        return [\n",
    "            self.total_loss_tracker,\n",
    "            self.reconstruction_loss_tracker,\n",
    "            self.kl_loss_tracker,\n",
    "            self.discrim_loss_tracker\n",
    "        ]\n",
    "    def compile(self, vae_optimizer, discrim_optimizer):\n",
    "        super(VRNNGRUGAN, self).compile()\n",
    "        self.vae_optimizer = vae_optimizer\n",
    "        self.discrim_optimizer = discrim_optimizer\n",
    "\n",
    "    def train_step(self, data):\n",
    "        if isinstance(data, tuple):\n",
    "            input_data = data[0]\n",
    "            output_data = data[1]\n",
    "            \n",
    "        with tf.GradientTape(persistent=True) as tape:\n",
    "            outputs = self.vrnn(input_data, training=True)\n",
    "            z = outputs[0]\n",
    "            preds = self.decoder(z)\n",
    "                \n",
    "            discrim_fake = self.discrim([input_data, preds])\n",
    "            discrim_real = self.discrim([input_data, output_data])\n",
    "            \n",
    "            \n",
    "            q_mu = tf.squeeze(tf.squeeze(outputs[1]))\n",
    "            p_mu = tf.squeeze(tf.squeeze(outputs[2]))\n",
    "            q_log_var = tf.squeeze(tf.squeeze(outputs[3]))\n",
    "            p_log_var = tf.squeeze(tf.squeeze(outputs[4]))\n",
    "            \n",
    "            kl_loss = tf.reduce_mean(kl_gauss(q_mu, p_mu, q_log_var, p_log_var))\n",
    "            reconstruction_loss = tf.reduce_mean(\n",
    "                tf.keras.losses.categorical_crossentropy(output_data, preds)\n",
    "            )\n",
    "             \n",
    "            \n",
    "            discrim_loss_fake = tf.reduce_mean(\n",
    "                tf.keras.losses.binary_crossentropy(tf.zeros_like(discrim_fake), discrim_fake)\n",
    "            )\n",
    "            discrim_loss_real = tf.reduce_mean(\n",
    "                tf.keras.losses.binary_crossentropy(tf.ones_like(discrim_real), discrim_real)\n",
    "            )\n",
    "            discrim_loss = discrim_loss_fake + discrim_loss_real\n",
    "            \n",
    "            mislead_discrim_loss = tf.reduce_mean(\n",
    "                tf.keras.losses.binary_crossentropy(tf.ones_like(discrim_fake), discrim_fake)\n",
    "            )\n",
    "            total_loss = reconstruction_loss + kl_loss - tf.math.log(discrim_loss_fake)\n",
    "        \n",
    "        discrim_grads = tape.gradient(discrim_loss, self.discrim.trainable_weights)\n",
    "        encoder_grads = tape.gradient(total_loss, self.vrnn.trainable_weights)\n",
    "        decoder_grads = tape.gradient(total_loss, self.decoder.trainable_weights)\n",
    "        \n",
    "        \n",
    "        self.discrim_optimizer.apply_gradients(zip(discrim_grads, self.discrim.trainable_weights))\n",
    "        self.vae_optimizer.apply_gradients(zip(encoder_grads, self.vrnn.trainable_weights))\n",
    "        self.vae_optimizer.apply_gradients(zip(decoder_grads, self.decoder.trainable_weights))\n",
    "        \n",
    "        \n",
    "        self.total_loss_tracker.update_state(total_loss)\n",
    "        self.reconstruction_loss_tracker.update_state(reconstruction_loss)\n",
    "        self.kl_loss_tracker.update_state(kl_loss)\n",
    "        self.discrim_loss_tracker.update_state(discrim_loss_fake + discrim_loss_real)\n",
    "        del tape\n",
    "        return {\n",
    "            'total_loss': self.total_loss_tracker.result(),\n",
    "            'loss': self.reconstruction_loss_tracker.result(),\n",
    "            'kl': self.kl_loss_tracker.result(),\n",
    "            'discrim_loss':self.discrim_loss_tracker.result()\n",
    "        }\n",
    "\n",
    "    def call(self, inputs):\n",
    "        outputs = self.vrnn(inputs, training=True)\n",
    "        z = outputs[0]\n",
    "        preds = self.decoder(z)\n",
    "        return preds\n",
    "    \n",
    "    def generate(self, inputs):\n",
    "        outputs = self.vrnn(inputs, training=False)\n",
    "        z = outputs[0]\n",
    "        preds = self.decoder(z)\n",
    "        return preds\n",
    "    "
   ]
  },
  {
   "cell_type": "code",
   "execution_count": 25,
   "metadata": {},
   "outputs": [
    {
     "ename": "ValueError",
     "evalue": "A `Concatenate` layer requires inputs with matching shapes except for the concat axis. Got inputs shapes: [(None, 60, 27), (None, 27)]",
     "output_type": "error",
     "traceback": [
      "\u001b[0;31m---------------------------------------------------------------------------\u001b[0m",
      "\u001b[0;31mValueError\u001b[0m                                Traceback (most recent call last)",
      "\u001b[0;32m<ipython-input-25-ee51c6b60bc2>\u001b[0m in \u001b[0;36m<module>\u001b[0;34m\u001b[0m\n\u001b[1;32m      2\u001b[0m \u001b[0mlatent_dim\u001b[0m \u001b[0;34m=\u001b[0m \u001b[0;36m3\u001b[0m\u001b[0;34m\u001b[0m\u001b[0;34m\u001b[0m\u001b[0m\n\u001b[1;32m      3\u001b[0m \u001b[0mfeature_space\u001b[0m \u001b[0;34m=\u001b[0m \u001b[0mX_j_train\u001b[0m\u001b[0;34m.\u001b[0m\u001b[0mshape\u001b[0m\u001b[0;34m[\u001b[0m\u001b[0;36m2\u001b[0m\u001b[0;34m]\u001b[0m\u001b[0;34m\u001b[0m\u001b[0;34m\u001b[0m\u001b[0m\n\u001b[0;32m----> 4\u001b[0;31m \u001b[0mrvae\u001b[0m \u001b[0;34m=\u001b[0m \u001b[0mVRNNGRUGAN\u001b[0m\u001b[0;34m(\u001b[0m\u001b[0mfeature_space\u001b[0m\u001b[0;34m,\u001b[0m \u001b[0mlatent_dim\u001b[0m\u001b[0;34m,\u001b[0m \u001b[0mtimesteps\u001b[0m\u001b[0;34m)\u001b[0m\u001b[0;34m\u001b[0m\u001b[0;34m\u001b[0m\u001b[0m\n\u001b[0m\u001b[1;32m      5\u001b[0m \u001b[0mrvae\u001b[0m\u001b[0;34m.\u001b[0m\u001b[0mcompile\u001b[0m\u001b[0;34m(\u001b[0m\u001b[0mkeras\u001b[0m\u001b[0;34m.\u001b[0m\u001b[0moptimizers\u001b[0m\u001b[0;34m.\u001b[0m\u001b[0mAdam\u001b[0m\u001b[0;34m(\u001b[0m\u001b[0mlr\u001b[0m\u001b[0;34m=\u001b[0m\u001b[0;36m0.001\u001b[0m\u001b[0;34m)\u001b[0m\u001b[0;34m,\u001b[0m \u001b[0mkeras\u001b[0m\u001b[0;34m.\u001b[0m\u001b[0moptimizers\u001b[0m\u001b[0;34m.\u001b[0m\u001b[0mAdam\u001b[0m\u001b[0;34m(\u001b[0m\u001b[0mlr\u001b[0m\u001b[0;34m=\u001b[0m\u001b[0;36m0.001\u001b[0m\u001b[0;34m)\u001b[0m\u001b[0;34m)\u001b[0m\u001b[0;34m\u001b[0m\u001b[0;34m\u001b[0m\u001b[0m\n\u001b[1;32m      6\u001b[0m \u001b[0mrvae\u001b[0m\u001b[0;34m.\u001b[0m\u001b[0mfit\u001b[0m\u001b[0;34m(\u001b[0m\u001b[0mX_j_train\u001b[0m\u001b[0;34m,\u001b[0m \u001b[0mY_j_train\u001b[0m\u001b[0;34m,\u001b[0m \u001b[0mbatch_size\u001b[0m\u001b[0;34m=\u001b[0m\u001b[0;36m32\u001b[0m\u001b[0;34m,\u001b[0m \u001b[0mepochs\u001b[0m\u001b[0;34m=\u001b[0m\u001b[0;36m70\u001b[0m\u001b[0;34m)\u001b[0m\u001b[0;34m\u001b[0m\u001b[0;34m\u001b[0m\u001b[0m\n",
      "\u001b[0;32m<ipython-input-24-a2686fe11b8e>\u001b[0m in \u001b[0;36m__init__\u001b[0;34m(self, feature_space, latent_dim, timesteps, **kwargs)\u001b[0m\n\u001b[1;32m     19\u001b[0m         \u001b[0mdisc_input_step\u001b[0m \u001b[0;34m=\u001b[0m \u001b[0mkeras\u001b[0m\u001b[0;34m.\u001b[0m\u001b[0mlayers\u001b[0m\u001b[0;34m.\u001b[0m\u001b[0mInput\u001b[0m\u001b[0;34m(\u001b[0m\u001b[0mshape\u001b[0m\u001b[0;34m=\u001b[0m\u001b[0;34m(\u001b[0m\u001b[0mfeature_space\u001b[0m\u001b[0;34m,\u001b[0m\u001b[0;34m)\u001b[0m\u001b[0;34m)\u001b[0m\u001b[0;34m\u001b[0m\u001b[0;34m\u001b[0m\u001b[0m\n\u001b[1;32m     20\u001b[0m         \u001b[0;31m# disc_input_reshape = keras.layers.Reshape((1, feature_space))(disc_input_step)\u001b[0m\u001b[0;34m\u001b[0m\u001b[0;34m\u001b[0m\u001b[0;34m\u001b[0m\u001b[0m\n\u001b[0;32m---> 21\u001b[0;31m         \u001b[0mconcat\u001b[0m \u001b[0;34m=\u001b[0m \u001b[0mkeras\u001b[0m\u001b[0;34m.\u001b[0m\u001b[0mlayers\u001b[0m\u001b[0;34m.\u001b[0m\u001b[0mConcatenate\u001b[0m\u001b[0;34m(\u001b[0m\u001b[0maxis\u001b[0m\u001b[0;34m=\u001b[0m\u001b[0;36m1\u001b[0m\u001b[0;34m)\u001b[0m\u001b[0;34m(\u001b[0m\u001b[0;34m[\u001b[0m\u001b[0mdisc_input_series\u001b[0m\u001b[0;34m,\u001b[0m \u001b[0mdisc_input_step\u001b[0m\u001b[0;34m]\u001b[0m\u001b[0;34m)\u001b[0m\u001b[0;34m\u001b[0m\u001b[0;34m\u001b[0m\u001b[0m\n\u001b[0m\u001b[1;32m     22\u001b[0m         \u001b[0mdisc_rnn\u001b[0m \u001b[0;34m=\u001b[0m \u001b[0mkeras\u001b[0m\u001b[0;34m.\u001b[0m\u001b[0mlayers\u001b[0m\u001b[0;34m.\u001b[0m\u001b[0mGRU\u001b[0m\u001b[0;34m(\u001b[0m\u001b[0;36m2\u001b[0m\u001b[0;34m)\u001b[0m\u001b[0;34m(\u001b[0m\u001b[0mconcat\u001b[0m\u001b[0;34m)\u001b[0m\u001b[0;34m\u001b[0m\u001b[0;34m\u001b[0m\u001b[0m\n\u001b[1;32m     23\u001b[0m         \u001b[0mdisc_output\u001b[0m \u001b[0;34m=\u001b[0m \u001b[0mkeras\u001b[0m\u001b[0;34m.\u001b[0m\u001b[0mlayers\u001b[0m\u001b[0;34m.\u001b[0m\u001b[0mDense\u001b[0m\u001b[0;34m(\u001b[0m\u001b[0;36m1\u001b[0m\u001b[0;34m,\u001b[0m \u001b[0mactivation\u001b[0m\u001b[0;34m=\u001b[0m\u001b[0;34m'sigmoid'\u001b[0m\u001b[0;34m)\u001b[0m\u001b[0;34m(\u001b[0m\u001b[0mdisc_rnn\u001b[0m\u001b[0;34m)\u001b[0m\u001b[0;34m\u001b[0m\u001b[0;34m\u001b[0m\u001b[0m\n",
      "\u001b[0;32m~/Desktop/Master/Thesis/venv/lib/python3.7/site-packages/tensorflow/python/keras/engine/base_layer.py\u001b[0m in \u001b[0;36m__call__\u001b[0;34m(self, *args, **kwargs)\u001b[0m\n\u001b[1;32m    950\u001b[0m     \u001b[0;32mif\u001b[0m \u001b[0m_in_functional_construction_mode\u001b[0m\u001b[0;34m(\u001b[0m\u001b[0mself\u001b[0m\u001b[0;34m,\u001b[0m \u001b[0minputs\u001b[0m\u001b[0;34m,\u001b[0m \u001b[0margs\u001b[0m\u001b[0;34m,\u001b[0m \u001b[0mkwargs\u001b[0m\u001b[0;34m,\u001b[0m \u001b[0minput_list\u001b[0m\u001b[0;34m)\u001b[0m\u001b[0;34m:\u001b[0m\u001b[0;34m\u001b[0m\u001b[0;34m\u001b[0m\u001b[0m\n\u001b[1;32m    951\u001b[0m       return self._functional_construction_call(inputs, args, kwargs,\n\u001b[0;32m--> 952\u001b[0;31m                                                 input_list)\n\u001b[0m\u001b[1;32m    953\u001b[0m \u001b[0;34m\u001b[0m\u001b[0m\n\u001b[1;32m    954\u001b[0m     \u001b[0;31m# Maintains info about the `Layer.call` stack.\u001b[0m\u001b[0;34m\u001b[0m\u001b[0;34m\u001b[0m\u001b[0;34m\u001b[0m\u001b[0m\n",
      "\u001b[0;32m~/Desktop/Master/Thesis/venv/lib/python3.7/site-packages/tensorflow/python/keras/engine/base_layer.py\u001b[0m in \u001b[0;36m_functional_construction_call\u001b[0;34m(self, inputs, args, kwargs, input_list)\u001b[0m\n\u001b[1;32m   1089\u001b[0m         \u001b[0;31m# Check input assumptions set after layer building, e.g. input shape.\u001b[0m\u001b[0;34m\u001b[0m\u001b[0;34m\u001b[0m\u001b[0;34m\u001b[0m\u001b[0m\n\u001b[1;32m   1090\u001b[0m         outputs = self._keras_tensor_symbolic_call(\n\u001b[0;32m-> 1091\u001b[0;31m             inputs, input_masks, args, kwargs)\n\u001b[0m\u001b[1;32m   1092\u001b[0m \u001b[0;34m\u001b[0m\u001b[0m\n\u001b[1;32m   1093\u001b[0m         \u001b[0;32mif\u001b[0m \u001b[0moutputs\u001b[0m \u001b[0;32mis\u001b[0m \u001b[0;32mNone\u001b[0m\u001b[0;34m:\u001b[0m\u001b[0;34m\u001b[0m\u001b[0;34m\u001b[0m\u001b[0m\n",
      "\u001b[0;32m~/Desktop/Master/Thesis/venv/lib/python3.7/site-packages/tensorflow/python/keras/engine/base_layer.py\u001b[0m in \u001b[0;36m_keras_tensor_symbolic_call\u001b[0;34m(self, inputs, input_masks, args, kwargs)\u001b[0m\n\u001b[1;32m    820\u001b[0m       \u001b[0;32mreturn\u001b[0m \u001b[0mnest\u001b[0m\u001b[0;34m.\u001b[0m\u001b[0mmap_structure\u001b[0m\u001b[0;34m(\u001b[0m\u001b[0mkeras_tensor\u001b[0m\u001b[0;34m.\u001b[0m\u001b[0mKerasTensor\u001b[0m\u001b[0;34m,\u001b[0m \u001b[0moutput_signature\u001b[0m\u001b[0;34m)\u001b[0m\u001b[0;34m\u001b[0m\u001b[0;34m\u001b[0m\u001b[0m\n\u001b[1;32m    821\u001b[0m     \u001b[0;32melse\u001b[0m\u001b[0;34m:\u001b[0m\u001b[0;34m\u001b[0m\u001b[0;34m\u001b[0m\u001b[0m\n\u001b[0;32m--> 822\u001b[0;31m       \u001b[0;32mreturn\u001b[0m \u001b[0mself\u001b[0m\u001b[0;34m.\u001b[0m\u001b[0m_infer_output_signature\u001b[0m\u001b[0;34m(\u001b[0m\u001b[0minputs\u001b[0m\u001b[0;34m,\u001b[0m \u001b[0margs\u001b[0m\u001b[0;34m,\u001b[0m \u001b[0mkwargs\u001b[0m\u001b[0;34m,\u001b[0m \u001b[0minput_masks\u001b[0m\u001b[0;34m)\u001b[0m\u001b[0;34m\u001b[0m\u001b[0;34m\u001b[0m\u001b[0m\n\u001b[0m\u001b[1;32m    823\u001b[0m \u001b[0;34m\u001b[0m\u001b[0m\n\u001b[1;32m    824\u001b[0m   \u001b[0;32mdef\u001b[0m \u001b[0m_infer_output_signature\u001b[0m\u001b[0;34m(\u001b[0m\u001b[0mself\u001b[0m\u001b[0;34m,\u001b[0m \u001b[0minputs\u001b[0m\u001b[0;34m,\u001b[0m \u001b[0margs\u001b[0m\u001b[0;34m,\u001b[0m \u001b[0mkwargs\u001b[0m\u001b[0;34m,\u001b[0m \u001b[0minput_masks\u001b[0m\u001b[0;34m)\u001b[0m\u001b[0;34m:\u001b[0m\u001b[0;34m\u001b[0m\u001b[0;34m\u001b[0m\u001b[0m\n",
      "\u001b[0;32m~/Desktop/Master/Thesis/venv/lib/python3.7/site-packages/tensorflow/python/keras/engine/base_layer.py\u001b[0m in \u001b[0;36m_infer_output_signature\u001b[0;34m(self, inputs, args, kwargs, input_masks)\u001b[0m\n\u001b[1;32m    860\u001b[0m           \u001b[0;31m# overridden).\u001b[0m\u001b[0;34m\u001b[0m\u001b[0;34m\u001b[0m\u001b[0;34m\u001b[0m\u001b[0m\n\u001b[1;32m    861\u001b[0m           \u001b[0;31m# TODO(kaftan): do we maybe_build here, or have we already done it?\u001b[0m\u001b[0;34m\u001b[0m\u001b[0;34m\u001b[0m\u001b[0;34m\u001b[0m\u001b[0m\n\u001b[0;32m--> 862\u001b[0;31m           \u001b[0mself\u001b[0m\u001b[0;34m.\u001b[0m\u001b[0m_maybe_build\u001b[0m\u001b[0;34m(\u001b[0m\u001b[0minputs\u001b[0m\u001b[0;34m)\u001b[0m\u001b[0;34m\u001b[0m\u001b[0;34m\u001b[0m\u001b[0m\n\u001b[0m\u001b[1;32m    863\u001b[0m           \u001b[0moutputs\u001b[0m \u001b[0;34m=\u001b[0m \u001b[0mcall_fn\u001b[0m\u001b[0;34m(\u001b[0m\u001b[0minputs\u001b[0m\u001b[0;34m,\u001b[0m \u001b[0;34m*\u001b[0m\u001b[0margs\u001b[0m\u001b[0;34m,\u001b[0m \u001b[0;34m**\u001b[0m\u001b[0mkwargs\u001b[0m\u001b[0;34m)\u001b[0m\u001b[0;34m\u001b[0m\u001b[0;34m\u001b[0m\u001b[0m\n\u001b[1;32m    864\u001b[0m \u001b[0;34m\u001b[0m\u001b[0m\n",
      "\u001b[0;32m~/Desktop/Master/Thesis/venv/lib/python3.7/site-packages/tensorflow/python/keras/engine/base_layer.py\u001b[0m in \u001b[0;36m_maybe_build\u001b[0;34m(self, inputs)\u001b[0m\n\u001b[1;32m   2708\u001b[0m         \u001b[0;31m# operations.\u001b[0m\u001b[0;34m\u001b[0m\u001b[0;34m\u001b[0m\u001b[0;34m\u001b[0m\u001b[0m\n\u001b[1;32m   2709\u001b[0m         \u001b[0;32mwith\u001b[0m \u001b[0mtf_utils\u001b[0m\u001b[0;34m.\u001b[0m\u001b[0mmaybe_init_scope\u001b[0m\u001b[0;34m(\u001b[0m\u001b[0mself\u001b[0m\u001b[0;34m)\u001b[0m\u001b[0;34m:\u001b[0m\u001b[0;34m\u001b[0m\u001b[0;34m\u001b[0m\u001b[0m\n\u001b[0;32m-> 2710\u001b[0;31m           \u001b[0mself\u001b[0m\u001b[0;34m.\u001b[0m\u001b[0mbuild\u001b[0m\u001b[0;34m(\u001b[0m\u001b[0minput_shapes\u001b[0m\u001b[0;34m)\u001b[0m  \u001b[0;31m# pylint:disable=not-callable\u001b[0m\u001b[0;34m\u001b[0m\u001b[0;34m\u001b[0m\u001b[0m\n\u001b[0m\u001b[1;32m   2711\u001b[0m       \u001b[0;31m# We must set also ensure that the layer is marked as built, and the build\u001b[0m\u001b[0;34m\u001b[0m\u001b[0;34m\u001b[0m\u001b[0;34m\u001b[0m\u001b[0m\n\u001b[1;32m   2712\u001b[0m       \u001b[0;31m# shape is stored since user defined build functions may not be calling\u001b[0m\u001b[0;34m\u001b[0m\u001b[0;34m\u001b[0m\u001b[0;34m\u001b[0m\u001b[0m\n",
      "\u001b[0;32m~/Desktop/Master/Thesis/venv/lib/python3.7/site-packages/tensorflow/python/keras/utils/tf_utils.py\u001b[0m in \u001b[0;36mwrapper\u001b[0;34m(instance, input_shape)\u001b[0m\n\u001b[1;32m    270\u001b[0m     \u001b[0;32mif\u001b[0m \u001b[0minput_shape\u001b[0m \u001b[0;32mis\u001b[0m \u001b[0;32mnot\u001b[0m \u001b[0;32mNone\u001b[0m\u001b[0;34m:\u001b[0m\u001b[0;34m\u001b[0m\u001b[0;34m\u001b[0m\u001b[0m\n\u001b[1;32m    271\u001b[0m       \u001b[0minput_shape\u001b[0m \u001b[0;34m=\u001b[0m \u001b[0mconvert_shapes\u001b[0m\u001b[0;34m(\u001b[0m\u001b[0minput_shape\u001b[0m\u001b[0;34m,\u001b[0m \u001b[0mto_tuples\u001b[0m\u001b[0;34m=\u001b[0m\u001b[0;32mTrue\u001b[0m\u001b[0;34m)\u001b[0m\u001b[0;34m\u001b[0m\u001b[0;34m\u001b[0m\u001b[0m\n\u001b[0;32m--> 272\u001b[0;31m     \u001b[0moutput_shape\u001b[0m \u001b[0;34m=\u001b[0m \u001b[0mfn\u001b[0m\u001b[0;34m(\u001b[0m\u001b[0minstance\u001b[0m\u001b[0;34m,\u001b[0m \u001b[0minput_shape\u001b[0m\u001b[0;34m)\u001b[0m\u001b[0;34m\u001b[0m\u001b[0;34m\u001b[0m\u001b[0m\n\u001b[0m\u001b[1;32m    273\u001b[0m     \u001b[0;31m# Return shapes from `fn` as TensorShapes.\u001b[0m\u001b[0;34m\u001b[0m\u001b[0;34m\u001b[0m\u001b[0;34m\u001b[0m\u001b[0m\n\u001b[1;32m    274\u001b[0m     \u001b[0;32mif\u001b[0m \u001b[0moutput_shape\u001b[0m \u001b[0;32mis\u001b[0m \u001b[0;32mnot\u001b[0m \u001b[0;32mNone\u001b[0m\u001b[0;34m:\u001b[0m\u001b[0;34m\u001b[0m\u001b[0;34m\u001b[0m\u001b[0m\n",
      "\u001b[0;32m~/Desktop/Master/Thesis/venv/lib/python3.7/site-packages/tensorflow/python/keras/layers/merge.py\u001b[0m in \u001b[0;36mbuild\u001b[0;34m(self, input_shape)\u001b[0m\n\u001b[1;32m    508\u001b[0m       \u001b[0mranks\u001b[0m \u001b[0;34m=\u001b[0m \u001b[0mset\u001b[0m\u001b[0;34m(\u001b[0m\u001b[0mlen\u001b[0m\u001b[0;34m(\u001b[0m\u001b[0mshape\u001b[0m\u001b[0;34m)\u001b[0m \u001b[0;32mfor\u001b[0m \u001b[0mshape\u001b[0m \u001b[0;32min\u001b[0m \u001b[0mshape_set\u001b[0m\u001b[0;34m)\u001b[0m\u001b[0;34m\u001b[0m\u001b[0;34m\u001b[0m\u001b[0m\n\u001b[1;32m    509\u001b[0m       \u001b[0;32mif\u001b[0m \u001b[0mlen\u001b[0m\u001b[0;34m(\u001b[0m\u001b[0mranks\u001b[0m\u001b[0;34m)\u001b[0m \u001b[0;34m!=\u001b[0m \u001b[0;36m1\u001b[0m\u001b[0;34m:\u001b[0m\u001b[0;34m\u001b[0m\u001b[0;34m\u001b[0m\u001b[0m\n\u001b[0;32m--> 510\u001b[0;31m         \u001b[0;32mraise\u001b[0m \u001b[0mValueError\u001b[0m\u001b[0;34m(\u001b[0m\u001b[0merr_msg\u001b[0m\u001b[0;34m)\u001b[0m\u001b[0;34m\u001b[0m\u001b[0;34m\u001b[0m\u001b[0m\n\u001b[0m\u001b[1;32m    511\u001b[0m       \u001b[0;31m# Get the only rank for the set.\u001b[0m\u001b[0;34m\u001b[0m\u001b[0;34m\u001b[0m\u001b[0;34m\u001b[0m\u001b[0m\n\u001b[1;32m    512\u001b[0m       \u001b[0;34m(\u001b[0m\u001b[0mrank\u001b[0m\u001b[0;34m,\u001b[0m\u001b[0;34m)\u001b[0m \u001b[0;34m=\u001b[0m \u001b[0mranks\u001b[0m\u001b[0;34m\u001b[0m\u001b[0;34m\u001b[0m\u001b[0m\n",
      "\u001b[0;31mValueError\u001b[0m: A `Concatenate` layer requires inputs with matching shapes except for the concat axis. Got inputs shapes: [(None, 60, 27), (None, 27)]"
     ]
    }
   ],
   "source": [
    "timesteps = X_j_train.shape[1]\n",
    "latent_dim = 3\n",
    "feature_space = X_j_train.shape[2]\n",
    "rvae = VRNNGRUGAN(feature_space, latent_dim, timesteps)\n",
    "rvae.compile(keras.optimizers.Adam(lr=0.001), keras.optimizers.Adam(lr=0.001))\n",
    "rvae.fit(X_j_train, Y_j_train, batch_size=32, epochs=70)"
   ]
  },
  {
   "cell_type": "code",
   "execution_count": null,
   "metadata": {},
   "outputs": [],
   "source": [
    "tf.keras.backend.clear_session()"
   ]
  },
  {
   "cell_type": "code",
   "execution_count": 77,
   "metadata": {},
   "outputs": [
    {
     "data": {
      "text/plain": [
       "(27198, 60, 27)"
      ]
     },
     "execution_count": 77,
     "metadata": {},
     "output_type": "execute_result"
    }
   ],
   "source": [
    "X_j_test.shape"
   ]
  },
  {
   "cell_type": "code",
   "execution_count": 118,
   "metadata": {},
   "outputs": [
    {
     "data": {
      "text/plain": [
       "array([[1., 0., 0., ..., 0., 0., 0.],\n",
       "       [1., 0., 0., ..., 0., 0., 0.],\n",
       "       [1., 0., 0., ..., 0., 0., 0.],\n",
       "       ...,\n",
       "       [0., 0., 0., ..., 0., 0., 0.],\n",
       "       [0., 0., 0., ..., 0., 0., 0.],\n",
       "       [0., 0., 1., ..., 0., 0., 0.]], dtype=float32)"
      ]
     },
     "execution_count": 118,
     "metadata": {},
     "output_type": "execute_result"
    }
   ],
   "source": [
    "Y_j_train[0]"
   ]
  },
  {
   "cell_type": "code",
   "execution_count": 142,
   "metadata": {},
   "outputs": [],
   "source": [
    "preds = rvae.predict(X_j_test)\n",
    "# preds = tf.squeeze(tf.slice(preds, [0,59,0], [-1, -1, -1])).numpy()\n",
    "# preds = np.argmax(preds, axis=1)\n",
    "truth = np.argmax(Y_j_test, axis=1)"
   ]
  },
  {
   "cell_type": "code",
   "execution_count": 147,
   "metadata": {},
   "outputs": [
    {
     "data": {
      "text/plain": [
       "(27198, 60, 27)"
      ]
     },
     "execution_count": 147,
     "metadata": {},
     "output_type": "execute_result"
    }
   ],
   "source": [
    "preds.shape"
   ]
  },
  {
   "cell_type": "code",
   "execution_count": 152,
   "metadata": {},
   "outputs": [
    {
     "data": {
      "text/plain": [
       "array([25,  0,  0,  0,  0,  0,  0,  0,  0,  0,  0,  0,  0,  0,  0,  0,  0,\n",
       "        0,  0,  0,  0,  0,  0,  0,  0,  0,  0,  0,  0,  0,  0,  0,  0,  0,\n",
       "        0,  0,  0,  0,  0,  0,  0,  0,  0,  0,  0,  0,  0,  0,  0,  0,  0,\n",
       "        0,  0,  0,  0,  0,  0,  0, 23,  0])"
      ]
     },
     "execution_count": 152,
     "metadata": {},
     "output_type": "execute_result"
    }
   ],
   "source": [
    "np.argmax(preds[1], axis=1)"
   ]
  },
  {
   "cell_type": "code",
   "execution_count": 151,
   "metadata": {},
   "outputs": [
    {
     "data": {
      "text/plain": [
       "array([0, 0, 0, 0, 0, 0, 0, 0, 0, 0, 0, 0, 0, 0, 0, 0, 0, 0, 0, 0, 0, 0,\n",
       "       0, 0, 0, 0, 0, 0, 0, 0, 0, 0, 0, 0, 0, 0, 0, 0, 0, 0, 0, 0, 0, 0,\n",
       "       0, 0, 0, 0, 0, 0, 0, 0, 0, 0, 0, 0, 0, 0, 1, 6])"
      ]
     },
     "execution_count": 151,
     "metadata": {},
     "output_type": "execute_result"
    }
   ],
   "source": [
    "np.argmax(X_j_test[1], axis=1)"
   ]
  },
  {
   "cell_type": "code",
   "execution_count": 139,
   "metadata": {},
   "outputs": [
    {
     "name": "stdout",
     "output_type": "stream",
     "text": [
      "Accuracy:0.19655857048312375\n"
     ]
    }
   ],
   "source": [
    "from sklearn.metrics import f1_score, accuracy_score\n",
    "print(\"Accuracy:{}\".format(accuracy_score(truth, preds)))\n"
   ]
  },
  {
   "cell_type": "code",
   "execution_count": 140,
   "metadata": {},
   "outputs": [
    {
     "data": {
      "text/plain": [
       "array([ 0,  2, 12, 23, 25])"
      ]
     },
     "execution_count": 140,
     "metadata": {},
     "output_type": "execute_result"
    }
   ],
   "source": [
    "np.unique(preds)"
   ]
  },
  {
   "cell_type": "code",
   "execution_count": 141,
   "metadata": {},
   "outputs": [
    {
     "data": {
      "text/plain": [
       "array([ 2,  0, 23, ..., 12,  2,  2])"
      ]
     },
     "execution_count": 141,
     "metadata": {},
     "output_type": "execute_result"
    }
   ],
   "source": [
    "preds"
   ]
  },
  {
   "cell_type": "code",
   "execution_count": 116,
   "metadata": {},
   "outputs": [
    {
     "data": {
      "text/plain": [
       "array([[[1., 0., 0., ..., 0., 0., 0.],\n",
       "        [1., 0., 0., ..., 0., 0., 0.],\n",
       "        [1., 0., 0., ..., 0., 0., 0.],\n",
       "        ...,\n",
       "        [1., 0., 0., ..., 0., 0., 0.],\n",
       "        [1., 0., 0., ..., 0., 0., 0.],\n",
       "        [0., 1., 0., ..., 0., 0., 0.]],\n",
       "\n",
       "       [[1., 0., 0., ..., 0., 0., 0.],\n",
       "        [1., 0., 0., ..., 0., 0., 0.],\n",
       "        [1., 0., 0., ..., 0., 0., 0.],\n",
       "        ...,\n",
       "        [1., 0., 0., ..., 0., 0., 0.],\n",
       "        [0., 1., 0., ..., 0., 0., 0.],\n",
       "        [0., 0., 0., ..., 0., 0., 0.]],\n",
       "\n",
       "       [[1., 0., 0., ..., 0., 0., 0.],\n",
       "        [1., 0., 0., ..., 0., 0., 0.],\n",
       "        [1., 0., 0., ..., 0., 0., 0.],\n",
       "        ...,\n",
       "        [0., 1., 0., ..., 0., 0., 0.],\n",
       "        [0., 0., 0., ..., 0., 0., 0.],\n",
       "        [0., 0., 0., ..., 0., 0., 0.]],\n",
       "\n",
       "       ...,\n",
       "\n",
       "       [[1., 0., 0., ..., 0., 0., 0.],\n",
       "        [1., 0., 0., ..., 0., 0., 0.],\n",
       "        [1., 0., 0., ..., 0., 0., 0.],\n",
       "        ...,\n",
       "        [0., 0., 0., ..., 0., 0., 0.],\n",
       "        [0., 0., 0., ..., 0., 0., 0.],\n",
       "        [0., 0., 0., ..., 0., 0., 0.]],\n",
       "\n",
       "       [[1., 0., 0., ..., 0., 0., 0.],\n",
       "        [1., 0., 0., ..., 0., 0., 0.],\n",
       "        [1., 0., 0., ..., 0., 0., 0.],\n",
       "        ...,\n",
       "        [1., 0., 0., ..., 0., 0., 0.],\n",
       "        [1., 0., 0., ..., 0., 0., 0.],\n",
       "        [0., 1., 0., ..., 0., 0., 0.]],\n",
       "\n",
       "       [[1., 0., 0., ..., 0., 0., 0.],\n",
       "        [1., 0., 0., ..., 0., 0., 0.],\n",
       "        [1., 0., 0., ..., 0., 0., 0.],\n",
       "        ...,\n",
       "        [1., 0., 0., ..., 0., 0., 0.],\n",
       "        [0., 1., 0., ..., 0., 0., 0.],\n",
       "        [0., 0., 0., ..., 0., 0., 0.]]], dtype=float32)"
      ]
     },
     "execution_count": 116,
     "metadata": {},
     "output_type": "execute_result"
    }
   ],
   "source": [
    "X_j_test"
   ]
  },
  {
   "cell_type": "code",
   "execution_count": 17,
   "metadata": {},
   "outputs": [],
   "source": [
    "a = tf.convert_to_tensor([0,1,2])"
   ]
  },
  {
   "cell_type": "code",
   "execution_count": 45,
   "metadata": {},
   "outputs": [
    {
     "data": {
      "text/plain": [
       "<tf.Tensor: shape=(1, 1, 3), dtype=int32, numpy=array([[[0, 1, 2]]], dtype=int32)>"
      ]
     },
     "execution_count": 45,
     "metadata": {},
     "output_type": "execute_result"
    }
   ],
   "source": [
    "tf.reshape(a, [1,1,3])"
   ]
  },
  {
   "cell_type": "code",
   "execution_count": 50,
   "metadata": {},
   "outputs": [],
   "source": [
    "a = tf.convert_to_tensor([[[1,2,3]]])"
   ]
  },
  {
   "cell_type": "code",
   "execution_count": 51,
   "metadata": {},
   "outputs": [
    {
     "data": {
      "text/plain": [
       "<tf.Tensor: shape=(1, 1, 3), dtype=int32, numpy=array([[[1, 2, 3]]], dtype=int32)>"
      ]
     },
     "execution_count": 51,
     "metadata": {},
     "output_type": "execute_result"
    }
   ],
   "source": [
    "a"
   ]
  },
  {
   "cell_type": "code",
   "execution_count": 54,
   "metadata": {},
   "outputs": [],
   "source": [
    "b = tf.reshape(tf.convert_to_tensor([4,5,6]),[1,3])"
   ]
  },
  {
   "cell_type": "code",
   "execution_count": 55,
   "metadata": {},
   "outputs": [
    {
     "ename": "InvalidArgumentError",
     "evalue": "ConcatOp : Ranks of all input tensors should match: shape[0] = [1,1,3] vs. shape[1] = [1,3] [Op:ConcatV2] name: concat",
     "output_type": "error",
     "traceback": [
      "\u001b[0;31m---------------------------------------------------------------------------\u001b[0m",
      "\u001b[0;31mInvalidArgumentError\u001b[0m                      Traceback (most recent call last)",
      "\u001b[0;32m<ipython-input-55-35a485ca1dbf>\u001b[0m in \u001b[0;36m<module>\u001b[0;34m\u001b[0m\n\u001b[0;32m----> 1\u001b[0;31m \u001b[0mtf\u001b[0m\u001b[0;34m.\u001b[0m\u001b[0mconcat\u001b[0m\u001b[0;34m(\u001b[0m\u001b[0;34m[\u001b[0m\u001b[0ma\u001b[0m\u001b[0;34m,\u001b[0m\u001b[0mb\u001b[0m\u001b[0;34m]\u001b[0m\u001b[0;34m,\u001b[0m \u001b[0maxis\u001b[0m\u001b[0;34m=\u001b[0m\u001b[0;36m1\u001b[0m\u001b[0;34m)\u001b[0m\u001b[0;34m\u001b[0m\u001b[0;34m\u001b[0m\u001b[0m\n\u001b[0m",
      "\u001b[0;32m~/Desktop/Master/Thesis/venv/lib/python3.7/site-packages/tensorflow/python/util/dispatch.py\u001b[0m in \u001b[0;36mwrapper\u001b[0;34m(*args, **kwargs)\u001b[0m\n\u001b[1;32m    199\u001b[0m     \u001b[0;34m\"\"\"Call target, and fall back on dispatchers if there is a TypeError.\"\"\"\u001b[0m\u001b[0;34m\u001b[0m\u001b[0;34m\u001b[0m\u001b[0m\n\u001b[1;32m    200\u001b[0m     \u001b[0;32mtry\u001b[0m\u001b[0;34m:\u001b[0m\u001b[0;34m\u001b[0m\u001b[0;34m\u001b[0m\u001b[0m\n\u001b[0;32m--> 201\u001b[0;31m       \u001b[0;32mreturn\u001b[0m \u001b[0mtarget\u001b[0m\u001b[0;34m(\u001b[0m\u001b[0;34m*\u001b[0m\u001b[0margs\u001b[0m\u001b[0;34m,\u001b[0m \u001b[0;34m**\u001b[0m\u001b[0mkwargs\u001b[0m\u001b[0;34m)\u001b[0m\u001b[0;34m\u001b[0m\u001b[0;34m\u001b[0m\u001b[0m\n\u001b[0m\u001b[1;32m    202\u001b[0m     \u001b[0;32mexcept\u001b[0m \u001b[0;34m(\u001b[0m\u001b[0mTypeError\u001b[0m\u001b[0;34m,\u001b[0m \u001b[0mValueError\u001b[0m\u001b[0;34m)\u001b[0m\u001b[0;34m:\u001b[0m\u001b[0;34m\u001b[0m\u001b[0;34m\u001b[0m\u001b[0m\n\u001b[1;32m    203\u001b[0m       \u001b[0;31m# Note: convert_to_eager_tensor currently raises a ValueError, not a\u001b[0m\u001b[0;34m\u001b[0m\u001b[0;34m\u001b[0m\u001b[0;34m\u001b[0m\u001b[0m\n",
      "\u001b[0;32m~/Desktop/Master/Thesis/venv/lib/python3.7/site-packages/tensorflow/python/ops/array_ops.py\u001b[0m in \u001b[0;36mconcat\u001b[0;34m(values, axis, name)\u001b[0m\n\u001b[1;32m   1675\u001b[0m           dtype=dtypes.int32).get_shape().assert_has_rank(0)\n\u001b[1;32m   1676\u001b[0m       \u001b[0;32mreturn\u001b[0m \u001b[0midentity\u001b[0m\u001b[0;34m(\u001b[0m\u001b[0mvalues\u001b[0m\u001b[0;34m[\u001b[0m\u001b[0;36m0\u001b[0m\u001b[0;34m]\u001b[0m\u001b[0;34m,\u001b[0m \u001b[0mname\u001b[0m\u001b[0;34m=\u001b[0m\u001b[0mname\u001b[0m\u001b[0;34m)\u001b[0m\u001b[0;34m\u001b[0m\u001b[0;34m\u001b[0m\u001b[0m\n\u001b[0;32m-> 1677\u001b[0;31m   \u001b[0;32mreturn\u001b[0m \u001b[0mgen_array_ops\u001b[0m\u001b[0;34m.\u001b[0m\u001b[0mconcat_v2\u001b[0m\u001b[0;34m(\u001b[0m\u001b[0mvalues\u001b[0m\u001b[0;34m=\u001b[0m\u001b[0mvalues\u001b[0m\u001b[0;34m,\u001b[0m \u001b[0maxis\u001b[0m\u001b[0;34m=\u001b[0m\u001b[0maxis\u001b[0m\u001b[0;34m,\u001b[0m \u001b[0mname\u001b[0m\u001b[0;34m=\u001b[0m\u001b[0mname\u001b[0m\u001b[0;34m)\u001b[0m\u001b[0;34m\u001b[0m\u001b[0;34m\u001b[0m\u001b[0m\n\u001b[0m\u001b[1;32m   1678\u001b[0m \u001b[0;34m\u001b[0m\u001b[0m\n\u001b[1;32m   1679\u001b[0m \u001b[0;34m\u001b[0m\u001b[0m\n",
      "\u001b[0;32m~/Desktop/Master/Thesis/venv/lib/python3.7/site-packages/tensorflow/python/ops/gen_array_ops.py\u001b[0m in \u001b[0;36mconcat_v2\u001b[0;34m(values, axis, name)\u001b[0m\n\u001b[1;32m   1191\u001b[0m       \u001b[0;32mreturn\u001b[0m \u001b[0m_result\u001b[0m\u001b[0;34m\u001b[0m\u001b[0;34m\u001b[0m\u001b[0m\n\u001b[1;32m   1192\u001b[0m     \u001b[0;32mexcept\u001b[0m \u001b[0m_core\u001b[0m\u001b[0;34m.\u001b[0m\u001b[0m_NotOkStatusException\u001b[0m \u001b[0;32mas\u001b[0m \u001b[0me\u001b[0m\u001b[0;34m:\u001b[0m\u001b[0;34m\u001b[0m\u001b[0;34m\u001b[0m\u001b[0m\n\u001b[0;32m-> 1193\u001b[0;31m       \u001b[0m_ops\u001b[0m\u001b[0;34m.\u001b[0m\u001b[0mraise_from_not_ok_status\u001b[0m\u001b[0;34m(\u001b[0m\u001b[0me\u001b[0m\u001b[0;34m,\u001b[0m \u001b[0mname\u001b[0m\u001b[0;34m)\u001b[0m\u001b[0;34m\u001b[0m\u001b[0;34m\u001b[0m\u001b[0m\n\u001b[0m\u001b[1;32m   1194\u001b[0m     \u001b[0;32mexcept\u001b[0m \u001b[0m_core\u001b[0m\u001b[0;34m.\u001b[0m\u001b[0m_FallbackException\u001b[0m\u001b[0;34m:\u001b[0m\u001b[0;34m\u001b[0m\u001b[0;34m\u001b[0m\u001b[0m\n\u001b[1;32m   1195\u001b[0m       \u001b[0;32mpass\u001b[0m\u001b[0;34m\u001b[0m\u001b[0;34m\u001b[0m\u001b[0m\n",
      "\u001b[0;32m~/Desktop/Master/Thesis/venv/lib/python3.7/site-packages/tensorflow/python/framework/ops.py\u001b[0m in \u001b[0;36mraise_from_not_ok_status\u001b[0;34m(e, name)\u001b[0m\n\u001b[1;32m   6860\u001b[0m   \u001b[0mmessage\u001b[0m \u001b[0;34m=\u001b[0m \u001b[0me\u001b[0m\u001b[0;34m.\u001b[0m\u001b[0mmessage\u001b[0m \u001b[0;34m+\u001b[0m \u001b[0;34m(\u001b[0m\u001b[0;34m\" name: \"\u001b[0m \u001b[0;34m+\u001b[0m \u001b[0mname\u001b[0m \u001b[0;32mif\u001b[0m \u001b[0mname\u001b[0m \u001b[0;32mis\u001b[0m \u001b[0;32mnot\u001b[0m \u001b[0;32mNone\u001b[0m \u001b[0;32melse\u001b[0m \u001b[0;34m\"\"\u001b[0m\u001b[0;34m)\u001b[0m\u001b[0;34m\u001b[0m\u001b[0;34m\u001b[0m\u001b[0m\n\u001b[1;32m   6861\u001b[0m   \u001b[0;31m# pylint: disable=protected-access\u001b[0m\u001b[0;34m\u001b[0m\u001b[0;34m\u001b[0m\u001b[0;34m\u001b[0m\u001b[0m\n\u001b[0;32m-> 6862\u001b[0;31m   \u001b[0msix\u001b[0m\u001b[0;34m.\u001b[0m\u001b[0mraise_from\u001b[0m\u001b[0;34m(\u001b[0m\u001b[0mcore\u001b[0m\u001b[0;34m.\u001b[0m\u001b[0m_status_to_exception\u001b[0m\u001b[0;34m(\u001b[0m\u001b[0me\u001b[0m\u001b[0;34m.\u001b[0m\u001b[0mcode\u001b[0m\u001b[0;34m,\u001b[0m \u001b[0mmessage\u001b[0m\u001b[0;34m)\u001b[0m\u001b[0;34m,\u001b[0m \u001b[0;32mNone\u001b[0m\u001b[0;34m)\u001b[0m\u001b[0;34m\u001b[0m\u001b[0;34m\u001b[0m\u001b[0m\n\u001b[0m\u001b[1;32m   6863\u001b[0m   \u001b[0;31m# pylint: enable=protected-access\u001b[0m\u001b[0;34m\u001b[0m\u001b[0;34m\u001b[0m\u001b[0;34m\u001b[0m\u001b[0m\n\u001b[1;32m   6864\u001b[0m \u001b[0;34m\u001b[0m\u001b[0m\n",
      "\u001b[0;32m~/Desktop/Master/Thesis/venv/lib/python3.7/site-packages/six.py\u001b[0m in \u001b[0;36mraise_from\u001b[0;34m(value, from_value)\u001b[0m\n",
      "\u001b[0;31mInvalidArgumentError\u001b[0m: ConcatOp : Ranks of all input tensors should match: shape[0] = [1,1,3] vs. shape[1] = [1,3] [Op:ConcatV2] name: concat"
     ]
    }
   ],
   "source": [
    "tf.concat([a,b], axis=1)"
   ]
  },
  {
   "cell_type": "code",
   "execution_count": null,
   "metadata": {},
   "outputs": [],
   "source": []
  }
 ],
 "metadata": {
  "kernelspec": {
   "display_name": "Python 3",
   "language": "python",
   "name": "python3"
  },
  "language_info": {
   "codemirror_mode": {
    "name": "ipython",
    "version": 3
   },
   "file_extension": ".py",
   "mimetype": "text/x-python",
   "name": "python",
   "nbconvert_exporter": "python",
   "pygments_lexer": "ipython3",
   "version": "3.7.6"
  }
 },
 "nbformat": 4,
 "nbformat_minor": 4
}
