{
 "cells": [
  {
   "cell_type": "code",
   "execution_count": 1,
   "metadata": {},
   "outputs": [
    {
     "data": {
      "application/vnd.jupyter.widget-view+json": {
       "model_id": "ece72ce838bd4aa28dba30a5235d8430",
       "version_major": 2,
       "version_minor": 0
      },
      "text/plain": [
       "parsing log, completed traces ::   0%|          | 0/13087 [00:00<?, ?it/s]"
      ]
     },
     "metadata": {},
     "output_type": "display_data"
    }
   ],
   "source": [
    "import os \n",
    "import pm4py\n",
    "from pm4py.objects.conversion.log import converter as log_converter\n",
    "import pandas as pd\n",
    "\n",
    "curr_path = os.path.abspath('')\n",
    "folder_path = os.path.join(curr_path, 'data')\n",
    "filepath = os.path.join(folder_path, 'BPI_Challenge_2012.xes')\n",
    "log = pm4py.read_xes(filepath)\n",
    "df = log_converter.apply(log, variant=log_converter.Variants.TO_DATA_FRAME)"
   ]
  },
  {
   "cell_type": "code",
   "execution_count": 2,
   "metadata": {},
   "outputs": [],
   "source": [
    "unique_activities = pd.unique(df['concept:name'])\n",
    "activity_encoder = dict(zip(unique_activities,range(3,len(unique_activities) + 3)))\n",
    "activity_encoder['Start'] = 1\n",
    "activity_encoder['End'] = 2\n",
    "df['concept:encoded'] = df['concept:name'].apply(lambda x: activity_encoder[x])"
   ]
  },
  {
   "cell_type": "code",
   "execution_count": 3,
   "metadata": {},
   "outputs": [],
   "source": [
    "import pandas as pd\n",
    "\n",
    "def process_arrays(df, complete=False, W=False):\n",
    "    proc_df = df\n",
    "    if complete:\n",
    "        proc_df = proc_df[proc_df['lifecycle:transition'] == 'COMPLETE']\n",
    "    if W:\n",
    "        proc_df = proc_df[proc_df['concept:name'].str.startswith('W_')]\n",
    "    \n",
    "    arrays = proc_df.groupby(['case:concept:name']).agg(list)\n",
    "    arrays.reset_index(inplace=True)\n",
    "    arrays['time:interarrival_min'] = arrays['time:timestamp'].apply(lambda x: [0] + [0] + [((x[i+1] - x[i]).total_seconds() / 60) for i in range(len(x)-1)] + [0])\n",
    "    arrays['concept:encoded'] = arrays['concept:encoded'].apply(lambda x: [1] + x + [2])\n",
    "    return arrays"
   ]
  },
  {
   "cell_type": "code",
   "execution_count": 4,
   "metadata": {},
   "outputs": [],
   "source": [
    "arrays = process_arrays(df, complete=True, W=True)"
   ]
  },
  {
   "cell_type": "code",
   "execution_count": 5,
   "metadata": {},
   "outputs": [],
   "source": [
    "from sklearn.model_selection import train_test_split, KFold\n",
    "import numpy as np\n",
    "sampled_arrays = arrays.sample(n=5000)\n",
    "\n",
    "kf = KFold(n_splits=3)\n",
    "splits = []\n",
    "for train_index, test_index in kf.split(sampled_arrays['case:concept:name']):\n",
    "    id_tr = arrays['case:concept:name'].iloc[train_index]\n",
    "    id_te = arrays['case:concept:name'].iloc[test_index]\n",
    "    splits.append((id_tr, id_te))"
   ]
  },
  {
   "cell_type": "code",
   "execution_count": 6,
   "metadata": {},
   "outputs": [],
   "source": [
    "i = 1\n",
    "id_train, id_test = splits[i]"
   ]
  },
  {
   "cell_type": "code",
   "execution_count": 191,
   "metadata": {},
   "outputs": [],
   "source": [
    "from tensorflow import keras\n",
    "from tensorflow.keras.utils import to_categorical\n",
    "from tensorflow.keras import layers\n",
    "import numpy as np\n",
    "# Many to one + context\n",
    "\n",
    "\n",
    "activity_decoder = {v:k for k,v in activity_encoder.items()}\n",
    "\n",
    "def many_to_one_prep(journey):\n",
    "    \"\"\"\n",
    "    Setting up a many-to-one scheme.\n",
    "    Function Input is a complete journey.\n",
    "    Returns an RNN input of a history of activities, output is the following activity\n",
    "    \"\"\"\n",
    "    inp = [journey[:i] for i in range(1,len(journey))]\n",
    "    out = journey[1:]\n",
    "    return (inp,out)\n",
    "\n",
    "def many_to_many_hybrid_prep(journey):\n",
    "    \"\"\"\n",
    "    Setting up a many-to-many scheme.\n",
    "    Function Input is a complete journey.\n",
    "    Returns an RNN input of a history of activities, output is the following activity\n",
    "    \"\"\"\n",
    "    inp = [journey[:i] for i in range(1,len(journey))]\n",
    "    out = [journey[1:i+1] for i in range(1, len(journey))]\n",
    "    match = [journey[:i+1] for i in range(1, len(journey))]\n",
    "    return (inp,out, match)\n",
    "\n",
    "def many_to_many_prep(journey):\n",
    "    \"\"\"\n",
    "    Setting up a many-to-many scheme shifted by 1.  \n",
    "    Function input is a complete journey.\n",
    "    Returns an RNN input of a history of activities omitting the final activity, output is the same history shifted by 1 timeslot (omitting the first activity)\n",
    "    \"\"\"\n",
    "    inp = journey[:-1]\n",
    "    out = journey[1:]\n",
    "    return(inp, out)\n",
    "\n",
    "def many_to_many_make_data(id_indexes, arrays_df):\n",
    "    \"\"\"\n",
    "    Creates training and testing sets for an RNN model.  \n",
    "    Function input are indices of a selected subset of data, a DataFrame consisting of aggregated list-like journey data, and a data preparation method.\n",
    "    Returns a tuple of training and testing data for journeys and inter-arrival times.\n",
    "    \"\"\"\n",
    "    X_j = []\n",
    "    Y_j = []\n",
    "    X_t = []\n",
    "    Y_t = []\n",
    "\n",
    "    selected = arrays_df[arrays_df[\"case:concept:name\"].isin(id_indexes)]\n",
    "\n",
    "    for index, row in selected.iterrows():\n",
    "        j_inp, j_out = many_to_many_prep(row['concept:encoded'])\n",
    "        t_inp, t_out = many_to_many_prep(row['time:interarrival_min'])\n",
    "        X_j.append(j_inp)\n",
    "        X_t.append(t_inp)\n",
    "        Y_j.append(j_out)\n",
    "        Y_t.append(t_out)\n",
    "    X_j = keras.preprocessing.sequence.pad_sequences(X_j, padding='pre', maxlen=60)\n",
    "    X_j = to_categorical(X_j)\n",
    "    X_t = keras.preprocessing.sequence.pad_sequences(X_t, padding='pre', maxlen=60)\n",
    "    Y_j = keras.preprocessing.sequence.pad_sequences(Y_j, padding='pre', maxlen=60)\n",
    "    Y_j = to_categorical(Y_j)\n",
    "    Y_t = keras.preprocessing.sequence.pad_sequences(Y_t, padding='pre', maxlen=60)\n",
    "    return (X_j, X_t, Y_j, Y_t)\n",
    "\n",
    "def many_to_one_make_data(id_indexes, arrays_df):\n",
    "    \"\"\"\n",
    "    Creates training and testing sets for an RNN model.  \n",
    "    Function input are indices of a selected subset of data, a DataFrame consisting of aggregated list-like journey data, and a data preparation method.\n",
    "    Returns a tuple of training and testing data for journeys and inter-arrival times.\n",
    "    \"\"\"\n",
    "    X_j = []\n",
    "    Y_j = []\n",
    "    \n",
    "    X_t = []\n",
    "    Y_t = []\n",
    "    \n",
    "\n",
    "    selected = arrays_df[arrays_df[\"case:concept:name\"].isin(id_indexes)]\n",
    "\n",
    "    for index, row in selected.iterrows():\n",
    "        j_inp, j_out = many_to_one_prep(row['concept:encoded'])\n",
    "        t_inp, t_out = many_to_one_prep(row['time:interarrival_min'])\n",
    "        X_j.extend(j_inp)\n",
    "        X_t.extend(t_inp)\n",
    "        Y_j.extend(j_out)\n",
    "        Y_t.extend(t_out)\n",
    "    X_j = keras.preprocessing.sequence.pad_sequences(X_j, padding='pre', maxlen=60)\n",
    "    X_j = to_categorical(X_j)\n",
    "    X_t = keras.preprocessing.sequence.pad_sequences(X_t, padding='pre', maxlen=60)\n",
    "    Y_j = np.asarray(Y_j).astype(\"float32\")\n",
    "    Y_j = to_categorical(Y_j)\n",
    "    Y_t = np.asarray(Y_t).astype(\"float32\")\n",
    "    return (X_j, X_t, Y_j, Y_t)\n",
    "\n",
    "def inject_noise(array, d):\n",
    "    replaced = np.where(array==1, 0.9, array)\n",
    "    replaced = np.where(replaced == 0, 0.1/(d-1), array)\n",
    "    return replaced\n",
    "    \n",
    "\n",
    "def many_to_many_hybrid_make_data(id_indexes, arrays_df):\n",
    "    \"\"\"\n",
    "    Creates training and testing sets for an RNN model.  \n",
    "    Function input are indices of a selected subset of data, a DataFrame consisting of aggregated list-like journey data, and a data preparation method.\n",
    "    Returns a tuple of training and testing data for journeys and inter-arrival times.\n",
    "    \"\"\"\n",
    "    X_j = []\n",
    "    Y_j = []\n",
    "    match_j = []\n",
    "    X_t = []\n",
    "    Y_t = []\n",
    "    match_t = []\n",
    "\n",
    "    selected = arrays_df[arrays_df[\"case:concept:name\"].isin(id_indexes)]\n",
    "\n",
    "    for index, row in selected.iterrows():\n",
    "        j_inp, j_out, j_match = many_to_many_hybrid_prep(row['concept:encoded'])\n",
    "        t_inp, t_out, t_match = many_to_many_hybrid_prep(row['time:interarrival_min'])\n",
    "        X_j.extend(j_inp)\n",
    "        X_t.extend(t_inp)\n",
    "        match_j.extend(j_match)\n",
    "        match_t.extend(t_match)\n",
    "        Y_j.extend(j_out)\n",
    "        Y_t.extend(t_out)\n",
    "    X_j = keras.preprocessing.sequence.pad_sequences(X_j, padding='pre', maxlen=60)\n",
    "    X_j = to_categorical(X_j)\n",
    "    X_t = keras.preprocessing.sequence.pad_sequences(X_t, padding='pre', maxlen=60)\n",
    "    Y_j = keras.preprocessing.sequence.pad_sequences(Y_j, padding='pre', maxlen=60)\n",
    "    Y_j = to_categorical(Y_j)\n",
    "    Y_t = keras.preprocessing.sequence.pad_sequences(Y_t, padding='pre', maxlen=60)\n",
    "    match_j = keras.preprocessing.sequence.pad_sequences(match_j, padding='pre', maxlen=60)\n",
    "    match_j = to_categorical(match_j)\n",
    "    match_t = keras.preprocessing.sequence.pad_sequences(match_t, padding='pre', maxlen=60)\n",
    "    return (X_j, X_t, Y_j, Y_t, match_j, match_t)"
   ]
  },
  {
   "cell_type": "code",
   "execution_count": 192,
   "metadata": {},
   "outputs": [],
   "source": [
    "X_j_train, X_t_train, Y_j_train, Y_t_train, match_j, match_t = many_to_many_hybrid_make_data(id_train.values, arrays)"
   ]
  },
  {
   "cell_type": "code",
   "execution_count": 1083,
   "metadata": {},
   "outputs": [],
   "source": [
    "X_j_test, X_t_test, Y_j_test, Y_t_test, _, _ = many_to_many_hybrid_make_data(id_test.values, arrays)"
   ]
  },
  {
   "cell_type": "code",
   "execution_count": 30,
   "metadata": {},
   "outputs": [],
   "source": [
    "X_j_test, X_t_test, Y_j_test, Y_t_test = many_to_one_make_data(id_test.values, arrays)"
   ]
  },
  {
   "cell_type": "code",
   "execution_count": 966,
   "metadata": {},
   "outputs": [
    {
     "data": {
      "text/plain": [
       "(17367, 60, 27)"
      ]
     },
     "execution_count": 966,
     "metadata": {},
     "output_type": "execute_result"
    }
   ],
   "source": [
    "match_j.shape"
   ]
  },
  {
   "cell_type": "code",
   "execution_count": 118,
   "metadata": {},
   "outputs": [
    {
     "data": {
      "text/plain": [
       "(29198, 60, 27)"
      ]
     },
     "execution_count": 118,
     "metadata": {},
     "output_type": "execute_result"
    }
   ],
   "source": [
    "X_j_train.shape\n"
   ]
  },
  {
   "cell_type": "code",
   "execution_count": 119,
   "metadata": {},
   "outputs": [],
   "source": [
    "replaced = np.where(X_j_train == 1, 0.9, X_j_train)\n",
    "replaced = np.where(replaced ==0, 0.1/(27), replaced)"
   ]
  },
  {
   "cell_type": "code",
   "execution_count": 120,
   "metadata": {},
   "outputs": [
    {
     "data": {
      "text/plain": [
       "array([[[0.9      , 0.0037037, 0.0037037, ..., 0.0037037, 0.0037037,\n",
       "         0.0037037],\n",
       "        [0.9      , 0.0037037, 0.0037037, ..., 0.0037037, 0.0037037,\n",
       "         0.0037037],\n",
       "        [0.9      , 0.0037037, 0.0037037, ..., 0.0037037, 0.0037037,\n",
       "         0.0037037],\n",
       "        ...,\n",
       "        [0.9      , 0.0037037, 0.0037037, ..., 0.0037037, 0.0037037,\n",
       "         0.0037037],\n",
       "        [0.9      , 0.0037037, 0.0037037, ..., 0.0037037, 0.0037037,\n",
       "         0.0037037],\n",
       "        [0.0037037, 0.9      , 0.0037037, ..., 0.0037037, 0.0037037,\n",
       "         0.0037037]],\n",
       "\n",
       "       [[0.9      , 0.0037037, 0.0037037, ..., 0.0037037, 0.0037037,\n",
       "         0.0037037],\n",
       "        [0.9      , 0.0037037, 0.0037037, ..., 0.0037037, 0.0037037,\n",
       "         0.0037037],\n",
       "        [0.9      , 0.0037037, 0.0037037, ..., 0.0037037, 0.0037037,\n",
       "         0.0037037],\n",
       "        ...,\n",
       "        [0.9      , 0.0037037, 0.0037037, ..., 0.0037037, 0.0037037,\n",
       "         0.0037037],\n",
       "        [0.0037037, 0.9      , 0.0037037, ..., 0.0037037, 0.0037037,\n",
       "         0.0037037],\n",
       "        [0.0037037, 0.0037037, 0.0037037, ..., 0.0037037, 0.0037037,\n",
       "         0.0037037]],\n",
       "\n",
       "       [[0.9      , 0.0037037, 0.0037037, ..., 0.0037037, 0.0037037,\n",
       "         0.0037037],\n",
       "        [0.9      , 0.0037037, 0.0037037, ..., 0.0037037, 0.0037037,\n",
       "         0.0037037],\n",
       "        [0.9      , 0.0037037, 0.0037037, ..., 0.0037037, 0.0037037,\n",
       "         0.0037037],\n",
       "        ...,\n",
       "        [0.0037037, 0.9      , 0.0037037, ..., 0.0037037, 0.0037037,\n",
       "         0.0037037],\n",
       "        [0.0037037, 0.0037037, 0.0037037, ..., 0.0037037, 0.0037037,\n",
       "         0.0037037],\n",
       "        [0.0037037, 0.0037037, 0.0037037, ..., 0.0037037, 0.0037037,\n",
       "         0.0037037]],\n",
       "\n",
       "       ...,\n",
       "\n",
       "       [[0.9      , 0.0037037, 0.0037037, ..., 0.0037037, 0.0037037,\n",
       "         0.0037037],\n",
       "        [0.9      , 0.0037037, 0.0037037, ..., 0.0037037, 0.0037037,\n",
       "         0.0037037],\n",
       "        [0.9      , 0.0037037, 0.0037037, ..., 0.0037037, 0.0037037,\n",
       "         0.0037037],\n",
       "        ...,\n",
       "        [0.0037037, 0.0037037, 0.0037037, ..., 0.0037037, 0.0037037,\n",
       "         0.0037037],\n",
       "        [0.0037037, 0.0037037, 0.0037037, ..., 0.0037037, 0.0037037,\n",
       "         0.0037037],\n",
       "        [0.0037037, 0.0037037, 0.0037037, ..., 0.0037037, 0.0037037,\n",
       "         0.0037037]],\n",
       "\n",
       "       [[0.9      , 0.0037037, 0.0037037, ..., 0.0037037, 0.0037037,\n",
       "         0.0037037],\n",
       "        [0.9      , 0.0037037, 0.0037037, ..., 0.0037037, 0.0037037,\n",
       "         0.0037037],\n",
       "        [0.9      , 0.0037037, 0.0037037, ..., 0.0037037, 0.0037037,\n",
       "         0.0037037],\n",
       "        ...,\n",
       "        [0.0037037, 0.0037037, 0.0037037, ..., 0.0037037, 0.0037037,\n",
       "         0.0037037],\n",
       "        [0.0037037, 0.0037037, 0.0037037, ..., 0.0037037, 0.0037037,\n",
       "         0.0037037],\n",
       "        [0.0037037, 0.0037037, 0.0037037, ..., 0.0037037, 0.0037037,\n",
       "         0.0037037]],\n",
       "\n",
       "       [[0.9      , 0.0037037, 0.0037037, ..., 0.0037037, 0.0037037,\n",
       "         0.0037037],\n",
       "        [0.9      , 0.0037037, 0.0037037, ..., 0.0037037, 0.0037037,\n",
       "         0.0037037],\n",
       "        [0.9      , 0.0037037, 0.0037037, ..., 0.0037037, 0.0037037,\n",
       "         0.0037037],\n",
       "        ...,\n",
       "        [0.0037037, 0.0037037, 0.0037037, ..., 0.0037037, 0.0037037,\n",
       "         0.0037037],\n",
       "        [0.0037037, 0.0037037, 0.0037037, ..., 0.0037037, 0.0037037,\n",
       "         0.0037037],\n",
       "        [0.0037037, 0.0037037, 0.0037037, ..., 0.0037037, 0.0037037,\n",
       "         0.0037037]]], dtype=float32)"
      ]
     },
     "execution_count": 120,
     "metadata": {},
     "output_type": "execute_result"
    }
   ],
   "source": [
    "replaced"
   ]
  },
  {
   "cell_type": "code",
   "execution_count": 256,
   "metadata": {},
   "outputs": [],
   "source": [
    "def sample(self, mu, log_var):\n",
    "    # Sample from unit Normal\n",
    "    epsilon = tf.random.normal([1, self.units])\n",
    "    half_constant = tf.convert_to_tensor(np.full((1, self.units), 0.5).astype('float32'))\n",
    "    # All element-wise computations\n",
    "    z = tf.math.multiply(half_constant, tf.math.exp(log_var)) + mu\n",
    "    return z"
   ]
  },
  {
   "cell_type": "code",
   "execution_count": 259,
   "metadata": {},
   "outputs": [],
   "source": [
    "mu=[[1,0.5,0.5], [5,5,5]]\n",
    "logvar = [[0,0,0], [0.2, 0.2, 0.2]]\n",
    "mu = tf.convert_to_tensor(mu)\n",
    "logvar = tf.convert_to_tensor(logvar)"
   ]
  },
  {
   "cell_type": "code",
   "execution_count": 260,
   "metadata": {},
   "outputs": [
    {
     "data": {
      "text/plain": [
       "<tf.Tensor: shape=(2, 3), dtype=float32, numpy=\n",
       "array([[1. , 0.5, 0.5],\n",
       "       [5. , 5. , 5. ]], dtype=float32)>"
      ]
     },
     "execution_count": 260,
     "metadata": {},
     "output_type": "execute_result"
    }
   ],
   "source": [
    "mu"
   ]
  },
  {
   "cell_type": "code",
   "execution_count": 261,
   "metadata": {},
   "outputs": [
    {
     "data": {
      "text/plain": [
       "<tf.Tensor: shape=(2, 3), dtype=float32, numpy=\n",
       "array([[0. , 0. , 0. ],\n",
       "       [0.2, 0.2, 0.2]], dtype=float32)>"
      ]
     },
     "execution_count": 261,
     "metadata": {},
     "output_type": "execute_result"
    }
   ],
   "source": [
    "logvar"
   ]
  },
  {
   "cell_type": "code",
   "execution_count": 290,
   "metadata": {},
   "outputs": [
    {
     "data": {
      "text/plain": [
       "<tf.Tensor: shape=(2, 3), dtype=float32, numpy=\n",
       "array([[-0.46710995,  0.57051593,  1.4971423 ],\n",
       "       [-0.02906987,  1.5885985 ,  1.1213577 ]], dtype=float32)>"
      ]
     },
     "execution_count": 290,
     "metadata": {},
     "output_type": "execute_result"
    }
   ],
   "source": [
    "tf.random.normal((tf.shape(mu)[0], tf.shape(mu)[1]))"
   ]
  },
  {
   "cell_type": "code",
   "execution_count": 271,
   "metadata": {},
   "outputs": [],
   "source": [
    "half_constant = tf.convert_to_tensor(np.full((tf.shape(mu)[0], tf.shape(mu)[1]),0.5).astype('float32'))"
   ]
  },
  {
   "cell_type": "code",
   "execution_count": 297,
   "metadata": {},
   "outputs": [
    {
     "data": {
      "text/plain": [
       "<tf.Tensor: shape=(2, 3), dtype=float32, numpy=\n",
       "array([[-0.12664802, -0.15053886,  0.18995531],\n",
       "       [-0.19595742, -0.33817214, -0.7620059 ]], dtype=float32)>"
      ]
     },
     "execution_count": 297,
     "metadata": {},
     "output_type": "execute_result"
    }
   ],
   "source": [
    "0.5 * tf.random.normal((tf.shape(mu)[0], tf.shape(mu)[1]))"
   ]
  },
  {
   "cell_type": "markdown",
   "metadata": {},
   "source": [
    "# VRNN Model (Runs properly)"
   ]
  },
  {
   "cell_type": "code",
   "execution_count": 309,
   "metadata": {},
   "outputs": [],
   "source": [
    "import tensorflow as tf\n",
    "import numpy as np\n",
    "# Implementing Variational RNN's and variations by subclassing Keras RNN-type Cells\n",
    "\n",
    "class VRNNCell(tf.keras.layers.GRUCell):\n",
    "    def __init__(self, units, **kwargs):\n",
    "        super(VRNNCell, self).__init__(units, **kwargs)\n",
    "    \n",
    "\n",
    "    def build(self, input_shape):\n",
    "        # Taking most of the standard weight initiaalizations from the base GRU class\n",
    "        super().build((input_shape[0], input_shape[1] + self.units))\n",
    "        \n",
    "        self.input_kernel = self.add_weight(shape=(input_shape[-1], input_shape[-1]), name=\"layer\", initializer='truncated_normal')\n",
    "        \n",
    "        self.prior_kernel = self.add_weight(shape=(self.units, self.units),name=\"layer\", initializer='truncated_normal')\n",
    "        \n",
    "        self.pos_kernel = self.add_weight(shape=(input_shape[-1] + self.units,input_shape[-1] + self.units), name=\"layer\", initializer='truncated_normal')\n",
    "        \n",
    "        self.encoder_mu_kernel = self.add_weight(shape=(input_shape[-1] + self.units, self.units), name=\"layer\", initializer='truncated_normal')\n",
    "        \n",
    "        self.encoder_logvar_kernel = self.add_weight(shape=(input_shape[-1] + self.units, self.units), name=\"layer\", initializer='truncated_normal')\n",
    "        \n",
    "        self.prior_mu_kernel = self.add_weight(shape=(self.units, self.units), name=\"layer\", initializer='truncated_normal')\n",
    "        \n",
    "        self.prior_logvar_kernel = self.add_weight(shape=(self.units, self.units), name=\"layer\", initializer='truncated_normal')  \n",
    "        \n",
    "        self.batch_size = input_shape[0]\n",
    "\n",
    "\n",
    "    def sample(self, mu, log_var):\n",
    "        # Sample from unit Normal\n",
    "        dims = tf.shape(mu)\n",
    "        print(dims)\n",
    "        epsilon = tf.random.normal(dims)\n",
    "        # All element-wise computations\n",
    "        std = tf.math.exp(0.5 * logvar)\n",
    "        z = tf.math.multiply(std, epsilon) + mu\n",
    "        return z\n",
    "    \n",
    "    def call(self, inputs, states, training=False):\n",
    "        # Some formulations:\n",
    "        # Generation:\n",
    "        # z_t ~ N(mu_(0, t), sigma_(0,t)), w here [mu_(0,t), sigma(0,t)] = phi_prior(h_(t-1))\n",
    "        # Update: \n",
    "        # h_t = f_theta(h_(t-1), z_t, x_t) *recurrence equation\n",
    "        # Inference:\n",
    "        # z_t ~ N(mu_z, sigma_z), where [mu_z, sigma_z] = phi_post(x_t, h_(t-1))\n",
    "        #\n",
    "        # Let the base RNN cell handle the rest and add loss\n",
    "        \n",
    "        if training:\n",
    "            x_t = tf.matmul(inputs, self.input_kernel)\n",
    "            h_prev = states[0]\n",
    "\n",
    "            prior = tf.matmul(h_prev, self.prior_kernel)\n",
    "            p_mu = tf.matmul(prior, self.prior_mu_kernel)\n",
    "            p_logvar = tf.matmul(prior, self.prior_logvar_kernel)\n",
    "            \n",
    "            input_state_concat = tf.concat([x_t, h_prev], axis=1)\n",
    "            \n",
    "            pos = tf.matmul(input_state_concat, self.pos_kernel)\n",
    "            q_mu = tf.matmul(pos, self.encoder_mu_kernel)\n",
    "            q_logvar = tf.matmul(pos, self.encoder_logvar_kernel)\n",
    "            z_t = self.sample(q_mu, q_logvar)\n",
    "            \n",
    "            inp = tf.concat([x_t, z_t], axis=1)\n",
    "            _, h_next = super().call(inp, h_prev)\n",
    "            \n",
    "            output = (z_t, q_mu, p_mu, q_logvar, p_logvar)\n",
    "            return output, h_next\n",
    "        \n",
    "        else:\n",
    "            # Return prior and posterior parameters\n",
    "            x_t = tf.matmul(inputs, self.input_kernel)\n",
    "            h_prev = states[0]\n",
    "\n",
    "            prior = tf.matmul(h_prev, self.prior_kernel)\n",
    "            p_mu = tf.matmul(prior, self.prior_mu_kernel)\n",
    "            p_logvar = tf.matmul(prior, self.prior_logvar_kernel)\n",
    "            \n",
    "            input_state_concat = tf.concat([x_t, h_prev], axis=1)\n",
    "            \n",
    "            pos = tf.matmul(input_state_concat, self.pos_kernel)\n",
    "            q_mu = tf.matmul(pos, self.encoder_mu_kernel)\n",
    "            q_logvar = tf.matmul(pos, self.encoder_logvar_kernel)\n",
    "            z_t = self.sample(p_mu, p_logvar)\n",
    "            \n",
    "            inp = tf.concat([x_t, z_t], axis=1)\n",
    "            _, h_next = super().call(inp, h_prev)\n",
    "            \n",
    "            output = (z_t, q_mu, p_mu, q_logvar, p_logvar)\n",
    "            return output, h_next\n",
    "    \n",
    "   \n",
    "    def get_config(self):\n",
    "        return {\"units\":self.units}"
   ]
  },
  {
   "cell_type": "code",
   "execution_count": 310,
   "metadata": {},
   "outputs": [],
   "source": [
    "def kl_gauss(posterior_means, prior_means, posterior_log_var, prior_log_var):   \n",
    "    kl = prior_log_var - posterior_log_var + (tf.exp(posterior_log_var) + \n",
    "                                       tf.square(posterior_means - prior_means)) / tf.exp(prior_log_var) - 1\n",
    "    kl = 0.5 * tf.reduce_sum(kl)\n",
    "    return kl\n",
    "\n",
    "class VRNNGRU(tf.keras.Model):\n",
    "    def __init__(self, feature_space, latent_dim, timesteps,**kwargs):\n",
    "        super(VRNNGRU, self).__init__(**kwargs)\n",
    "        vrnn_cell = VRNNCell(3)\n",
    "        self.latent_dim = latent_dim\n",
    "        \n",
    "        vrnn_input = keras.layers.Input(shape=(timesteps, feature_space))\n",
    "        vrnn_output = keras.layers.RNN(vrnn_cell, return_sequences=True)(vrnn_input)\n",
    "        self.vrnn = keras.Model(vrnn_input, vrnn_output)\n",
    "        \n",
    "        decoder_input = keras.layers.Input(shape=(timesteps, latent_dim))\n",
    "        output =  keras.layers.TimeDistributed(keras.layers.Dense(feature_space, activation='softmax'))(decoder_input)\n",
    "        self.decoder =keras.Model(decoder_input, output)\n",
    "        \n",
    "        self.total_loss_tracker = keras.metrics.Mean(name=\"total_loss\")\n",
    "        self.reconstruction_loss_tracker = keras.metrics.Mean(\n",
    "            name=\"reconstruction_loss\"\n",
    "        )\n",
    "        self.kl_loss_tracker = keras.metrics.Mean(name=\"kl_loss\")\n",
    "        \n",
    "    @property\n",
    "    def metrics(self):\n",
    "        return [\n",
    "            self.total_loss_tracker,\n",
    "            self.reconstruction_loss_tracker,\n",
    "            self.kl_loss_tracker,\n",
    "        ]\n",
    "\n",
    "    def train_step(self, data):\n",
    "        if isinstance(data, tuple):\n",
    "            input_data = data[0]\n",
    "            output_data = data[1]\n",
    "            \n",
    "            timesteps = input_data.shape[1]\n",
    "            num_feats = input_data.shape[2]\n",
    "        with tf.GradientTape() as tape:\n",
    "            outputs = self.vrnn(input_data, training=True)\n",
    "            z = outputs[0]\n",
    "            preds = self.decoder(z)\n",
    "            \n",
    "            q_mu = tf.squeeze(tf.squeeze(outputs[1]))\n",
    "            p_mu = tf.squeeze(tf.squeeze(outputs[2]))\n",
    "            q_log_var = tf.squeeze(tf.squeeze(outputs[3]))\n",
    "            p_log_var = tf.squeeze(tf.squeeze(outputs[4]))\n",
    "            \n",
    "            kl_loss = tf.reduce_mean(kl_gauss(q_mu, p_mu, q_log_var, p_log_var))\n",
    "            reconstruction_loss = tf.reduce_mean(\n",
    "                tf.reduce_sum(tf.keras.losses.categorical_crossentropy(output_data, preds), axis=1)\n",
    "            )\n",
    "            total_loss = reconstruction_loss + kl_loss \n",
    "            \n",
    "        grads = tape.gradient(total_loss, self.trainable_weights)\n",
    "        self.optimizer.apply_gradients(zip(grads, self.trainable_weights))\n",
    "        self.total_loss_tracker.update_state(total_loss)\n",
    "        self.reconstruction_loss_tracker.update_state(reconstruction_loss)\n",
    "        self.kl_loss_tracker.update_state(kl_loss)       \n",
    "        return {\n",
    "            'total_loss': self.total_loss_tracker.result(),\n",
    "            'loss': self.reconstruction_loss_tracker.result(),\n",
    "            'kl': self.kl_loss_tracker.result()\n",
    "        }\n",
    "\n",
    "    def call(self, inputs, training=False):\n",
    "        outputs = self.vrnn(inputs, training)\n",
    "        return outputs\n",
    "    \n",
    "    def generate(self, inputs):\n",
    "        outputs = self.vrnn(inputs, training=True)\n",
    "        return outputs\n",
    "    "
   ]
  },
  {
   "cell_type": "code",
   "execution_count": 311,
   "metadata": {},
   "outputs": [
    {
     "name": "stdout",
     "output_type": "stream",
     "text": [
      "Tensor(\"rnn_21/vrnn_cell_21/Shape:0\", shape=(2,), dtype=int32)\n",
      "Tensor(\"rnn_21/while/vrnn_cell_21/Shape:0\", shape=(2,), dtype=int32)\n",
      "Tensor(\"model_30/rnn_21/vrnn_cell_21/Shape:0\", shape=(2,), dtype=int32)\n",
      "Tensor(\"model_30/rnn_21/while/vrnn_cell_21/Shape:0\", shape=(2,), dtype=int32)\n",
      "Tensor(\"model_30/rnn_21/vrnn_cell_21/Shape:0\", shape=(2,), dtype=int32)\n",
      "Tensor(\"model_30/rnn_21/while/vrnn_cell_21/Shape:0\", shape=(2,), dtype=int32)\n"
     ]
    },
    {
     "ename": "InvalidArgumentError",
     "evalue": " Incompatible shapes: [16,60,27] vs. [2,60,27]\n\t [[node gradient_tape/mul_1/Mul (defined at <ipython-input-310-382c5c5312c4>:58) ]] [Op:__inference_train_function_2870197]\n\nErrors may have originated from an input operation.\nInput Source operations connected to node gradient_tape/mul_1/Mul:\n IteratorGetNext (defined at <ipython-input-311-c896435f3891>:18)\n\nFunction call stack:\ntrain_function\n",
     "output_type": "error",
     "traceback": [
      "\u001b[0;31m---------------------------------------------------------------------------\u001b[0m",
      "\u001b[0;31mInvalidArgumentError\u001b[0m                      Traceback (most recent call last)",
      "\u001b[0;32m<ipython-input-311-c896435f3891>\u001b[0m in \u001b[0;36m<module>\u001b[0;34m\u001b[0m\n\u001b[1;32m     16\u001b[0m \u001b[0mrvae\u001b[0m \u001b[0;34m=\u001b[0m \u001b[0mVRNNGRU\u001b[0m\u001b[0;34m(\u001b[0m\u001b[0mfeature_space\u001b[0m\u001b[0;34m,\u001b[0m \u001b[0mlatent_dim\u001b[0m\u001b[0;34m,\u001b[0m \u001b[0mtimesteps\u001b[0m\u001b[0;34m)\u001b[0m\u001b[0;34m\u001b[0m\u001b[0;34m\u001b[0m\u001b[0m\n\u001b[1;32m     17\u001b[0m \u001b[0mrvae\u001b[0m\u001b[0;34m.\u001b[0m\u001b[0mcompile\u001b[0m\u001b[0;34m(\u001b[0m\u001b[0moptimizer\u001b[0m\u001b[0;34m=\u001b[0m\u001b[0mkeras\u001b[0m\u001b[0;34m.\u001b[0m\u001b[0moptimizers\u001b[0m\u001b[0;34m.\u001b[0m\u001b[0mAdam\u001b[0m\u001b[0;34m(\u001b[0m\u001b[0mlr\u001b[0m\u001b[0;34m=\u001b[0m\u001b[0;36m0.1\u001b[0m\u001b[0;34m)\u001b[0m\u001b[0;34m)\u001b[0m\u001b[0;34m\u001b[0m\u001b[0;34m\u001b[0m\u001b[0m\n\u001b[0;32m---> 18\u001b[0;31m \u001b[0mrvae\u001b[0m\u001b[0;34m.\u001b[0m\u001b[0mfit\u001b[0m\u001b[0;34m(\u001b[0m\u001b[0mX_j_train\u001b[0m\u001b[0;34m,\u001b[0m \u001b[0mY_j_train\u001b[0m\u001b[0;34m,\u001b[0m \u001b[0mbatch_size\u001b[0m\u001b[0;34m=\u001b[0m\u001b[0;36m16\u001b[0m\u001b[0;34m,\u001b[0m \u001b[0mepochs\u001b[0m\u001b[0;34m=\u001b[0m\u001b[0;36m1\u001b[0m\u001b[0;34m,\u001b[0m \u001b[0mcallbacks\u001b[0m\u001b[0;34m=\u001b[0m\u001b[0;34m[\u001b[0m\u001b[0mmodel_checkpoint_callback\u001b[0m\u001b[0;34m]\u001b[0m\u001b[0;34m)\u001b[0m\u001b[0;34m\u001b[0m\u001b[0;34m\u001b[0m\u001b[0m\n\u001b[0m",
      "\u001b[0;32m/mnt/c/Users/jchle/Work/Thesis/VAECJ/bash_venv/lib/python3.8/site-packages/tensorflow/python/keras/engine/training.py\u001b[0m in \u001b[0;36mfit\u001b[0;34m(self, x, y, batch_size, epochs, verbose, callbacks, validation_split, validation_data, shuffle, class_weight, sample_weight, initial_epoch, steps_per_epoch, validation_steps, validation_batch_size, validation_freq, max_queue_size, workers, use_multiprocessing)\u001b[0m\n\u001b[1;32m   1181\u001b[0m                 _r=1):\n\u001b[1;32m   1182\u001b[0m               \u001b[0mcallbacks\u001b[0m\u001b[0;34m.\u001b[0m\u001b[0mon_train_batch_begin\u001b[0m\u001b[0;34m(\u001b[0m\u001b[0mstep\u001b[0m\u001b[0;34m)\u001b[0m\u001b[0;34m\u001b[0m\u001b[0;34m\u001b[0m\u001b[0m\n\u001b[0;32m-> 1183\u001b[0;31m               \u001b[0mtmp_logs\u001b[0m \u001b[0;34m=\u001b[0m \u001b[0mself\u001b[0m\u001b[0;34m.\u001b[0m\u001b[0mtrain_function\u001b[0m\u001b[0;34m(\u001b[0m\u001b[0miterator\u001b[0m\u001b[0;34m)\u001b[0m\u001b[0;34m\u001b[0m\u001b[0;34m\u001b[0m\u001b[0m\n\u001b[0m\u001b[1;32m   1184\u001b[0m               \u001b[0;32mif\u001b[0m \u001b[0mdata_handler\u001b[0m\u001b[0;34m.\u001b[0m\u001b[0mshould_sync\u001b[0m\u001b[0;34m:\u001b[0m\u001b[0;34m\u001b[0m\u001b[0;34m\u001b[0m\u001b[0m\n\u001b[1;32m   1185\u001b[0m                 \u001b[0mcontext\u001b[0m\u001b[0;34m.\u001b[0m\u001b[0masync_wait\u001b[0m\u001b[0;34m(\u001b[0m\u001b[0;34m)\u001b[0m\u001b[0;34m\u001b[0m\u001b[0;34m\u001b[0m\u001b[0m\n",
      "\u001b[0;32m/mnt/c/Users/jchle/Work/Thesis/VAECJ/bash_venv/lib/python3.8/site-packages/tensorflow/python/eager/def_function.py\u001b[0m in \u001b[0;36m__call__\u001b[0;34m(self, *args, **kwds)\u001b[0m\n\u001b[1;32m    887\u001b[0m \u001b[0;34m\u001b[0m\u001b[0m\n\u001b[1;32m    888\u001b[0m       \u001b[0;32mwith\u001b[0m \u001b[0mOptionalXlaContext\u001b[0m\u001b[0;34m(\u001b[0m\u001b[0mself\u001b[0m\u001b[0;34m.\u001b[0m\u001b[0m_jit_compile\u001b[0m\u001b[0;34m)\u001b[0m\u001b[0;34m:\u001b[0m\u001b[0;34m\u001b[0m\u001b[0;34m\u001b[0m\u001b[0m\n\u001b[0;32m--> 889\u001b[0;31m         \u001b[0mresult\u001b[0m \u001b[0;34m=\u001b[0m \u001b[0mself\u001b[0m\u001b[0;34m.\u001b[0m\u001b[0m_call\u001b[0m\u001b[0;34m(\u001b[0m\u001b[0;34m*\u001b[0m\u001b[0margs\u001b[0m\u001b[0;34m,\u001b[0m \u001b[0;34m**\u001b[0m\u001b[0mkwds\u001b[0m\u001b[0;34m)\u001b[0m\u001b[0;34m\u001b[0m\u001b[0;34m\u001b[0m\u001b[0m\n\u001b[0m\u001b[1;32m    890\u001b[0m \u001b[0;34m\u001b[0m\u001b[0m\n\u001b[1;32m    891\u001b[0m       \u001b[0mnew_tracing_count\u001b[0m \u001b[0;34m=\u001b[0m \u001b[0mself\u001b[0m\u001b[0;34m.\u001b[0m\u001b[0mexperimental_get_tracing_count\u001b[0m\u001b[0;34m(\u001b[0m\u001b[0;34m)\u001b[0m\u001b[0;34m\u001b[0m\u001b[0;34m\u001b[0m\u001b[0m\n",
      "\u001b[0;32m/mnt/c/Users/jchle/Work/Thesis/VAECJ/bash_venv/lib/python3.8/site-packages/tensorflow/python/eager/def_function.py\u001b[0m in \u001b[0;36m_call\u001b[0;34m(self, *args, **kwds)\u001b[0m\n\u001b[1;32m    948\u001b[0m         \u001b[0;31m# Lifting succeeded, so variables are initialized and we can run the\u001b[0m\u001b[0;34m\u001b[0m\u001b[0;34m\u001b[0m\u001b[0;34m\u001b[0m\u001b[0m\n\u001b[1;32m    949\u001b[0m         \u001b[0;31m# stateless function.\u001b[0m\u001b[0;34m\u001b[0m\u001b[0;34m\u001b[0m\u001b[0;34m\u001b[0m\u001b[0m\n\u001b[0;32m--> 950\u001b[0;31m         \u001b[0;32mreturn\u001b[0m \u001b[0mself\u001b[0m\u001b[0;34m.\u001b[0m\u001b[0m_stateless_fn\u001b[0m\u001b[0;34m(\u001b[0m\u001b[0;34m*\u001b[0m\u001b[0margs\u001b[0m\u001b[0;34m,\u001b[0m \u001b[0;34m**\u001b[0m\u001b[0mkwds\u001b[0m\u001b[0;34m)\u001b[0m\u001b[0;34m\u001b[0m\u001b[0;34m\u001b[0m\u001b[0m\n\u001b[0m\u001b[1;32m    951\u001b[0m     \u001b[0;32melse\u001b[0m\u001b[0;34m:\u001b[0m\u001b[0;34m\u001b[0m\u001b[0;34m\u001b[0m\u001b[0m\n\u001b[1;32m    952\u001b[0m       \u001b[0m_\u001b[0m\u001b[0;34m,\u001b[0m \u001b[0m_\u001b[0m\u001b[0;34m,\u001b[0m \u001b[0m_\u001b[0m\u001b[0;34m,\u001b[0m \u001b[0mfiltered_flat_args\u001b[0m \u001b[0;34m=\u001b[0m\u001b[0;31m \u001b[0m\u001b[0;31m\\\u001b[0m\u001b[0;34m\u001b[0m\u001b[0;34m\u001b[0m\u001b[0m\n",
      "\u001b[0;32m/mnt/c/Users/jchle/Work/Thesis/VAECJ/bash_venv/lib/python3.8/site-packages/tensorflow/python/eager/function.py\u001b[0m in \u001b[0;36m__call__\u001b[0;34m(self, *args, **kwargs)\u001b[0m\n\u001b[1;32m   3021\u001b[0m       (graph_function,\n\u001b[1;32m   3022\u001b[0m        filtered_flat_args) = self._maybe_define_function(args, kwargs)\n\u001b[0;32m-> 3023\u001b[0;31m     return graph_function._call_flat(\n\u001b[0m\u001b[1;32m   3024\u001b[0m         filtered_flat_args, captured_inputs=graph_function.captured_inputs)  # pylint: disable=protected-access\n\u001b[1;32m   3025\u001b[0m \u001b[0;34m\u001b[0m\u001b[0m\n",
      "\u001b[0;32m/mnt/c/Users/jchle/Work/Thesis/VAECJ/bash_venv/lib/python3.8/site-packages/tensorflow/python/eager/function.py\u001b[0m in \u001b[0;36m_call_flat\u001b[0;34m(self, args, captured_inputs, cancellation_manager)\u001b[0m\n\u001b[1;32m   1958\u001b[0m         and executing_eagerly):\n\u001b[1;32m   1959\u001b[0m       \u001b[0;31m# No tape is watching; skip to running the function.\u001b[0m\u001b[0;34m\u001b[0m\u001b[0;34m\u001b[0m\u001b[0;34m\u001b[0m\u001b[0m\n\u001b[0;32m-> 1960\u001b[0;31m       return self._build_call_outputs(self._inference_function.call(\n\u001b[0m\u001b[1;32m   1961\u001b[0m           ctx, args, cancellation_manager=cancellation_manager))\n\u001b[1;32m   1962\u001b[0m     forward_backward = self._select_forward_and_backward_functions(\n",
      "\u001b[0;32m/mnt/c/Users/jchle/Work/Thesis/VAECJ/bash_venv/lib/python3.8/site-packages/tensorflow/python/eager/function.py\u001b[0m in \u001b[0;36mcall\u001b[0;34m(self, ctx, args, cancellation_manager)\u001b[0m\n\u001b[1;32m    589\u001b[0m       \u001b[0;32mwith\u001b[0m \u001b[0m_InterpolateFunctionError\u001b[0m\u001b[0;34m(\u001b[0m\u001b[0mself\u001b[0m\u001b[0;34m)\u001b[0m\u001b[0;34m:\u001b[0m\u001b[0;34m\u001b[0m\u001b[0;34m\u001b[0m\u001b[0m\n\u001b[1;32m    590\u001b[0m         \u001b[0;32mif\u001b[0m \u001b[0mcancellation_manager\u001b[0m \u001b[0;32mis\u001b[0m \u001b[0;32mNone\u001b[0m\u001b[0;34m:\u001b[0m\u001b[0;34m\u001b[0m\u001b[0;34m\u001b[0m\u001b[0m\n\u001b[0;32m--> 591\u001b[0;31m           outputs = execute.execute(\n\u001b[0m\u001b[1;32m    592\u001b[0m               \u001b[0mstr\u001b[0m\u001b[0;34m(\u001b[0m\u001b[0mself\u001b[0m\u001b[0;34m.\u001b[0m\u001b[0msignature\u001b[0m\u001b[0;34m.\u001b[0m\u001b[0mname\u001b[0m\u001b[0;34m)\u001b[0m\u001b[0;34m,\u001b[0m\u001b[0;34m\u001b[0m\u001b[0;34m\u001b[0m\u001b[0m\n\u001b[1;32m    593\u001b[0m               \u001b[0mnum_outputs\u001b[0m\u001b[0;34m=\u001b[0m\u001b[0mself\u001b[0m\u001b[0;34m.\u001b[0m\u001b[0m_num_outputs\u001b[0m\u001b[0;34m,\u001b[0m\u001b[0;34m\u001b[0m\u001b[0;34m\u001b[0m\u001b[0m\n",
      "\u001b[0;32m/mnt/c/Users/jchle/Work/Thesis/VAECJ/bash_venv/lib/python3.8/site-packages/tensorflow/python/eager/execute.py\u001b[0m in \u001b[0;36mquick_execute\u001b[0;34m(op_name, num_outputs, inputs, attrs, ctx, name)\u001b[0m\n\u001b[1;32m     57\u001b[0m   \u001b[0;32mtry\u001b[0m\u001b[0;34m:\u001b[0m\u001b[0;34m\u001b[0m\u001b[0;34m\u001b[0m\u001b[0m\n\u001b[1;32m     58\u001b[0m     \u001b[0mctx\u001b[0m\u001b[0;34m.\u001b[0m\u001b[0mensure_initialized\u001b[0m\u001b[0;34m(\u001b[0m\u001b[0;34m)\u001b[0m\u001b[0;34m\u001b[0m\u001b[0;34m\u001b[0m\u001b[0m\n\u001b[0;32m---> 59\u001b[0;31m     tensors = pywrap_tfe.TFE_Py_Execute(ctx._handle, device_name, op_name,\n\u001b[0m\u001b[1;32m     60\u001b[0m                                         inputs, attrs, num_outputs)\n\u001b[1;32m     61\u001b[0m   \u001b[0;32mexcept\u001b[0m \u001b[0mcore\u001b[0m\u001b[0;34m.\u001b[0m\u001b[0m_NotOkStatusException\u001b[0m \u001b[0;32mas\u001b[0m \u001b[0me\u001b[0m\u001b[0;34m:\u001b[0m\u001b[0;34m\u001b[0m\u001b[0;34m\u001b[0m\u001b[0m\n",
      "\u001b[0;31mInvalidArgumentError\u001b[0m:  Incompatible shapes: [16,60,27] vs. [2,60,27]\n\t [[node gradient_tape/mul_1/Mul (defined at <ipython-input-310-382c5c5312c4>:58) ]] [Op:__inference_train_function_2870197]\n\nErrors may have originated from an input operation.\nInput Source operations connected to node gradient_tape/mul_1/Mul:\n IteratorGetNext (defined at <ipython-input-311-c896435f3891>:18)\n\nFunction call stack:\ntrain_function\n"
     ]
    }
   ],
   "source": [
    "from tensorflow import keras\n",
    "\n",
    "checkpoint_filepath = 'vrnn_checkpoints/vrnn_gan'\n",
    "\n",
    "model_checkpoint_callback = tf.keras.callbacks.ModelCheckpoint(\n",
    "    filepath=checkpoint_filepath,\n",
    "    save_weights_only=True,\n",
    "    monitor='loss',\n",
    "    mode='min',\n",
    "    save_best_only=True,\n",
    "    verbose=1)\n",
    "\n",
    "timesteps = X_j_train.shape[1]\n",
    "latent_dim = 3\n",
    "feature_space = X_j_train.shape[2]\n",
    "rvae = VRNNGRU(feature_space, latent_dim, timesteps)\n",
    "rvae.compile(optimizer=keras.optimizers.Adam(lr=0.1))\n",
    "rvae.fit(X_j_train, Y_j_train, batch_size=16, epochs=1, callbacks=[model_checkpoint_callback])"
   ]
  },
  {
   "cell_type": "code",
   "execution_count": null,
   "metadata": {},
   "outputs": [],
   "source": []
  },
  {
   "cell_type": "code",
   "execution_count": 245,
   "metadata": {},
   "outputs": [],
   "source": [
    "pred = rvae.predict(np.reshape(X_j_train[0], (1,60,27)))"
   ]
  },
  {
   "cell_type": "code",
   "execution_count": 249,
   "metadata": {},
   "outputs": [
    {
     "data": {
      "text/plain": [
       "array([[[-0.00075586,  0.00734275,  0.00323618],\n",
       "        [ 0.00237914,  0.01073394,  0.00648837],\n",
       "        [ 0.00520874,  0.01381685,  0.00949458],\n",
       "        [ 0.00777166,  0.01662943,  0.01228218],\n",
       "        [ 0.0101007 ,  0.01920389,  0.01487474],\n",
       "        [ 0.0122238 ,  0.02156782,  0.01729266],\n",
       "        [ 0.01416488,  0.02374487,  0.0195536 ],\n",
       "        [ 0.01594451,  0.02575541,  0.02167288],\n",
       "        [ 0.01758052,  0.0276172 ,  0.02366402],\n",
       "        [ 0.01908834,  0.02934558,  0.02553872],\n",
       "        [ 0.02048147,  0.03095406,  0.02730744],\n",
       "        [ 0.02177171,  0.03245443,  0.02897933],\n",
       "        [ 0.02296936,  0.03385705,  0.03056247],\n",
       "        [ 0.02408357,  0.0351711 ,  0.03206413],\n",
       "        [ 0.02512236,  0.03640465,  0.03349071],\n",
       "        [ 0.02609279,  0.03756486,  0.0348479 ],\n",
       "        [ 0.02700119,  0.03865812,  0.0361409 ],\n",
       "        [ 0.02785315,  0.03969013,  0.03737429],\n",
       "        [ 0.02865362,  0.04066587,  0.03855217],\n",
       "        [ 0.02940707,  0.04158998,  0.03967837],\n",
       "        [ 0.03011747,  0.04246646,  0.04075623],\n",
       "        [ 0.03078839,  0.04329902,  0.04178887],\n",
       "        [ 0.03142298,  0.04409088,  0.04277904],\n",
       "        [ 0.03202415,  0.04484507,  0.04372931],\n",
       "        [ 0.03259443,  0.04556422,  0.04464196],\n",
       "        [ 0.03313619,  0.04625077,  0.04551917],\n",
       "        [ 0.03365152,  0.04690694,  0.04636287],\n",
       "        [ 0.03414231,  0.0475347 ,  0.04717486],\n",
       "        [ 0.03461025,  0.04813584,  0.04795673],\n",
       "        [ 0.03505695,  0.04871208,  0.04871007],\n",
       "        [ 0.0354838 ,  0.04926487,  0.04943626],\n",
       "        [ 0.03589208,  0.04979561,  0.05013658],\n",
       "        [ 0.03628301,  0.05030561,  0.05081233],\n",
       "        [ 0.03665762,  0.05079599,  0.05146456],\n",
       "        [ 0.03701691,  0.05126781,  0.05209433],\n",
       "        [ 0.03736179,  0.05172211,  0.05270266],\n",
       "        [ 0.03769306,  0.05215975,  0.05329043],\n",
       "        [ 0.03801148,  0.0525816 ,  0.0538585 ],\n",
       "        [ 0.03831779,  0.05298843,  0.05440772],\n",
       "        [ 0.03861258,  0.05338097,  0.05493882],\n",
       "        [ 0.03889648,  0.05375987,  0.05545253],\n",
       "        [ 0.03917003,  0.05412579,  0.05594952],\n",
       "        [ 0.03943373,  0.05447927,  0.05643041],\n",
       "        [ 0.03968805,  0.0548209 ,  0.05689583],\n",
       "        [ 0.03993345,  0.05515116,  0.05734634],\n",
       "        [ 0.04017033,  0.05547055,  0.05778249],\n",
       "        [ 0.04039908,  0.05577951,  0.05820481],\n",
       "        [ 0.04062001,  0.05607843,  0.05861374],\n",
       "        [ 0.04083352,  0.05636776,  0.05900979],\n",
       "        [ 0.04103991,  0.05664786,  0.05939344],\n",
       "        [ 0.04123944,  0.05691907,  0.05976506],\n",
       "        [ 0.04143241,  0.05718174,  0.06012507],\n",
       "        [ 0.04161908,  0.05743616,  0.06047386],\n",
       "        [ 0.04179971,  0.0576827 ,  0.06081184],\n",
       "        [ 0.04197451,  0.05792158,  0.06113932],\n",
       "        [ 0.0421437 ,  0.05815308,  0.06145666],\n",
       "        [ 0.04230752,  0.0583775 ,  0.06176421],\n",
       "        [ 0.04246612,  0.05859505,  0.06206226],\n",
       "        [ 0.04261972,  0.05880597,  0.06235112],\n",
       "        [ 0.01991485,  0.01950217,  0.01027963]]], dtype=float32)"
      ]
     },
     "execution_count": 249,
     "metadata": {},
     "output_type": "execute_result"
    }
   ],
   "source": [
    "pred[1]"
   ]
  },
  {
   "cell_type": "code",
   "execution_count": 253,
   "metadata": {},
   "outputs": [
    {
     "data": {
      "text/plain": [
       "array([[[-0.        ,  0.        ,  0.        ],\n",
       "        [ 0.00359771,  0.00458154,  0.0050003 ],\n",
       "        [ 0.00678177,  0.00862259,  0.00942232],\n",
       "        [ 0.00960805,  0.0121969 ,  0.01334433],\n",
       "        [ 0.01212349,  0.01536635,  0.01683213],\n",
       "        [ 0.01436785,  0.01818329,  0.01994136],\n",
       "        [ 0.01637494,  0.02069222,  0.02271941],\n",
       "        [ 0.01817373,  0.0229312 ,  0.02520679],\n",
       "        [ 0.01978915,  0.02493299,  0.02743844],\n",
       "        [ 0.0212427 ,  0.02672581,  0.02944443],\n",
       "        [ 0.02255309,  0.0283342 ,  0.03125094],\n",
       "        [ 0.02373656,  0.02977945,  0.03288069],\n",
       "        [ 0.02480732,  0.03108014,  0.03435355],\n",
       "        [ 0.0257778 ,  0.03225257,  0.03568692],\n",
       "        [ 0.02665891,  0.03331099,  0.03689604],\n",
       "        [ 0.02746026,  0.03426794,  0.03799434],\n",
       "        [ 0.02819031,  0.03513449,  0.03899366],\n",
       "        [ 0.02885654,  0.03592037,  0.03990446],\n",
       "        [ 0.02946556,  0.03663421,  0.04073596],\n",
       "        [ 0.03002325,  0.03728364,  0.04149636],\n",
       "        [ 0.03053482,  0.03787543,  0.04219295],\n",
       "        [ 0.0310049 ,  0.03841561,  0.04283218],\n",
       "        [ 0.03143761,  0.03890949,  0.04341981],\n",
       "        [ 0.03183661,  0.03936183,  0.04396094],\n",
       "        [ 0.03220518,  0.03977687,  0.04446015],\n",
       "        [ 0.03254624,  0.04015838,  0.04492152],\n",
       "        [ 0.03286242,  0.04050971,  0.04534868],\n",
       "        [ 0.03315604,  0.04083388,  0.04574489],\n",
       "        [ 0.03342918,  0.04113355,  0.04611304],\n",
       "        [ 0.03368374,  0.04141114,  0.04645576],\n",
       "        [ 0.03392139,  0.04166877,  0.04677539],\n",
       "        [ 0.03414364,  0.04190839,  0.04707401],\n",
       "        [ 0.03435185,  0.04213171,  0.04735352],\n",
       "        [ 0.03454724,  0.04234027,  0.04761561],\n",
       "        [ 0.0347309 ,  0.04253545,  0.04786179],\n",
       "        [ 0.03490382,  0.0427185 ,  0.04809344],\n",
       "        [ 0.03506689,  0.04289052,  0.04831178],\n",
       "        [ 0.03522092,  0.04305254,  0.04851793],\n",
       "        [ 0.03536664,  0.04320543,  0.0487129 ],\n",
       "        [ 0.03550469,  0.04335002,  0.04889759],\n",
       "        [ 0.03563567,  0.04348702,  0.04907281],\n",
       "        [ 0.03576011,  0.0436171 ,  0.0492393 ],\n",
       "        [ 0.03587851,  0.04374085,  0.04939772],\n",
       "        [ 0.0359913 ,  0.04385879,  0.04954869],\n",
       "        [ 0.03609888,  0.04397142,  0.04969276],\n",
       "        [ 0.03620162,  0.04407916,  0.04983042],\n",
       "        [ 0.03629985,  0.04418242,  0.04996213],\n",
       "        [ 0.03639386,  0.04428151,  0.05008828],\n",
       "        [ 0.03648394,  0.04437679,  0.05020927],\n",
       "        [ 0.03657034,  0.04446855,  0.05032543],\n",
       "        [ 0.03665328,  0.04455704,  0.05043708],\n",
       "        [ 0.03673298,  0.0446425 ,  0.0505445 ],\n",
       "        [ 0.03680962,  0.04472515,  0.05064794],\n",
       "        [ 0.0368834 ,  0.04480521,  0.05074766],\n",
       "        [ 0.03695446,  0.04488282,  0.05084386],\n",
       "        [ 0.03702295,  0.04495815,  0.05093675],\n",
       "        [ 0.03708902,  0.04503137,  0.05102652],\n",
       "        [ 0.03715279,  0.0451026 ,  0.05111333],\n",
       "        [ 0.03721439,  0.04517198,  0.05119734],\n",
       "        [ 0.03727391,  0.0452396 ,  0.0512787 ]]], dtype=float32)"
      ]
     },
     "execution_count": 253,
     "metadata": {},
     "output_type": "execute_result"
    }
   ],
   "source": [
    "pred[2]"
   ]
  },
  {
   "cell_type": "code",
   "execution_count": 1294,
   "metadata": {},
   "outputs": [],
   "source": [
    "rvae2 =  VRNNGRU(feature_space, latent_dim, timesteps)"
   ]
  },
  {
   "cell_type": "code",
   "execution_count": 1295,
   "metadata": {},
   "outputs": [
    {
     "data": {
      "text/plain": [
       "<tensorflow.python.training.tracking.util.CheckpointLoadStatus at 0x7f77d21455e0>"
      ]
     },
     "execution_count": 1295,
     "metadata": {},
     "output_type": "execute_result"
    }
   ],
   "source": [
    "rvae2.load_weights(checkpoint_filepath)"
   ]
  },
  {
   "cell_type": "markdown",
   "metadata": {},
   "source": [
    "## VRNN-GAN"
   ]
  },
  {
   "cell_type": "markdown",
   "metadata": {},
   "source": [
    "WHAT WORKS: \n",
    "Batch_size = 64\n",
    "Gen LR: 0.001\n",
    "Disc LR: 0.0001\n",
    "Disc Dim: 16\n",
    "VRNN Dim: 64\n",
    "Epochs: 50\n",
    "\n",
    "HIGHLIGHTS:\n",
    "- discrim fake loss is about 0.5, gen reconstruction accuracy is around 0.14, misled loss about 1.5\n",
    "- larger batchsize seems to be more helpful in fooling the discriminator\n",
    "- slowing the LR for the discriminator helps for stabilty\n",
    "- using BCE with logits over sigmoid output layer\n",
    "- large enough dimension for VRNN but not too large"
   ]
  },
  {
   "cell_type": "code",
   "execution_count": 221,
   "metadata": {},
   "outputs": [],
   "source": [
    "from tensorflow.keras import backend as K\n",
    "import tensorflow_probability as tfp\n",
    "def kl_gauss(posterior_means, prior_means, posterior_log_var, prior_log_var):   \n",
    "    kl = prior_log_var - posterior_log_var + (tf.exp(posterior_log_var) + \n",
    "                                       tf.square(posterior_means - prior_means)) / tf.exp(prior_log_var) - 1\n",
    "    kl = 0.5 * tf.reduce_sum(kl, axis=[1,2])\n",
    "    return kl\n",
    "\n",
    "def wasserstein_loss(y_true, y_pred):\n",
    "    return tf.reduce_mean(y_true * y_pred)\n",
    "\n",
    "\n",
    "class kCallback(tf.keras.callbacks.Callback):\n",
    "    def __init__(self, count, limit):\n",
    "        self.limit = limit\n",
    "        self.count = count\n",
    "    def on_train_batch_end(self, batch, logs={}):\n",
    "        if self.count == self.limit:\n",
    "            self.count = 0\n",
    "        else:\n",
    "            self.count += 1\n",
    "        print('k is currently {}'.format(self.count))\n",
    "\n",
    "\n",
    "class VRNNGRUGAN(tf.keras.Model):\n",
    "    def __init__(self, feature_space, latent_dim, timesteps, **kwargs):\n",
    "        super(VRNNGRUGAN, self).__init__(**kwargs)\n",
    "        vrnn_cell = VRNNCell(latent_dim)\n",
    "        self.feature_space = feature_space\n",
    "        self.latent_dim = latent_dim\n",
    "        \n",
    "        vrnn_input = keras.layers.Input(shape=(timesteps, feature_space))\n",
    "        vrnn_output = keras.layers.RNN(vrnn_cell, return_sequences=True)(vrnn_input)\n",
    "        self.vrnn = keras.Model(vrnn_input, vrnn_output)\n",
    "        \n",
    "        decoder_input = keras.layers.Input(shape=(timesteps, latent_dim))\n",
    "        decoder_output = keras.layers.TimeDistributed(keras.layers.Dense(self.feature_space))(decoder_input)\n",
    "        decoder_output = keras.layers.Dropout(0.5)(decoder_output)\n",
    "        decoder_model = keras.Model(decoder_input, decoder_output)\n",
    "        self.decoder = decoder_model\n",
    "        \n",
    "        \n",
    "        disc_input = keras.layers.Input(shape=(timesteps, feature_space))\n",
    "        disc_rnn = keras.layers.LSTM(8, activation='tanh', recurrent_dropout=0.5, dropout=0.5)(disc_input)\n",
    "        disc_output = keras.layers.Dense(1, activation='sigmoid')(disc_rnn)\n",
    "        disc_output = keras.layers.Dropout(0.4)(disc_output)\n",
    "        disc_model = keras.Model(disc_input, disc_output)\n",
    "        self.discrim = disc_model\n",
    "        \n",
    "        self.total_loss_tracker = keras.metrics.Mean(name=\"total_loss\")\n",
    "        self.reconstruction_loss_tracker = keras.metrics.Mean(\n",
    "            name=\"reconstruction_loss\"\n",
    "        )\n",
    "        self.next_step_loss_tracker = keras.metrics.Mean(\n",
    "            name=\"next_step_loss\"\n",
    "        )\n",
    "        self.kl_loss_tracker = keras.metrics.Mean(name=\"kl_loss\")\n",
    "        self.discrim_loss_tracker = keras.metrics.Mean(name=\"discrim_loss\")\n",
    "        self.discrim_fake_loss_tracker = keras.metrics.Mean(name=\"discrim_fake_loss\")\n",
    "        self.discrim_real_loss_tracker = keras.metrics.Mean(name=\"discrim_real_loss\")\n",
    "        self.misled_loss_tracker = keras.metrics.Mean(name=\"misled_loss\")\n",
    "        \n",
    "    @property\n",
    "    def metrics(self):\n",
    "        return [\n",
    "            self.total_loss_tracker,\n",
    "            self.reconstruction_loss_tracker,\n",
    "            self.kl_loss_tracker,\n",
    "            self.discrim_loss_tracker,\n",
    "            self.discrim_fake_loss_tracker,\n",
    "            self.discrim_real_loss_tracker,\n",
    "            self.misled_loss_tracker,\n",
    "#             self.next_step_loss_tracker\n",
    "        ]\n",
    "    def compile(self, vae_optimizer, discrim_optimizer):\n",
    "        super(VRNNGRUGAN, self).compile()\n",
    "        self.vae_optimizer = vae_optimizer\n",
    "        self.discrim_optimizer = discrim_optimizer\n",
    "\n",
    "    def train_step(self, data):\n",
    "        if isinstance(data, tuple):\n",
    "            input_data, match_data = data[0]\n",
    "            output_data = data[1]\n",
    "            \n",
    "        with tf.GradientTape(persistent=True) as tape:\n",
    "            outputs = self.vrnn(input_data, training=True)\n",
    "            z = outputs[0]            \n",
    "            preds = self.decoder(z)\n",
    "            o_preds = tfp.distributions.RelaxedOneHotCategorical(0.01, logits=preds).sample(1)\n",
    "            o_preds = tf.squeeze(o_preds)\n",
    "\n",
    "            \n",
    "            discrim_fake_output = self.discrim(o_preds)\n",
    "            discrim_real_output = self.discrim(output_data)\n",
    "            \n",
    "            bce_logits = tf.keras.losses.BinaryCrossentropy(from_logits=True)\n",
    "\n",
    "            discrim_output_loss_fake = tf.reduce_mean(\n",
    "                tf.keras.losses.binary_crossentropy(tf.zeros_like(discrim_fake_output), discrim_fake_output)\n",
    "            )\n",
    "        \n",
    "            discrim_output_loss_real = tf.reduce_mean(\n",
    "                tf.keras.losses.binary_crossentropy(tf.ones_like(discrim_real_output), discrim_real_output)\n",
    "            )\n",
    "              \n",
    "            discrim_loss = 0.5 * (discrim_output_loss_fake + discrim_output_loss_real)\n",
    "        discrim_grads = tape.gradient(discrim_loss, self.discrim.trainable_weights)\n",
    "        self.discrim_optimizer.apply_gradients(zip(discrim_grads, self.discrim.trainable_weights))\n",
    "        self.discrim_loss_tracker.update_state(discrim_loss)\n",
    "        self.discrim_fake_loss_tracker.update_state(discrim_output_loss_fake)\n",
    "        self.discrim_real_loss_tracker.update_state(discrim_output_loss_real)\n",
    "        del tape\n",
    "        \n",
    "        with tf.GradientTape(persistent=True) as tape:\n",
    "            outputs = self.vrnn(input_data, training=True)\n",
    "            z = outputs[0]\n",
    "            preds = self.decoder(z)\n",
    "            o_preds = tfp.distributions.RelaxedOneHotCategorical(0.01, logits=preds).sample(1)\n",
    "            o_preds = tf.squeeze(o_preds)\n",
    "            discrim_fake_output = self.discrim(o_preds)\n",
    "\n",
    "            q_mu = outputs[1]\n",
    "            p_mu = outputs[2]\n",
    "            q_log_var = outputs[3]\n",
    "            p_log_var = outputs[4]\n",
    "\n",
    "\n",
    "            kl_loss = tf.reduce_mean(kl_gauss(q_mu, p_mu, q_log_var, p_log_var))\n",
    "            bce_logits = tf.keras.losses.BinaryCrossentropy(from_logits=True)\n",
    "\n",
    "            reconstruction_loss = tf.reduce_mean(\n",
    "                tf.keras.losses.categorical_crossentropy(output_data, o_preds)\n",
    "            )\n",
    "            \n",
    "            mislead_output_discrim_loss = tf.reduce_mean(\n",
    "                tf.keras.losses.binary_crossentropy(tf.ones_like(discrim_fake_output), discrim_fake_output) \n",
    "            )\n",
    "            \n",
    "            discrim_loss = tf.reduce_mean(\n",
    "                tf.keras.losses.binary_crossentropy(tf.zeros_like(discrim_fake_output), discrim_fake_output)\n",
    "            )\n",
    "            total_loss =  reconstruction_loss + 0.1 * kl_loss + tf.math.log(mislead_output_discrim_loss) \n",
    "\n",
    "\n",
    "        encoder_grads = tape.gradient(total_loss, self.vrnn.trainable_weights)\n",
    "        decoder_grads = tape.gradient(total_loss, self.decoder.trainable_weights)\n",
    "        encoder_grads = [(tf.clip_by_value(grad, clip_value_min=-2.0, clip_value_max=2.0))\n",
    "                                  for grad in encoder_grads]\n",
    "        decoder_grads = [(tf.clip_by_value(grad, clip_value_min=-2.0, clip_value_max=2.0))\n",
    "                                  for grad in decoder_grads]\n",
    "\n",
    "        self.vae_optimizer.apply_gradients(zip(encoder_grads, self.vrnn.trainable_weights))\n",
    "        self.vae_optimizer.apply_gradients(zip(decoder_grads, self.decoder.trainable_weights))\n",
    "\n",
    "        self.total_loss_tracker.update_state(total_loss)\n",
    "        self.reconstruction_loss_tracker.update_state(reconstruction_loss)\n",
    "        self.kl_loss_tracker.update_state(kl_loss)\n",
    "        self.misled_loss_tracker.update_state(mislead_output_discrim_loss)\n",
    "        del tape\n",
    "            \n",
    "        return {\n",
    "            'total_loss': self.total_loss_tracker.result(),\n",
    "            'loss': self.reconstruction_loss_tracker.result(),\n",
    "            'kl': self.kl_loss_tracker.result(),\n",
    "            'discrim_loss':self.discrim_loss_tracker.result(),\n",
    "            'discrim_loss_fake':self.discrim_fake_loss_tracker.result(),\n",
    "            'discrim_loss_real':self.discrim_real_loss_tracker.result(),\n",
    "            'misled_loss':self.misled_loss_tracker.result(),\n",
    "        }\n",
    "\n",
    "    def call(self, inputs):\n",
    "        outputs = self.vrnn(inputs, training=True)\n",
    "        z = outputs[0]\n",
    "        preds = self.decoder(z)\n",
    "        return preds\n",
    "    \n",
    "    def generate(self, inputs):\n",
    "        outputs = self.vrnn(inputs, training=False)\n",
    "        z = outputs[0]\n",
    "        preds = self.decoder(z)\n",
    "        return (outputs[0], outputs[1])\n",
    "    \n",
    "    def test_step(self, data):\n",
    "        inputs, match = data[0]\n",
    "        outputs = data[1]\n",
    "        preds = self(inputs, training=False)\n",
    "        recon_loss = tf.keras.losses.categorical_crossentropy(outputs, preds)\n",
    "        return {\n",
    "            \"loss\": recon_loss\n",
    "        }\n",
    "        \n",
    "    "
   ]
  },
  {
   "cell_type": "code",
   "execution_count": 222,
   "metadata": {},
   "outputs": [
    {
     "name": "stdout",
     "output_type": "stream",
     "text": [
      "457/457 [==============================] - 57s 90ms/step - total_loss: 7.0993 - loss: 11.0030 - kl: 5.0534 - discrim_loss: 0.4673 - discrim_loss_fake: 0.5047 - discrim_loss_real: 0.5113 - misled_loss: 1.2039\n"
     ]
    },
    {
     "data": {
      "text/plain": [
       "<tensorflow.python.keras.callbacks.History at 0x7fc562e97280>"
      ]
     },
     "execution_count": 222,
     "metadata": {},
     "output_type": "execute_result"
    }
   ],
   "source": [
    "checkpoint_filepath = 'vrnn_gan_checkpoints/vrnngan_best.epoch{epoch:02d}-loss{loss:.2f}'\n",
    "\n",
    "model_checkpoint_callback = tf.keras.callbacks.ModelCheckpoint(\n",
    "    filepath=checkpoint_filepath,\n",
    "    save_weights_only=True,\n",
    "    monitor='loss',\n",
    "    mode='min',\n",
    "    save_best_only=True)\n",
    "\n",
    "timesteps = X_j_train.shape[1]\n",
    "latent_dim = 2\n",
    "feature_space = X_j_train.shape[2]\n",
    "rvae = VRNNGRUGAN(feature_space, latent_dim, timesteps)\n",
    "rvae.compile(keras.optimizers.Adam(lr=0.001), keras.optimizers.Adam(lr=0.001))\n",
    "\n",
    "rvae.fit([X_j_train, match_j], Y_j_train, batch_size= 64, epochs=1, callbacks=[model_checkpoint_callback])"
   ]
  },
  {
   "cell_type": "code",
   "execution_count": 210,
   "metadata": {},
   "outputs": [],
   "source": [
    "tf.keras.backend.clear_session()"
   ]
  },
  {
   "cell_type": "code",
   "execution_count": 224,
   "metadata": {},
   "outputs": [],
   "source": [
    "preds = rvae.generate(X_j_train)\n",
    "# preds = tf.squeeze(tf.slice(preds, [0,59,0], [-1, -1, -1])).numpy()\n",
    "# preds = np.argmax(preds, axis=1)\n",
    "truth = np.argmax(Y_j_train, axis=2)\n"
   ]
  },
  {
   "cell_type": "code",
   "execution_count": 227,
   "metadata": {},
   "outputs": [
    {
     "data": {
      "text/plain": [
       "<tf.Tensor: shape=(29198, 60, 2), dtype=float32, numpy=\n",
       "array([[[0.77190506, 0.6786984 ],\n",
       "        [1.3107011 , 1.2384986 ],\n",
       "        [1.3951796 , 1.3275213 ],\n",
       "        ...,\n",
       "        [1.3959258 , 1.3283398 ],\n",
       "        [1.3959258 , 1.3283398 ],\n",
       "        [1.3693651 , 1.3517888 ]],\n",
       "\n",
       "       [[0.77190506, 0.6786984 ],\n",
       "        [1.3107011 , 1.2384986 ],\n",
       "        [1.3951796 , 1.3275213 ],\n",
       "        ...,\n",
       "        [1.3959258 , 1.3283398 ],\n",
       "        [1.3693651 , 1.3517888 ],\n",
       "        [1.3657767 , 1.3594463 ]],\n",
       "\n",
       "       [[0.77190506, 0.6786984 ],\n",
       "        [1.3107011 , 1.2384986 ],\n",
       "        [1.3951796 , 1.3275213 ],\n",
       "        ...,\n",
       "        [1.3693651 , 1.3517888 ],\n",
       "        [1.3657767 , 1.3594463 ],\n",
       "        [1.3807567 , 1.3310295 ]],\n",
       "\n",
       "       ...,\n",
       "\n",
       "       [[0.77190506, 0.6786984 ],\n",
       "        [1.3107011 , 1.2384986 ],\n",
       "        [1.3951796 , 1.3275213 ],\n",
       "        ...,\n",
       "        [1.3807567 , 1.3310295 ],\n",
       "        [1.3807532 , 1.3310257 ],\n",
       "        [1.3807533 , 1.3310257 ]],\n",
       "\n",
       "       [[0.77190506, 0.6786984 ],\n",
       "        [1.3107011 , 1.2384986 ],\n",
       "        [1.3951796 , 1.3275213 ],\n",
       "        ...,\n",
       "        [1.3807532 , 1.3310257 ],\n",
       "        [1.3807533 , 1.3310257 ],\n",
       "        [1.3807533 , 1.3310257 ]],\n",
       "\n",
       "       [[0.77190506, 0.6786984 ],\n",
       "        [1.3107011 , 1.2384986 ],\n",
       "        [1.3951796 , 1.3275212 ],\n",
       "        ...,\n",
       "        [1.3807533 , 1.3310257 ],\n",
       "        [1.3807533 , 1.3310257 ],\n",
       "        [1.3885016 , 1.3689705 ]]], dtype=float32)>"
      ]
     },
     "execution_count": 227,
     "metadata": {},
     "output_type": "execute_result"
    }
   ],
   "source": [
    "preds[1]"
   ]
  },
  {
   "cell_type": "code",
   "execution_count": 228,
   "metadata": {},
   "outputs": [
    {
     "data": {
      "text/plain": [
       "<tf.Tensor: shape=(29198, 60, 2), dtype=float32, numpy=\n",
       "array([[[0.5      , 0.5      ],\n",
       "        [3.209653 , 3.0168333],\n",
       "        [3.8856559, 3.621873 ],\n",
       "        ...,\n",
       "        [3.8920481, 3.6275563],\n",
       "        [3.8920481, 3.6275563],\n",
       "        [3.8920481, 3.6275563]],\n",
       "\n",
       "       [[0.5      , 0.5      ],\n",
       "        [3.209653 , 3.0168333],\n",
       "        [3.8856559, 3.621873 ],\n",
       "        ...,\n",
       "        [3.8920481, 3.6275563],\n",
       "        [3.8920481, 3.6275563],\n",
       "        [3.8919394, 3.6274598]],\n",
       "\n",
       "       [[0.5      , 0.5      ],\n",
       "        [3.209653 , 3.0168333],\n",
       "        [3.8856559, 3.621873 ],\n",
       "        ...,\n",
       "        [3.8920481, 3.6275563],\n",
       "        [3.8919394, 3.6274598],\n",
       "        [3.8919187, 3.6274414]],\n",
       "\n",
       "       ...,\n",
       "\n",
       "       [[0.5      , 0.5      ],\n",
       "        [3.209653 , 3.0168333],\n",
       "        [3.8856559, 3.621873 ],\n",
       "        ...,\n",
       "        [3.8919187, 3.6274414],\n",
       "        [3.8918884, 3.6274145],\n",
       "        [3.8918889, 3.6274147]],\n",
       "\n",
       "       [[0.5      , 0.5      ],\n",
       "        [3.209653 , 3.0168333],\n",
       "        [3.8856559, 3.621873 ],\n",
       "        ...,\n",
       "        [3.8918884, 3.6274145],\n",
       "        [3.8918889, 3.6274147],\n",
       "        [3.8918889, 3.6274147]],\n",
       "\n",
       "       [[0.5      , 0.5      ],\n",
       "        [3.209653 , 3.0168333],\n",
       "        [3.8856559, 3.621873 ],\n",
       "        ...,\n",
       "        [3.8918881, 3.627414 ],\n",
       "        [3.8918889, 3.627415 ],\n",
       "        [3.891888 , 3.627414 ]]], dtype=float32)>"
      ]
     },
     "execution_count": 228,
     "metadata": {},
     "output_type": "execute_result"
    }
   ],
   "source": [
    "preds[0]"
   ]
  },
  {
   "cell_type": "code",
   "execution_count": 179,
   "metadata": {},
   "outputs": [],
   "source": [
    "preds = np.argmax(preds, axis=2)"
   ]
  },
  {
   "cell_type": "code",
   "execution_count": 181,
   "metadata": {},
   "outputs": [
    {
     "data": {
      "text/plain": [
       "(array([ 0,  6, 12, 14, 23, 25]),\n",
       " array([1514348,   85507,   69943,   17069,   29138,   35875]))"
      ]
     },
     "execution_count": 181,
     "metadata": {},
     "output_type": "execute_result"
    }
   ],
   "source": [
    "np.unique(preds, return_counts=True)"
   ]
  },
  {
   "cell_type": "code",
   "execution_count": 176,
   "metadata": {},
   "outputs": [
    {
     "data": {
      "text/plain": [
       "(array([ 0,  2,  6, 12, 14, 23, 25, 26]),\n",
       " array([1514257,    3333,   81951,   78593,   16648,   13142,   43179,\n",
       "            777]))"
      ]
     },
     "execution_count": 176,
     "metadata": {},
     "output_type": "execute_result"
    }
   ],
   "source": [
    "np.unique(truth, return_counts=True)\n"
   ]
  },
  {
   "cell_type": "code",
   "execution_count": 167,
   "metadata": {},
   "outputs": [
    {
     "data": {
      "text/plain": [
       "{'A_SUBMITTED': 3,\n",
       " 'A_PARTLYSUBMITTED': 4,\n",
       " 'A_PREACCEPTED': 5,\n",
       " 'W_Completeren aanvraag': 6,\n",
       " 'A_ACCEPTED': 7,\n",
       " 'O_SELECTED': 8,\n",
       " 'A_FINALIZED': 9,\n",
       " 'O_CREATED': 10,\n",
       " 'O_SENT': 11,\n",
       " 'W_Nabellen offertes': 12,\n",
       " 'O_SENT_BACK': 13,\n",
       " 'W_Valideren aanvraag': 14,\n",
       " 'A_REGISTERED': 15,\n",
       " 'A_APPROVED': 16,\n",
       " 'O_ACCEPTED': 17,\n",
       " 'A_ACTIVATED': 18,\n",
       " 'O_CANCELLED': 19,\n",
       " 'W_Wijzigen contractgegevens': 20,\n",
       " 'A_DECLINED': 21,\n",
       " 'A_CANCELLED': 22,\n",
       " 'W_Afhandelen leads': 23,\n",
       " 'O_DECLINED': 24,\n",
       " 'W_Nabellen incomplete dossiers': 25,\n",
       " 'W_Beoordelen fraude': 26,\n",
       " 'Start': 1,\n",
       " 'End': 2}"
      ]
     },
     "execution_count": 167,
     "metadata": {},
     "output_type": "execute_result"
    }
   ],
   "source": [
    "activity_encoder"
   ]
  },
  {
   "cell_type": "code",
   "execution_count": 164,
   "metadata": {},
   "outputs": [
    {
     "data": {
      "text/plain": [
       "array([ 0,  0,  0,  0,  0,  0,  0,  0,  0,  0,  0,  0,  0,  0,  0,  0,  0,\n",
       "        0,  0,  0,  0,  0,  0,  0,  0,  0,  0,  0,  0,  0,  0,  0,  0,  0,\n",
       "        0,  0,  0,  0,  0,  0,  0,  0,  0,  0,  0,  0,  0,  0,  0,  0,  0,\n",
       "        0,  0,  0,  0,  0,  0,  0,  0, 23])"
      ]
     },
     "execution_count": 164,
     "metadata": {},
     "output_type": "execute_result"
    }
   ],
   "source": [
    "np.argmax(preds[16], axis=1)"
   ]
  },
  {
   "cell_type": "code",
   "execution_count": 95,
   "metadata": {},
   "outputs": [
    {
     "data": {
      "text/plain": [
       "array([ 0,  0,  0,  0,  0,  0,  0,  0,  0,  0,  0,  0,  0,  0,  0,  0,  0,\n",
       "        0,  0,  0,  0,  0,  0,  0,  0,  0,  0,  0,  0,  0,  0,  0,  0,  0,\n",
       "        0,  0,  0,  0,  0,  0,  0,  0,  0,  0,  0,  0,  0,  0,  0,  0,  0,\n",
       "        0,  0,  0,  0,  1,  6, 12, 12, 12])"
      ]
     },
     "execution_count": 95,
     "metadata": {},
     "output_type": "execute_result"
    }
   ],
   "source": [
    "np.argmax(match_j[3], axis=1)"
   ]
  },
  {
   "cell_type": "code",
   "execution_count": 168,
   "metadata": {},
   "outputs": [
    {
     "data": {
      "text/plain": [
       "array([0, 0, 0, 0, 0, 0, 0, 0, 0, 0, 0, 0, 0, 0, 0, 0, 0, 0, 0, 0, 0, 0,\n",
       "       0, 0, 0, 0, 0, 0, 0, 0, 0, 0, 0, 0, 0, 0, 0, 0, 0, 0, 0, 0, 0, 0,\n",
       "       0, 0, 0, 0, 0, 0, 0, 0, 0, 0, 0, 0, 0, 0, 0, 1])"
      ]
     },
     "execution_count": 168,
     "metadata": {},
     "output_type": "execute_result"
    }
   ],
   "source": [
    "np.argmax(X_j_test[0], axis=1)"
   ]
  },
  {
   "cell_type": "code",
   "execution_count": 165,
   "metadata": {},
   "outputs": [
    {
     "data": {
      "text/plain": [
       "array([0, 0, 0, 0, 0, 0, 0, 0, 0, 0, 0, 0, 0, 0, 0, 0, 0, 0, 0, 0, 0, 0,\n",
       "       0, 0, 0, 0, 0, 0, 0, 0, 0, 0, 0, 0, 0, 0, 0, 0, 0, 0, 0, 0, 0, 0,\n",
       "       0, 0, 0, 0, 0, 0, 0, 0, 0, 0, 0, 0, 0, 0, 0, 6])"
      ]
     },
     "execution_count": 165,
     "metadata": {},
     "output_type": "execute_result"
    }
   ],
   "source": [
    "np.argmax(Y_j_train[16], axis=1)"
   ]
  },
  {
   "cell_type": "code",
   "execution_count": null,
   "metadata": {},
   "outputs": [],
   "source": []
  },
  {
   "cell_type": "code",
   "execution_count": 733,
   "metadata": {
    "scrolled": true
   },
   "outputs": [
    {
     "data": {
      "text/plain": [
       "{'A_SUBMITTED': 3,\n",
       " 'A_PARTLYSUBMITTED': 4,\n",
       " 'A_PREACCEPTED': 5,\n",
       " 'W_Completeren aanvraag': 6,\n",
       " 'A_ACCEPTED': 7,\n",
       " 'O_SELECTED': 8,\n",
       " 'A_FINALIZED': 9,\n",
       " 'O_CREATED': 10,\n",
       " 'O_SENT': 11,\n",
       " 'W_Nabellen offertes': 12,\n",
       " 'O_SENT_BACK': 13,\n",
       " 'W_Valideren aanvraag': 14,\n",
       " 'A_REGISTERED': 15,\n",
       " 'A_APPROVED': 16,\n",
       " 'O_ACCEPTED': 17,\n",
       " 'A_ACTIVATED': 18,\n",
       " 'O_CANCELLED': 19,\n",
       " 'W_Wijzigen contractgegevens': 20,\n",
       " 'A_DECLINED': 21,\n",
       " 'A_CANCELLED': 22,\n",
       " 'W_Afhandelen leads': 23,\n",
       " 'O_DECLINED': 24,\n",
       " 'W_Nabellen incomplete dossiers': 25,\n",
       " 'W_Beoordelen fraude': 26,\n",
       " 'Start': 1,\n",
       " 'End': 2}"
      ]
     },
     "execution_count": 733,
     "metadata": {},
     "output_type": "execute_result"
    }
   ],
   "source": [
    "activity_encoder"
   ]
  },
  {
   "cell_type": "code",
   "execution_count": 925,
   "metadata": {},
   "outputs": [
    {
     "data": {
      "text/plain": [
       "14"
      ]
     },
     "execution_count": 925,
     "metadata": {},
     "output_type": "execute_result"
    }
   ],
   "source": [
    "np.argmax(Y_j_test[16])"
   ]
  },
  {
   "cell_type": "code",
   "execution_count": 933,
   "metadata": {},
   "outputs": [
    {
     "data": {
      "text/plain": [
       "array([ 0,  0,  0,  0,  0,  0,  0,  0,  0,  0,  0,  0,  0,  0,  0,  0,  0,\n",
       "        0,  0,  0,  0,  0,  0,  0,  0,  0,  0,  0,  0,  0,  0,  0,  0,  0,\n",
       "        0,  0,  0,  0,  0,  0,  0,  0,  0,  0,  0,  0,  0,  0,  0,  0,  0,\n",
       "        0,  0,  0, 23,  6,  6, 12, 12, 14])"
      ]
     },
     "execution_count": 933,
     "metadata": {},
     "output_type": "execute_result"
    }
   ],
   "source": [
    "np.argmax(preds[16], axis=1)"
   ]
  },
  {
   "cell_type": "code",
   "execution_count": 936,
   "metadata": {},
   "outputs": [
    {
     "data": {
      "text/plain": [
       "0"
      ]
     },
     "execution_count": 936,
     "metadata": {},
     "output_type": "execute_result"
    }
   ],
   "source": [
    "np.argmax(X_j_test[16])"
   ]
  },
  {
   "cell_type": "code",
   "execution_count": 937,
   "metadata": {},
   "outputs": [
    {
     "data": {
      "text/plain": [
       "array([ 0,  0,  0,  0,  0,  0,  0,  0,  0,  0,  0,  0,  0,  0,  0,  0,  0,\n",
       "        0,  0,  0,  0,  0,  0,  0,  0,  0,  0,  0,  0,  0,  0,  0,  0,  0,\n",
       "        0,  0,  0,  0,  0,  0,  0,  0,  0,  0,  0,  0,  0,  0,  0,  0,  0,\n",
       "        0,  0,  0,  1,  6, 12, 12, 14, 25])"
      ]
     },
     "execution_count": 937,
     "metadata": {},
     "output_type": "execute_result"
    }
   ],
   "source": [
    "np.argmax(X_j_test[16], axis=1)"
   ]
  },
  {
   "cell_type": "code",
   "execution_count": 72,
   "metadata": {},
   "outputs": [
    {
     "name": "stdout",
     "output_type": "stream",
     "text": [
      "Accuracy:0.5695623293231973\n"
     ]
    }
   ],
   "source": [
    "from sklearn.metrics import f1_score, accuracy_score, balanced_accuracy_score\n",
    "print(\"Accuracy:{}\".format(accuracy_score(truth, preds)))\n"
   ]
  },
  {
   "cell_type": "code",
   "execution_count": 140,
   "metadata": {},
   "outputs": [
    {
     "data": {
      "text/plain": [
       "array([ 0,  2, 12, 23, 25])"
      ]
     },
     "execution_count": 140,
     "metadata": {},
     "output_type": "execute_result"
    }
   ],
   "source": [
    "np.unique(preds)"
   ]
  },
  {
   "cell_type": "code",
   "execution_count": 141,
   "metadata": {},
   "outputs": [
    {
     "data": {
      "text/plain": [
       "array([ 2,  0, 23, ..., 12,  2,  2])"
      ]
     },
     "execution_count": 141,
     "metadata": {},
     "output_type": "execute_result"
    }
   ],
   "source": [
    "preds"
   ]
  },
  {
   "cell_type": "code",
   "execution_count": 116,
   "metadata": {},
   "outputs": [
    {
     "data": {
      "text/plain": [
       "array([[[1., 0., 0., ..., 0., 0., 0.],\n",
       "        [1., 0., 0., ..., 0., 0., 0.],\n",
       "        [1., 0., 0., ..., 0., 0., 0.],\n",
       "        ...,\n",
       "        [1., 0., 0., ..., 0., 0., 0.],\n",
       "        [1., 0., 0., ..., 0., 0., 0.],\n",
       "        [0., 1., 0., ..., 0., 0., 0.]],\n",
       "\n",
       "       [[1., 0., 0., ..., 0., 0., 0.],\n",
       "        [1., 0., 0., ..., 0., 0., 0.],\n",
       "        [1., 0., 0., ..., 0., 0., 0.],\n",
       "        ...,\n",
       "        [1., 0., 0., ..., 0., 0., 0.],\n",
       "        [0., 1., 0., ..., 0., 0., 0.],\n",
       "        [0., 0., 0., ..., 0., 0., 0.]],\n",
       "\n",
       "       [[1., 0., 0., ..., 0., 0., 0.],\n",
       "        [1., 0., 0., ..., 0., 0., 0.],\n",
       "        [1., 0., 0., ..., 0., 0., 0.],\n",
       "        ...,\n",
       "        [0., 1., 0., ..., 0., 0., 0.],\n",
       "        [0., 0., 0., ..., 0., 0., 0.],\n",
       "        [0., 0., 0., ..., 0., 0., 0.]],\n",
       "\n",
       "       ...,\n",
       "\n",
       "       [[1., 0., 0., ..., 0., 0., 0.],\n",
       "        [1., 0., 0., ..., 0., 0., 0.],\n",
       "        [1., 0., 0., ..., 0., 0., 0.],\n",
       "        ...,\n",
       "        [0., 0., 0., ..., 0., 0., 0.],\n",
       "        [0., 0., 0., ..., 0., 0., 0.],\n",
       "        [0., 0., 0., ..., 0., 0., 0.]],\n",
       "\n",
       "       [[1., 0., 0., ..., 0., 0., 0.],\n",
       "        [1., 0., 0., ..., 0., 0., 0.],\n",
       "        [1., 0., 0., ..., 0., 0., 0.],\n",
       "        ...,\n",
       "        [1., 0., 0., ..., 0., 0., 0.],\n",
       "        [1., 0., 0., ..., 0., 0., 0.],\n",
       "        [0., 1., 0., ..., 0., 0., 0.]],\n",
       "\n",
       "       [[1., 0., 0., ..., 0., 0., 0.],\n",
       "        [1., 0., 0., ..., 0., 0., 0.],\n",
       "        [1., 0., 0., ..., 0., 0., 0.],\n",
       "        ...,\n",
       "        [1., 0., 0., ..., 0., 0., 0.],\n",
       "        [0., 1., 0., ..., 0., 0., 0.],\n",
       "        [0., 0., 0., ..., 0., 0., 0.]]], dtype=float32)"
      ]
     },
     "execution_count": 116,
     "metadata": {},
     "output_type": "execute_result"
    }
   ],
   "source": [
    "X_j_test"
   ]
  },
  {
   "cell_type": "code",
   "execution_count": 17,
   "metadata": {},
   "outputs": [],
   "source": [
    "a = tf.convert_to_tensor([0,1,2])"
   ]
  },
  {
   "cell_type": "code",
   "execution_count": 45,
   "metadata": {},
   "outputs": [
    {
     "data": {
      "text/plain": [
       "<tf.Tensor: shape=(1, 1, 3), dtype=int32, numpy=array([[[0, 1, 2]]], dtype=int32)>"
      ]
     },
     "execution_count": 45,
     "metadata": {},
     "output_type": "execute_result"
    }
   ],
   "source": [
    "tf.reshape(a, [1,1,3])"
   ]
  },
  {
   "cell_type": "code",
   "execution_count": 50,
   "metadata": {},
   "outputs": [],
   "source": [
    "a = tf.convert_to_tensor([[[1,2,3]]])"
   ]
  },
  {
   "cell_type": "code",
   "execution_count": 51,
   "metadata": {},
   "outputs": [
    {
     "data": {
      "text/plain": [
       "<tf.Tensor: shape=(1, 1, 3), dtype=int32, numpy=array([[[1, 2, 3]]], dtype=int32)>"
      ]
     },
     "execution_count": 51,
     "metadata": {},
     "output_type": "execute_result"
    }
   ],
   "source": [
    "a"
   ]
  },
  {
   "cell_type": "code",
   "execution_count": 54,
   "metadata": {},
   "outputs": [],
   "source": [
    "b = tf.reshape(tf.convert_to_tensor([4,5,6]),[1,3])"
   ]
  },
  {
   "cell_type": "code",
   "execution_count": 55,
   "metadata": {},
   "outputs": [
    {
     "ename": "InvalidArgumentError",
     "evalue": "ConcatOp : Ranks of all input tensors should match: shape[0] = [1,1,3] vs. shape[1] = [1,3] [Op:ConcatV2] name: concat",
     "output_type": "error",
     "traceback": [
      "\u001b[0;31m---------------------------------------------------------------------------\u001b[0m",
      "\u001b[0;31mInvalidArgumentError\u001b[0m                      Traceback (most recent call last)",
      "\u001b[0;32m<ipython-input-55-35a485ca1dbf>\u001b[0m in \u001b[0;36m<module>\u001b[0;34m\u001b[0m\n\u001b[0;32m----> 1\u001b[0;31m \u001b[0mtf\u001b[0m\u001b[0;34m.\u001b[0m\u001b[0mconcat\u001b[0m\u001b[0;34m(\u001b[0m\u001b[0;34m[\u001b[0m\u001b[0ma\u001b[0m\u001b[0;34m,\u001b[0m\u001b[0mb\u001b[0m\u001b[0;34m]\u001b[0m\u001b[0;34m,\u001b[0m \u001b[0maxis\u001b[0m\u001b[0;34m=\u001b[0m\u001b[0;36m1\u001b[0m\u001b[0;34m)\u001b[0m\u001b[0;34m\u001b[0m\u001b[0;34m\u001b[0m\u001b[0m\n\u001b[0m",
      "\u001b[0;32m~/Desktop/Master/Thesis/venv/lib/python3.7/site-packages/tensorflow/python/util/dispatch.py\u001b[0m in \u001b[0;36mwrapper\u001b[0;34m(*args, **kwargs)\u001b[0m\n\u001b[1;32m    199\u001b[0m     \u001b[0;34m\"\"\"Call target, and fall back on dispatchers if there is a TypeError.\"\"\"\u001b[0m\u001b[0;34m\u001b[0m\u001b[0;34m\u001b[0m\u001b[0m\n\u001b[1;32m    200\u001b[0m     \u001b[0;32mtry\u001b[0m\u001b[0;34m:\u001b[0m\u001b[0;34m\u001b[0m\u001b[0;34m\u001b[0m\u001b[0m\n\u001b[0;32m--> 201\u001b[0;31m       \u001b[0;32mreturn\u001b[0m \u001b[0mtarget\u001b[0m\u001b[0;34m(\u001b[0m\u001b[0;34m*\u001b[0m\u001b[0margs\u001b[0m\u001b[0;34m,\u001b[0m \u001b[0;34m**\u001b[0m\u001b[0mkwargs\u001b[0m\u001b[0;34m)\u001b[0m\u001b[0;34m\u001b[0m\u001b[0;34m\u001b[0m\u001b[0m\n\u001b[0m\u001b[1;32m    202\u001b[0m     \u001b[0;32mexcept\u001b[0m \u001b[0;34m(\u001b[0m\u001b[0mTypeError\u001b[0m\u001b[0;34m,\u001b[0m \u001b[0mValueError\u001b[0m\u001b[0;34m)\u001b[0m\u001b[0;34m:\u001b[0m\u001b[0;34m\u001b[0m\u001b[0;34m\u001b[0m\u001b[0m\n\u001b[1;32m    203\u001b[0m       \u001b[0;31m# Note: convert_to_eager_tensor currently raises a ValueError, not a\u001b[0m\u001b[0;34m\u001b[0m\u001b[0;34m\u001b[0m\u001b[0;34m\u001b[0m\u001b[0m\n",
      "\u001b[0;32m~/Desktop/Master/Thesis/venv/lib/python3.7/site-packages/tensorflow/python/ops/array_ops.py\u001b[0m in \u001b[0;36mconcat\u001b[0;34m(values, axis, name)\u001b[0m\n\u001b[1;32m   1675\u001b[0m           dtype=dtypes.int32).get_shape().assert_has_rank(0)\n\u001b[1;32m   1676\u001b[0m       \u001b[0;32mreturn\u001b[0m \u001b[0midentity\u001b[0m\u001b[0;34m(\u001b[0m\u001b[0mvalues\u001b[0m\u001b[0;34m[\u001b[0m\u001b[0;36m0\u001b[0m\u001b[0;34m]\u001b[0m\u001b[0;34m,\u001b[0m \u001b[0mname\u001b[0m\u001b[0;34m=\u001b[0m\u001b[0mname\u001b[0m\u001b[0;34m)\u001b[0m\u001b[0;34m\u001b[0m\u001b[0;34m\u001b[0m\u001b[0m\n\u001b[0;32m-> 1677\u001b[0;31m   \u001b[0;32mreturn\u001b[0m \u001b[0mgen_array_ops\u001b[0m\u001b[0;34m.\u001b[0m\u001b[0mconcat_v2\u001b[0m\u001b[0;34m(\u001b[0m\u001b[0mvalues\u001b[0m\u001b[0;34m=\u001b[0m\u001b[0mvalues\u001b[0m\u001b[0;34m,\u001b[0m \u001b[0maxis\u001b[0m\u001b[0;34m=\u001b[0m\u001b[0maxis\u001b[0m\u001b[0;34m,\u001b[0m \u001b[0mname\u001b[0m\u001b[0;34m=\u001b[0m\u001b[0mname\u001b[0m\u001b[0;34m)\u001b[0m\u001b[0;34m\u001b[0m\u001b[0;34m\u001b[0m\u001b[0m\n\u001b[0m\u001b[1;32m   1678\u001b[0m \u001b[0;34m\u001b[0m\u001b[0m\n\u001b[1;32m   1679\u001b[0m \u001b[0;34m\u001b[0m\u001b[0m\n",
      "\u001b[0;32m~/Desktop/Master/Thesis/venv/lib/python3.7/site-packages/tensorflow/python/ops/gen_array_ops.py\u001b[0m in \u001b[0;36mconcat_v2\u001b[0;34m(values, axis, name)\u001b[0m\n\u001b[1;32m   1191\u001b[0m       \u001b[0;32mreturn\u001b[0m \u001b[0m_result\u001b[0m\u001b[0;34m\u001b[0m\u001b[0;34m\u001b[0m\u001b[0m\n\u001b[1;32m   1192\u001b[0m     \u001b[0;32mexcept\u001b[0m \u001b[0m_core\u001b[0m\u001b[0;34m.\u001b[0m\u001b[0m_NotOkStatusException\u001b[0m \u001b[0;32mas\u001b[0m \u001b[0me\u001b[0m\u001b[0;34m:\u001b[0m\u001b[0;34m\u001b[0m\u001b[0;34m\u001b[0m\u001b[0m\n\u001b[0;32m-> 1193\u001b[0;31m       \u001b[0m_ops\u001b[0m\u001b[0;34m.\u001b[0m\u001b[0mraise_from_not_ok_status\u001b[0m\u001b[0;34m(\u001b[0m\u001b[0me\u001b[0m\u001b[0;34m,\u001b[0m \u001b[0mname\u001b[0m\u001b[0;34m)\u001b[0m\u001b[0;34m\u001b[0m\u001b[0;34m\u001b[0m\u001b[0m\n\u001b[0m\u001b[1;32m   1194\u001b[0m     \u001b[0;32mexcept\u001b[0m \u001b[0m_core\u001b[0m\u001b[0;34m.\u001b[0m\u001b[0m_FallbackException\u001b[0m\u001b[0;34m:\u001b[0m\u001b[0;34m\u001b[0m\u001b[0;34m\u001b[0m\u001b[0m\n\u001b[1;32m   1195\u001b[0m       \u001b[0;32mpass\u001b[0m\u001b[0;34m\u001b[0m\u001b[0;34m\u001b[0m\u001b[0m\n",
      "\u001b[0;32m~/Desktop/Master/Thesis/venv/lib/python3.7/site-packages/tensorflow/python/framework/ops.py\u001b[0m in \u001b[0;36mraise_from_not_ok_status\u001b[0;34m(e, name)\u001b[0m\n\u001b[1;32m   6860\u001b[0m   \u001b[0mmessage\u001b[0m \u001b[0;34m=\u001b[0m \u001b[0me\u001b[0m\u001b[0;34m.\u001b[0m\u001b[0mmessage\u001b[0m \u001b[0;34m+\u001b[0m \u001b[0;34m(\u001b[0m\u001b[0;34m\" name: \"\u001b[0m \u001b[0;34m+\u001b[0m \u001b[0mname\u001b[0m \u001b[0;32mif\u001b[0m \u001b[0mname\u001b[0m \u001b[0;32mis\u001b[0m \u001b[0;32mnot\u001b[0m \u001b[0;32mNone\u001b[0m \u001b[0;32melse\u001b[0m \u001b[0;34m\"\"\u001b[0m\u001b[0;34m)\u001b[0m\u001b[0;34m\u001b[0m\u001b[0;34m\u001b[0m\u001b[0m\n\u001b[1;32m   6861\u001b[0m   \u001b[0;31m# pylint: disable=protected-access\u001b[0m\u001b[0;34m\u001b[0m\u001b[0;34m\u001b[0m\u001b[0;34m\u001b[0m\u001b[0m\n\u001b[0;32m-> 6862\u001b[0;31m   \u001b[0msix\u001b[0m\u001b[0;34m.\u001b[0m\u001b[0mraise_from\u001b[0m\u001b[0;34m(\u001b[0m\u001b[0mcore\u001b[0m\u001b[0;34m.\u001b[0m\u001b[0m_status_to_exception\u001b[0m\u001b[0;34m(\u001b[0m\u001b[0me\u001b[0m\u001b[0;34m.\u001b[0m\u001b[0mcode\u001b[0m\u001b[0;34m,\u001b[0m \u001b[0mmessage\u001b[0m\u001b[0;34m)\u001b[0m\u001b[0;34m,\u001b[0m \u001b[0;32mNone\u001b[0m\u001b[0;34m)\u001b[0m\u001b[0;34m\u001b[0m\u001b[0;34m\u001b[0m\u001b[0m\n\u001b[0m\u001b[1;32m   6863\u001b[0m   \u001b[0;31m# pylint: enable=protected-access\u001b[0m\u001b[0;34m\u001b[0m\u001b[0;34m\u001b[0m\u001b[0;34m\u001b[0m\u001b[0m\n\u001b[1;32m   6864\u001b[0m \u001b[0;34m\u001b[0m\u001b[0m\n",
      "\u001b[0;32m~/Desktop/Master/Thesis/venv/lib/python3.7/site-packages/six.py\u001b[0m in \u001b[0;36mraise_from\u001b[0;34m(value, from_value)\u001b[0m\n",
      "\u001b[0;31mInvalidArgumentError\u001b[0m: ConcatOp : Ranks of all input tensors should match: shape[0] = [1,1,3] vs. shape[1] = [1,3] [Op:ConcatV2] name: concat"
     ]
    }
   ],
   "source": [
    "tf.concat([a,b], axis=1)"
   ]
  },
  {
   "cell_type": "code",
   "execution_count": 45,
   "metadata": {},
   "outputs": [
    {
     "ename": "ModuleNotFoundError",
     "evalue": "No module named 'tfp'",
     "output_type": "error",
     "traceback": [
      "\u001b[0;31m----------------------------------------------------------\u001b[0m",
      "\u001b[0;31mModuleNotFoundError\u001b[0m      Traceback (most recent call last)",
      "\u001b[0;32m<ipython-input-45-39f709761230>\u001b[0m in \u001b[0;36m<module>\u001b[0;34m\u001b[0m\n\u001b[0;32m----> 1\u001b[0;31m \u001b[0;32mfrom\u001b[0m \u001b[0mtfp\u001b[0m\u001b[0;34m.\u001b[0m\u001b[0mdistributions\u001b[0m \u001b[0;32mimport\u001b[0m \u001b[0mRelaxedOneHotCategorical\u001b[0m\u001b[0;34m\u001b[0m\u001b[0;34m\u001b[0m\u001b[0m\n\u001b[0m",
      "\u001b[0;31mModuleNotFoundError\u001b[0m: No module named 'tfp'"
     ]
    }
   ],
   "source": [
    "from tfp.distributions import RelaxedOneHotCategorical"
   ]
  },
  {
   "cell_type": "code",
   "execution_count": 48,
   "metadata": {},
   "outputs": [],
   "source": [
    "import tensorflow_probability as tfp"
   ]
  },
  {
   "cell_type": "code",
   "execution_count": 150,
   "metadata": {},
   "outputs": [],
   "source": [
    "temperature = 0.01\n",
    "p = [0.1, 0.5, 0.4]\n",
    "dist = tfp.distributions.RelaxedOneHotCategorical(temperature, logits=p)"
   ]
  },
  {
   "cell_type": "code",
   "execution_count": 55,
   "metadata": {},
   "outputs": [
    {
     "data": {
      "text/plain": [
       "<tf.Tensor: shape=(3,), dtype=float32, numpy=array([0.26030254, 0.38832578, 0.3513717 ], dtype=float32)>"
      ]
     },
     "execution_count": 55,
     "metadata": {},
     "output_type": "execute_result"
    }
   ],
   "source": [
    "tf.nn.softmax(p)"
   ]
  },
  {
   "cell_type": "code",
   "execution_count": 63,
   "metadata": {},
   "outputs": [
    {
     "data": {
      "text/plain": [
       "<tf.Tensor: shape=(1, 3), dtype=float32, numpy=array([[0.000000e+00, 5.633773e-29, 1.000000e+00]], dtype=float32)>"
      ]
     },
     "execution_count": 63,
     "metadata": {},
     "output_type": "execute_result"
    }
   ],
   "source": [
    "dist.sample(1)"
   ]
  },
  {
   "cell_type": "code",
   "execution_count": 140,
   "metadata": {},
   "outputs": [],
   "source": [
    "p = [[0.99, 0.01], [0.01, 0.99]]\n",
    "dist = tfp.distributions.RelaxedOneHotCategorical(0.5, probs=p)"
   ]
  },
  {
   "cell_type": "code",
   "execution_count": 151,
   "metadata": {},
   "outputs": [
    {
     "data": {
      "text/plain": [
       "<tf.Tensor: shape=(3,), dtype=float32, numpy=array([0., 1., 0.], dtype=float32)>"
      ]
     },
     "execution_count": 151,
     "metadata": {},
     "output_type": "execute_result"
    }
   ],
   "source": [
    "dist.sample()"
   ]
  },
  {
   "cell_type": "code",
   "execution_count": 183,
   "metadata": {},
   "outputs": [],
   "source": [
    "a = [[[0.5,0.5,], [0.5,0.5]],[[0.2,0.8,], [0.8,0.3]]]"
   ]
  },
  {
   "cell_type": "code",
   "execution_count": 185,
   "metadata": {},
   "outputs": [
    {
     "data": {
      "text/plain": [
       "<tf.Tensor: shape=(2, 2, 2), dtype=float32, numpy=\n",
       "array([[[0., 1.],\n",
       "        [1., 0.]],\n",
       "\n",
       "       [[0., 1.],\n",
       "        [1., 0.]]], dtype=float32)>"
      ]
     },
     "execution_count": 185,
     "metadata": {},
     "output_type": "execute_result"
    }
   ],
   "source": [
    "tfp.distributions.RelaxedOneHotCategorical(0.001, probs=a).sample()"
   ]
  },
  {
   "cell_type": "code",
   "execution_count": null,
   "metadata": {},
   "outputs": [],
   "source": []
  }
 ],
 "metadata": {
  "kernelspec": {
   "display_name": "Python 3",
   "language": "python",
   "name": "python3"
  },
  "language_info": {
   "codemirror_mode": {
    "name": "ipython",
    "version": 3
   },
   "file_extension": ".py",
   "mimetype": "text/x-python",
   "name": "python",
   "nbconvert_exporter": "python",
   "pygments_lexer": "ipython3",
   "version": "3.8.5"
  }
 },
 "nbformat": 4,
 "nbformat_minor": 4
}
